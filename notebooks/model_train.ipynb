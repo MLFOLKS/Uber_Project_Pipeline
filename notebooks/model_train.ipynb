{
 "cells": [
  {
   "cell_type": "markdown",
   "metadata": {},
   "source": [
    "# Create Best Model Using Uber Dataset"
   ]
  },
  {
   "cell_type": "markdown",
   "metadata": {},
   "source": [
    "#### Import Dependencies"
   ]
  },
  {
   "cell_type": "code",
   "execution_count": 232,
   "metadata": {},
   "outputs": [],
   "source": [
    "import pandas as pd\n",
    "import numpy as np\n",
    "from sklearn.preprocessing import LabelEncoder, StandardScaler\n",
    "from sklearn.feature_selection import SelectKBest, f_regression\n",
    "from sklearn.ensemble import IsolationForest, RandomForestRegressor,GradientBoostingRegressor, HistGradientBoostingRegressor, AdaBoostRegressor\n",
    "\n",
    "# model\n",
    "from sklearn.tree import DecisionTreeRegressor, plot_tree\n",
    "from sklearn.feature_selection import SelectKBest, f_regression\n",
    "from sklearn.ensemble import RandomForestRegressor\n",
    "from xgboost import XGBRegressor\n",
    "from sklearn.linear_model import LinearRegression, Lasso, Ridge\n",
    "#model_selection\n",
    "from sklearn.model_selection import train_test_split, GridSearchCV, KFold, cross_val_score\n",
    "# metrics\n",
    "from sklearn.metrics import mean_absolute_error, mean_squared_error, r2_score\n",
    "import optuna\n",
    "from tqdm import tqdm"
   ]
  },
  {
   "cell_type": "markdown",
   "metadata": {},
   "source": [
    "#### Data Loading, Cleaning, Preprocessing"
   ]
  },
  {
   "cell_type": "code",
   "execution_count": 180,
   "metadata": {},
   "outputs": [
    {
     "data": {
      "text/html": [
       "<div>\n",
       "<style scoped>\n",
       "    .dataframe tbody tr th:only-of-type {\n",
       "        vertical-align: middle;\n",
       "    }\n",
       "\n",
       "    .dataframe tbody tr th {\n",
       "        vertical-align: top;\n",
       "    }\n",
       "\n",
       "    .dataframe thead th {\n",
       "        text-align: right;\n",
       "    }\n",
       "</style>\n",
       "<table border=\"1\" class=\"dataframe\">\n",
       "  <thead>\n",
       "    <tr style=\"text-align: right;\">\n",
       "      <th></th>\n",
       "      <th>fare_amount</th>\n",
       "      <th>pickup_datetime</th>\n",
       "      <th>pickup_longitude</th>\n",
       "      <th>pickup_latitude</th>\n",
       "      <th>dropoff_longitude</th>\n",
       "      <th>dropoff_latitude</th>\n",
       "      <th>passenger_count</th>\n",
       "    </tr>\n",
       "  </thead>\n",
       "  <tbody>\n",
       "    <tr>\n",
       "      <th>0</th>\n",
       "      <td>7.5</td>\n",
       "      <td>2015-05-07 19:52:06+00:00</td>\n",
       "      <td>-73.999817</td>\n",
       "      <td>40.738354</td>\n",
       "      <td>-73.999512</td>\n",
       "      <td>40.723217</td>\n",
       "      <td>1</td>\n",
       "    </tr>\n",
       "    <tr>\n",
       "      <th>1</th>\n",
       "      <td>7.7</td>\n",
       "      <td>2009-07-17 20:04:56+00:00</td>\n",
       "      <td>-73.994355</td>\n",
       "      <td>40.728225</td>\n",
       "      <td>-73.994710</td>\n",
       "      <td>40.750325</td>\n",
       "      <td>1</td>\n",
       "    </tr>\n",
       "    <tr>\n",
       "      <th>2</th>\n",
       "      <td>12.9</td>\n",
       "      <td>2009-08-24 21:45:00+00:00</td>\n",
       "      <td>-74.005043</td>\n",
       "      <td>40.740770</td>\n",
       "      <td>-73.962565</td>\n",
       "      <td>40.772647</td>\n",
       "      <td>1</td>\n",
       "    </tr>\n",
       "    <tr>\n",
       "      <th>3</th>\n",
       "      <td>5.3</td>\n",
       "      <td>2009-06-26 08:22:21+00:00</td>\n",
       "      <td>-73.976124</td>\n",
       "      <td>40.790844</td>\n",
       "      <td>-73.965316</td>\n",
       "      <td>40.803349</td>\n",
       "      <td>3</td>\n",
       "    </tr>\n",
       "    <tr>\n",
       "      <th>4</th>\n",
       "      <td>16.0</td>\n",
       "      <td>2014-08-28 17:47:00+00:00</td>\n",
       "      <td>-73.925023</td>\n",
       "      <td>40.744085</td>\n",
       "      <td>-73.973082</td>\n",
       "      <td>40.761247</td>\n",
       "      <td>5</td>\n",
       "    </tr>\n",
       "  </tbody>\n",
       "</table>\n",
       "</div>"
      ],
      "text/plain": [
       "   fare_amount           pickup_datetime  pickup_longitude  pickup_latitude  \\\n",
       "0          7.5 2015-05-07 19:52:06+00:00        -73.999817        40.738354   \n",
       "1          7.7 2009-07-17 20:04:56+00:00        -73.994355        40.728225   \n",
       "2         12.9 2009-08-24 21:45:00+00:00        -74.005043        40.740770   \n",
       "3          5.3 2009-06-26 08:22:21+00:00        -73.976124        40.790844   \n",
       "4         16.0 2014-08-28 17:47:00+00:00        -73.925023        40.744085   \n",
       "\n",
       "   dropoff_longitude  dropoff_latitude  passenger_count  \n",
       "0         -73.999512         40.723217                1  \n",
       "1         -73.994710         40.750325                1  \n",
       "2         -73.962565         40.772647                1  \n",
       "3         -73.965316         40.803349                3  \n",
       "4         -73.973082         40.761247                5  "
      ]
     },
     "execution_count": 180,
     "metadata": {},
     "output_type": "execute_result"
    }
   ],
   "source": [
    "df = pd.read_csv(\"../data/uber.csv\", parse_dates=['pickup_datetime'])\n",
    "df.drop(['Unnamed: 0','key'], axis=1, inplace=True)\n",
    "df.head()"
   ]
  },
  {
   "cell_type": "code",
   "execution_count": 181,
   "metadata": {},
   "outputs": [
    {
     "name": "stdout",
     "output_type": "stream",
     "text": [
      "Inference: The Dataset consists of 7 features & 200000 samples.\n"
     ]
    }
   ],
   "source": [
    "print(f'Inference: The Dataset consists of {df.shape[1]} features & {df.shape[0]} samples.')"
   ]
  },
  {
   "cell_type": "code",
   "execution_count": 182,
   "metadata": {},
   "outputs": [
    {
     "name": "stdout",
     "output_type": "stream",
     "text": [
      "                   Total Null Values  Percentage\n",
      "fare_amount                        0         0.0\n",
      "pickup_datetime                    0         0.0\n",
      "pickup_longitude                   0         0.0\n",
      "pickup_latitude                    0         0.0\n",
      "passenger_count                    0         0.0\n",
      "dropoff_longitude                  1         0.0\n",
      "dropoff_latitude                   1         0.0\n"
     ]
    }
   ],
   "source": [
    "nullValues = pd.DataFrame(df.isnull().sum().sort_values(), columns=['Total Null Values'])\n",
    "nullValues['Percentage'] = round(nullValues['Total Null Values']/df.shape[0],3)*100\n",
    "print(nullValues)"
   ]
  },
  {
   "cell_type": "code",
   "execution_count": 183,
   "metadata": {},
   "outputs": [],
   "source": [
    "df.dropna(inplace=True)"
   ]
  },
  {
   "cell_type": "code",
   "execution_count": 184,
   "metadata": {},
   "outputs": [
    {
     "data": {
      "text/plain": [
       "fare_amount          0\n",
       "pickup_datetime      0\n",
       "pickup_longitude     0\n",
       "pickup_latitude      0\n",
       "dropoff_longitude    0\n",
       "dropoff_latitude     0\n",
       "passenger_count      0\n",
       "dtype: int64"
      ]
     },
     "execution_count": 184,
     "metadata": {},
     "output_type": "execute_result"
    }
   ],
   "source": [
    "df.isnull().sum()# after clean dataset"
   ]
  },
  {
   "cell_type": "code",
   "execution_count": 185,
   "metadata": {},
   "outputs": [
    {
     "data": {
      "text/plain": [
       "0"
      ]
     },
     "execution_count": 185,
     "metadata": {},
     "output_type": "execute_result"
    }
   ],
   "source": [
    "df.duplicated().sum()#checking duplicate values"
   ]
  },
  {
   "cell_type": "code",
   "execution_count": 186,
   "metadata": {},
   "outputs": [
    {
     "data": {
      "text/plain": [
       "(13, 7)"
      ]
     },
     "execution_count": 186,
     "metadata": {},
     "output_type": "execute_result"
    }
   ],
   "source": [
    "df_delete = df[(df['pickup_latitude']>180) | (df['pickup_latitude']<-180)|\n",
    "                    (df['dropoff_latitude']>180) | (df['dropoff_latitude']< -180)|\n",
    "                    (df['pickup_longitude']>90) | (df['pickup_longitude']<-90) |\n",
    "                    (df['dropoff_longitude']>90) | (df['dropoff_longitude']<-90)]\n",
    "df_delete.shape"
   ]
  },
  {
   "cell_type": "code",
   "execution_count": 187,
   "metadata": {},
   "outputs": [
    {
     "data": {
      "text/plain": [
       "Index([  4949,  32549,  40908,  48506,  56617,  61793,  75851,  91422, 103745,\n",
       "       139447, 144253, 161652, 199936],\n",
       "      dtype='int64')"
      ]
     },
     "execution_count": 187,
     "metadata": {},
     "output_type": "execute_result"
    }
   ],
   "source": [
    "index_to_delete = df_delete.index\n",
    "index_to_delete"
   ]
  },
  {
   "cell_type": "code",
   "execution_count": 188,
   "metadata": {},
   "outputs": [
    {
     "name": "stdout",
     "output_type": "stream",
     "text": [
      "before :199999,after :199986\n"
     ]
    }
   ],
   "source": [
    "before = df.shape\n",
    "df.drop(index_to_delete,inplace=True)\n",
    "print(f'before :{before[0]},after :{df.shape[0]}')"
   ]
  },
  {
   "cell_type": "code",
   "execution_count": 189,
   "metadata": {},
   "outputs": [],
   "source": [
    "df['year'] = df.pickup_datetime.dt.year\n",
    "df['month'] = df.pickup_datetime.dt.month\n",
    "df['weekday'] = df.pickup_datetime.dt.weekday\n",
    "df['hour'] = df.pickup_datetime.dt.hour"
   ]
  },
  {
   "cell_type": "code",
   "execution_count": 190,
   "metadata": {},
   "outputs": [],
   "source": [
    "df['Monthly_Quarter'] = df.month.map({1:'Q1',2:'Q1',3:'Q1',4:'Q2',5:'Q2',6:'Q2',7:'Q3',\n",
    "                                      8:'Q3',9:'Q3',10:'Q4',11:'Q4',12:'Q4'})\n",
    "\n",
    "df['Hourly_Segments'] = df.hour.map({0:'H1',1:'H1',2:'H1',3:'H1',4:'H2',5:'H2',6:'H2',7:'H2',8:'H3',\n",
    "                                     9:'H3',10:'H3',11:'H3',12:'H4',13:'H4',14:'H4',15:'H4',16:'H5',\n",
    "                                     17:'H5',18:'H5',19:'H5',20:'H6',21:'H6',22:'H6',23:'H6'})"
   ]
  },
  {
   "cell_type": "code",
   "execution_count": 191,
   "metadata": {},
   "outputs": [
    {
     "data": {
      "text/html": [
       "<div>\n",
       "<style scoped>\n",
       "    .dataframe tbody tr th:only-of-type {\n",
       "        vertical-align: middle;\n",
       "    }\n",
       "\n",
       "    .dataframe tbody tr th {\n",
       "        vertical-align: top;\n",
       "    }\n",
       "\n",
       "    .dataframe thead th {\n",
       "        text-align: right;\n",
       "    }\n",
       "</style>\n",
       "<table border=\"1\" class=\"dataframe\">\n",
       "  <thead>\n",
       "    <tr style=\"text-align: right;\">\n",
       "      <th></th>\n",
       "      <th>fare_amount</th>\n",
       "      <th>pickup_datetime</th>\n",
       "      <th>pickup_longitude</th>\n",
       "      <th>pickup_latitude</th>\n",
       "      <th>dropoff_longitude</th>\n",
       "      <th>dropoff_latitude</th>\n",
       "      <th>passenger_count</th>\n",
       "      <th>year</th>\n",
       "      <th>month</th>\n",
       "      <th>weekday</th>\n",
       "      <th>hour</th>\n",
       "      <th>Monthly_Quarter</th>\n",
       "      <th>Hourly_Segments</th>\n",
       "    </tr>\n",
       "  </thead>\n",
       "  <tbody>\n",
       "    <tr>\n",
       "      <th>0</th>\n",
       "      <td>7.5</td>\n",
       "      <td>2015-05-07 19:52:06+00:00</td>\n",
       "      <td>-73.999817</td>\n",
       "      <td>40.738354</td>\n",
       "      <td>-73.999512</td>\n",
       "      <td>40.723217</td>\n",
       "      <td>1</td>\n",
       "      <td>2015</td>\n",
       "      <td>5</td>\n",
       "      <td>3</td>\n",
       "      <td>19</td>\n",
       "      <td>Q2</td>\n",
       "      <td>H5</td>\n",
       "    </tr>\n",
       "    <tr>\n",
       "      <th>1</th>\n",
       "      <td>7.7</td>\n",
       "      <td>2009-07-17 20:04:56+00:00</td>\n",
       "      <td>-73.994355</td>\n",
       "      <td>40.728225</td>\n",
       "      <td>-73.994710</td>\n",
       "      <td>40.750325</td>\n",
       "      <td>1</td>\n",
       "      <td>2009</td>\n",
       "      <td>7</td>\n",
       "      <td>4</td>\n",
       "      <td>20</td>\n",
       "      <td>Q3</td>\n",
       "      <td>H6</td>\n",
       "    </tr>\n",
       "    <tr>\n",
       "      <th>2</th>\n",
       "      <td>12.9</td>\n",
       "      <td>2009-08-24 21:45:00+00:00</td>\n",
       "      <td>-74.005043</td>\n",
       "      <td>40.740770</td>\n",
       "      <td>-73.962565</td>\n",
       "      <td>40.772647</td>\n",
       "      <td>1</td>\n",
       "      <td>2009</td>\n",
       "      <td>8</td>\n",
       "      <td>0</td>\n",
       "      <td>21</td>\n",
       "      <td>Q3</td>\n",
       "      <td>H6</td>\n",
       "    </tr>\n",
       "    <tr>\n",
       "      <th>3</th>\n",
       "      <td>5.3</td>\n",
       "      <td>2009-06-26 08:22:21+00:00</td>\n",
       "      <td>-73.976124</td>\n",
       "      <td>40.790844</td>\n",
       "      <td>-73.965316</td>\n",
       "      <td>40.803349</td>\n",
       "      <td>3</td>\n",
       "      <td>2009</td>\n",
       "      <td>6</td>\n",
       "      <td>4</td>\n",
       "      <td>8</td>\n",
       "      <td>Q2</td>\n",
       "      <td>H3</td>\n",
       "    </tr>\n",
       "    <tr>\n",
       "      <th>4</th>\n",
       "      <td>16.0</td>\n",
       "      <td>2014-08-28 17:47:00+00:00</td>\n",
       "      <td>-73.925023</td>\n",
       "      <td>40.744085</td>\n",
       "      <td>-73.973082</td>\n",
       "      <td>40.761247</td>\n",
       "      <td>5</td>\n",
       "      <td>2014</td>\n",
       "      <td>8</td>\n",
       "      <td>3</td>\n",
       "      <td>17</td>\n",
       "      <td>Q3</td>\n",
       "      <td>H5</td>\n",
       "    </tr>\n",
       "  </tbody>\n",
       "</table>\n",
       "</div>"
      ],
      "text/plain": [
       "   fare_amount           pickup_datetime  pickup_longitude  pickup_latitude  \\\n",
       "0          7.5 2015-05-07 19:52:06+00:00        -73.999817        40.738354   \n",
       "1          7.7 2009-07-17 20:04:56+00:00        -73.994355        40.728225   \n",
       "2         12.9 2009-08-24 21:45:00+00:00        -74.005043        40.740770   \n",
       "3          5.3 2009-06-26 08:22:21+00:00        -73.976124        40.790844   \n",
       "4         16.0 2014-08-28 17:47:00+00:00        -73.925023        40.744085   \n",
       "\n",
       "   dropoff_longitude  dropoff_latitude  passenger_count  year  month  weekday  \\\n",
       "0         -73.999512         40.723217                1  2015      5        3   \n",
       "1         -73.994710         40.750325                1  2009      7        4   \n",
       "2         -73.962565         40.772647                1  2009      8        0   \n",
       "3         -73.965316         40.803349                3  2009      6        4   \n",
       "4         -73.973082         40.761247                5  2014      8        3   \n",
       "\n",
       "   hour Monthly_Quarter Hourly_Segments  \n",
       "0    19              Q2              H5  \n",
       "1    20              Q3              H6  \n",
       "2    21              Q3              H6  \n",
       "3     8              Q2              H3  \n",
       "4    17              Q3              H5  "
      ]
     },
     "execution_count": 191,
     "metadata": {},
     "output_type": "execute_result"
    }
   ],
   "source": [
    "df.head()"
   ]
  },
  {
   "cell_type": "code",
   "execution_count": 192,
   "metadata": {},
   "outputs": [],
   "source": [
    "df.drop(['pickup_datetime','month', 'hour',], axis=1, inplace=True)"
   ]
  },
  {
   "cell_type": "markdown",
   "metadata": {},
   "source": [
    "##### Calculate Distance"
   ]
  },
  {
   "cell_type": "code",
   "execution_count": 193,
   "metadata": {},
   "outputs": [],
   "source": [
    "from math import radians, sin, cos, sqrt, asin\n",
    "\n",
    "def distance_transform(longitude1, latitude1, longitude2, latitude2):\n",
    "    travel_dist = []\n",
    "    \n",
    "    for pos in range(len(longitude1)):\n",
    "        long1,lati1,long2,lati2 = map(radians,[longitude1[pos],latitude1[pos],longitude2[pos],latitude2[pos]])\n",
    "        dist_long = long2 - long1\n",
    "        dist_lati = lati2 - lati1\n",
    "        a = sin(dist_lati/2)**2 + cos(lati1) * cos(lati2) * sin(dist_long/2)**2\n",
    "        c = 2 * asin(sqrt(a))*6371\n",
    "        travel_dist.append(c)\n",
    "       \n",
    "    return travel_dist"
   ]
  },
  {
   "cell_type": "code",
   "execution_count": 194,
   "metadata": {},
   "outputs": [],
   "source": [
    "df['distance_traveled']=distance_transform(df['pickup_longitude'].to_numpy(),\n",
    "                                  df['pickup_latitude'].to_numpy(),\n",
    "                                  df['dropoff_longitude'].to_numpy(),\n",
    "                                  df['dropoff_latitude'].to_numpy())\n",
    "## This Distance is in kilometers\n",
    "df['distance_traveled'] = df['distance_traveled'].round(3)"
   ]
  },
  {
   "cell_type": "code",
   "execution_count": 195,
   "metadata": {},
   "outputs": [
    {
     "data": {
      "text/plain": [
       "(22, 11)"
      ]
     },
     "execution_count": 195,
     "metadata": {},
     "output_type": "execute_result"
    }
   ],
   "source": [
    "df[df['fare_amount']<= 0].shape"
   ]
  },
  {
   "cell_type": "code",
   "execution_count": 196,
   "metadata": {},
   "outputs": [
    {
     "data": {
      "text/plain": [
       "(22, 11)"
      ]
     },
     "execution_count": 196,
     "metadata": {},
     "output_type": "execute_result"
    }
   ],
   "source": [
    "df_fare_delete = df[df['fare_amount']<=0]\n",
    "df_fare_delete.shape"
   ]
  },
  {
   "cell_type": "code",
   "execution_count": 197,
   "metadata": {},
   "outputs": [
    {
     "name": "stdout",
     "output_type": "stream",
     "text": [
      "Number of items removed : 22\n"
     ]
    }
   ],
   "source": [
    "old_shape = df.shape\n",
    "index_to_delete_fare = df_fare_delete.index\n",
    "df.drop(index_to_delete_fare,inplace=True)\n",
    "print(f\"Number of items removed : {old_shape[0] - df.shape[0]}\")"
   ]
  },
  {
   "cell_type": "code",
   "execution_count": 198,
   "metadata": {},
   "outputs": [
    {
     "data": {
      "text/plain": [
       "passenger_count\n",
       "1      138404\n",
       "2       29423\n",
       "5       14004\n",
       "3        8878\n",
       "4        4275\n",
       "6        4271\n",
       "0         708\n",
       "208         1\n",
       "Name: count, dtype: int64"
      ]
     },
     "execution_count": 198,
     "metadata": {},
     "output_type": "execute_result"
    }
   ],
   "source": [
    "df['passenger_count'].value_counts()"
   ]
  },
  {
   "cell_type": "code",
   "execution_count": 199,
   "metadata": {},
   "outputs": [
    {
     "name": "stdout",
     "output_type": "stream",
     "text": [
      "After drop 1\n"
     ]
    }
   ],
   "source": [
    "old_shape = df.shape\n",
    "index_to_delete_passenger = df[df['passenger_count']==df['passenger_count'].max()].index\n",
    "df.drop(index_to_delete_passenger,inplace=True)\n",
    "print(f\"After drop {old_shape[0] - df.shape[0]}\")"
   ]
  },
  {
   "cell_type": "code",
   "execution_count": 200,
   "metadata": {},
   "outputs": [
    {
     "data": {
      "text/plain": [
       "passenger_count\n",
       "1    138404\n",
       "2     29423\n",
       "5     14004\n",
       "3      8878\n",
       "4      4275\n",
       "6      4271\n",
       "0       708\n",
       "Name: count, dtype: int64"
      ]
     },
     "execution_count": 200,
     "metadata": {},
     "output_type": "execute_result"
    }
   ],
   "source": [
    "# now the large passenger count is removed 208 column\n",
    "df['passenger_count'].value_counts()"
   ]
  },
  {
   "cell_type": "code",
   "execution_count": 201,
   "metadata": {},
   "outputs": [],
   "source": [
    "# here we will replace 0 with 1 count\n",
    "df['passenger_count']=np.where(df['passenger_count']==0,1,df['passenger_count'])"
   ]
  },
  {
   "cell_type": "code",
   "execution_count": 202,
   "metadata": {},
   "outputs": [
    {
     "data": {
      "text/plain": [
       "passenger_count\n",
       "1    139112\n",
       "2     29423\n",
       "5     14004\n",
       "3      8878\n",
       "4      4275\n",
       "6      4271\n",
       "Name: count, dtype: int64"
      ]
     },
     "execution_count": 202,
     "metadata": {},
     "output_type": "execute_result"
    }
   ],
   "source": [
    "df['passenger_count'].value_counts()"
   ]
  },
  {
   "cell_type": "code",
   "execution_count": 203,
   "metadata": {},
   "outputs": [
    {
     "data": {
      "text/html": [
       "<div>\n",
       "<style scoped>\n",
       "    .dataframe tbody tr th:only-of-type {\n",
       "        vertical-align: middle;\n",
       "    }\n",
       "\n",
       "    .dataframe tbody tr th {\n",
       "        vertical-align: top;\n",
       "    }\n",
       "\n",
       "    .dataframe thead th {\n",
       "        text-align: right;\n",
       "    }\n",
       "</style>\n",
       "<table border=\"1\" class=\"dataframe\">\n",
       "  <thead>\n",
       "    <tr style=\"text-align: right;\">\n",
       "      <th></th>\n",
       "      <th>fare_amount</th>\n",
       "      <th>pickup_longitude</th>\n",
       "      <th>pickup_latitude</th>\n",
       "      <th>dropoff_longitude</th>\n",
       "      <th>dropoff_latitude</th>\n",
       "      <th>passenger_count</th>\n",
       "      <th>year</th>\n",
       "      <th>weekday</th>\n",
       "      <th>distance_traveled</th>\n",
       "    </tr>\n",
       "  </thead>\n",
       "  <tbody>\n",
       "    <tr>\n",
       "      <th>count</th>\n",
       "      <td>194247.000000</td>\n",
       "      <td>194247.000000</td>\n",
       "      <td>194247.000000</td>\n",
       "      <td>194247.000000</td>\n",
       "      <td>194247.000000</td>\n",
       "      <td>194247.000000</td>\n",
       "      <td>194247.000000</td>\n",
       "      <td>194247.000000</td>\n",
       "      <td>194247.000000</td>\n",
       "    </tr>\n",
       "    <tr>\n",
       "      <th>mean</th>\n",
       "      <td>11.349822</td>\n",
       "      <td>-73.826480</td>\n",
       "      <td>40.646902</td>\n",
       "      <td>-73.837556</td>\n",
       "      <td>40.651579</td>\n",
       "      <td>1.687413</td>\n",
       "      <td>2011.747420</td>\n",
       "      <td>3.048577</td>\n",
       "      <td>21.060440</td>\n",
       "    </tr>\n",
       "    <tr>\n",
       "      <th>std</th>\n",
       "      <td>9.722955</td>\n",
       "      <td>3.660507</td>\n",
       "      <td>2.931640</td>\n",
       "      <td>3.536295</td>\n",
       "      <td>2.900095</td>\n",
       "      <td>1.303961</td>\n",
       "      <td>1.859941</td>\n",
       "      <td>1.946791</td>\n",
       "      <td>384.091421</td>\n",
       "    </tr>\n",
       "    <tr>\n",
       "      <th>min</th>\n",
       "      <td>0.010000</td>\n",
       "      <td>-89.933333</td>\n",
       "      <td>-74.015515</td>\n",
       "      <td>-75.458979</td>\n",
       "      <td>-74.015750</td>\n",
       "      <td>1.000000</td>\n",
       "      <td>2009.000000</td>\n",
       "      <td>0.000000</td>\n",
       "      <td>0.001000</td>\n",
       "    </tr>\n",
       "    <tr>\n",
       "      <th>25%</th>\n",
       "      <td>6.000000</td>\n",
       "      <td>-73.992269</td>\n",
       "      <td>40.736348</td>\n",
       "      <td>-73.991589</td>\n",
       "      <td>40.735220</td>\n",
       "      <td>1.000000</td>\n",
       "      <td>2010.000000</td>\n",
       "      <td>1.000000</td>\n",
       "      <td>1.283000</td>\n",
       "    </tr>\n",
       "    <tr>\n",
       "      <th>50%</th>\n",
       "      <td>8.500000</td>\n",
       "      <td>-73.982116</td>\n",
       "      <td>40.753253</td>\n",
       "      <td>-73.980539</td>\n",
       "      <td>40.753708</td>\n",
       "      <td>1.000000</td>\n",
       "      <td>2012.000000</td>\n",
       "      <td>3.000000</td>\n",
       "      <td>2.185000</td>\n",
       "    </tr>\n",
       "    <tr>\n",
       "      <th>75%</th>\n",
       "      <td>12.500000</td>\n",
       "      <td>-73.968400</td>\n",
       "      <td>40.767508</td>\n",
       "      <td>-73.965423</td>\n",
       "      <td>40.768314</td>\n",
       "      <td>2.000000</td>\n",
       "      <td>2013.000000</td>\n",
       "      <td>5.000000</td>\n",
       "      <td>3.961000</td>\n",
       "    </tr>\n",
       "    <tr>\n",
       "      <th>max</th>\n",
       "      <td>499.000000</td>\n",
       "      <td>40.808425</td>\n",
       "      <td>48.018760</td>\n",
       "      <td>40.831932</td>\n",
       "      <td>45.031598</td>\n",
       "      <td>6.000000</td>\n",
       "      <td>2015.000000</td>\n",
       "      <td>6.000000</td>\n",
       "      <td>8782.899000</td>\n",
       "    </tr>\n",
       "  </tbody>\n",
       "</table>\n",
       "</div>"
      ],
      "text/plain": [
       "         fare_amount  pickup_longitude  pickup_latitude  dropoff_longitude  \\\n",
       "count  194247.000000     194247.000000    194247.000000      194247.000000   \n",
       "mean       11.349822        -73.826480        40.646902         -73.837556   \n",
       "std         9.722955          3.660507         2.931640           3.536295   \n",
       "min         0.010000        -89.933333       -74.015515         -75.458979   \n",
       "25%         6.000000        -73.992269        40.736348         -73.991589   \n",
       "50%         8.500000        -73.982116        40.753253         -73.980539   \n",
       "75%        12.500000        -73.968400        40.767508         -73.965423   \n",
       "max       499.000000         40.808425        48.018760          40.831932   \n",
       "\n",
       "       dropoff_latitude  passenger_count           year        weekday  \\\n",
       "count     194247.000000    194247.000000  194247.000000  194247.000000   \n",
       "mean          40.651579         1.687413    2011.747420       3.048577   \n",
       "std            2.900095         1.303961       1.859941       1.946791   \n",
       "min          -74.015750         1.000000    2009.000000       0.000000   \n",
       "25%           40.735220         1.000000    2010.000000       1.000000   \n",
       "50%           40.753708         1.000000    2012.000000       3.000000   \n",
       "75%           40.768314         2.000000    2013.000000       5.000000   \n",
       "max           45.031598         6.000000    2015.000000       6.000000   \n",
       "\n",
       "       distance_traveled  \n",
       "count      194247.000000  \n",
       "mean           21.060440  \n",
       "std           384.091421  \n",
       "min             0.001000  \n",
       "25%             1.283000  \n",
       "50%             2.185000  \n",
       "75%             3.961000  \n",
       "max          8782.899000  "
      ]
     },
     "execution_count": 203,
     "metadata": {},
     "output_type": "execute_result"
    }
   ],
   "source": [
    "# removing zero distance travel\n",
    "index_to_delete_distance = df[df['distance_traveled'] == 0].index\n",
    "df.drop(index_to_delete_distance,inplace=True)\n",
    "df.describe()"
   ]
  },
  {
   "cell_type": "code",
   "execution_count": 204,
   "metadata": {},
   "outputs": [
    {
     "data": {
      "text/plain": [
       "1081"
      ]
     },
     "execution_count": 204,
     "metadata": {},
     "output_type": "execute_result"
    }
   ],
   "source": [
    "len(df[df.distance_traveled < 0.1])"
   ]
  },
  {
   "cell_type": "code",
   "execution_count": 205,
   "metadata": {},
   "outputs": [
    {
     "name": "stdout",
     "output_type": "stream",
     "text": [
      "before :194247,after :193166\n"
     ]
    }
   ],
   "source": [
    "# removing 100m distance traveled\n",
    "before = df.shape\n",
    "df.drop(df[df.distance_traveled < 0.1].index, inplace=True)\n",
    "print(f\"before :{before[0]},after :{df.shape[0]}\")"
   ]
  },
  {
   "cell_type": "code",
   "execution_count": 206,
   "metadata": {},
   "outputs": [
    {
     "data": {
      "text/html": [
       "<div>\n",
       "<style scoped>\n",
       "    .dataframe tbody tr th:only-of-type {\n",
       "        vertical-align: middle;\n",
       "    }\n",
       "\n",
       "    .dataframe tbody tr th {\n",
       "        vertical-align: top;\n",
       "    }\n",
       "\n",
       "    .dataframe thead th {\n",
       "        text-align: right;\n",
       "    }\n",
       "</style>\n",
       "<table border=\"1\" class=\"dataframe\">\n",
       "  <thead>\n",
       "    <tr style=\"text-align: right;\">\n",
       "      <th></th>\n",
       "      <th>fare_amount</th>\n",
       "      <th>pickup_longitude</th>\n",
       "      <th>pickup_latitude</th>\n",
       "      <th>dropoff_longitude</th>\n",
       "      <th>dropoff_latitude</th>\n",
       "      <th>passenger_count</th>\n",
       "      <th>year</th>\n",
       "      <th>weekday</th>\n",
       "      <th>Monthly_Quarter</th>\n",
       "      <th>Hourly_Segments</th>\n",
       "      <th>distance_traveled</th>\n",
       "    </tr>\n",
       "  </thead>\n",
       "  <tbody>\n",
       "    <tr>\n",
       "      <th>346</th>\n",
       "      <td>15.50</td>\n",
       "      <td>0.000000</td>\n",
       "      <td>0.000000</td>\n",
       "      <td>-73.979805</td>\n",
       "      <td>40.786030</td>\n",
       "      <td>1</td>\n",
       "      <td>2015</td>\n",
       "      <td>3</td>\n",
       "      <td>Q1</td>\n",
       "      <td>H5</td>\n",
       "      <td>8666.398</td>\n",
       "    </tr>\n",
       "    <tr>\n",
       "      <th>1067</th>\n",
       "      <td>52.00</td>\n",
       "      <td>-73.781095</td>\n",
       "      <td>40.645015</td>\n",
       "      <td>0.000000</td>\n",
       "      <td>0.000000</td>\n",
       "      <td>1</td>\n",
       "      <td>2014</td>\n",
       "      <td>6</td>\n",
       "      <td>Q1</td>\n",
       "      <td>H6</td>\n",
       "      <td>8647.036</td>\n",
       "    </tr>\n",
       "    <tr>\n",
       "      <th>1526</th>\n",
       "      <td>2.50</td>\n",
       "      <td>-74.001849</td>\n",
       "      <td>40.715156</td>\n",
       "      <td>0.000000</td>\n",
       "      <td>0.000000</td>\n",
       "      <td>3</td>\n",
       "      <td>2014</td>\n",
       "      <td>0</td>\n",
       "      <td>Q2</td>\n",
       "      <td>H4</td>\n",
       "      <td>8666.772</td>\n",
       "    </tr>\n",
       "    <tr>\n",
       "      <th>2547</th>\n",
       "      <td>10.10</td>\n",
       "      <td>0.000000</td>\n",
       "      <td>0.000000</td>\n",
       "      <td>-73.953210</td>\n",
       "      <td>40.803528</td>\n",
       "      <td>2</td>\n",
       "      <td>2011</td>\n",
       "      <td>1</td>\n",
       "      <td>Q3</td>\n",
       "      <td>H6</td>\n",
       "      <td>8664.557</td>\n",
       "    </tr>\n",
       "    <tr>\n",
       "      <th>3045</th>\n",
       "      <td>15.00</td>\n",
       "      <td>0.000000</td>\n",
       "      <td>0.000000</td>\n",
       "      <td>-73.843777</td>\n",
       "      <td>40.739255</td>\n",
       "      <td>1</td>\n",
       "      <td>2013</td>\n",
       "      <td>1</td>\n",
       "      <td>Q1</td>\n",
       "      <td>H1</td>\n",
       "      <td>8654.177</td>\n",
       "    </tr>\n",
       "    <tr>\n",
       "      <th>...</th>\n",
       "      <td>...</td>\n",
       "      <td>...</td>\n",
       "      <td>...</td>\n",
       "      <td>...</td>\n",
       "      <td>...</td>\n",
       "      <td>...</td>\n",
       "      <td>...</td>\n",
       "      <td>...</td>\n",
       "      <td>...</td>\n",
       "      <td>...</td>\n",
       "      <td>...</td>\n",
       "    </tr>\n",
       "    <tr>\n",
       "      <th>196967</th>\n",
       "      <td>57.33</td>\n",
       "      <td>0.000000</td>\n",
       "      <td>0.000000</td>\n",
       "      <td>-73.789045</td>\n",
       "      <td>40.655135</td>\n",
       "      <td>2</td>\n",
       "      <td>2014</td>\n",
       "      <td>2</td>\n",
       "      <td>Q3</td>\n",
       "      <td>H3</td>\n",
       "      <td>8647.904</td>\n",
       "    </tr>\n",
       "    <tr>\n",
       "      <th>197468</th>\n",
       "      <td>6.90</td>\n",
       "      <td>0.000000</td>\n",
       "      <td>0.000000</td>\n",
       "      <td>-73.980827</td>\n",
       "      <td>40.747133</td>\n",
       "      <td>5</td>\n",
       "      <td>2011</td>\n",
       "      <td>2</td>\n",
       "      <td>Q1</td>\n",
       "      <td>H5</td>\n",
       "      <td>8665.686</td>\n",
       "    </tr>\n",
       "    <tr>\n",
       "      <th>197863</th>\n",
       "      <td>7.00</td>\n",
       "      <td>-73.962190</td>\n",
       "      <td>40.759158</td>\n",
       "      <td>0.000000</td>\n",
       "      <td>0.000000</td>\n",
       "      <td>1</td>\n",
       "      <td>2014</td>\n",
       "      <td>1</td>\n",
       "      <td>Q4</td>\n",
       "      <td>H6</td>\n",
       "      <td>8664.389</td>\n",
       "    </tr>\n",
       "    <tr>\n",
       "      <th>198567</th>\n",
       "      <td>23.50</td>\n",
       "      <td>-73.968115</td>\n",
       "      <td>40.801455</td>\n",
       "      <td>0.000000</td>\n",
       "      <td>0.000000</td>\n",
       "      <td>2</td>\n",
       "      <td>2013</td>\n",
       "      <td>0</td>\n",
       "      <td>Q4</td>\n",
       "      <td>H1</td>\n",
       "      <td>8665.747</td>\n",
       "    </tr>\n",
       "    <tr>\n",
       "      <th>198665</th>\n",
       "      <td>20.10</td>\n",
       "      <td>-0.116667</td>\n",
       "      <td>40.729775</td>\n",
       "      <td>0.000000</td>\n",
       "      <td>0.000000</td>\n",
       "      <td>5</td>\n",
       "      <td>2012</td>\n",
       "      <td>1</td>\n",
       "      <td>Q2</td>\n",
       "      <td>H6</td>\n",
       "      <td>4528.960</td>\n",
       "    </tr>\n",
       "  </tbody>\n",
       "</table>\n",
       "<p>379 rows × 11 columns</p>\n",
       "</div>"
      ],
      "text/plain": [
       "        fare_amount  pickup_longitude  pickup_latitude  dropoff_longitude  \\\n",
       "346           15.50          0.000000         0.000000         -73.979805   \n",
       "1067          52.00        -73.781095        40.645015           0.000000   \n",
       "1526           2.50        -74.001849        40.715156           0.000000   \n",
       "2547          10.10          0.000000         0.000000         -73.953210   \n",
       "3045          15.00          0.000000         0.000000         -73.843777   \n",
       "...             ...               ...              ...                ...   \n",
       "196967        57.33          0.000000         0.000000         -73.789045   \n",
       "197468         6.90          0.000000         0.000000         -73.980827   \n",
       "197863         7.00        -73.962190        40.759158           0.000000   \n",
       "198567        23.50        -73.968115        40.801455           0.000000   \n",
       "198665        20.10         -0.116667        40.729775           0.000000   \n",
       "\n",
       "        dropoff_latitude  passenger_count  year  weekday Monthly_Quarter  \\\n",
       "346            40.786030                1  2015        3              Q1   \n",
       "1067            0.000000                1  2014        6              Q1   \n",
       "1526            0.000000                3  2014        0              Q2   \n",
       "2547           40.803528                2  2011        1              Q3   \n",
       "3045           40.739255                1  2013        1              Q1   \n",
       "...                  ...              ...   ...      ...             ...   \n",
       "196967         40.655135                2  2014        2              Q3   \n",
       "197468         40.747133                5  2011        2              Q1   \n",
       "197863          0.000000                1  2014        1              Q4   \n",
       "198567          0.000000                2  2013        0              Q4   \n",
       "198665          0.000000                5  2012        1              Q2   \n",
       "\n",
       "       Hourly_Segments  distance_traveled  \n",
       "346                 H5           8666.398  \n",
       "1067                H6           8647.036  \n",
       "1526                H4           8666.772  \n",
       "2547                H6           8664.557  \n",
       "3045                H1           8654.177  \n",
       "...                ...                ...  \n",
       "196967              H3           8647.904  \n",
       "197468              H5           8665.686  \n",
       "197863              H6           8664.389  \n",
       "198567              H1           8665.747  \n",
       "198665              H6           4528.960  \n",
       "\n",
       "[379 rows x 11 columns]"
      ]
     },
     "execution_count": 206,
     "metadata": {},
     "output_type": "execute_result"
    }
   ],
   "source": [
    "df_delete_lat_long = df[(df['pickup_longitude']==0) | (df['pickup_latitude']==0) | (df['dropoff_longitude']==0) | (df['dropoff_latitude']==0) ]\n",
    "df_delete_lat_long"
   ]
  },
  {
   "cell_type": "code",
   "execution_count": 207,
   "metadata": {},
   "outputs": [
    {
     "name": "stdout",
     "output_type": "stream",
     "text": [
      "After drop 379\n"
     ]
    }
   ],
   "source": [
    "old_shape = df.shape\n",
    "index_to_delete_lat_long = df[(df['pickup_longitude']==0) | (df['pickup_latitude']==0) | (df['dropoff_longitude']==0) | (df['dropoff_latitude']==0) ].index\n",
    "df.drop(index_to_delete_lat_long,inplace=True)\n",
    "print(f\"After drop {old_shape[0] - df.shape[0]}\")"
   ]
  },
  {
   "cell_type": "markdown",
   "metadata": {},
   "source": [
    "#### Encoding Categorical Features"
   ]
  },
  {
   "cell_type": "code",
   "execution_count": 208,
   "metadata": {},
   "outputs": [
    {
     "name": "stdout",
     "output_type": "stream",
     "text": [
      "Hour Segments Decoded Categories: ['H5' 'H6' 'H6' ... 'H1' 'H4' 'H2']\n",
      "Decoded Categories: ['Q2' 'Q3' 'Q3' ... 'Q2' 'Q2' 'Q2']\n"
     ]
    }
   ],
   "source": [
    "Hour_encoder = LabelEncoder()\n",
    "Month_encoder = LabelEncoder()\n",
    "\n",
    "df.Monthly_Quarter = Month_encoder.fit_transform(df.Monthly_Quarter)\n",
    "df.Hourly_Segments = Hour_encoder.fit_transform(df.Hourly_Segments)\n",
    "\n",
    "Hour_Segments_decoded = Hour_encoder.inverse_transform(df.Hourly_Segments)\n",
    "print(\"Hour Segments Decoded Categories:\", Hour_Segments_decoded)\n",
    "\n",
    "Month_Segments_decoded = Month_encoder.inverse_transform(df.Monthly_Quarter)\n",
    "print(\"Decoded Categories:\", Month_Segments_decoded)"
   ]
  },
  {
   "cell_type": "code",
   "execution_count": 209,
   "metadata": {},
   "outputs": [
    {
     "name": "stdout",
     "output_type": "stream",
     "text": [
      "<class 'pandas.core.frame.DataFrame'>\n",
      "Index: 192787 entries, 0 to 199999\n",
      "Data columns (total 11 columns):\n",
      " #   Column             Non-Null Count   Dtype  \n",
      "---  ------             --------------   -----  \n",
      " 0   fare_amount        192787 non-null  float64\n",
      " 1   pickup_longitude   192787 non-null  float64\n",
      " 2   pickup_latitude    192787 non-null  float64\n",
      " 3   dropoff_longitude  192787 non-null  float64\n",
      " 4   dropoff_latitude   192787 non-null  float64\n",
      " 5   passenger_count    192787 non-null  int64  \n",
      " 6   year               192787 non-null  int32  \n",
      " 7   weekday            192787 non-null  int32  \n",
      " 8   Monthly_Quarter    192787 non-null  int64  \n",
      " 9   Hourly_Segments    192787 non-null  int64  \n",
      " 10  distance_traveled  192787 non-null  float64\n",
      "dtypes: float64(6), int32(2), int64(3)\n",
      "memory usage: 16.2 MB\n"
     ]
    }
   ],
   "source": [
    "df.info()"
   ]
  },
  {
   "cell_type": "code",
   "execution_count": 210,
   "metadata": {},
   "outputs": [
    {
     "name": "stdout",
     "output_type": "stream",
     "text": [
      "Inference: The dataset doesn't have any duplicates\n"
     ]
    }
   ],
   "source": [
    "counter = 0\n",
    "rows,columns = df.shape\n",
    "df.drop_duplicates(inplace=True)\n",
    "df.drop(['pickup_latitude','pickup_longitude',\n",
    "         'dropoff_latitude','dropoff_longitude'],axis=1)\n",
    "if df.shape==(rows,columns):\n",
    "    print('Inference: The dataset doesn\\'t have any duplicates')\n",
    "else:\n",
    "    print(f'Inference: Number of duplicates dropped fixed ---> {rows-df.shape[0]}')"
   ]
  },
  {
   "cell_type": "markdown",
   "metadata": {},
   "source": [
    "#### Feature Selection"
   ]
  },
  {
   "cell_type": "code",
   "execution_count": 211,
   "metadata": {},
   "outputs": [],
   "source": [
    "features =  ['passenger_count', 'year',\n",
    "             'weekday', 'Monthly_Quarter', \n",
    "             'Hourly_Segments', 'distance_traveled']\n",
    "\n",
    "target = 'fare_amount'"
   ]
  },
  {
   "cell_type": "code",
   "execution_count": 212,
   "metadata": {},
   "outputs": [],
   "source": [
    "# Splitting Data into X and Y\n",
    "X, y = df[features], df[target]"
   ]
  },
  {
   "cell_type": "code",
   "execution_count": 213,
   "metadata": {},
   "outputs": [
    {
     "name": "stdout",
     "output_type": "stream",
     "text": [
      "Selected features:\n",
      "\n",
      "passenger_count\n",
      "year\n",
      "weekday\n",
      "Monthly_Quarter\n",
      "Hourly_Segments\n",
      "distance_traveled\n"
     ]
    }
   ],
   "source": [
    "selector = SelectKBest(score_func=f_regression, k=6)\n",
    "X_new = selector.fit_transform(X, y)\n",
    "\n",
    "selected_feature_indices = selector.get_support(indices=True)\n",
    "selected_features = X.columns[selected_feature_indices]\n",
    "\n",
    "print(\"Selected features:\\n\")\n",
    "print('\\n'.join(map(str, selected_features)))"
   ]
  },
  {
   "cell_type": "markdown",
   "metadata": {},
   "source": [
    "### Data Splitting into Train and test set, Data Scaling and Model Training"
   ]
  },
  {
   "cell_type": "code",
   "execution_count": 214,
   "metadata": {},
   "outputs": [],
   "source": [
    "# X_train, X_test, y_train, y_test = train_test_split(X, y, test_size=0.2, random_state=42,shuffle=False)"
   ]
  },
  {
   "cell_type": "code",
   "execution_count": 215,
   "metadata": {},
   "outputs": [],
   "source": [
    "# manual splitting up to 2015 data\n",
    "train, test = df[df.year < 2015], df[df.year == 2015]\n",
    "\n",
    "X_train = train[features]\n",
    "y_train = train[target]\n",
    "\n",
    "X_test = test[features]\n",
    "y_test = test[target]"
   ]
  },
  {
   "cell_type": "code",
   "execution_count": 216,
   "metadata": {},
   "outputs": [
    {
     "name": "stdout",
     "output_type": "stream",
     "text": [
      "X_train shape: (179407, 6)\n",
      "y_train shape: (179407,)\n",
      "X_test shape: (13380, 6)\n",
      "y_test shape: (13380,)\n"
     ]
    }
   ],
   "source": [
    "print(\"X_train shape:\", X_train.shape)\n",
    "print(\"y_train shape:\", y_train.shape)\n",
    "print(\"X_test shape:\", X_test.shape)\n",
    "print(\"y_test shape:\", y_test.shape)"
   ]
  },
  {
   "cell_type": "code",
   "execution_count": 217,
   "metadata": {},
   "outputs": [
    {
     "data": {
      "text/plain": [
       "((179407, 6), (179407,), (13380, 6), (13380,))"
      ]
     },
     "execution_count": 217,
     "metadata": {},
     "output_type": "execute_result"
    }
   ],
   "source": [
    "# transforming the data\n",
    "scaler = StandardScaler()\n",
    "X_train = scaler.fit_transform(X_train)\n",
    "X_test = scaler.transform(X_test)\n",
    "\n",
    "X_train.shape, y_train.shape, X_test.shape, y_test.shape"
   ]
  },
  {
   "cell_type": "code",
   "execution_count": 218,
   "metadata": {},
   "outputs": [],
   "source": [
    "models_collection = {\n",
    "    'Random_Forest_1': RandomForestRegressor(),\n",
    "    'Decision_tree_1': DecisionTreeRegressor(),\n",
    "    'Linear_Regression_1': LinearRegression(),\n",
    "    'XGBoost_1': XGBRegressor(),\n",
    "    'Lasso_1': Lasso(),\n",
    "    'Gradient_Boost_1' : GradientBoostingRegressor(),\n",
    "    'High_Gradient_Boost_1' : HistGradientBoostingRegressor(),\n",
    "}"
   ]
  },
  {
   "cell_type": "code",
   "execution_count": 219,
   "metadata": {},
   "outputs": [],
   "source": [
    "def eval_model(y_true, y_pred):\n",
    "    mae = mean_absolute_error(y_true, y_pred)\n",
    "    mse = mean_squared_error(y_true, y_pred)\n",
    "    r2 = r2_score(y_true, y_pred)\n",
    "    return mae, mse, r2"
   ]
  },
  {
   "cell_type": "code",
   "execution_count": 220,
   "metadata": {},
   "outputs": [
    {
     "name": "stderr",
     "output_type": "stream",
     "text": [
      "Training Models: 100%|██████████| 7/7 [01:32<00:00, 13.21s/it]\n"
     ]
    }
   ],
   "source": [
    "train_test_results = {}\n",
    "\n",
    "for model_name, model in tqdm(models_collection.items(), desc='Training Models'):\n",
    "    model.fit(X_train, y_train.ravel())\n",
    "\n",
    "    y_train_pred = model.predict(X_train)\n",
    "    y_test_pred = model.predict(X_test)\n",
    "\n",
    "    trained_data_mae, trained_data_mse, trained_data_r2 = eval_model(y_train, y_train_pred)\n",
    "    test_data_mae, test_data_mse, test_data_r2 = eval_model(y_test, y_test_pred)\n",
    "\n",
    "    train_test_results[model_name] = {\n",
    "        'Train': {\n",
    "            'Train_MAE': trained_data_mae,\n",
    "            'Train_R2': trained_data_r2,\n",
    "            'Train_mse': trained_data_mse\n",
    "        },\n",
    "        'Test': {\n",
    "            'Test_MAE': test_data_mae,\n",
    "            'Test_R2': test_data_r2,\n",
    "            'Test_mse': test_data_mse\n",
    "        }\n",
    "    }"
   ]
  },
  {
   "cell_type": "code",
   "execution_count": 221,
   "metadata": {},
   "outputs": [
    {
     "name": "stdout",
     "output_type": "stream",
     "text": [
      "-----------------------------------------------------------------\n",
      "Model                     Train_MSE Test_MSE Train_R2 Test_R2 \n",
      "-----------------------------------------------------------------\n",
      "Random_Forest_1           2.321     17.765    0.974     0.855    \n",
      "Decision_tree_1           0.062     40.674    0.999     0.669    \n",
      "Linear_Regression_1       86.265    122.500   0.018     0.003    \n",
      "XGBoost_1                 11.418    15.400    0.870     0.875    \n",
      "Lasso_1                   87.542    124.973   0.004     -0.017   \n",
      "Gradient_Boost_1          14.090    14.740    0.840     0.880    \n",
      "High_Gradient_Boost_1     15.349    15.467    0.825     0.874    \n",
      "-----------------------------------------------------------------\n"
     ]
    }
   ],
   "source": [
    "print('-'*65)\n",
    "print('{:<25s} {:<8s} {:<8s} {:<8s} {:<8s}'.format('Model', 'Train_MSE', 'Test_MSE', 'Train_R2', 'Test_R2'))\n",
    "print('-'*65)\n",
    "for model_name, model_results in train_test_results.items():\n",
    "    print('{:<25s} {:<9.3f} {:<9.3f} {:<9.3f} {:<9.3f}'.format(\n",
    "        model_name,\n",
    "        model_results['Train']['Train_mse'],\n",
    "        model_results['Test']['Test_mse'],\n",
    "        model_results['Train']['Train_R2'],\n",
    "        model_results['Test']['Test_R2'],\n",
    "    ))\n",
    "print('-'*65)"
   ]
  },
  {
   "cell_type": "markdown",
   "metadata": {},
   "source": [
    "### 2. K-Fold Cross Validation, Data Scaling and Model Training"
   ]
  },
  {
   "cell_type": "code",
   "execution_count": 222,
   "metadata": {},
   "outputs": [],
   "source": [
    "scalar_1 = StandardScaler()\n",
    "# taking all features to x fold and y fold as target data\n",
    "X_fold = scalar_1.fit_transform(df[features])\n",
    "y_fold = df.fare_amount"
   ]
  },
  {
   "cell_type": "code",
   "execution_count": 223,
   "metadata": {},
   "outputs": [],
   "source": [
    "Kfold_models = {\n",
    "    'Random_Forest_2': RandomForestRegressor(),\n",
    "    'Decision_tree_2': DecisionTreeRegressor(),\n",
    "    'Linear_Regression_2': LinearRegression(),\n",
    "    'XGBoost_2': XGBRegressor(),\n",
    "    'Lasso_2': Lasso(),\n",
    "    'Gradient_Boost_2' : GradientBoostingRegressor(),\n",
    "    'High_Gradient_Boost_2' : HistGradientBoostingRegressor(),\n",
    "}"
   ]
  },
  {
   "cell_type": "code",
   "execution_count": 224,
   "metadata": {},
   "outputs": [
    {
     "name": "stderr",
     "output_type": "stream",
     "text": [
      "Training Models: 100%|██████████| 7/7 [06:00<00:00, 51.48s/it] \n"
     ]
    }
   ],
   "source": [
    "kfold_results = {}\n",
    "\n",
    "folds = 5\n",
    "k_folds = KFold(n_splits=folds)\n",
    "\n",
    "for model_name, model in tqdm(Kfold_models.items(), desc='Training Models'):\n",
    "    scores = cross_val_score(model, X_fold, y_fold.ravel(), scoring='r2')\n",
    "    \n",
    "    kfold_results[model_name] = {\n",
    "        'Fold_Scores': scores,\n",
    "        'Average_Score': np.mean(scores),\n",
    "}"
   ]
  },
  {
   "cell_type": "code",
   "execution_count": 230,
   "metadata": {},
   "outputs": [
    {
     "name": "stdout",
     "output_type": "stream",
     "text": [
      "----------------------------------------------------------------------\n",
      "Model                     R2 Scores                           Average R2  \n",
      "----------------------------------------------------------------------\n",
      "Random_Forest_2           0.809, 0.827, 0.823, 0.805, 0.821   0.817       \n",
      "Decision_tree_2           0.648, 0.658, 0.637, 0.643, 0.619   0.641       \n",
      "Linear_Regression_2       0.018, 0.018, 0.019, 0.018, 0.021   0.019       \n",
      "XGBoost_2                 0.826, 0.846, 0.842, 0.821, 0.841   0.835       \n",
      "Lasso_2                   0.004, 0.004, 0.004, 0.005, 0.004   0.004       \n",
      "Gradient_Boost_2          0.825, 0.848, 0.844, 0.825, 0.841   0.837       \n",
      "High_Gradient_Boost_2     0.808, 0.835, 0.825, 0.820, 0.830   0.824       \n",
      "----------------------------------------------------------------------\n"
     ]
    }
   ],
   "source": [
    "print('-'*70)\n",
    "print('{:<25s} {:<35s} {:<12s}'.format('Model', 'R2 Scores', 'Average R2'))\n",
    "print('-'*70)\n",
    "for model_name, model_results in kfold_results.items():\n",
    "    scores_str = ', '.join([f'{score:.3f}' for score in model_results['Fold_Scores']])\n",
    "    print('{:<25s} {:<35s} {:<12.3f}'.format(model_name, scores_str, model_results['Average_Score']))\n",
    "print('-'*70)\n"
   ]
  },
  {
   "cell_type": "markdown",
   "metadata": {},
   "source": [
    "## Tuning Hyperparameter\n",
    "Using Optuna for tuning\n",
    "- tuning Hyper parameters of Xgboost cause <b>XGBOOST IS ALL YOU NEED</b>"
   ]
  },
  {
   "cell_type": "code",
   "execution_count": 231,
   "metadata": {},
   "outputs": [],
   "source": [
    "def objective(trial):\n",
    "    params = {\n",
    "        'max_depth': trial.suggest_int('max_depth', 5, 500),\n",
    "        'subsample': trial.suggest_float('subsample', 0.1, 1),\n",
    "        'colsample_bytree': trial.suggest_float('colsample_bytree', 0.01, 1.0),\n",
    "        'colsample_bylevel': trial.suggest_float('colsample_bylevel', 0.01, 1.0),\n",
    "        'min_child_weight': trial.suggest_int('min_child_weight', 0.5, 30),\n",
    "        'reg_lambda': trial.suggest_float('reg_lambda', 0.01, 1.0, log=True),\n",
    "        'reg_alpha': trial.suggest_float('reg_alpha', 0.01, 1.0, log=True),\n",
    "        'n_estimators': trial.suggest_int('n_estimators', 100, 1000),\n",
    "        'learning_rate': trial.suggest_float('learning_rate', 0.01, 0.1),\n",
    "    }\n",
    "    model = XGBRegressor(**params)\n",
    "    model.fit(X_train, y_train)\n",
    "    return model.score(X_test, y_test.ravel())"
   ]
  },
  {
   "cell_type": "code",
   "execution_count": 233,
   "metadata": {},
   "outputs": [
    {
     "name": "stderr",
     "output_type": "stream",
     "text": [
      "Optimizing Hyperparameters:   0%|          | 0/200 [00:00<?, ?it/s][I 2023-08-17 14:15:47,005] A new study created in memory with name: no-name-4a6cbb27-1583-4252-a0bd-aae1fa29091f\n",
      "[I 2023-08-17 14:16:06,734] Trial 0 finished with value: 0.8714133002415604 and parameters: {'max_depth': 237, 'subsample': 0.8886830546852693, 'colsample_bytree': 0.5471343959681847, 'colsample_bylevel': 0.14815124889331122, 'min_child_weight': 3, 'reg_lambda': 0.4996752680514104, 'reg_alpha': 0.012370073169966909, 'n_estimators': 593, 'learning_rate': 0.014626508062758056}. Best is trial 0 with value: 0.8714133002415604.\n",
      "Optimizing Hyperparameters:   1%|          | 2/200 [00:19<32:33,  9.87s/it][I 2023-08-17 14:16:48,861] Trial 1 finished with value: 0.8698320825072008 and parameters: {'max_depth': 328, 'subsample': 0.5527536379202808, 'colsample_bytree': 0.8052940426808037, 'colsample_bylevel': 0.5624347507270668, 'min_child_weight': 13, 'reg_lambda': 0.04381721322899132, 'reg_alpha': 0.6259755354510121, 'n_estimators': 487, 'learning_rate': 0.060026529402787805}. Best is trial 0 with value: 0.8714133002415604.\n",
      "Optimizing Hyperparameters:   2%|▏         | 3/200 [01:01<1:16:31, 23.31s/it][I 2023-08-17 14:16:59,042] Trial 2 finished with value: 0.847082880404818 and parameters: {'max_depth': 386, 'subsample': 0.6569696862606133, 'colsample_bytree': 0.3311217644796148, 'colsample_bylevel': 0.3821871469220029, 'min_child_weight': 26, 'reg_lambda': 0.07339462787081012, 'reg_alpha': 0.812647994039323, 'n_estimators': 317, 'learning_rate': 0.05238279154524284}. Best is trial 0 with value: 0.8714133002415604.\n",
      "Optimizing Hyperparameters:   2%|▏         | 4/200 [01:12<1:00:08, 18.41s/it][I 2023-08-17 14:18:10,278] Trial 3 finished with value: 0.8626449911123013 and parameters: {'max_depth': 143, 'subsample': 0.6936403475904933, 'colsample_bytree': 0.7661707475120206, 'colsample_bylevel': 0.9924596064181893, 'min_child_weight': 15, 'reg_lambda': 0.2240360332330446, 'reg_alpha': 0.019921522017223938, 'n_estimators': 404, 'learning_rate': 0.05064207589003615}. Best is trial 0 with value: 0.8714133002415604.\n",
      "Optimizing Hyperparameters:   2%|▎         | 5/200 [02:23<1:59:31, 36.78s/it][I 2023-08-17 14:18:39,243] Trial 4 finished with value: 0.883841452860648 and parameters: {'max_depth': 337, 'subsample': 0.7106796630327324, 'colsample_bytree': 0.4310430702066256, 'colsample_bylevel': 0.3435036404974433, 'min_child_weight': 21, 'reg_lambda': 0.014777463582346972, 'reg_alpha': 0.11719770890921055, 'n_estimators': 881, 'learning_rate': 0.07148663678519145}. Best is trial 4 with value: 0.883841452860648.\n",
      "Optimizing Hyperparameters:   3%|▎         | 6/200 [02:52<1:50:32, 34.19s/it][I 2023-08-17 14:19:43,899] Trial 5 finished with value: 0.877895102515107 and parameters: {'max_depth': 279, 'subsample': 0.3556949226522935, 'colsample_bytree': 0.5560267058191528, 'colsample_bylevel': 0.8525297520395023, 'min_child_weight': 23, 'reg_lambda': 0.6571770854538489, 'reg_alpha': 0.038397703180689274, 'n_estimators': 873, 'learning_rate': 0.07033289274737918}. Best is trial 4 with value: 0.883841452860648.\n",
      "Optimizing Hyperparameters:   4%|▎         | 7/200 [03:56<2:21:29, 43.99s/it][I 2023-08-17 14:20:02,336] Trial 6 finished with value: 0.8597105277144919 and parameters: {'max_depth': 302, 'subsample': 0.5626801099213424, 'colsample_bytree': 0.032372008566358905, 'colsample_bylevel': 0.4898001361880087, 'min_child_weight': 18, 'reg_lambda': 0.01889026508339114, 'reg_alpha': 0.017835652014593334, 'n_estimators': 398, 'learning_rate': 0.08372834273449627}. Best is trial 4 with value: 0.883841452860648.\n",
      "Optimizing Hyperparameters:   4%|▍         | 8/200 [04:15<1:55:00, 35.94s/it][I 2023-08-17 14:20:10,814] Trial 7 finished with value: 0.8598653307588897 and parameters: {'max_depth': 19, 'subsample': 0.6872260097865143, 'colsample_bytree': 0.209612409912042, 'colsample_bylevel': 0.3188270501371405, 'min_child_weight': 24, 'reg_lambda': 0.07022533760008903, 'reg_alpha': 0.1198208934613472, 'n_estimators': 292, 'learning_rate': 0.09362093860279683}. Best is trial 4 with value: 0.883841452860648.\n",
      "Optimizing Hyperparameters:   4%|▍         | 9/200 [04:23<1:27:17, 27.42s/it][I 2023-08-17 14:21:57,055] Trial 8 finished with value: 0.849310723827439 and parameters: {'max_depth': 339, 'subsample': 0.49148621871546927, 'colsample_bytree': 0.9738998706206902, 'colsample_bylevel': 0.7381097803911142, 'min_child_weight': 17, 'reg_lambda': 0.01492570617955938, 'reg_alpha': 0.07175084278232378, 'n_estimators': 578, 'learning_rate': 0.07278901534958551}. Best is trial 4 with value: 0.883841452860648.\n",
      "Optimizing Hyperparameters:   5%|▌         | 10/200 [06:10<2:43:29, 51.63s/it][I 2023-08-17 14:22:43,845] Trial 9 finished with value: 0.861455725124506 and parameters: {'max_depth': 77, 'subsample': 0.5057345200923233, 'colsample_bytree': 0.1797828139194231, 'colsample_bylevel': 0.9868782938104155, 'min_child_weight': 25, 'reg_lambda': 0.01830181790872388, 'reg_alpha': 0.10396374587993014, 'n_estimators': 842, 'learning_rate': 0.04205223259850451}. Best is trial 4 with value: 0.883841452860648.\n",
      "Optimizing Hyperparameters:   6%|▌         | 11/200 [06:56<2:37:58, 50.15s/it][I 2023-08-17 14:23:06,740] Trial 10 finished with value: 0.8834923609155609 and parameters: {'max_depth': 495, 'subsample': 0.13792022628076006, 'colsample_bytree': 0.42233435628174815, 'colsample_bylevel': 0.02869014463116565, 'min_child_weight': 6, 'reg_lambda': 0.011070991182442624, 'reg_alpha': 0.2596449544184292, 'n_estimators': 978, 'learning_rate': 0.09627971942900082}. Best is trial 4 with value: 0.883841452860648.\n",
      "Optimizing Hyperparameters:   6%|▌         | 12/200 [07:19<2:11:13, 41.88s/it][I 2023-08-17 14:23:29,449] Trial 11 finished with value: 0.8817924543118058 and parameters: {'max_depth': 494, 'subsample': 0.14125264165933255, 'colsample_bytree': 0.408339739002553, 'colsample_bylevel': 0.06172804725783354, 'min_child_weight': 6, 'reg_lambda': 0.010951994038828303, 'reg_alpha': 0.24368323244040174, 'n_estimators': 975, 'learning_rate': 0.09827373184885058}. Best is trial 4 with value: 0.883841452860648.\n",
      "Optimizing Hyperparameters:   6%|▋         | 13/200 [07:42<1:52:27, 36.08s/it][I 2023-08-17 14:23:32,248] Trial 12 finished with value: 0.8473804009251953 and parameters: {'max_depth': 497, 'subsample': 0.14302198681657477, 'colsample_bytree': 0.45339800973337724, 'colsample_bylevel': 0.025750304445171956, 'min_child_weight': 10, 'reg_lambda': 0.031836146128325894, 'reg_alpha': 0.2432669473321942, 'n_estimators': 109, 'learning_rate': 0.08444048847598684}. Best is trial 4 with value: 0.883841452860648.\n",
      "Optimizing Hyperparameters:   7%|▋         | 14/200 [07:45<1:20:43, 26.04s/it][I 2023-08-17 14:23:55,898] Trial 13 finished with value: 0.8811467908985822 and parameters: {'max_depth': 426, 'subsample': 0.32034699668761474, 'colsample_bytree': 0.5976390086335432, 'colsample_bylevel': 0.22987209274715856, 'min_child_weight': 8, 'reg_lambda': 0.012035955240077481, 'reg_alpha': 0.2614280506039731, 'n_estimators': 723, 'learning_rate': 0.08743581532184116}. Best is trial 4 with value: 0.883841452860648.\n",
      "Optimizing Hyperparameters:   8%|▊         | 15/200 [08:08<1:18:04, 25.32s/it][I 2023-08-17 14:24:23,355] Trial 14 finished with value: 0.8746106037165937 and parameters: {'max_depth': 201, 'subsample': 0.9390025768992913, 'colsample_bytree': 0.3393900622265392, 'colsample_bylevel': 0.21556232008976173, 'min_child_weight': 0, 'reg_lambda': 0.03458068879200375, 'reg_alpha': 0.43181133766050467, 'n_estimators': 988, 'learning_rate': 0.09775884184302792}. Best is trial 4 with value: 0.883841452860648.\n",
      "Optimizing Hyperparameters:   8%|▊         | 16/200 [08:36<1:19:37, 25.97s/it][I 2023-08-17 14:24:49,201] Trial 15 finished with value: 0.8824332406852671 and parameters: {'max_depth': 407, 'subsample': 0.8131643410718539, 'colsample_bytree': 0.6422836747575044, 'colsample_bylevel': 0.1114060956871786, 'min_child_weight': 20, 'reg_lambda': 0.024303672756695573, 'reg_alpha': 0.15153203624376568, 'n_estimators': 747, 'learning_rate': 0.07913471479610557}. Best is trial 4 with value: 0.883841452860648.\n",
      "Optimizing Hyperparameters:   8%|▊         | 17/200 [09:02<1:19:04, 25.93s/it][I 2023-08-17 14:25:12,053] Trial 16 finished with value: 0.8838343322244816 and parameters: {'max_depth': 440, 'subsample': 0.8055968281290697, 'colsample_bytree': 0.4270887306122395, 'colsample_bylevel': 0.013160236485071863, 'min_child_weight': 30, 'reg_lambda': 0.01162031880872589, 'reg_alpha': 0.0569768790644926, 'n_estimators': 861, 'learning_rate': 0.09935837396511185}. Best is trial 4 with value: 0.883841452860648.\n",
      "Optimizing Hyperparameters:   9%|▉         | 18/200 [09:25<1:15:50, 25.00s/it][I 2023-08-17 14:25:46,817] Trial 17 finished with value: 0.8588046876499094 and parameters: {'max_depth': 369, 'subsample': 0.8257453857590614, 'colsample_bytree': 0.2919162415466832, 'colsample_bylevel': 0.26633383953243456, 'min_child_weight': 30, 'reg_lambda': 0.04670594923925197, 'reg_alpha': 0.05864234899070054, 'n_estimators': 690, 'learning_rate': 0.0708000354622814}. Best is trial 4 with value: 0.883841452860648.\n",
      "Optimizing Hyperparameters:  10%|▉         | 19/200 [09:59<1:24:16, 27.93s/it][I 2023-08-17 14:26:15,296] Trial 18 finished with value: 0.8817554599682491 and parameters: {'max_depth': 438, 'subsample': 0.9742103539752448, 'colsample_bytree': 0.5033060270340264, 'colsample_bylevel': 0.17147613277869228, 'min_child_weight': 30, 'reg_lambda': 0.022374366713919708, 'reg_alpha': 0.041521050635856996, 'n_estimators': 864, 'learning_rate': 0.0879315165299221}. Best is trial 4 with value: 0.883841452860648.\n",
      "Optimizing Hyperparameters:  10%|█         | 20/200 [10:28<1:24:18, 28.10s/it][I 2023-08-17 14:26:44,976] Trial 19 finished with value: 0.8825504671117677 and parameters: {'max_depth': 231, 'subsample': 0.7914385657348489, 'colsample_bytree': 0.6630039130839485, 'colsample_bylevel': 0.3470331270730021, 'min_child_weight': 21, 'reg_lambda': 0.010159246480863839, 'reg_alpha': 0.0792306799973605, 'n_estimators': 799, 'learning_rate': 0.0766185603682433}. Best is trial 4 with value: 0.883841452860648.\n",
      "Optimizing Hyperparameters:  10%|█         | 21/200 [10:57<1:25:14, 28.57s/it][I 2023-08-17 14:27:04,026] Trial 20 finished with value: 0.8835859700410654 and parameters: {'max_depth': 441, 'subsample': 0.9876551668091343, 'colsample_bytree': 0.4940349638607228, 'colsample_bylevel': 0.1230615065867697, 'min_child_weight': 28, 'reg_lambda': 0.11374105841402232, 'reg_alpha': 0.043556889312611, 'n_estimators': 669, 'learning_rate': 0.0626311766541078}. Best is trial 4 with value: 0.883841452860648.\n",
      "Optimizing Hyperparameters:  11%|█         | 22/200 [11:17<1:16:17, 25.72s/it][I 2023-08-17 14:27:20,464] Trial 21 finished with value: 0.8838631968436161 and parameters: {'max_depth': 445, 'subsample': 0.9928992991127616, 'colsample_bytree': 0.4909228256441156, 'colsample_bylevel': 0.13611562656937745, 'min_child_weight': 27, 'reg_lambda': 0.14350528395436207, 'reg_alpha': 0.04521272009600764, 'n_estimators': 638, 'learning_rate': 0.06343575386120244}. Best is trial 21 with value: 0.8838631968436161.\n",
      "Optimizing Hyperparameters:  12%|█▏        | 23/200 [11:33<1:07:38, 22.93s/it][I 2023-08-17 14:27:49,340] Trial 22 finished with value: 0.8831710421907368 and parameters: {'max_depth': 358, 'subsample': 0.8849732786032655, 'colsample_bytree': 0.4612104958552929, 'colsample_bylevel': 0.020382024456388204, 'min_child_weight': 27, 'reg_lambda': 0.13511853212476616, 'reg_alpha': 0.02936689016348405, 'n_estimators': 924, 'learning_rate': 0.06727537331667431}. Best is trial 21 with value: 0.8838631968436161.\n",
      "Optimizing Hyperparameters:  12%|█▏        | 24/200 [12:02<1:12:29, 24.72s/it][I 2023-08-17 14:28:17,075] Trial 23 finished with value: 0.8831291062185443 and parameters: {'max_depth': 447, 'subsample': 0.7609469903026483, 'colsample_bytree': 0.3663195904303176, 'colsample_bylevel': 0.14822691344781858, 'min_child_weight': 22, 'reg_lambda': 0.018449317562084983, 'reg_alpha': 0.055428457581227476, 'n_estimators': 782, 'learning_rate': 0.0810482811416535}. Best is trial 21 with value: 0.8838631968436161.\n",
      "Optimizing Hyperparameters:  12%|█▎        | 25/200 [12:30<1:14:43, 25.62s/it][I 2023-08-17 14:29:04,664] Trial 24 finished with value: 0.8589217259359666 and parameters: {'max_depth': 390, 'subsample': 0.8788658341430514, 'colsample_bytree': 0.2783210375453625, 'colsample_bylevel': 0.2506427482455519, 'min_child_weight': 28, 'reg_lambda': 0.18891889572641857, 'reg_alpha': 0.07956517208047047, 'n_estimators': 644, 'learning_rate': 0.07661360434821111}. Best is trial 21 with value: 0.8838631968436161.\n",
      "Optimizing Hyperparameters:  13%|█▎        | 26/200 [13:17<1:33:25, 32.21s/it][I 2023-08-17 14:29:20,151] Trial 25 finished with value: 0.883493122441781 and parameters: {'max_depth': 297, 'subsample': 0.9861859630714673, 'colsample_bytree': 0.4315746361308002, 'colsample_bylevel': 0.09317913359924387, 'min_child_weight': 20, 'reg_lambda': 0.02751480954156746, 'reg_alpha': 0.14805160613350238, 'n_estimators': 501, 'learning_rate': 0.08987931359101906}. Best is trial 21 with value: 0.8838631968436161.\n",
      "Optimizing Hyperparameters:  14%|█▎        | 27/200 [13:33<1:18:24, 27.19s/it][I 2023-08-17 14:29:51,317] Trial 26 finished with value: 0.88148242058248 and parameters: {'max_depth': 469, 'subsample': 0.7493797865328147, 'colsample_bytree': 0.5161005954629885, 'colsample_bylevel': 0.42105366424538326, 'min_child_weight': 30, 'reg_lambda': 0.014379414023359844, 'reg_alpha': 0.030838237487332346, 'n_estimators': 899, 'learning_rate': 0.09919987300043055}. Best is trial 21 with value: 0.8838631968436161.\n",
      "Optimizing Hyperparameters:  14%|█▍        | 28/200 [14:04<1:21:22, 28.39s/it][I 2023-08-17 14:30:16,680] Trial 27 finished with value: 0.8820963135697272 and parameters: {'max_depth': 408, 'subsample': 0.8775522629652932, 'colsample_bytree': 0.38452570426703103, 'colsample_bylevel': 0.29991768832293864, 'min_child_weight': 25, 'reg_lambda': 0.05579528496778332, 'reg_alpha': 0.05904035026332361, 'n_estimators': 791, 'learning_rate': 0.09146041548979048}. Best is trial 21 with value: 0.8838631968436161.\n",
      "Optimizing Hyperparameters:  14%|█▍        | 29/200 [14:29<1:18:18, 27.48s/it][I 2023-08-17 14:30:37,248] Trial 28 finished with value: 0.8830753286587769 and parameters: {'max_depth': 328, 'subsample': 0.9290329868371918, 'colsample_bytree': 0.6034903456901798, 'colsample_bylevel': 0.20192398050127697, 'min_child_weight': 18, 'reg_lambda': 0.035109853221488636, 'reg_alpha': 0.08382560216273012, 'n_estimators': 633, 'learning_rate': 0.06393468051291507}. Best is trial 21 with value: 0.8838631968436161.\n",
      "Optimizing Hyperparameters:  15%|█▌        | 30/200 [14:50<1:11:58, 25.41s/it][I 2023-08-17 14:31:09,383] Trial 29 finished with value: 0.884420090863112 and parameters: {'max_depth': 242, 'subsample': 0.844490275268117, 'colsample_bytree': 0.5525516881073218, 'colsample_bylevel': 0.1599202171683729, 'min_child_weight': 27, 'reg_lambda': 0.33623547537280585, 'reg_alpha': 0.013884686427756063, 'n_estimators': 927, 'learning_rate': 0.04476486354326989}. Best is trial 29 with value: 0.884420090863112.\n",
      "Optimizing Hyperparameters:  16%|█▌        | 31/200 [15:22<1:17:14, 27.42s/it][I 2023-08-17 14:31:30,023] Trial 30 finished with value: 0.8831696462852342 and parameters: {'max_depth': 181, 'subsample': 0.8702151799686412, 'colsample_bytree': 0.5436841757186777, 'colsample_bylevel': 0.1642733230524342, 'min_child_weight': 22, 'reg_lambda': 0.42584211953436124, 'reg_alpha': 0.010319906231109854, 'n_estimators': 513, 'learning_rate': 0.03530157166268543}. Best is trial 29 with value: 0.884420090863112.\n",
      "Optimizing Hyperparameters:  16%|█▌        | 32/200 [15:43<1:11:05, 25.39s/it][I 2023-08-17 14:32:00,835] Trial 31 finished with value: 0.8838642633200843 and parameters: {'max_depth': 245, 'subsample': 0.8194315775640857, 'colsample_bytree': 0.46674754665542917, 'colsample_bylevel': 0.08383899241921022, 'min_child_weight': 27, 'reg_lambda': 0.3048786779810845, 'reg_alpha': 0.014255073192455876, 'n_estimators': 911, 'learning_rate': 0.057305981747559874}. Best is trial 29 with value: 0.884420090863112.\n",
      "Optimizing Hyperparameters:  16%|█▋        | 33/200 [16:13<1:15:11, 27.02s/it][I 2023-08-17 14:32:43,468] Trial 32 finished with value: 0.884385028205522 and parameters: {'max_depth': 257, 'subsample': 0.9120925083389758, 'colsample_bytree': 0.5354147047857958, 'colsample_bylevel': 0.11681340491674735, 'min_child_weight': 27, 'reg_lambda': 0.3330286397115975, 'reg_alpha': 0.013644218084363715, 'n_estimators': 931, 'learning_rate': 0.05726587819460161}. Best is trial 29 with value: 0.884420090863112.\n",
      "Optimizing Hyperparameters:  17%|█▋        | 34/200 [16:56<1:27:42, 31.70s/it][I 2023-08-17 14:33:16,157] Trial 33 finished with value: 0.8831155623368575 and parameters: {'max_depth': 249, 'subsample': 0.9259642013074936, 'colsample_bytree': 0.5632170333466561, 'colsample_bylevel': 0.09599717138061013, 'min_child_weight': 27, 'reg_lambda': 0.35429272729626354, 'reg_alpha': 0.013575755139135027, 'n_estimators': 942, 'learning_rate': 0.05671942091737094}. Best is trial 29 with value: 0.884420090863112.\n",
      "Optimizing Hyperparameters:  18%|█▊        | 35/200 [17:29<1:27:59, 32.00s/it][I 2023-08-17 14:33:43,729] Trial 34 finished with value: 0.8841771642880893 and parameters: {'max_depth': 144, 'subsample': 0.8419341174429047, 'colsample_bytree': 0.6432442708808617, 'colsample_bylevel': 0.16816503909046537, 'min_child_weight': 26, 'reg_lambda': 0.27646025518878237, 'reg_alpha': 0.014642420493823702, 'n_estimators': 810, 'learning_rate': 0.04877253499746374}. Best is trial 29 with value: 0.884420090863112.\n",
      "Optimizing Hyperparameters:  18%|█▊        | 36/200 [17:56<1:23:49, 30.67s/it][I 2023-08-17 14:34:14,137] Trial 35 finished with value: 0.8803558896291986 and parameters: {'max_depth': 144, 'subsample': 0.8378708665141541, 'colsample_bytree': 0.6805356487442781, 'colsample_bylevel': 0.175540929407047, 'min_child_weight': 13, 'reg_lambda': 0.30535723088004985, 'reg_alpha': 0.0143040949786398, 'n_estimators': 821, 'learning_rate': 0.049442450550389413}. Best is trial 29 with value: 0.884420090863112.\n",
      "Optimizing Hyperparameters:  18%|█▊        | 37/200 [18:27<1:23:06, 30.59s/it][I 2023-08-17 14:34:54,570] Trial 36 finished with value: 0.8814881712763929 and parameters: {'max_depth': 210, 'subsample': 0.7618704911024503, 'colsample_bytree': 0.7428866949736694, 'colsample_bylevel': 0.07583623657135001, 'min_child_weight': 24, 'reg_lambda': 0.6251249447206148, 'reg_alpha': 0.019823152068718333, 'n_estimators': 927, 'learning_rate': 0.056362792823328275}. Best is trial 29 with value: 0.884420090863112.\n",
      "Optimizing Hyperparameters:  19%|█▉        | 38/200 [19:07<1:30:34, 33.54s/it][I 2023-08-17 14:35:20,882] Trial 37 finished with value: 0.8846882491180876 and parameters: {'max_depth': 139, 'subsample': 0.8463606362171117, 'colsample_bytree': 0.5983500880114544, 'colsample_bylevel': 0.2687101086372139, 'min_child_weight': 26, 'reg_lambda': 0.283075726159778, 'reg_alpha': 0.01112357464282977, 'n_estimators': 738, 'learning_rate': 0.048044014786524966}. Best is trial 37 with value: 0.8846882491180876.\n",
      "Optimizing Hyperparameters:  20%|█▉        | 39/200 [19:33<1:24:11, 31.37s/it][I 2023-08-17 14:36:04,277] Trial 38 finished with value: 0.8824873727727084 and parameters: {'max_depth': 101, 'subsample': 0.6439780365476433, 'colsample_bytree': 0.7038909815748807, 'colsample_bylevel': 0.269690074725087, 'min_child_weight': 25, 'reg_lambda': 0.8370097045520595, 'reg_alpha': 0.010100395444886829, 'n_estimators': 1000, 'learning_rate': 0.04712499989316345}. Best is trial 37 with value: 0.8846882491180876.\n",
      "Optimizing Hyperparameters:  20%|██        | 40/200 [20:17<1:33:16, 34.98s/it][I 2023-08-17 14:36:31,516] Trial 39 finished with value: 0.8847699692462867 and parameters: {'max_depth': 149, 'subsample': 0.91373441560813, 'colsample_bytree': 0.6177245948502011, 'colsample_bylevel': 0.20867428283348424, 'min_child_weight': 23, 'reg_lambda': 0.23576730631223758, 'reg_alpha': 0.024601390012789152, 'n_estimators': 729, 'learning_rate': 0.036409333629690954}. Best is trial 39 with value: 0.8847699692462867.\n",
      "Optimizing Hyperparameters:  20%|██        | 41/200 [20:44<1:26:32, 32.66s/it][I 2023-08-17 14:36:55,108] Trial 40 finished with value: 0.8839458920749909 and parameters: {'max_depth': 102, 'subsample': 0.9232720178876473, 'colsample_bytree': 0.5915010043997957, 'colsample_bylevel': 0.390482118122614, 'min_child_weight': 15, 'reg_lambda': 0.209061782721072, 'reg_alpha': 0.0236835792382935, 'n_estimators': 735, 'learning_rate': 0.03208597496177336}. Best is trial 39 with value: 0.8847699692462867.\n",
      "Optimizing Hyperparameters:  21%|██        | 42/200 [21:08<1:18:50, 29.94s/it][I 2023-08-17 14:37:22,463] Trial 41 finished with value: 0.8845808522907084 and parameters: {'max_depth': 158, 'subsample': 0.8464457547473434, 'colsample_bytree': 0.6327442481439208, 'colsample_bylevel': 0.19649237925433655, 'min_child_weight': 28, 'reg_lambda': 0.25098007741298434, 'reg_alpha': 0.017652179371896025, 'n_estimators': 757, 'learning_rate': 0.04446739760694709}. Best is trial 39 with value: 0.8847699692462867.\n",
      "Optimizing Hyperparameters:  22%|██▏       | 43/200 [21:35<1:16:18, 29.16s/it][I 2023-08-17 14:37:42,382] Trial 42 finished with value: 0.8842120925086393 and parameters: {'max_depth': 170, 'subsample': 0.9094789166260921, 'colsample_bytree': 0.5482066722334453, 'colsample_bylevel': 0.20294665099382403, 'min_child_weight': 23, 'reg_lambda': 0.41629157918602927, 'reg_alpha': 0.017285492880126808, 'n_estimators': 570, 'learning_rate': 0.043015156166324495}. Best is trial 39 with value: 0.8847699692462867.\n",
      "Optimizing Hyperparameters:  22%|██▏       | 44/200 [21:55<1:08:36, 26.39s/it][I 2023-08-17 14:37:58,455] Trial 43 finished with value: 0.8820647844093223 and parameters: {'max_depth': 44, 'subsample': 0.8553476230807969, 'colsample_bytree': 0.719011902992249, 'colsample_bylevel': 0.28191146739667294, 'min_child_weight': 28, 'reg_lambda': 0.2533669260125571, 'reg_alpha': 0.022562197931599717, 'n_estimators': 422, 'learning_rate': 0.051676926965432746}. Best is trial 39 with value: 0.8847699692462867.\n",
      "Optimizing Hyperparameters:  22%|██▎       | 45/200 [22:11<1:00:10, 23.29s/it][I 2023-08-17 14:38:28,183] Trial 44 finished with value: 0.8835344563459621 and parameters: {'max_depth': 275, 'subsample': 0.9515314403645638, 'colsample_bytree': 0.7702079903895399, 'colsample_bylevel': 0.2237797329799811, 'min_child_weight': 24, 'reg_lambda': 0.5209642702422879, 'reg_alpha': 0.011797449997310682, 'n_estimators': 758, 'learning_rate': 0.03612873581453254}. Best is trial 39 with value: 0.8847699692462867.\n",
      "Optimizing Hyperparameters:  23%|██▎       | 46/200 [22:41<1:04:44, 25.22s/it][I 2023-08-17 14:38:52,302] Trial 45 finished with value: 0.8832857353865781 and parameters: {'max_depth': 111, 'subsample': 0.8960859641429322, 'colsample_bytree': 0.616124712478976, 'colsample_bylevel': 0.3375669302324326, 'min_child_weight': 29, 'reg_lambda': 0.18612250095402685, 'reg_alpha': 0.01675584396875268, 'n_estimators': 695, 'learning_rate': 0.02840035850454968}. Best is trial 39 with value: 0.8847699692462867.\n",
      "Optimizing Hyperparameters:  24%|██▎       | 47/200 [23:05<1:03:28, 24.89s/it][I 2023-08-17 14:39:32,496] Trial 46 finished with value: 0.8823236557472168 and parameters: {'max_depth': 167, 'subsample': 0.7368704101083222, 'colsample_bytree': 0.8075916394654934, 'colsample_bylevel': 0.24765385192357584, 'min_child_weight': 26, 'reg_lambda': 0.24734722472642928, 'reg_alpha': 0.011468728272763025, 'n_estimators': 846, 'learning_rate': 0.04428098781826459}. Best is trial 39 with value: 0.8847699692462867.\n",
      "Optimizing Hyperparameters:  24%|██▍       | 48/200 [23:45<1:14:41, 29.48s/it][I 2023-08-17 14:39:55,611] Trial 47 finished with value: 0.8850279760196651 and parameters: {'max_depth': 213, 'subsample': 0.7031989919256844, 'colsample_bytree': 0.5801079057319373, 'colsample_bylevel': 0.3024834343028783, 'min_child_weight': 23, 'reg_lambda': 0.3323072488414719, 'reg_alpha': 0.0172640372920415, 'n_estimators': 602, 'learning_rate': 0.05197611631207079}. Best is trial 47 with value: 0.8850279760196651.\n",
      "Optimizing Hyperparameters:  24%|██▍       | 49/200 [24:08<1:09:23, 27.57s/it][I 2023-08-17 14:40:19,141] Trial 48 finished with value: 0.884997084169991 and parameters: {'max_depth': 213, 'subsample': 0.7083494694950493, 'colsample_bytree': 0.5834591687222896, 'colsample_bylevel': 0.3109000782372755, 'min_child_weight': 19, 'reg_lambda': 0.3824253875639157, 'reg_alpha': 0.01961060252295855, 'n_estimators': 595, 'learning_rate': 0.05279154760603642}. Best is trial 47 with value: 0.8850279760196651.\n",
      "Optimizing Hyperparameters:  25%|██▌       | 50/200 [24:32<1:05:54, 26.36s/it][I 2023-08-17 14:40:40,117] Trial 49 finished with value: 0.8841922991596255 and parameters: {'max_depth': 197, 'subsample': 0.6945598069449059, 'colsample_bytree': 0.6400779340163484, 'colsample_bylevel': 0.31059473875773463, 'min_child_weight': 17, 'reg_lambda': 0.4224129626542826, 'reg_alpha': 0.02356631435955081, 'n_estimators': 610, 'learning_rate': 0.053493376804305125}. Best is trial 47 with value: 0.8850279760196651.\n",
      "Optimizing Hyperparameters:  26%|██▌       | 51/200 [24:53<1:01:27, 24.75s/it][I 2023-08-17 14:41:00,547] Trial 50 finished with value: 0.88422256403482 and parameters: {'max_depth': 121, 'subsample': 0.6534849146008429, 'colsample_bytree': 0.5845603847230031, 'colsample_bylevel': 0.43436480870068794, 'min_child_weight': 19, 'reg_lambda': 0.24778772288924603, 'reg_alpha': 0.01736707890958715, 'n_estimators': 540, 'learning_rate': 0.03995492640302334}. Best is trial 47 with value: 0.8850279760196651.\n",
      "Optimizing Hyperparameters:  26%|██▌       | 52/200 [25:13<57:50, 23.45s/it]  [I 2023-08-17 14:41:17,247] Trial 51 finished with value: 0.8836949516367082 and parameters: {'max_depth': 221, 'subsample': 0.7801539311628882, 'colsample_bytree': 0.5614971853745283, 'colsample_bylevel': 0.3580886280255706, 'min_child_weight': 23, 'reg_lambda': 0.34857826463595, 'reg_alpha': 0.020332812530311592, 'n_estimators': 443, 'learning_rate': 0.04604912188487206}. Best is trial 47 with value: 0.8850279760196651.\n",
      "Optimizing Hyperparameters:  26%|██▋       | 53/200 [25:30<52:29, 21.42s/it][I 2023-08-17 14:41:39,461] Trial 52 finished with value: 0.8833521234186683 and parameters: {'max_depth': 81, 'subsample': 0.72496609894762, 'colsample_bytree': 0.6782349440090616, 'colsample_bylevel': 0.2999685710269851, 'min_child_weight': 22, 'reg_lambda': 0.5164969143108437, 'reg_alpha': 0.026486016906818965, 'n_estimators': 593, 'learning_rate': 0.05144818083096587}. Best is trial 47 with value: 0.8850279760196651.\n",
      "Optimizing Hyperparameters:  27%|██▋       | 54/200 [25:52<52:42, 21.66s/it][I 2023-08-17 14:42:01,925] Trial 53 finished with value: 0.8845026182800941 and parameters: {'max_depth': 186, 'subsample': 0.7865270213803326, 'colsample_bytree': 0.6042028532409041, 'colsample_bylevel': 0.21018371367634395, 'min_child_weight': 20, 'reg_lambda': 0.22058108961954728, 'reg_alpha': 0.017146107154044805, 'n_estimators': 712, 'learning_rate': 0.03995832456089696}. Best is trial 47 with value: 0.8850279760196651.\n",
      "Optimizing Hyperparameters:  28%|██▊       | 55/200 [26:14<52:55, 21.90s/it][I 2023-08-17 14:42:23,709] Trial 54 finished with value: 0.8841658070215261 and parameters: {'max_depth': 154, 'subsample': 0.7865129031993425, 'colsample_bytree': 0.6174532823495513, 'colsample_bylevel': 0.2407747613648312, 'min_child_weight': 20, 'reg_lambda': 0.21033234093715902, 'reg_alpha': 0.0341669266844024, 'n_estimators': 685, 'learning_rate': 0.040754880256244574}. Best is trial 47 with value: 0.8850279760196651.\n",
      "Optimizing Hyperparameters:  28%|██▊       | 56/200 [26:36<52:28, 21.87s/it][I 2023-08-17 14:42:47,812] Trial 55 finished with value: 0.8841202379408817 and parameters: {'max_depth': 193, 'subsample': 0.6188533845099933, 'colsample_bytree': 0.6444592890195968, 'colsample_bylevel': 0.27904186986099594, 'min_child_weight': 16, 'reg_lambda': 0.15950108808333538, 'reg_alpha': 0.026709728419820465, 'n_estimators': 717, 'learning_rate': 0.05025625895243289}. Best is trial 47 with value: 0.8850279760196651.\n",
      "Optimizing Hyperparameters:  28%|██▊       | 57/200 [27:00<53:42, 22.54s/it][I 2023-08-17 14:42:59,753] Trial 56 finished with value: 0.8814375393986352 and parameters: {'max_depth': 129, 'subsample': 0.7302987647654468, 'colsample_bytree': 0.5042935732646092, 'colsample_bylevel': 0.20597297907126272, 'min_child_weight': 19, 'reg_lambda': 0.17134627775571026, 'reg_alpha': 0.018993827562823994, 'n_estimators': 336, 'learning_rate': 0.0539839386312861}. Best is trial 47 with value: 0.8850279760196651.\n",
      "Optimizing Hyperparameters:  29%|██▉       | 58/200 [27:12<45:49, 19.36s/it][I 2023-08-17 14:43:29,911] Trial 57 finished with value: 0.8851027071455352 and parameters: {'max_depth': 165, 'subsample': 0.7025449794471608, 'colsample_bytree': 0.5858480113665044, 'colsample_bylevel': 0.3222683012010287, 'min_child_weight': 21, 'reg_lambda': 0.2188487178271053, 'reg_alpha': 0.01623052170083306, 'n_estimators': 764, 'learning_rate': 0.046764985387505884}. Best is trial 57 with value: 0.8851027071455352.\n",
      "Optimizing Hyperparameters:  30%|██▉       | 59/200 [27:42<53:06, 22.60s/it][I 2023-08-17 14:44:01,202] Trial 58 finished with value: 0.883052066856446 and parameters: {'max_depth': 70, 'subsample': 0.6972720451501317, 'colsample_bytree': 0.6933321991534993, 'colsample_bylevel': 0.37465232338156307, 'min_child_weight': 24, 'reg_lambda': 0.2808446224050213, 'reg_alpha': 0.011262014550016797, 'n_estimators': 775, 'learning_rate': 0.04676761758959851}. Best is trial 57 with value: 0.8851027071455352.\n",
      "Optimizing Hyperparameters:  30%|███       | 60/200 [28:14<58:48, 25.21s/it][I 2023-08-17 14:44:19,850] Trial 59 finished with value: 0.884924243616384 and parameters: {'max_depth': 219, 'subsample': 0.6761019727825385, 'colsample_bytree': 0.525967368870071, 'colsample_bylevel': 0.31864168769641493, 'min_child_weight': 21, 'reg_lambda': 0.09303702908225839, 'reg_alpha': 0.03501348610900276, 'n_estimators': 543, 'learning_rate': 0.059336606898023996}. Best is trial 57 with value: 0.8851027071455352.\n",
      "Optimizing Hyperparameters:  30%|███       | 61/200 [28:32<53:50, 23.24s/it][I 2023-08-17 14:44:38,667] Trial 60 finished with value: 0.88361240828791 and parameters: {'max_depth': 216, 'subsample': 0.6031048559669053, 'colsample_bytree': 0.5260541595441778, 'colsample_bylevel': 0.3192106936767969, 'min_child_weight': 21, 'reg_lambda': 0.10963002685764552, 'reg_alpha': 0.035238457614478726, 'n_estimators': 557, 'learning_rate': 0.060305576516826956}. Best is trial 57 with value: 0.8851027071455352.\n",
      "Optimizing Hyperparameters:  31%|███       | 62/200 [28:51<50:23, 21.91s/it][I 2023-08-17 14:44:53,914] Trial 61 finished with value: 0.8841734660271998 and parameters: {'max_depth': 165, 'subsample': 0.6861780917507829, 'colsample_bytree': 0.5811996275504543, 'colsample_bylevel': 0.3378347151573825, 'min_child_weight': 23, 'reg_lambda': 0.0944794611282768, 'reg_alpha': 0.022119053438974322, 'n_estimators': 464, 'learning_rate': 0.053699966640774685}. Best is trial 57 with value: 0.8851027071455352.\n",
      "Optimizing Hyperparameters:  32%|███▏      | 63/200 [29:06<45:28, 19.91s/it][I 2023-08-17 14:45:15,535] Trial 62 finished with value: 0.8838828249819224 and parameters: {'max_depth': 273, 'subsample': 0.7147537267142693, 'colsample_bytree': 0.6309622736612082, 'colsample_bylevel': 0.2928265705215602, 'min_child_weight': 18, 'reg_lambda': 0.22739114654997394, 'reg_alpha': 0.026997025270334072, 'n_estimators': 601, 'learning_rate': 0.04948286805389358}. Best is trial 57 with value: 0.8851027071455352.\n",
      "Optimizing Hyperparameters:  32%|███▏      | 64/200 [29:28<46:17, 20.43s/it][I 2023-08-17 14:45:33,638] Trial 63 finished with value: 0.8843194189348244 and parameters: {'max_depth': 130, 'subsample': 0.6712674776310839, 'colsample_bytree': 0.49795010848347954, 'colsample_bylevel': 0.26714787877610696, 'min_child_weight': 22, 'reg_lambda': 0.1429042264594446, 'reg_alpha': 0.016028529277888278, 'n_estimators': 661, 'learning_rate': 0.059201703254555454}. Best is trial 57 with value: 0.8851027071455352.\n",
      "Optimizing Hyperparameters:  32%|███▎      | 65/200 [29:46<44:23, 19.73s/it][I 2023-08-17 14:45:45,862] Trial 64 finished with value: 0.8830201618375415 and parameters: {'max_depth': 228, 'subsample': 0.8097740001344903, 'colsample_bytree': 0.5744473570748552, 'colsample_bylevel': 0.3955800980136856, 'min_child_weight': 25, 'reg_lambda': 0.18269789592676539, 'reg_alpha': 0.0202740706784771, 'n_estimators': 366, 'learning_rate': 0.0533112492003298}. Best is trial 57 with value: 0.8851027071455352.\n",
      "Optimizing Hyperparameters:  33%|███▎      | 66/200 [29:58<39:01, 17.48s/it][I 2023-08-17 14:46:03,612] Trial 65 finished with value: 0.8847098107395722 and parameters: {'max_depth': 180, 'subsample': 0.7550354675795057, 'colsample_bytree': 0.6628961794391837, 'colsample_bylevel': 0.4663805710021677, 'min_child_weight': 21, 'reg_lambda': 0.27074083869030086, 'reg_alpha': 0.013117165888422933, 'n_estimators': 527, 'learning_rate': 0.04710326541714068}. Best is trial 57 with value: 0.8851027071455352.\n",
      "Optimizing Hyperparameters:  34%|███▎      | 67/200 [30:16<38:55, 17.56s/it][I 2023-08-17 14:46:18,357] Trial 66 finished with value: 0.8839922921275571 and parameters: {'max_depth': 183, 'subsample': 0.7534700064294432, 'colsample_bytree': 0.4724024706875897, 'colsample_bylevel': 0.41519509908716823, 'min_child_weight': 21, 'reg_lambda': 0.3985435141877658, 'reg_alpha': 0.01258735817110729, 'n_estimators': 528, 'learning_rate': 0.061161880810931886}. Best is trial 57 with value: 0.8851027071455352.\n",
      "Optimizing Hyperparameters:  34%|███▍      | 68/200 [30:31<36:46, 16.72s/it][I 2023-08-17 14:46:33,954] Trial 67 finished with value: 0.8840514192057726 and parameters: {'max_depth': 296, 'subsample': 0.7131111251069285, 'colsample_bytree': 0.6610487515552048, 'colsample_bylevel': 0.48851815615252137, 'min_child_weight': 19, 'reg_lambda': 0.3055644723835638, 'reg_alpha': 0.012095449662846817, 'n_estimators': 480, 'learning_rate': 0.06493960716191481}. Best is trial 57 with value: 0.8851027071455352.\n",
      "Optimizing Hyperparameters:  34%|███▍      | 69/200 [30:46<35:45, 16.38s/it][I 2023-08-17 14:46:41,480] Trial 68 finished with value: 0.8749192162891501 and parameters: {'max_depth': 206, 'subsample': 0.6685822044373131, 'colsample_bytree': 0.5918811906603342, 'colsample_bylevel': 0.45891392011399657, 'min_child_weight': 17, 'reg_lambda': 0.37308109998921046, 'reg_alpha': 0.010234797159814804, 'n_estimators': 228, 'learning_rate': 0.047071901478688685}. Best is trial 57 with value: 0.8851027071455352.\n",
      "Optimizing Hyperparameters:  35%|███▌      | 70/200 [30:54<29:44, 13.72s/it][I 2023-08-17 14:47:02,376] Trial 69 finished with value: 0.884240249541192 and parameters: {'max_depth': 177, 'subsample': 0.7646678516808668, 'colsample_bytree': 0.5417644408073355, 'colsample_bylevel': 0.548153825842715, 'min_child_weight': 15, 'reg_lambda': 0.4846151821713591, 'reg_alpha': 0.015056894188793168, 'n_estimators': 620, 'learning_rate': 0.059157498855611945}. Best is trial 57 with value: 0.8851027071455352.\n",
      "Optimizing Hyperparameters:  36%|███▌      | 71/200 [31:15<34:07, 15.88s/it][I 2023-08-17 14:47:22,136] Trial 70 finished with value: 0.8839661791069445 and parameters: {'max_depth': 262, 'subsample': 0.812811902275012, 'colsample_bytree': 0.5224468604033936, 'colsample_bylevel': 0.35665332755281864, 'min_child_weight': 21, 'reg_lambda': 0.15440201323836036, 'reg_alpha': 0.012837828712880512, 'n_estimators': 574, 'learning_rate': 0.054501109295194985}. Best is trial 57 with value: 0.8851027071455352.\n",
      "Optimizing Hyperparameters:  36%|███▌      | 72/200 [31:35<36:21, 17.04s/it][I 2023-08-17 14:47:46,107] Trial 71 finished with value: 0.8843913540017062 and parameters: {'max_depth': 156, 'subsample': 0.8449838293425831, 'colsample_bytree': 0.6619163944026976, 'colsample_bylevel': 0.3187736676225061, 'min_child_weight': 23, 'reg_lambda': 0.26512454221193743, 'reg_alpha': 0.018717650507876278, 'n_estimators': 663, 'learning_rate': 0.048886257795666944}. Best is trial 57 with value: 0.8851027071455352.\n",
      "Optimizing Hyperparameters:  36%|███▋      | 73/200 [31:59<40:28, 19.12s/it][I 2023-08-17 14:48:12,844] Trial 72 finished with value: 0.8846900778221738 and parameters: {'max_depth': 152, 'subsample': 0.7388674088058452, 'colsample_bytree': 0.6257043894644735, 'colsample_bylevel': 0.2487293837346637, 'min_child_weight': 25, 'reg_lambda': 0.29305206399027456, 'reg_alpha': 0.015505997540415763, 'n_estimators': 768, 'learning_rate': 0.04265302676518959}. Best is trial 57 with value: 0.8851027071455352.\n",
      "Optimizing Hyperparameters:  37%|███▋      | 74/200 [32:25<44:57, 21.41s/it][I 2023-08-17 14:48:40,851] Trial 73 finished with value: 0.8844731223184852 and parameters: {'max_depth': 233, 'subsample': 0.7392948904179282, 'colsample_bytree': 0.5661387411623255, 'colsample_bylevel': 0.25355338781285525, 'min_child_weight': 22, 'reg_lambda': 0.3144633511358454, 'reg_alpha': 0.030108604139625975, 'n_estimators': 832, 'learning_rate': 0.04237767597279312}. Best is trial 57 with value: 0.8851027071455352.\n",
      "Optimizing Hyperparameters:  38%|███▊      | 75/200 [32:53<48:43, 23.38s/it][I 2023-08-17 14:48:57,666] Trial 74 finished with value: 0.8849814807228378 and parameters: {'max_depth': 139, 'subsample': 0.7063734867281456, 'colsample_bytree': 0.6004229601136168, 'colsample_bylevel': 0.37229293630333815, 'min_child_weight': 24, 'reg_lambda': 0.2901214434792627, 'reg_alpha': 0.015236302715493052, 'n_estimators': 516, 'learning_rate': 0.05069121022622267}. Best is trial 57 with value: 0.8851027071455352.\n",
      "Optimizing Hyperparameters:  38%|███▊      | 76/200 [33:10<44:15, 21.41s/it][I 2023-08-17 14:49:12,674] Trial 75 finished with value: 0.882847821056224 and parameters: {'max_depth': 200, 'subsample': 0.6275357611437673, 'colsample_bytree': 0.47527958427909156, 'colsample_bylevel': 0.3792343008435605, 'min_child_weight': 24, 'reg_lambda': 0.3577412596296128, 'reg_alpha': 0.015446350219811937, 'n_estimators': 504, 'learning_rate': 0.05240085987654044}. Best is trial 57 with value: 0.8851027071455352.\n",
      "Optimizing Hyperparameters:  38%|███▊      | 77/200 [33:25<39:57, 19.49s/it][I 2023-08-17 14:49:30,391] Trial 76 finished with value: 0.8841371141114498 and parameters: {'max_depth': 213, 'subsample': 0.5881106635969435, 'colsample_bytree': 0.6126268908726433, 'colsample_bylevel': 0.32739534779668333, 'min_child_weight': 20, 'reg_lambda': 0.12630677055791634, 'reg_alpha': 0.02168051976126901, 'n_estimators': 537, 'learning_rate': 0.0561582033156394}. Best is trial 57 with value: 0.8851027071455352.\n",
      "Optimizing Hyperparameters:  39%|███▉      | 78/200 [33:43<38:33, 18.96s/it][I 2023-08-17 14:49:44,901] Trial 77 finished with value: 0.8827202256805948 and parameters: {'max_depth': 144, 'subsample': 0.6824734829916043, 'colsample_bytree': 0.44856638426920126, 'colsample_bylevel': 0.3653606792313351, 'min_child_weight': 25, 'reg_lambda': 0.19601359556900025, 'reg_alpha': 0.016089902676986487, 'n_estimators': 471, 'learning_rate': 0.05121401593086356}. Best is trial 57 with value: 0.8851027071455352.\n",
      "Optimizing Hyperparameters:  40%|███▉      | 79/200 [33:57<35:32, 17.63s/it][I 2023-08-17 14:50:07,055] Trial 78 finished with value: 0.8836639450508568 and parameters: {'max_depth': 87, 'subsample': 0.6663575250728601, 'colsample_bytree': 0.5157491202223408, 'colsample_bylevel': 0.40837716677373936, 'min_child_weight': 11, 'reg_lambda': 0.23415967658520456, 'reg_alpha': 0.02424089366947642, 'n_estimators': 639, 'learning_rate': 0.04531759260825256}. Best is trial 57 with value: 0.8851027071455352.\n",
      "Optimizing Hyperparameters:  40%|████      | 80/200 [34:20<37:58, 18.98s/it][I 2023-08-17 14:50:23,923] Trial 79 finished with value: 0.8838973499764999 and parameters: {'max_depth': 113, 'subsample': 0.638654846325906, 'colsample_bytree': 0.566819376221822, 'colsample_bylevel': 0.23661425734291058, 'min_child_weight': 21, 'reg_lambda': 0.20418048582035536, 'reg_alpha': 0.01943879601772941, 'n_estimators': 521, 'learning_rate': 0.04244453162530364}. Best is trial 57 with value: 0.8851027071455352.\n",
      "Optimizing Hyperparameters:  40%|████      | 81/200 [34:36<36:23, 18.35s/it][I 2023-08-17 14:50:38,008] Trial 80 finished with value: 0.8848514390692924 and parameters: {'max_depth': 63, 'subsample': 0.7036979205802127, 'colsample_bytree': 0.6603093429892019, 'colsample_bylevel': 0.4415088138100343, 'min_child_weight': 19, 'reg_lambda': 0.2951524759361062, 'reg_alpha': 0.013136878759555624, 'n_estimators': 447, 'learning_rate': 0.05809019894071568}. Best is trial 57 with value: 0.8851027071455352.\n",
      "Optimizing Hyperparameters:  41%|████      | 82/200 [34:51<33:34, 17.07s/it][I 2023-08-17 14:50:54,460] Trial 81 finished with value: 0.8834661989806893 and parameters: {'max_depth': 37, 'subsample': 0.704880037677506, 'colsample_bytree': 0.669658306019113, 'colsample_bylevel': 0.43328412396493415, 'min_child_weight': 22, 'reg_lambda': 0.2868971958954201, 'reg_alpha': 0.013416387858140774, 'n_estimators': 445, 'learning_rate': 0.05812997813421739}. Best is trial 57 with value: 0.8851027071455352.\n",
      "Optimizing Hyperparameters:  42%|████▏     | 83/200 [35:07<32:55, 16.88s/it][I 2023-08-17 14:51:03,931] Trial 82 finished with value: 0.8819253953731766 and parameters: {'max_depth': 6, 'subsample': 0.7180082527288038, 'colsample_bytree': 0.7055527270483792, 'colsample_bylevel': 0.3479493983982723, 'min_child_weight': 19, 'reg_lambda': 0.3242390374492555, 'reg_alpha': 0.014671641630103741, 'n_estimators': 400, 'learning_rate': 0.06154204731315453}. Best is trial 57 with value: 0.8851027071455352.\n",
      "Optimizing Hyperparameters:  42%|████▏     | 84/200 [35:16<28:20, 14.66s/it][I 2023-08-17 14:51:22,806] Trial 83 finished with value: 0.8846680183545952 and parameters: {'max_depth': 177, 'subsample': 0.7651921664823602, 'colsample_bytree': 0.6124815424950589, 'colsample_bylevel': 0.2950008861256249, 'min_child_weight': 24, 'reg_lambda': 0.39159106592801524, 'reg_alpha': 0.012521335159541423, 'n_estimators': 557, 'learning_rate': 0.056450230424486096}. Best is trial 57 with value: 0.8851027071455352.\n",
      "Optimizing Hyperparameters:  42%|████▎     | 85/200 [35:35<30:31, 15.92s/it][I 2023-08-17 14:51:35,300] Trial 84 finished with value: 0.8837611825658597 and parameters: {'max_depth': 67, 'subsample': 0.7379415928590238, 'colsample_bytree': 0.537803943958507, 'colsample_bylevel': 0.3880587070075292, 'min_child_weight': 2, 'reg_lambda': 0.2763511722010283, 'reg_alpha': 0.018388525095205503, 'n_estimators': 375, 'learning_rate': 0.05534680244730653}. Best is trial 57 with value: 0.8851027071455352.\n",
      "Optimizing Hyperparameters:  43%|████▎     | 86/200 [35:48<28:18, 14.90s/it][I 2023-08-17 14:51:51,617] Trial 85 finished with value: 0.884422075983092 and parameters: {'max_depth': 192, 'subsample': 0.6551711959426978, 'colsample_bytree': 0.6516594051488535, 'colsample_bylevel': 0.44222144041316297, 'min_child_weight': 23, 'reg_lambda': 0.2260617086313368, 'reg_alpha': 0.015118290946573592, 'n_estimators': 495, 'learning_rate': 0.04985514100000191}. Best is trial 57 with value: 0.8851027071455352.\n",
      "Optimizing Hyperparameters:  44%|████▎     | 87/200 [36:04<28:51, 15.32s/it][I 2023-08-17 14:52:11,211] Trial 86 finished with value: 0.8843738537850937 and parameters: {'max_depth': 49, 'subsample': 0.6868117283730246, 'colsample_bytree': 0.634890119522797, 'colsample_bylevel': 0.4724800219864002, 'min_child_weight': 18, 'reg_lambda': 0.4435609887724846, 'reg_alpha': 0.020171251906840347, 'n_estimators': 586, 'learning_rate': 0.05873121178203534}. Best is trial 57 with value: 0.8851027071455352.\n",
      "Optimizing Hyperparameters:  44%|████▍     | 88/200 [36:24<31:21, 16.80s/it][I 2023-08-17 14:52:46,667] Trial 87 finished with value: 0.8732332372691299 and parameters: {'max_depth': 133, 'subsample': 0.788373798434671, 'colsample_bytree': 0.6844526773784305, 'colsample_bylevel': 0.5109528228661716, 'min_child_weight': 16, 'reg_lambda': 0.37122865442382263, 'reg_alpha': 0.02502082097033382, 'n_estimators': 436, 'learning_rate': 0.047113572707445955}. Best is trial 57 with value: 0.8851027071455352.\n",
      "Optimizing Hyperparameters:  44%|████▍     | 89/200 [36:59<41:04, 22.20s/it][I 2023-08-17 14:53:07,051] Trial 88 finished with value: 0.8849644906964088 and parameters: {'max_depth': 157, 'subsample': 0.6487379248955634, 'colsample_bytree': 0.5876033922733875, 'colsample_bylevel': 0.40918401731018283, 'min_child_weight': 20, 'reg_lambda': 0.25219086522908574, 'reg_alpha': 0.021676965375278835, 'n_estimators': 616, 'learning_rate': 0.051837784670048306}. Best is trial 57 with value: 0.8851027071455352.\n",
      "Optimizing Hyperparameters:  45%|████▌     | 90/200 [37:20<39:42, 21.66s/it][I 2023-08-17 14:53:27,431] Trial 89 finished with value: 0.8842996478138309 and parameters: {'max_depth': 94, 'subsample': 0.5578767059679244, 'colsample_bytree': 0.5757542027498073, 'colsample_bylevel': 0.4049759496693324, 'min_child_weight': 18, 'reg_lambda': 0.16977945170819397, 'reg_alpha': 0.022177004197264313, 'n_estimators': 621, 'learning_rate': 0.06474323039401376}. Best is trial 57 with value: 0.8851027071455352.\n",
      "Optimizing Hyperparameters:  46%|████▌     | 91/200 [37:40<38:38, 21.27s/it][I 2023-08-17 14:53:46,813] Trial 90 finished with value: 0.8847722765184828 and parameters: {'max_depth': 241, 'subsample': 0.642030693666397, 'colsample_bytree': 0.5925198549689248, 'colsample_bylevel': 0.37180568576447615, 'min_child_weight': 21, 'reg_lambda': 0.33881354373816175, 'reg_alpha': 0.029674351584694468, 'n_estimators': 555, 'learning_rate': 0.05174336352186559}. Best is trial 57 with value: 0.8851027071455352.\n",
      "Optimizing Hyperparameters:  46%|████▌     | 92/200 [37:59<37:16, 20.71s/it][I 2023-08-17 14:54:06,706] Trial 91 finished with value: 0.8846368747070656 and parameters: {'max_depth': 221, 'subsample': 0.6409196046193109, 'colsample_bytree': 0.5539657517930363, 'colsample_bylevel': 0.37459743365244264, 'min_child_weight': 21, 'reg_lambda': 0.2522123251490236, 'reg_alpha': 0.028981340831104038, 'n_estimators': 557, 'learning_rate': 0.054813752897469155}. Best is trial 57 with value: 0.8851027071455352.\n",
      "Optimizing Hyperparameters:  46%|████▋     | 93/200 [38:19<36:29, 20.46s/it][I 2023-08-17 14:54:23,165] Trial 92 finished with value: 0.8842370786300813 and parameters: {'max_depth': 242, 'subsample': 0.6109214196830359, 'colsample_bytree': 0.5947806600176273, 'colsample_bylevel': 0.35286384040575414, 'min_child_weight': 20, 'reg_lambda': 0.3259913670529611, 'reg_alpha': 0.03904436951051265, 'n_estimators': 509, 'learning_rate': 0.05208461739875354}. Best is trial 57 with value: 0.8851027071455352.\n",
      "Optimizing Hyperparameters:  47%|████▋     | 94/200 [38:36<34:01, 19.26s/it][I 2023-08-17 14:54:41,857] Trial 93 finished with value: 0.8846778713775094 and parameters: {'max_depth': 256, 'subsample': 0.6522403682306885, 'colsample_bytree': 0.5938332627154755, 'colsample_bylevel': 0.32195639409682425, 'min_child_weight': 22, 'reg_lambda': 0.34365212734263934, 'reg_alpha': 0.033958068624843345, 'n_estimators': 584, 'learning_rate': 0.05013753400428697}. Best is trial 57 with value: 0.8851027071455352.\n",
      "Optimizing Hyperparameters:  48%|████▊     | 95/200 [38:54<33:24, 19.09s/it][I 2023-08-17 14:54:58,919] Trial 94 finished with value: 0.8844498438187015 and parameters: {'max_depth': 203, 'subsample': 0.7034073656930239, 'colsample_bytree': 0.5271424812742866, 'colsample_bylevel': 0.42223524984734523, 'min_child_weight': 20, 'reg_lambda': 0.2253242315308495, 'reg_alpha': 0.025101181624136444, 'n_estimators': 546, 'learning_rate': 0.05748374736293351}. Best is trial 57 with value: 0.8851027071455352.\n",
      "Optimizing Hyperparameters:  48%|████▊     | 96/200 [39:11<32:02, 18.48s/it][I 2023-08-17 14:55:20,528] Trial 95 finished with value: 0.8845384214786095 and parameters: {'max_depth': 170, 'subsample': 0.582250054183057, 'colsample_bytree': 0.6581444960552315, 'colsample_bylevel': 0.4474232358261784, 'min_child_weight': 19, 'reg_lambda': 0.4554798182061798, 'reg_alpha': 0.01750834378221762, 'n_estimators': 653, 'learning_rate': 0.048458885794068124}. Best is trial 57 with value: 0.8851027071455352.\n",
      "Optimizing Hyperparameters:  48%|████▊     | 97/200 [39:33<33:20, 19.42s/it][I 2023-08-17 14:55:39,603] Trial 96 finished with value: 0.8853163587941034 and parameters: {'max_depth': 229, 'subsample': 0.6755094012846058, 'colsample_bytree': 0.6234229727538496, 'colsample_bylevel': 0.3899451992787978, 'min_child_weight': 23, 'reg_lambda': 0.26611437034797775, 'reg_alpha': 0.021258155306413146, 'n_estimators': 605, 'learning_rate': 0.052270198284924886}. Best is trial 96 with value: 0.8853163587941034.\n",
      "Optimizing Hyperparameters:  49%|████▉     | 98/200 [39:52<32:50, 19.32s/it][I 2023-08-17 14:56:01,315] Trial 97 finished with value: 0.8848268799109454 and parameters: {'max_depth': 231, 'subsample': 0.6741850979152791, 'colsample_bytree': 0.6190305834506469, 'colsample_bylevel': 0.39769831631015723, 'min_child_weight': 23, 'reg_lambda': 0.3940667899423511, 'reg_alpha': 0.021593094616417934, 'n_estimators': 691, 'learning_rate': 0.05263751003012901}. Best is trial 96 with value: 0.8853163587941034.\n",
      "Optimizing Hyperparameters:  50%|████▉     | 99/200 [40:14<33:43, 20.04s/it][I 2023-08-17 14:56:23,472] Trial 98 finished with value: 0.8849635366494057 and parameters: {'max_depth': 224, 'subsample': 0.6756594115381124, 'colsample_bytree': 0.5504082096035581, 'colsample_bylevel': 0.3977705685700533, 'min_child_weight': 23, 'reg_lambda': 0.5603933046796331, 'reg_alpha': 0.021129465773209417, 'n_estimators': 675, 'learning_rate': 0.05245740968857841}. Best is trial 96 with value: 0.8853163587941034.\n",
      "Optimizing Hyperparameters:  50%|█████     | 100/200 [40:36<34:27, 20.67s/it][I 2023-08-17 14:56:41,882] Trial 99 finished with value: 0.8844897075488178 and parameters: {'max_depth': 231, 'subsample': 0.6743217627013638, 'colsample_bytree': 0.48511589695559987, 'colsample_bylevel': 0.3894394270486628, 'min_child_weight': 24, 'reg_lambda': 0.5059671555151433, 'reg_alpha': 0.02127592484467217, 'n_estimators': 690, 'learning_rate': 0.05402893157153295}. Best is trial 96 with value: 0.8853163587941034.\n",
      "Optimizing Hyperparameters:  50%|█████     | 101/200 [40:54<32:59, 19.99s/it][I 2023-08-17 14:56:58,046] Trial 100 finished with value: 0.8841238871488492 and parameters: {'max_depth': 266, 'subsample': 0.6944317685328824, 'colsample_bytree': 0.49877707184065456, 'colsample_bylevel': 0.33974559689779615, 'min_child_weight': 23, 'reg_lambda': 0.4630703195512148, 'reg_alpha': 0.018045452446611033, 'n_estimators': 613, 'learning_rate': 0.06194122687545796}. Best is trial 96 with value: 0.8853163587941034.\n",
      "Optimizing Hyperparameters:  51%|█████     | 102/200 [41:11<30:46, 18.84s/it][I 2023-08-17 14:57:20,126] Trial 101 finished with value: 0.8848089470489516 and parameters: {'max_depth': 246, 'subsample': 0.6259585278761626, 'colsample_bytree': 0.5508720069141488, 'colsample_bylevel': 0.41295847723606627, 'min_child_weight': 22, 'reg_lambda': 0.37548787634564473, 'reg_alpha': 0.028029159665665767, 'n_estimators': 682, 'learning_rate': 0.05255175216959978}. Best is trial 96 with value: 0.8853163587941034.\n",
      "Optimizing Hyperparameters:  52%|█████▏    | 103/200 [41:33<32:02, 19.82s/it][I 2023-08-17 14:57:41,828] Trial 102 finished with value: 0.8842530524804524 and parameters: {'max_depth': 307, 'subsample': 0.6295346267579858, 'colsample_bytree': 0.5496632585088838, 'colsample_bylevel': 0.40429786448018257, 'min_child_weight': 22, 'reg_lambda': 0.6008482687654779, 'reg_alpha': 0.022174242865539238, 'n_estimators': 675, 'learning_rate': 0.05603894454121703}. Best is trial 96 with value: 0.8853163587941034.\n",
      "Optimizing Hyperparameters:  52%|█████▏    | 104/200 [41:54<32:36, 20.38s/it][I 2023-08-17 14:58:04,225] Trial 103 finished with value: 0.885045427360847 and parameters: {'max_depth': 254, 'subsample': 0.66626405630301, 'colsample_bytree': 0.5720943948441688, 'colsample_bylevel': 0.4243853539719599, 'min_child_weight': 22, 'reg_lambda': 0.37314441468968496, 'reg_alpha': 0.01995131551261462, 'n_estimators': 699, 'learning_rate': 0.05292043194175702}. Best is trial 96 with value: 0.8853163587941034.\n",
      "Optimizing Hyperparameters:  52%|█████▎    | 105/200 [42:17<33:13, 20.99s/it][I 2023-08-17 14:58:26,322] Trial 104 finished with value: 0.8846749644788476 and parameters: {'max_depth': 293, 'subsample': 0.7201264389308093, 'colsample_bytree': 0.6228529825784034, 'colsample_bylevel': 0.3077750484769443, 'min_child_weight': 24, 'reg_lambda': 0.40894914655365516, 'reg_alpha': 0.016439795996282678, 'n_estimators': 701, 'learning_rate': 0.05053672655735248}. Best is trial 96 with value: 0.8853163587941034.\n",
      "Optimizing Hyperparameters:  53%|█████▎    | 106/200 [42:39<33:24, 21.32s/it][I 2023-08-17 15:34:58,815] Trial 105 finished with value: 0.8846513033033696 and parameters: {'max_depth': 227, 'subsample': 0.6710052114075554, 'colsample_bytree': 0.5722625652730928, 'colsample_bylevel': 0.42471540731515595, 'min_child_weight': 23, 'reg_lambda': 0.581024243083098, 'reg_alpha': 0.01944482539818048, 'n_estimators': 641, 'learning_rate': 0.06001686632415889}. Best is trial 96 with value: 0.8853163587941034.\n",
      "Optimizing Hyperparameters:  54%|█████▎    | 107/200 [1:19:11<17:22:38, 672.68s/it][I 2023-08-17 15:38:25,219] Trial 106 finished with value: 0.8851489103025585 and parameters: {'max_depth': 287, 'subsample': 0.696022317713476, 'colsample_bytree': 0.5232584607690738, 'colsample_bylevel': 0.3616600368712299, 'min_child_weight': 26, 'reg_lambda': 0.4063233906825091, 'reg_alpha': 0.023202679908797298, 'n_estimators': 745, 'learning_rate': 0.05768618418949349}. Best is trial 96 with value: 0.8853163587941034.\n",
      "Optimizing Hyperparameters:  54%|█████▍    | 108/200 [1:22:38<13:36:56, 532.79s/it][I 2023-08-17 15:38:49,315] Trial 107 finished with value: 0.8850176159640857 and parameters: {'max_depth': 286, 'subsample': 0.7069711264285979, 'colsample_bytree': 0.5094668411361919, 'colsample_bylevel': 0.33614086186170483, 'min_child_weight': 26, 'reg_lambda': 0.5578749967502162, 'reg_alpha': 0.025547204046426256, 'n_estimators': 744, 'learning_rate': 0.0577321754701994}. Best is trial 96 with value: 0.8853163587941034.\n",
      "Optimizing Hyperparameters:  55%|█████▍    | 109/200 [1:23:02<9:36:36, 380.18s/it] [I 2023-08-17 15:39:14,789] Trial 108 finished with value: 0.8842973071116473 and parameters: {'max_depth': 318, 'subsample': 0.7202617069787868, 'colsample_bytree': 0.5358467460999675, 'colsample_bylevel': 0.332114324774349, 'min_child_weight': 26, 'reg_lambda': 0.5538762813454712, 'reg_alpha': 0.023755155482227584, 'n_estimators': 800, 'learning_rate': 0.05503578405702278}. Best is trial 96 with value: 0.8853163587941034.\n",
      "Optimizing Hyperparameters:  55%|█████▌    | 110/200 [1:23:27<6:50:39, 273.77s/it][I 2023-08-17 15:39:37,227] Trial 109 finished with value: 0.8848759613329301 and parameters: {'max_depth': 289, 'subsample': 0.6877410401870112, 'colsample_bytree': 0.5116460595021448, 'colsample_bylevel': 0.35982493902686863, 'min_child_weight': 25, 'reg_lambda': 0.47176917678484964, 'reg_alpha': 0.02655596195562992, 'n_estimators': 716, 'learning_rate': 0.06257358347339907}. Best is trial 96 with value: 0.8853163587941034.\n",
      "Optimizing Hyperparameters:  56%|█████▌    | 111/200 [1:23:50<4:54:14, 198.37s/it][I 2023-08-17 15:39:57,373] Trial 110 finished with value: 0.88499951060632 and parameters: {'max_depth': 282, 'subsample': 0.6606688949126892, 'colsample_bytree': 0.48709331804916606, 'colsample_bylevel': 0.2791145656455787, 'min_child_weight': 29, 'reg_lambda': 0.735978192843563, 'reg_alpha': 0.03298600171271504, 'n_estimators': 752, 'learning_rate': 0.060564927484055925}. Best is trial 96 with value: 0.8853163587941034.\n",
      "Optimizing Hyperparameters:  56%|█████▌    | 112/200 [1:24:10<3:32:31, 144.90s/it][I 2023-08-17 15:40:17,671] Trial 111 finished with value: 0.8845459327458799 and parameters: {'max_depth': 283, 'subsample': 0.6578776754402114, 'colsample_bytree': 0.4878479218408491, 'colsample_bylevel': 0.2866565410841303, 'min_child_weight': 28, 'reg_lambda': 0.8287311648902875, 'reg_alpha': 0.020337874654647557, 'n_estimators': 749, 'learning_rate': 0.059297040710058556}. Best is trial 96 with value: 0.8853163587941034.\n",
      "Optimizing Hyperparameters:  56%|█████▋    | 113/200 [1:24:30<2:35:54, 107.52s/it][I 2023-08-17 15:40:37,505] Trial 112 finished with value: 0.8846690824320751 and parameters: {'max_depth': 305, 'subsample': 0.6559579710018145, 'colsample_bytree': 0.4593669367291573, 'colsample_bylevel': 0.30811143721102463, 'min_child_weight': 29, 'reg_lambda': 0.5461820576246533, 'reg_alpha': 0.030901736758250035, 'n_estimators': 740, 'learning_rate': 0.05621757858509628}. Best is trial 96 with value: 0.8853163587941034.\n",
      "Optimizing Hyperparameters:  57%|█████▋    | 114/200 [1:24:50<1:56:24, 81.21s/it] [I 2023-08-17 15:41:00,175] Trial 113 finished with value: 0.8848419344086078 and parameters: {'max_depth': 344, 'subsample': 0.7010890749565756, 'colsample_bytree': 0.5167780133765273, 'colsample_bylevel': 0.3432211474401858, 'min_child_weight': 26, 'reg_lambda': 0.6898027147083325, 'reg_alpha': 0.023930408880687124, 'n_estimators': 723, 'learning_rate': 0.060366112236845466}. Best is trial 96 with value: 0.8853163587941034.\n",
      "Optimizing Hyperparameters:  57%|█████▊    | 115/200 [1:25:13<1:30:10, 63.65s/it][I 2023-08-17 15:41:25,832] Trial 114 finished with value: 0.884304540957531 and parameters: {'max_depth': 275, 'subsample': 0.6059680548090374, 'colsample_bytree': 0.5636333259178422, 'colsample_bylevel': 0.2833349513955222, 'min_child_weight': 29, 'reg_lambda': 0.42988630241776143, 'reg_alpha': 0.047175440363568674, 'n_estimators': 773, 'learning_rate': 0.06638736833549516}. Best is trial 96 with value: 0.8853163587941034.\n",
      "Optimizing Hyperparameters:  58%|█████▊    | 116/200 [1:25:38<1:13:09, 52.25s/it][I 2023-08-17 15:41:50,269] Trial 115 finished with value: 0.8845694789305997 and parameters: {'max_depth': 264, 'subsample': 0.7246522057894866, 'colsample_bytree': 0.5256864510131823, 'colsample_bylevel': 0.3803896402608331, 'min_child_weight': 27, 'reg_lambda': 0.6880875536838826, 'reg_alpha': 0.026347023077077255, 'n_estimators': 791, 'learning_rate': 0.04849145982082191}. Best is trial 96 with value: 0.8853163587941034.\n",
      "Optimizing Hyperparameters:  58%|█████▊    | 117/200 [1:26:03<1:00:44, 43.91s/it][I 2023-08-17 15:42:07,156] Trial 116 finished with value: 0.8842093574009526 and parameters: {'max_depth': 250, 'subsample': 0.6851127940673508, 'colsample_bytree': 0.44745258209185296, 'colsample_bylevel': 0.32176626569878336, 'min_child_weight': 25, 'reg_lambda': 0.5065726475623017, 'reg_alpha': 0.01854967340350412, 'n_estimators': 627, 'learning_rate': 0.054001404144764203}. Best is trial 96 with value: 0.8853163587941034.\n",
      "Optimizing Hyperparameters:  59%|█████▉    | 118/200 [1:26:20<48:55, 35.80s/it]  [I 2023-08-17 15:42:25,498] Trial 117 finished with value: 0.8849540403708094 and parameters: {'max_depth': 312, 'subsample': 0.7459764740233545, 'colsample_bytree': 0.5007267921860126, 'colsample_bylevel': 0.26324885332353914, 'min_child_weight': 26, 'reg_lambda': 0.6404915260192668, 'reg_alpha': 0.023124328870302132, 'n_estimators': 596, 'learning_rate': 0.05723481313165492}. Best is trial 96 with value: 0.8853163587941034.\n",
      "Optimizing Hyperparameters:  60%|█████▉    | 119/200 [1:26:38<41:15, 30.56s/it][I 2023-08-17 15:42:41,151] Trial 118 finished with value: 0.8839805430673339 and parameters: {'max_depth': 322, 'subsample': 0.745497748350699, 'colsample_bytree': 0.47826589868453173, 'colsample_bylevel': 0.2669226499738527, 'min_child_weight': 26, 'reg_lambda': 0.7515423688229479, 'reg_alpha': 0.016152540345913256, 'n_estimators': 604, 'learning_rate': 0.050860428914822745}. Best is trial 96 with value: 0.8853163587941034.\n",
      "Optimizing Hyperparameters:  60%|██████    | 120/200 [1:26:54<34:47, 26.09s/it][I 2023-08-17 15:43:02,017] Trial 119 finished with value: 0.884275193824839 and parameters: {'max_depth': 344, 'subsample': 0.772071947940612, 'colsample_bytree': 0.5777388026598527, 'colsample_bylevel': 0.35494503814452893, 'min_child_weight': 27, 'reg_lambda': 0.5464845032205085, 'reg_alpha': 0.017483789650642553, 'n_estimators': 672, 'learning_rate': 0.0570398871304768}. Best is trial 96 with value: 0.8853163587941034.\n",
      "Optimizing Hyperparameters:  60%|██████    | 121/200 [1:27:15<32:17, 24.52s/it][I 2023-08-17 15:43:19,005] Trial 120 finished with value: 0.8833848277529934 and parameters: {'max_depth': 288, 'subsample': 0.7492393602968964, 'colsample_bytree': 0.41887646301626386, 'colsample_bylevel': 0.23112384044108386, 'min_child_weight': 30, 'reg_lambda': 0.6408808936414114, 'reg_alpha': 0.02261629460967011, 'n_estimators': 649, 'learning_rate': 0.04516482253550791}. Best is trial 96 with value: 0.8853163587941034.\n",
      "Optimizing Hyperparameters:  61%|██████    | 122/200 [1:27:32<28:56, 22.26s/it][I 2023-08-17 15:43:42,346] Trial 121 finished with value: 0.8842826258051221 and parameters: {'max_depth': 315, 'subsample': 0.7143243962164966, 'colsample_bytree': 0.505342534133258, 'colsample_bylevel': 0.3013235016397278, 'min_child_weight': 24, 'reg_lambda': 0.5909960122656674, 'reg_alpha': 0.033166453746582406, 'n_estimators': 583, 'learning_rate': 0.06291775540838206}. Best is trial 96 with value: 0.8853163587941034.\n",
      "Optimizing Hyperparameters:  62%|██████▏   | 123/200 [1:27:55<28:59, 22.59s/it][I 2023-08-17 15:44:07,813] Trial 122 finished with value: 0.8849813897195237 and parameters: {'max_depth': 217, 'subsample': 0.6649859686203712, 'colsample_bytree': 0.5466129594684828, 'colsample_bylevel': 0.3384827924983149, 'min_child_weight': 28, 'reg_lambda': 0.9034180985394679, 'reg_alpha': 0.02032046363154671, 'n_estimators': 707, 'learning_rate': 0.05461426957941785}. Best is trial 96 with value: 0.8853163587941034.\n",
      "Optimizing Hyperparameters:  62%|██████▏   | 124/200 [1:28:20<29:42, 23.45s/it][I 2023-08-17 15:44:33,557] Trial 123 finished with value: 0.8847702964925337 and parameters: {'max_depth': 272, 'subsample': 0.6415938974463335, 'colsample_bytree': 0.546972963028782, 'colsample_bylevel': 0.36666365342455776, 'min_child_weight': 28, 'reg_lambda': 0.7371440078742082, 'reg_alpha': 0.01957073627530979, 'n_estimators': 760, 'learning_rate': 0.054926431409306226}. Best is trial 96 with value: 0.8853163587941034.\n",
      "Optimizing Hyperparameters:  62%|██████▎   | 125/200 [1:28:46<30:10, 24.14s/it][I 2023-08-17 15:44:58,692] Trial 124 finished with value: 0.8845855072074569 and parameters: {'max_depth': 281, 'subsample': 0.7303987998836218, 'colsample_bytree': 0.6028954344937247, 'colsample_bylevel': 0.3414804238389521, 'min_child_weight': 29, 'reg_lambda': 0.9067242276786942, 'reg_alpha': 0.024855768294719294, 'n_estimators': 704, 'learning_rate': 0.05752013799008773}. Best is trial 96 with value: 0.8853163587941034.\n",
      "Optimizing Hyperparameters:  63%|██████▎   | 126/200 [1:29:11<30:08, 24.44s/it][I 2023-08-17 15:45:22,838] Trial 125 finished with value: 0.8848108838043127 and parameters: {'max_depth': 255, 'subsample': 0.7044423383037952, 'colsample_bytree': 0.4956961598110165, 'colsample_bylevel': 0.2821980418577411, 'min_child_weight': 27, 'reg_lambda': 0.9794037389050059, 'reg_alpha': 0.014634103053005743, 'n_estimators': 813, 'learning_rate': 0.05289546253852692}. Best is trial 96 with value: 0.8853163587941034.\n",
      "Optimizing Hyperparameters:  64%|██████▎   | 127/200 [1:29:35<29:37, 24.35s/it][I 2023-08-17 15:45:47,272] Trial 126 finished with value: 0.8845304252674647 and parameters: {'max_depth': 210, 'subsample': 0.6625887249036233, 'colsample_bytree': 0.5793962783668131, 'colsample_bylevel': 0.26247261142260103, 'min_child_weight': 26, 'reg_lambda': 0.6459595823770266, 'reg_alpha': 0.027623866838732268, 'n_estimators': 748, 'learning_rate': 0.04973367329234296}. Best is trial 96 with value: 0.8853163587941034.\n",
      "Optimizing Hyperparameters:  64%|██████▍   | 128/200 [1:30:00<29:14, 24.37s/it][I 2023-08-17 15:46:17,879] Trial 127 finished with value: 0.884606744186196 and parameters: {'max_depth': 191, 'subsample': 0.6250432321438992, 'colsample_bytree': 0.5469958909982814, 'colsample_bylevel': 0.3855144306581404, 'min_child_weight': 25, 'reg_lambda': 0.7867804815260148, 'reg_alpha': 0.020842784889512935, 'n_estimators': 720, 'learning_rate': 0.048033508683048995}. Best is trial 96 with value: 0.8853163587941034.\n",
      "Optimizing Hyperparameters:  64%|██████▍   | 129/200 [1:30:30<31:03, 26.24s/it][I 2023-08-17 15:46:38,499] Trial 128 finished with value: 0.8838332948916846 and parameters: {'max_depth': 331, 'subsample': 0.6899120490644938, 'colsample_bytree': 0.43836587445488956, 'colsample_bylevel': 0.32826846853277875, 'min_child_weight': 28, 'reg_lambda': 0.6859697000456301, 'reg_alpha': 0.017747206668497686, 'n_estimators': 656, 'learning_rate': 0.05105307684322441}. Best is trial 96 with value: 0.8853163587941034.\n",
      "Optimizing Hyperparameters:  65%|██████▌   | 130/200 [1:30:51<28:39, 24.56s/it][I 2023-08-17 15:46:54,939] Trial 129 finished with value: 0.8837602042747763 and parameters: {'max_depth': 362, 'subsample': 0.7725121229436548, 'colsample_bytree': 0.4587324180167599, 'colsample_bylevel': 0.35505030570585955, 'min_child_weight': 26, 'reg_lambda': 0.4795431179766355, 'reg_alpha': 0.023352650923849683, 'n_estimators': 600, 'learning_rate': 0.055383036131336966}. Best is trial 96 with value: 0.8853163587941034.\n",
      "Optimizing Hyperparameters:  66%|██████▌   | 131/200 [1:31:07<25:26, 22.12s/it][I 2023-08-17 15:47:14,881] Trial 130 finished with value: 0.8845605755402816 and parameters: {'max_depth': 303, 'subsample': 0.7439719468971469, 'colsample_bytree': 0.5640153948909339, 'colsample_bylevel': 0.3050126703911573, 'min_child_weight': 25, 'reg_lambda': 0.4384829378252035, 'reg_alpha': 0.021007139180348716, 'n_estimators': 627, 'learning_rate': 0.06124564989629419}. Best is trial 96 with value: 0.8853163587941034.\n",
      "Optimizing Hyperparameters:  66%|██████▌   | 132/200 [1:31:27<24:19, 21.47s/it][I 2023-08-17 15:47:40,648] Trial 131 finished with value: 0.8843805881597524 and parameters: {'max_depth': 223, 'subsample': 0.6758572842491728, 'colsample_bytree': 0.5309696885435806, 'colsample_bylevel': 0.31693441982270604, 'min_child_weight': 22, 'reg_lambda': 0.3159235661240182, 'reg_alpha': 0.03170887305557105, 'n_estimators': 739, 'learning_rate': 0.05862126229230811}. Best is trial 96 with value: 0.8853163587941034.\n",
      "Optimizing Hyperparameters:  66%|██████▋   | 133/200 [1:31:53<25:24, 22.76s/it][I 2023-08-17 15:48:05,954] Trial 132 finished with value: 0.8844077578002651 and parameters: {'max_depth': 216, 'subsample': 0.663188068315234, 'colsample_bytree': 0.5878230657320089, 'colsample_bylevel': 0.37406312272353365, 'min_child_weight': 24, 'reg_lambda': 0.3659007178872318, 'reg_alpha': 0.028971661318079694, 'n_estimators': 782, 'learning_rate': 0.05335478463809883}. Best is trial 96 with value: 0.8853163587941034.\n",
      "Optimizing Hyperparameters:  67%|██████▋   | 134/200 [1:32:18<25:52, 23.52s/it][I 2023-08-17 15:48:23,778] Trial 133 finished with value: 0.8849440567044845 and parameters: {'max_depth': 162, 'subsample': 0.7012282746000933, 'colsample_bytree': 0.514068608743556, 'colsample_bylevel': 0.2971362029646467, 'min_child_weight': 23, 'reg_lambda': 0.6169635563547907, 'reg_alpha': 0.03520417262990401, 'n_estimators': 562, 'learning_rate': 0.05956687386578517}. Best is trial 96 with value: 0.8853163587941034.\n",
      "Optimizing Hyperparameters:  68%|██████▊   | 135/200 [1:32:36<23:37, 21.81s/it][I 2023-08-17 15:48:43,661] Trial 134 finished with value: 0.8845593783721785 and parameters: {'max_depth': 164, 'subsample': 0.7128874722919205, 'colsample_bytree': 0.5047584432590694, 'colsample_bylevel': 0.28922752679285624, 'min_child_weight': 23, 'reg_lambda': 0.6202941198503933, 'reg_alpha': 0.025628387205528316, 'n_estimators': 576, 'learning_rate': 0.05646869865745837}. Best is trial 96 with value: 0.8853163587941034.\n",
      "Optimizing Hyperparameters:  68%|██████▊   | 136/200 [1:32:56<22:39, 21.23s/it][I 2023-08-17 15:49:04,301] Trial 135 finished with value: 0.8845856357589122 and parameters: {'max_depth': 121, 'subsample': 0.7306088292762325, 'colsample_bytree': 0.5368966639650269, 'colsample_bylevel': 0.338116305233783, 'min_child_weight': 27, 'reg_lambda': 0.8713209264776135, 'reg_alpha': 0.016396456629983933, 'n_estimators': 603, 'learning_rate': 0.05301066704628125}. Best is trial 96 with value: 0.8853163587941034.\n",
      "Optimizing Hyperparameters:  68%|██████▊   | 137/200 [1:33:17<22:06, 21.06s/it][I 2023-08-17 15:49:23,676] Trial 136 finished with value: 0.8839562187707173 and parameters: {'max_depth': 237, 'subsample': 0.6948364462653431, 'colsample_bytree': 0.4868370518988573, 'colsample_bylevel': 0.253229094448, 'min_child_weight': 24, 'reg_lambda': 0.5319099528712914, 'reg_alpha': 0.03635938159283364, 'n_estimators': 673, 'learning_rate': 0.05778607185000174}. Best is trial 96 with value: 0.8853163587941034.\n",
      "Optimizing Hyperparameters:  69%|██████▉   | 138/200 [1:33:36<21:14, 20.55s/it][I 2023-08-17 16:03:51,010] Trial 137 finished with value: 0.8848564012637719 and parameters: {'max_depth': 205, 'subsample': 0.6490432216808039, 'colsample_bytree': 0.5153730734234642, 'colsample_bylevel': 0.3966721841914061, 'min_child_weight': 29, 'reg_lambda': 0.7418900386077856, 'reg_alpha': 0.02008426690878808, 'n_estimators': 641, 'learning_rate': 0.060235129655311914}. Best is trial 96 with value: 0.8853163587941034.\n",
      "Optimizing Hyperparameters:  70%|██████▉   | 139/200 [1:48:04<4:39:09, 274.59s/it][I 2023-08-17 16:04:26,482] Trial 138 finished with value: 0.8847466994063714 and parameters: {'max_depth': 268, 'subsample': 0.6206293064842345, 'colsample_bytree': 0.6064697308389821, 'colsample_bylevel': 0.41623171062494685, 'min_child_weight': 20, 'reg_lambda': 0.5893428270169284, 'reg_alpha': 0.018770503207606003, 'n_estimators': 844, 'learning_rate': 0.04594372573950026}. Best is trial 96 with value: 0.8853163587941034.\n",
      "Optimizing Hyperparameters:  70%|███████   | 140/200 [1:48:39<3:22:51, 202.85s/it][I 2023-08-17 16:04:51,303] Trial 139 finished with value: 0.8836505025478438 and parameters: {'max_depth': 161, 'subsample': 0.5883598391273978, 'colsample_bytree': 0.5779468074808998, 'colsample_bylevel': 0.26661107358290936, 'min_child_weight': 22, 'reg_lambda': 0.4027734827685653, 'reg_alpha': 0.022753945718861024, 'n_estimators': 704, 'learning_rate': 0.06404810172595031}. Best is trial 96 with value: 0.8853163587941034.\n",
      "Optimizing Hyperparameters:  70%|███████   | 141/200 [1:49:04<2:26:57, 149.44s/it][I 2023-08-17 16:05:07,651] Trial 140 finished with value: 0.8839417721603966 and parameters: {'max_depth': 173, 'subsample': 0.758528345187451, 'colsample_bytree': 0.46940121067320145, 'colsample_bylevel': 0.22481973970234467, 'min_child_weight': 23, 'reg_lambda': 0.26841115025181256, 'reg_alpha': 0.013894780638252379, 'n_estimators': 566, 'learning_rate': 0.054976432087253606}. Best is trial 96 with value: 0.8853163587941034.\n",
      "Optimizing Hyperparameters:  71%|███████   | 142/200 [1:49:20<1:45:52, 109.52s/it][I 2023-08-17 16:05:27,102] Trial 141 finished with value: 0.8850306755249779 and parameters: {'max_depth': 136, 'subsample': 0.671849338380079, 'colsample_bytree': 0.5593814771015382, 'colsample_bylevel': 0.31570709737395475, 'min_child_weight': 21, 'reg_lambda': 0.30467821298033154, 'reg_alpha': 0.0311003548652781, 'n_estimators': 542, 'learning_rate': 0.05882881717118425}. Best is trial 96 with value: 0.8853163587941034.\n",
      "Optimizing Hyperparameters:  72%|███████▏  | 143/200 [1:49:40<1:18:22, 82.49s/it] [I 2023-08-17 16:05:43,441] Trial 142 finished with value: 0.884586258743489 and parameters: {'max_depth': 143, 'subsample': 0.6810538711165893, 'colsample_bytree': 0.5600591909637397, 'colsample_bylevel': 0.3035527748426132, 'min_child_weight': 21, 'reg_lambda': 0.33859206013044485, 'reg_alpha': 0.0391334592272041, 'n_estimators': 488, 'learning_rate': 0.0518185891306633}. Best is trial 96 with value: 0.8853163587941034.\n",
      "Optimizing Hyperparameters:  72%|███████▏  | 144/200 [1:49:56<58:28, 62.65s/it]  [I 2023-08-17 16:06:02,266] Trial 143 finished with value: 0.8847255769912983 and parameters: {'max_depth': 117, 'subsample': 0.7082151457354464, 'colsample_bytree': 0.63369626944094, 'colsample_bylevel': 0.3671024684579292, 'min_child_weight': 20, 'reg_lambda': 0.29204903980050645, 'reg_alpha': 0.03164794533526734, 'n_estimators': 527, 'learning_rate': 0.04950251274307555}. Best is trial 96 with value: 0.8853163587941034.\n",
      "Optimizing Hyperparameters:  72%|███████▎  | 145/200 [1:50:15<45:22, 49.50s/it][I 2023-08-17 16:06:21,505] Trial 144 finished with value: 0.8850068236983522 and parameters: {'max_depth': 139, 'subsample': 0.6480312564342529, 'colsample_bytree': 0.6029883907123549, 'colsample_bylevel': 0.33060653153878616, 'min_child_weight': 21, 'reg_lambda': 0.31027352337059483, 'reg_alpha': 0.02853180773528703, 'n_estimators': 589, 'learning_rate': 0.05833963066572492}. Best is trial 96 with value: 0.8853163587941034.\n",
      "Optimizing Hyperparameters:  73%|███████▎  | 146/200 [1:50:34<36:22, 40.42s/it][I 2023-08-17 16:06:40,719] Trial 145 finished with value: 0.8851984526950307 and parameters: {'max_depth': 105, 'subsample': 0.640146245314084, 'colsample_bytree': 0.5997686138529321, 'colsample_bylevel': 0.34176489498062784, 'min_child_weight': 21, 'reg_lambda': 0.25117780087488456, 'reg_alpha': 0.027204970610943645, 'n_estimators': 588, 'learning_rate': 0.054177437448519696}. Best is trial 96 with value: 0.8853163587941034.\n",
      "Optimizing Hyperparameters:  74%|███████▎  | 147/200 [1:50:53<30:05, 34.06s/it][I 2023-08-17 16:06:46,282] Trial 146 finished with value: 0.8710592357923886 and parameters: {'max_depth': 129, 'subsample': 0.6529817664670773, 'colsample_bytree': 0.6144640876677482, 'colsample_bylevel': 0.33990387851738463, 'min_child_weight': 21, 'reg_lambda': 0.2377138706483069, 'reg_alpha': 0.028141970712051965, 'n_estimators': 169, 'learning_rate': 0.054400865831819856}. Best is trial 96 with value: 0.8853163587941034.\n",
      "Optimizing Hyperparameters:  74%|███████▍  | 148/200 [1:50:59<22:06, 25.51s/it][I 2023-08-17 16:07:11,493] Trial 147 finished with value: 0.8830953970053591 and parameters: {'max_depth': 107, 'subsample': 0.6331558078385331, 'colsample_bytree': 0.5965869942130093, 'colsample_bylevel': 0.3919156329244876, 'min_child_weight': 6, 'reg_lambda': 0.30452776012199995, 'reg_alpha': 0.025157842472877695, 'n_estimators': 725, 'learning_rate': 0.051172327062866896}. Best is trial 96 with value: 0.8853163587941034.\n",
      "Optimizing Hyperparameters:  74%|███████▍  | 149/200 [1:51:24<21:36, 25.42s/it][I 2023-08-17 16:07:32,407] Trial 148 finished with value: 0.8851901531215822 and parameters: {'max_depth': 134, 'subsample': 0.6681552522741429, 'colsample_bytree': 0.6460798734527222, 'colsample_bylevel': 0.35869680072820803, 'min_child_weight': 22, 'reg_lambda': 0.2611964435945116, 'reg_alpha': 0.026636335607819625, 'n_estimators': 621, 'learning_rate': 0.04870661801422195}. Best is trial 96 with value: 0.8853163587941034.\n",
      "Optimizing Hyperparameters:  75%|███████▌  | 150/200 [1:51:45<20:03, 24.07s/it][I 2023-08-17 16:07:53,094] Trial 149 finished with value: 0.8838163957523557 and parameters: {'max_depth': 136, 'subsample': 0.5969774142324719, 'colsample_bytree': 0.6295930173586204, 'colsample_bylevel': 0.3287367798580617, 'min_child_weight': 20, 'reg_lambda': 0.25807030035029777, 'reg_alpha': 0.029250087894961183, 'n_estimators': 539, 'learning_rate': 0.04757365219645765}. Best is trial 96 with value: 0.8853163587941034.\n",
      "Optimizing Hyperparameters:  76%|███████▌  | 151/200 [1:52:06<18:49, 23.05s/it][I 2023-08-17 16:08:16,962] Trial 150 finished with value: 0.8843000521223334 and parameters: {'max_depth': 104, 'subsample': 0.6169099015883212, 'colsample_bytree': 0.6399522392488709, 'colsample_bylevel': 0.36319637815831873, 'min_child_weight': 19, 'reg_lambda': 0.26969384441312655, 'reg_alpha': 0.041879305536906025, 'n_estimators': 582, 'learning_rate': 0.04950837437342995}. Best is trial 96 with value: 0.8853163587941034.\n",
      "Optimizing Hyperparameters:  76%|███████▌  | 152/200 [1:52:29<18:38, 23.30s/it][I 2023-08-17 16:08:40,903] Trial 151 finished with value: 0.8850271741435617 and parameters: {'max_depth': 123, 'subsample': 0.6745462912735654, 'colsample_bytree': 0.6009682958724623, 'colsample_bylevel': 0.42926741667820406, 'min_child_weight': 22, 'reg_lambda': 0.21327522475302516, 'reg_alpha': 0.02098826084413867, 'n_estimators': 621, 'learning_rate': 0.05297947054070729}. Best is trial 96 with value: 0.8853163587941034.\n",
      "Optimizing Hyperparameters:  76%|███████▋  | 153/200 [1:52:53<18:24, 23.49s/it][I 2023-08-17 16:09:03,518] Trial 152 finished with value: 0.8844393928333647 and parameters: {'max_depth': 124, 'subsample': 0.642520085172155, 'colsample_bytree': 0.5907383576056909, 'colsample_bylevel': 0.42580692519831137, 'min_child_weight': 22, 'reg_lambda': 0.2459304677681235, 'reg_alpha': 0.028006803703295623, 'n_estimators': 617, 'learning_rate': 0.05570784254668903}. Best is trial 96 with value: 0.8853163587941034.\n",
      "Optimizing Hyperparameters:  77%|███████▋  | 154/200 [1:53:16<17:48, 23.23s/it][I 2023-08-17 16:09:27,919] Trial 153 finished with value: 0.8857474332541989 and parameters: {'max_depth': 147, 'subsample': 0.6653096306498518, 'colsample_bytree': 0.6059905709092418, 'colsample_bylevel': 0.3473586776351294, 'min_child_weight': 21, 'reg_lambda': 0.21682764881021516, 'reg_alpha': 0.03239764438779094, 'n_estimators': 624, 'learning_rate': 0.05321597680338042}. Best is trial 153 with value: 0.8857474332541989.\n",
      "Optimizing Hyperparameters:  78%|███████▊  | 155/200 [1:53:40<17:41, 23.58s/it][I 2023-08-17 16:09:57,221] Trial 154 finished with value: 0.8849076889816676 and parameters: {'max_depth': 133, 'subsample': 0.6669690988926938, 'colsample_bytree': 0.6476397811577185, 'colsample_bylevel': 0.35185069453691425, 'min_child_weight': 21, 'reg_lambda': 0.2129917788530423, 'reg_alpha': 0.032095653745765576, 'n_estimators': 763, 'learning_rate': 0.05401686934366121}. Best is trial 153 with value: 0.8857474332541989.\n",
      "Optimizing Hyperparameters:  78%|███████▊  | 156/200 [1:54:10<18:33, 25.30s/it][I 2023-08-17 16:10:19,209] Trial 155 finished with value: 0.8847233047507865 and parameters: {'max_depth': 90, 'subsample': 0.6862052970694175, 'colsample_bytree': 0.6099649939700549, 'colsample_bylevel': 0.31672068275374327, 'min_child_weight': 21, 'reg_lambda': 0.19668259304372876, 'reg_alpha': 0.03732170116029124, 'n_estimators': 631, 'learning_rate': 0.06155014385480064}. Best is trial 153 with value: 0.8857474332541989.\n",
      "Optimizing Hyperparameters:  78%|███████▊  | 157/200 [1:54:32<17:25, 24.30s/it][I 2023-08-17 16:10:39,062] Trial 156 finished with value: 0.8853549119855897 and parameters: {'max_depth': 147, 'subsample': 0.6659929964205702, 'colsample_bytree': 0.5632242771458579, 'colsample_bylevel': 0.3785261236375386, 'min_child_weight': 22, 'reg_lambda': 0.30785494279569264, 'reg_alpha': 0.026616173133576747, 'n_estimators': 583, 'learning_rate': 0.05842524022025216}. Best is trial 153 with value: 0.8857474332541989.\n",
      "Optimizing Hyperparameters:  79%|███████▉  | 158/200 [1:54:52<16:04, 22.97s/it][I 2023-08-17 16:10:58,550] Trial 157 finished with value: 0.8847497631240173 and parameters: {'max_depth': 146, 'subsample': 0.6365228519438723, 'colsample_bytree': 0.623282526967162, 'colsample_bylevel': 0.38034134530887515, 'min_child_weight': 22, 'reg_lambda': 0.32529843061156105, 'reg_alpha': 0.025933911711667305, 'n_estimators': 593, 'learning_rate': 0.06302777601127657}. Best is trial 153 with value: 0.8857474332541989.\n",
      "Optimizing Hyperparameters:  80%|███████▉  | 159/200 [1:55:11<14:58, 21.93s/it][I 2023-08-17 16:11:16,873] Trial 158 finished with value: 0.8839260257773558 and parameters: {'max_depth': 117, 'subsample': 0.5766308668909678, 'colsample_bytree': 0.5710073202248039, 'colsample_bylevel': 0.4424448747620535, 'min_child_weight': 22, 'reg_lambda': 0.29662515240455445, 'reg_alpha': 0.030334740627494198, 'n_estimators': 549, 'learning_rate': 0.05754186690237587}. Best is trial 153 with value: 0.8857474332541989.\n",
      "Optimizing Hyperparameters:  80%|████████  | 160/200 [1:55:29<13:53, 20.84s/it][I 2023-08-17 16:11:38,949] Trial 159 finished with value: 0.8827711974358525 and parameters: {'max_depth': 147, 'subsample': 0.6918511817499272, 'colsample_bytree': 0.6713016255737084, 'colsample_bylevel': 0.35527476623678594, 'min_child_weight': 22, 'reg_lambda': 0.34849026151269524, 'reg_alpha': 0.03306996194457967, 'n_estimators': 572, 'learning_rate': 0.06053554207899442}. Best is trial 153 with value: 0.8857474332541989.\n",
      "Optimizing Hyperparameters:  80%|████████  | 161/200 [1:55:51<13:47, 21.21s/it][I 2023-08-17 16:11:59,292] Trial 160 finished with value: 0.88381146109996 and parameters: {'max_depth': 95, 'subsample': 0.6088614891166392, 'colsample_bytree': 0.6458842775393112, 'colsample_bylevel': 0.32802771871837616, 'min_child_weight': 21, 'reg_lambda': 0.21211435900811226, 'reg_alpha': 0.02610799281974519, 'n_estimators': 601, 'learning_rate': 0.06668112116913058}. Best is trial 153 with value: 0.8857474332541989.\n",
      "Optimizing Hyperparameters:  81%|████████  | 162/200 [1:56:12<13:16, 20.95s/it][I 2023-08-17 16:12:26,658] Trial 161 finished with value: 0.8851648287199498 and parameters: {'max_depth': 139, 'subsample': 0.6712925426452471, 'colsample_bytree': 0.5590260386033826, 'colsample_bylevel': 0.33753128366491664, 'min_child_weight': 22, 'reg_lambda': 0.36995848017296545, 'reg_alpha': 0.02326708948227196, 'n_estimators': 646, 'learning_rate': 0.05861745861584179}. Best is trial 153 with value: 0.8857474332541989.\n",
      "Optimizing Hyperparameters:  82%|████████▏ | 163/200 [1:56:39<14:06, 22.88s/it][I 2023-08-17 16:12:49,495] Trial 162 finished with value: 0.8840203245011379 and parameters: {'max_depth': 138, 'subsample': 0.7220679717633873, 'colsample_bytree': 0.6088188946527465, 'colsample_bylevel': 0.2858770130515272, 'min_child_weight': 22, 'reg_lambda': 0.3736780691568168, 'reg_alpha': 0.023852124658126268, 'n_estimators': 651, 'learning_rate': 0.05889013355352973}. Best is trial 153 with value: 0.8857474332541989.\n",
      "Optimizing Hyperparameters:  82%|████████▏ | 164/200 [1:57:02<13:43, 22.86s/it][I 2023-08-17 16:13:11,145] Trial 163 finished with value: 0.8844063678916834 and parameters: {'max_depth': 131, 'subsample': 0.6762847812720124, 'colsample_bytree': 0.575792857420178, 'colsample_bylevel': 0.3707937502359822, 'min_child_weight': 24, 'reg_lambda': 0.28164238493710686, 'reg_alpha': 0.01858519700228868, 'n_estimators': 617, 'learning_rate': 0.056205989278479196}. Best is trial 153 with value: 0.8857474332541989.\n",
      "Optimizing Hyperparameters:  82%|████████▎ | 165/200 [1:57:24<13:07, 22.50s/it][I 2023-08-17 16:13:30,769] Trial 164 finished with value: 0.8843056113269255 and parameters: {'max_depth': 154, 'subsample': 0.651361577962513, 'colsample_bytree': 0.5676598460574124, 'colsample_bylevel': 0.319056653647809, 'min_child_weight': 23, 'reg_lambda': 0.3099088861081153, 'reg_alpha': 0.027150887495880537, 'n_estimators': 513, 'learning_rate': 0.05848776525526899}. Best is trial 153 with value: 0.8857474332541989.\n",
      "Optimizing Hyperparameters:  83%|████████▎ | 166/200 [1:57:43<12:15, 21.64s/it][I 2023-08-17 16:13:51,994] Trial 165 finished with value: 0.884934340952118 and parameters: {'max_depth': 107, 'subsample': 0.7046813849128558, 'colsample_bytree': 0.5984010509215736, 'colsample_bylevel': 0.3448633599735644, 'min_child_weight': 21, 'reg_lambda': 0.23005174571781078, 'reg_alpha': 0.016501471697717013, 'n_estimators': 633, 'learning_rate': 0.05101215545426897}. Best is trial 153 with value: 0.8857474332541989.\n",
      "Optimizing Hyperparameters:  84%|████████▎ | 167/200 [1:58:05<11:49, 21.51s/it][I 2023-08-17 16:14:14,495] Trial 166 finished with value: 0.8848356684210946 and parameters: {'max_depth': 125, 'subsample': 0.6600546552011403, 'colsample_bytree': 0.6208838533641559, 'colsample_bylevel': 0.38750062163984406, 'min_child_weight': 20, 'reg_lambda': 0.1849575357915, 'reg_alpha': 0.030579558247076703, 'n_estimators': 576, 'learning_rate': 0.05324913520126875}. Best is trial 153 with value: 0.8857474332541989.\n",
      "Optimizing Hyperparameters:  84%|████████▍ | 168/200 [1:58:27<11:37, 21.81s/it][I 2023-08-17 16:14:38,997] Trial 167 finished with value: 0.8850682140162691 and parameters: {'max_depth': 142, 'subsample': 0.6781641908815367, 'colsample_bytree': 0.5518407013923002, 'colsample_bylevel': 0.308861768349074, 'min_child_weight': 23, 'reg_lambda': 0.35708100078674593, 'reg_alpha': 0.02350667295642355, 'n_estimators': 591, 'learning_rate': 0.04790695796204792}. Best is trial 153 with value: 0.8857474332541989.\n",
      "Optimizing Hyperparameters:  84%|████████▍ | 169/200 [1:58:52<11:41, 22.62s/it][I 2023-08-17 16:15:02,879] Trial 168 finished with value: 0.8848312650061476 and parameters: {'max_depth': 151, 'subsample': 0.6311639595061338, 'colsample_bytree': 0.5535608641664015, 'colsample_bylevel': 0.2969293334396271, 'min_child_weight': 22, 'reg_lambda': 0.3971349747663074, 'reg_alpha': 0.0222147303233592, 'n_estimators': 593, 'learning_rate': 0.04652522025668481}. Best is trial 153 with value: 0.8857474332541989.\n",
      "Optimizing Hyperparameters:  85%|████████▌ | 170/200 [1:59:15<11:29, 23.00s/it][I 2023-08-17 16:15:26,210] Trial 169 finished with value: 0.8851006970693399 and parameters: {'max_depth': 111, 'subsample': 0.6848812104731283, 'colsample_bytree': 0.5319517972158995, 'colsample_bylevel': 0.27802710223472477, 'min_child_weight': 23, 'reg_lambda': 0.3512662429027144, 'reg_alpha': 0.024515825050958784, 'n_estimators': 660, 'learning_rate': 0.04924752696924989}. Best is trial 153 with value: 0.8857474332541989.\n",
      "Optimizing Hyperparameters:  86%|████████▌ | 171/200 [1:59:39<11:09, 23.10s/it][I 2023-08-17 16:15:50,880] Trial 170 finished with value: 0.8847965737743917 and parameters: {'max_depth': 76, 'subsample': 0.6808023286220019, 'colsample_bytree': 0.5297336344313888, 'colsample_bylevel': 0.2764918472438326, 'min_child_weight': 23, 'reg_lambda': 0.32874878670306773, 'reg_alpha': 0.02435622547963415, 'n_estimators': 660, 'learning_rate': 0.044402947338721896}. Best is trial 153 with value: 0.8857474332541989.\n",
      "Optimizing Hyperparameters:  86%|████████▌ | 172/200 [2:00:03<10:59, 23.57s/it][I 2023-08-17 16:16:13,098] Trial 171 finished with value: 0.8846298193793308 and parameters: {'max_depth': 110, 'subsample': 0.6664905245659993, 'colsample_bytree': 0.5600650476527841, 'colsample_bylevel': 0.3117556631301499, 'min_child_weight': 21, 'reg_lambda': 0.36048692507244207, 'reg_alpha': 0.027133320290920818, 'n_estimators': 612, 'learning_rate': 0.0491394572679693}. Best is trial 153 with value: 0.8857474332541989.\n",
      "Optimizing Hyperparameters:  86%|████████▋ | 173/200 [2:00:26<10:25, 23.16s/it][I 2023-08-17 16:16:39,580] Trial 172 finished with value: 0.8852500245422474 and parameters: {'max_depth': 119, 'subsample': 0.6971068481483967, 'colsample_bytree': 0.5823529565128872, 'colsample_bylevel': 0.33571767202784536, 'min_child_weight': 23, 'reg_lambda': 0.443263953243182, 'reg_alpha': 0.023809685371566983, 'n_estimators': 639, 'learning_rate': 0.04846840385716754}. Best is trial 153 with value: 0.8857474332541989.\n",
      "Optimizing Hyperparameters:  87%|████████▋ | 174/200 [2:00:52<10:28, 24.16s/it][I 2023-08-17 16:17:03,797] Trial 173 finished with value: 0.8844475974951509 and parameters: {'max_depth': 121, 'subsample': 0.6930985151484009, 'colsample_bytree': 0.5335646050931275, 'colsample_bylevel': 0.3367506437092519, 'min_child_weight': 23, 'reg_lambda': 0.4279547720317097, 'reg_alpha': 0.02420099402124306, 'n_estimators': 642, 'learning_rate': 0.04409126508367328}. Best is trial 153 with value: 0.8857474332541989.\n",
      "Optimizing Hyperparameters:  88%|████████▊ | 175/200 [2:01:16<10:04, 24.18s/it][I 2023-08-17 16:17:26,581] Trial 174 finished with value: 0.8849793469117375 and parameters: {'max_depth': 97, 'subsample': 0.647746020388365, 'colsample_bytree': 0.5855001494962958, 'colsample_bylevel': 0.3569906970758837, 'min_child_weight': 22, 'reg_lambda': 0.26311193805319616, 'reg_alpha': 0.03340211568421588, 'n_estimators': 666, 'learning_rate': 0.047414889812867685}. Best is trial 153 with value: 0.8857474332541989.\n",
      "Optimizing Hyperparameters:  88%|████████▊ | 176/200 [2:01:39<09:30, 23.76s/it][I 2023-08-17 16:17:48,568] Trial 175 finished with value: 0.8845267389125927 and parameters: {'max_depth': 138, 'subsample': 0.7256763642620656, 'colsample_bytree': 0.5440078980689592, 'colsample_bylevel': 0.28325585257065716, 'min_child_weight': 23, 'reg_lambda': 0.3545307900142039, 'reg_alpha': 0.029353419078562797, 'n_estimators': 625, 'learning_rate': 0.0462116253699163}. Best is trial 153 with value: 0.8857474332541989.\n",
      "Optimizing Hyperparameters:  88%|████████▊ | 177/200 [2:02:01<08:54, 23.23s/it][I 2023-08-17 16:18:10,927] Trial 176 finished with value: 0.8850261559251503 and parameters: {'max_depth': 120, 'subsample': 0.679201065690436, 'colsample_bytree': 0.5644445441551387, 'colsample_bylevel': 0.32144618222432353, 'min_child_weight': 21, 'reg_lambda': 0.41624419189181705, 'reg_alpha': 0.022262252168014685, 'n_estimators': 611, 'learning_rate': 0.0479242735717736}. Best is trial 153 with value: 0.8857474332541989.\n",
      "Optimizing Hyperparameters:  89%|████████▉ | 178/200 [2:02:23<08:25, 22.97s/it][I 2023-08-17 16:18:33,948] Trial 177 finished with value: 0.8848056952936675 and parameters: {'max_depth': 114, 'subsample': 0.6890891285966686, 'colsample_bytree': 0.5683148142363338, 'colsample_bylevel': 0.32019912984293497, 'min_child_weight': 21, 'reg_lambda': 0.42037337653970097, 'reg_alpha': 0.022061872919386414, 'n_estimators': 643, 'learning_rate': 0.04835872407852703}. Best is trial 153 with value: 0.8857474332541989.\n",
      "Optimizing Hyperparameters:  90%|████████▉ | 179/200 [2:02:46<08:02, 22.98s/it][I 2023-08-17 16:18:56,626] Trial 178 finished with value: 0.8849678507151882 and parameters: {'max_depth': 131, 'subsample': 0.6121619354727894, 'colsample_bytree': 0.5995607742666855, 'colsample_bylevel': 0.4018777978848694, 'min_child_weight': 22, 'reg_lambda': 0.4554161271656104, 'reg_alpha': 0.0263113785618792, 'n_estimators': 603, 'learning_rate': 0.04999354378352864}. Best is trial 153 with value: 0.8857474332541989.\n",
      "Optimizing Hyperparameters:  90%|█████████ | 180/200 [2:03:09<07:38, 22.91s/it][I 2023-08-17 16:19:16,166] Trial 179 finished with value: 0.8844569115950309 and parameters: {'max_depth': 144, 'subsample': 0.6780240469913439, 'colsample_bytree': 0.6374628228851602, 'colsample_bylevel': 0.34798788886884857, 'min_child_weight': 24, 'reg_lambda': 0.3819999478770091, 'reg_alpha': 0.0231699239517084, 'n_estimators': 570, 'learning_rate': 0.04361420170056435}. Best is trial 153 with value: 0.8857474332541989.\n",
      "Optimizing Hyperparameters:  90%|█████████ | 181/200 [2:03:29<06:55, 21.88s/it][I 2023-08-17 16:19:39,686] Trial 180 finished with value: 0.8842031479033161 and parameters: {'max_depth': 120, 'subsample': 0.7125835710525925, 'colsample_bytree': 0.5850915190363247, 'colsample_bylevel': 0.45713855727973907, 'min_child_weight': 20, 'reg_lambda': 0.31851259287765776, 'reg_alpha': 0.01999600947195616, 'n_estimators': 685, 'learning_rate': 0.04812110136442571}. Best is trial 153 with value: 0.8857474332541989.\n",
      "Optimizing Hyperparameters:  91%|█████████ | 182/200 [2:03:52<06:42, 22.37s/it][I 2023-08-17 16:20:04,282] Trial 181 finished with value: 0.885308273084081 and parameters: {'max_depth': 108, 'subsample': 0.6627650903185779, 'colsample_bytree': 0.5554625974433364, 'colsample_bylevel': 0.30094566302396175, 'min_child_weight': 22, 'reg_lambda': 0.34569879673500287, 'reg_alpha': 0.025342795632067296, 'n_estimators': 619, 'learning_rate': 0.05198832641881802}. Best is trial 153 with value: 0.8857474332541989.\n",
      "Optimizing Hyperparameters:  92%|█████████▏| 183/200 [2:04:17<06:31, 23.04s/it][I 2023-08-17 16:20:27,766] Trial 182 finished with value: 0.8850499643038061 and parameters: {'max_depth': 86, 'subsample': 0.6389180494176454, 'colsample_bytree': 0.5570260421566436, 'colsample_bylevel': 0.3084895137914177, 'min_child_weight': 22, 'reg_lambda': 0.344091171985201, 'reg_alpha': 0.025426761567686394, 'n_estimators': 624, 'learning_rate': 0.052640020269011524}. Best is trial 153 with value: 0.8857474332541989.\n",
      "Optimizing Hyperparameters:  92%|█████████▏| 184/200 [2:04:40<06:10, 23.17s/it][I 2023-08-17 16:20:49,800] Trial 183 finished with value: 0.885162944984445 and parameters: {'max_depth': 102, 'subsample': 0.6702881947974035, 'colsample_bytree': 0.5241249882642129, 'colsample_bylevel': 0.30248259383841447, 'min_child_weight': 22, 'reg_lambda': 0.3926638763776263, 'reg_alpha': 0.024725317160945375, 'n_estimators': 624, 'learning_rate': 0.05194687704071009}. Best is trial 153 with value: 0.8857474332541989.\n",
      "Optimizing Hyperparameters:  92%|█████████▎| 185/200 [2:05:02<05:42, 22.83s/it][I 2023-08-17 16:21:16,426] Trial 184 finished with value: 0.8850230196424945 and parameters: {'max_depth': 86, 'subsample': 0.6289225483008858, 'colsample_bytree': 0.5527373264342992, 'colsample_bylevel': 0.2998967058383014, 'min_child_weight': 23, 'reg_lambda': 0.3460906831011726, 'reg_alpha': 0.02085204201706057, 'n_estimators': 627, 'learning_rate': 0.051228577269462235}. Best is trial 153 with value: 0.8857474332541989.\n",
      "Optimizing Hyperparameters:  93%|█████████▎| 186/200 [2:05:29<05:35, 23.97s/it][I 2023-08-17 16:21:42,466] Trial 185 finished with value: 0.8850536259372189 and parameters: {'max_depth': 100, 'subsample': 0.6692925919621935, 'colsample_bytree': 0.5253079019483161, 'colsample_bylevel': 0.24357695834305487, 'min_child_weight': 22, 'reg_lambda': 0.4044721803796802, 'reg_alpha': 0.023335841223676976, 'n_estimators': 652, 'learning_rate': 0.05246882798542871}. Best is trial 153 with value: 0.8857474332541989.\n",
      "Optimizing Hyperparameters:  94%|█████████▎| 187/200 [2:05:55<05:19, 24.59s/it][I 2023-08-17 16:22:10,648] Trial 186 finished with value: 0.8851387117300913 and parameters: {'max_depth': 96, 'subsample': 0.6570465543288239, 'colsample_bytree': 0.5209080210991323, 'colsample_bylevel': 0.24778220951066457, 'min_child_weight': 22, 'reg_lambda': 0.37492321498497194, 'reg_alpha': 0.024756518159274165, 'n_estimators': 654, 'learning_rate': 0.05212821149405535}. Best is trial 153 with value: 0.8857474332541989.\n",
      "Optimizing Hyperparameters:  94%|█████████▍| 188/200 [2:06:23<05:08, 25.67s/it][I 2023-08-17 16:22:37,361] Trial 187 finished with value: 0.8850103617624405 and parameters: {'max_depth': 78, 'subsample': 0.6586258765576811, 'colsample_bytree': 0.5304081079173892, 'colsample_bylevel': 0.23951117185269669, 'min_child_weight': 22, 'reg_lambda': 0.38272649753987936, 'reg_alpha': 0.025193843875910556, 'n_estimators': 653, 'learning_rate': 0.052344834487400495}. Best is trial 153 with value: 0.8857474332541989.\n",
      "Optimizing Hyperparameters:  94%|█████████▍| 189/200 [2:06:50<04:45, 25.98s/it][I 2023-08-17 16:23:05,065] Trial 188 finished with value: 0.8843794408101016 and parameters: {'max_depth': 100, 'subsample': 0.632999816873417, 'colsample_bytree': 0.5249772568637858, 'colsample_bylevel': 0.24970773689674822, 'min_child_weight': 23, 'reg_lambda': 0.3450330137589498, 'reg_alpha': 0.023819947612442893, 'n_estimators': 673, 'learning_rate': 0.050247326435700644}. Best is trial 153 with value: 0.8857474332541989.\n",
      "Optimizing Hyperparameters:  95%|█████████▌| 190/200 [2:07:18<04:24, 26.50s/it][I 2023-08-17 16:23:30,907] Trial 189 finished with value: 0.8851186517362614 and parameters: {'max_depth': 95, 'subsample': 0.6141454687650226, 'colsample_bytree': 0.5474093726794504, 'colsample_bylevel': 0.26157467523991457, 'min_child_weight': 24, 'reg_lambda': 0.47443316589758067, 'reg_alpha': 0.018157820012986107, 'n_estimators': 659, 'learning_rate': 0.054376434739461736}. Best is trial 153 with value: 0.8857474332541989.\n",
      "Optimizing Hyperparameters:  96%|█████████▌| 191/200 [2:07:43<03:56, 26.30s/it][I 2023-08-17 16:24:03,091] Trial 190 finished with value: 0.8845153175388483 and parameters: {'max_depth': 58, 'subsample': 0.5988217150245309, 'colsample_bytree': 0.5399405000552033, 'colsample_bylevel': 0.22736904004889052, 'min_child_weight': 24, 'reg_lambda': 0.4292469725465346, 'reg_alpha': 0.027689371721848054, 'n_estimators': 659, 'learning_rate': 0.05549816708687455}. Best is trial 153 with value: 0.8857474332541989.\n",
      "Optimizing Hyperparameters:  96%|█████████▌| 192/200 [2:08:16<03:44, 28.07s/it][I 2023-08-17 16:24:24,909] Trial 191 finished with value: 0.8850497023708859 and parameters: {'max_depth': 85, 'subsample': 0.6619625770431328, 'colsample_bytree': 0.5185247313593164, 'colsample_bylevel': 0.26454567804335494, 'min_child_weight': 23, 'reg_lambda': 0.47357298418711863, 'reg_alpha': 0.018033147210260714, 'n_estimators': 643, 'learning_rate': 0.05379469013299405}. Best is trial 153 with value: 0.8857474332541989.\n",
      "Optimizing Hyperparameters:  96%|█████████▋| 193/200 [2:08:38<03:04, 26.32s/it][I 2023-08-17 16:24:50,575] Trial 192 finished with value: 0.8849494717712217 and parameters: {'max_depth': 95, 'subsample': 0.64322562206937, 'colsample_bytree': 0.5144493701711302, 'colsample_bylevel': 0.2627948894045654, 'min_child_weight': 23, 'reg_lambda': 0.4893116644146491, 'reg_alpha': 0.0187912007465883, 'n_estimators': 645, 'learning_rate': 0.05380571077553578}. Best is trial 153 with value: 0.8857474332541989.\n",
      "Optimizing Hyperparameters:  97%|█████████▋| 194/200 [2:09:03<02:35, 26.00s/it][I 2023-08-17 16:25:15,842] Trial 193 finished with value: 0.884696545112762 and parameters: {'max_depth': 89, 'subsample': 0.6188785874373418, 'colsample_bytree': 0.5512824469882885, 'colsample_bylevel': 0.2539963242438833, 'min_child_weight': 22, 'reg_lambda': 0.3833094597710299, 'reg_alpha': 0.023201447714224114, 'n_estimators': 685, 'learning_rate': 0.05164945196509785}. Best is trial 153 with value: 0.8857474332541989.\n",
      "Optimizing Hyperparameters:  98%|█████████▊| 195/200 [2:09:28<02:08, 25.78s/it][I 2023-08-17 16:25:42,129] Trial 194 finished with value: 0.8855210123356533 and parameters: {'max_depth': 107, 'subsample': 0.6625670632737748, 'colsample_bytree': 0.503251879730593, 'colsample_bylevel': 0.28007533636931486, 'min_child_weight': 22, 'reg_lambda': 0.4452797581568995, 'reg_alpha': 0.01828823259386257, 'n_estimators': 635, 'learning_rate': 0.05472321944169356}. Best is trial 153 with value: 0.8857474332541989.\n",
      "Optimizing Hyperparameters:  98%|█████████▊| 196/200 [2:09:55<01:43, 25.93s/it][I 2023-08-17 16:26:01,459] Trial 195 finished with value: 0.8842304374929912 and parameters: {'max_depth': 71, 'subsample': 0.6574543926027538, 'colsample_bytree': 0.4943798938086843, 'colsample_bylevel': 0.24351330657572567, 'min_child_weight': 23, 'reg_lambda': 0.46422958079807514, 'reg_alpha': 0.0176676098692643, 'n_estimators': 633, 'learning_rate': 0.05443532632435585}. Best is trial 153 with value: 0.8857474332541989.\n",
      "Optimizing Hyperparameters:  98%|█████████▊| 197/200 [2:10:14<01:11, 23.95s/it][I 2023-08-17 16:26:25,661] Trial 196 finished with value: 0.8841873059631543 and parameters: {'max_depth': 82, 'subsample': 0.6340166080559794, 'colsample_bytree': 0.5139205924813948, 'colsample_bylevel': 0.270341434399024, 'min_child_weight': 24, 'reg_lambda': 0.4899323388685489, 'reg_alpha': 0.06872412880681607, 'n_estimators': 660, 'learning_rate': 0.04952779636462676}. Best is trial 153 with value: 0.8857474332541989.\n",
      "Optimizing Hyperparameters:  99%|█████████▉| 198/200 [2:10:38<00:48, 24.03s/it][I 2023-08-17 16:26:53,422] Trial 197 finished with value: 0.8851032880407915 and parameters: {'max_depth': 103, 'subsample': 0.6628907114870685, 'colsample_bytree': 0.5302696483139113, 'colsample_bylevel': 0.19402779429068642, 'min_child_weight': 22, 'reg_lambda': 0.4367509188953533, 'reg_alpha': 0.019048867322134535, 'n_estimators': 638, 'learning_rate': 0.0529203400778398}. Best is trial 153 with value: 0.8857474332541989.\n",
      "Optimizing Hyperparameters: 100%|█████████▉| 199/200 [2:11:06<00:25, 25.15s/it][I 2023-08-17 16:27:18,961] Trial 198 finished with value: 0.884375624518087 and parameters: {'max_depth': 104, 'subsample': 0.614228533683147, 'colsample_bytree': 0.5272934621288108, 'colsample_bylevel': 0.20627416853217395, 'min_child_weight': 24, 'reg_lambda': 0.46076152952096266, 'reg_alpha': 0.01931502298933934, 'n_estimators': 638, 'learning_rate': 0.045784851505107624}. Best is trial 153 with value: 0.8857474332541989.\n",
      "Optimizing Hyperparameters: 100%|██████████| 200/200 [2:11:31<00:00, 25.27s/it][I 2023-08-17 16:27:40,057] Trial 199 finished with value: 0.8838244357669734 and parameters: {'max_depth': 107, 'subsample': 0.6459390893145001, 'colsample_bytree': 0.47281967289197424, 'colsample_bylevel': 0.22834817656180526, 'min_child_weight': 23, 'reg_lambda': 0.42248489306300774, 'reg_alpha': 0.017174385085628862, 'n_estimators': 614, 'learning_rate': 0.05576892165560646}. Best is trial 153 with value: 0.8857474332541989.\n",
      "Optimizing Hyperparameters: 201it [2:11:53, 39.37s/it]                         "
     ]
    },
    {
     "name": "stdout",
     "output_type": "stream",
     "text": [
      "Best Hyperparameters for XGBRegressor:\n",
      "{'max_depth': 147, 'subsample': 0.6653096306498518, 'colsample_bytree': 0.6059905709092418, 'colsample_bylevel': 0.3473586776351294, 'min_child_weight': 21, 'reg_lambda': 0.21682764881021516, 'reg_alpha': 0.03239764438779094, 'n_estimators': 624, 'learning_rate': 0.05321597680338042}\n",
      "Best R2 Score: 0.886\n"
     ]
    },
    {
     "name": "stderr",
     "output_type": "stream",
     "text": [
      "\n"
     ]
    }
   ],
   "source": [
    "progress_bar = tqdm(total=200, desc='Optimizing Hyperparameter', dynamic_ncols=True)\n",
    "\n",
    "def callback(study, trial):\n",
    "    progress_bar.n = len(study.trials)\n",
    "    progress_bar.update(1)\n",
    "\n",
    "study = optuna.create_study(direction='maximize')\n",
    "study.optimize(objective, n_trials=200, callbacks=[callback])\n",
    "\n",
    "progress_bar.close()\n",
    "\n",
    "best_params = study.best_params\n",
    "best_score = study.best_value\n",
    "\n",
    "print(\"Best Hyperparameter for XGBRegressor:\")\n",
    "print(best_params)\n",
    "print(\"Best R2 Score: {:.3f}\".format(best_score))"
   ]
  }
 ],
 "metadata": {
  "kernelspec": {
   "display_name": "MLprojectEnv",
   "language": "python",
   "name": "python3"
  },
  "language_info": {
   "codemirror_mode": {
    "name": "ipython",
    "version": 3
   },
   "file_extension": ".py",
   "mimetype": "text/x-python",
   "name": "python",
   "nbconvert_exporter": "python",
   "pygments_lexer": "ipython3",
   "version": "3.8.17"
  },
  "orig_nbformat": 4
 },
 "nbformat": 4,
 "nbformat_minor": 2
}
