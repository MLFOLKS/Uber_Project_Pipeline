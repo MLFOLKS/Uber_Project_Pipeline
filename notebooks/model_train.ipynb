{
 "cells": [
  {
   "cell_type": "markdown",
   "metadata": {},
   "source": [
    "# Create Best Model Using Uber Dataset"
   ]
  },
  {
   "cell_type": "markdown",
   "metadata": {},
   "source": [
    "#### Import Dependencies"
   ]
  },
  {
   "cell_type": "code",
   "execution_count": 1,
   "metadata": {},
   "outputs": [],
   "source": [
    "import pandas as pd\n",
    "import numpy as np\n",
    "from sklearn.preprocessing import LabelEncoder, StandardScaler\n",
    "from sklearn.feature_selection import SelectKBest, f_regression\n",
    "from sklearn.ensemble import IsolationForest, RandomForestRegressor,GradientBoostingRegressor, HistGradientBoostingRegressor, AdaBoostRegressor\n",
    "\n",
    "# model\n",
    "from sklearn.tree import DecisionTreeRegressor, plot_tree\n",
    "from sklearn.feature_selection import SelectKBest, f_regression\n",
    "from sklearn.ensemble import RandomForestRegressor\n",
    "from xgboost import XGBRegressor\n",
    "from sklearn.linear_model import LinearRegression, Lasso, Ridge\n",
    "#model_selection\n",
    "from sklearn.model_selection import train_test_split, GridSearchCV, KFold, cross_val_score\n",
    "# metrics\n",
    "from sklearn.metrics import mean_absolute_error, mean_squared_error, r2_score\n",
    "import optuna\n",
    "from tqdm import tqdm"
   ]
  },
  {
   "cell_type": "markdown",
   "metadata": {},
   "source": [
    "#### Data Loading, Cleaning, Preprocessing"
   ]
  },
  {
   "cell_type": "code",
   "execution_count": 2,
   "metadata": {},
   "outputs": [
    {
     "data": {
      "text/html": [
       "<div>\n",
       "<style scoped>\n",
       "    .dataframe tbody tr th:only-of-type {\n",
       "        vertical-align: middle;\n",
       "    }\n",
       "\n",
       "    .dataframe tbody tr th {\n",
       "        vertical-align: top;\n",
       "    }\n",
       "\n",
       "    .dataframe thead th {\n",
       "        text-align: right;\n",
       "    }\n",
       "</style>\n",
       "<table border=\"1\" class=\"dataframe\">\n",
       "  <thead>\n",
       "    <tr style=\"text-align: right;\">\n",
       "      <th></th>\n",
       "      <th>fare_amount</th>\n",
       "      <th>pickup_datetime</th>\n",
       "      <th>pickup_longitude</th>\n",
       "      <th>pickup_latitude</th>\n",
       "      <th>dropoff_longitude</th>\n",
       "      <th>dropoff_latitude</th>\n",
       "      <th>passenger_count</th>\n",
       "    </tr>\n",
       "  </thead>\n",
       "  <tbody>\n",
       "    <tr>\n",
       "      <th>0</th>\n",
       "      <td>7.5</td>\n",
       "      <td>2015-05-07 19:52:06+00:00</td>\n",
       "      <td>-73.999817</td>\n",
       "      <td>40.738354</td>\n",
       "      <td>-73.999512</td>\n",
       "      <td>40.723217</td>\n",
       "      <td>1</td>\n",
       "    </tr>\n",
       "    <tr>\n",
       "      <th>1</th>\n",
       "      <td>7.7</td>\n",
       "      <td>2009-07-17 20:04:56+00:00</td>\n",
       "      <td>-73.994355</td>\n",
       "      <td>40.728225</td>\n",
       "      <td>-73.994710</td>\n",
       "      <td>40.750325</td>\n",
       "      <td>1</td>\n",
       "    </tr>\n",
       "    <tr>\n",
       "      <th>2</th>\n",
       "      <td>12.9</td>\n",
       "      <td>2009-08-24 21:45:00+00:00</td>\n",
       "      <td>-74.005043</td>\n",
       "      <td>40.740770</td>\n",
       "      <td>-73.962565</td>\n",
       "      <td>40.772647</td>\n",
       "      <td>1</td>\n",
       "    </tr>\n",
       "    <tr>\n",
       "      <th>3</th>\n",
       "      <td>5.3</td>\n",
       "      <td>2009-06-26 08:22:21+00:00</td>\n",
       "      <td>-73.976124</td>\n",
       "      <td>40.790844</td>\n",
       "      <td>-73.965316</td>\n",
       "      <td>40.803349</td>\n",
       "      <td>3</td>\n",
       "    </tr>\n",
       "    <tr>\n",
       "      <th>4</th>\n",
       "      <td>16.0</td>\n",
       "      <td>2014-08-28 17:47:00+00:00</td>\n",
       "      <td>-73.925023</td>\n",
       "      <td>40.744085</td>\n",
       "      <td>-73.973082</td>\n",
       "      <td>40.761247</td>\n",
       "      <td>5</td>\n",
       "    </tr>\n",
       "  </tbody>\n",
       "</table>\n",
       "</div>"
      ],
      "text/plain": [
       "   fare_amount           pickup_datetime  pickup_longitude  pickup_latitude  \\\n",
       "0          7.5 2015-05-07 19:52:06+00:00        -73.999817        40.738354   \n",
       "1          7.7 2009-07-17 20:04:56+00:00        -73.994355        40.728225   \n",
       "2         12.9 2009-08-24 21:45:00+00:00        -74.005043        40.740770   \n",
       "3          5.3 2009-06-26 08:22:21+00:00        -73.976124        40.790844   \n",
       "4         16.0 2014-08-28 17:47:00+00:00        -73.925023        40.744085   \n",
       "\n",
       "   dropoff_longitude  dropoff_latitude  passenger_count  \n",
       "0         -73.999512         40.723217                1  \n",
       "1         -73.994710         40.750325                1  \n",
       "2         -73.962565         40.772647                1  \n",
       "3         -73.965316         40.803349                3  \n",
       "4         -73.973082         40.761247                5  "
      ]
     },
     "execution_count": 2,
     "metadata": {},
     "output_type": "execute_result"
    }
   ],
   "source": [
    "df = pd.read_csv(\"../data/uber.csv\", parse_dates=['pickup_datetime'])\n",
    "df.drop(['Unnamed: 0','key'], axis=1, inplace=True)\n",
    "df.head()"
   ]
  },
  {
   "cell_type": "code",
   "execution_count": 3,
   "metadata": {},
   "outputs": [
    {
     "name": "stdout",
     "output_type": "stream",
     "text": [
      "Inference: The Dataset consists of 7 features & 200000 samples.\n"
     ]
    }
   ],
   "source": [
    "print(f'Inference: The Dataset consists of {df.shape[1]} features & {df.shape[0]} samples.')"
   ]
  },
  {
   "cell_type": "code",
   "execution_count": 4,
   "metadata": {},
   "outputs": [
    {
     "name": "stdout",
     "output_type": "stream",
     "text": [
      "                   Total Null Values  Percentage\n",
      "fare_amount                        0         0.0\n",
      "pickup_datetime                    0         0.0\n",
      "pickup_longitude                   0         0.0\n",
      "pickup_latitude                    0         0.0\n",
      "passenger_count                    0         0.0\n",
      "dropoff_longitude                  1         0.0\n",
      "dropoff_latitude                   1         0.0\n"
     ]
    }
   ],
   "source": [
    "nullValues = pd.DataFrame(df.isnull().sum().sort_values(), columns=['Total Null Values'])\n",
    "nullValues['Percentage'] = round(nullValues['Total Null Values']/df.shape[0],3)*100\n",
    "print(nullValues)"
   ]
  },
  {
   "cell_type": "code",
   "execution_count": 5,
   "metadata": {},
   "outputs": [],
   "source": [
    "df.dropna(inplace=True)"
   ]
  },
  {
   "cell_type": "code",
   "execution_count": 6,
   "metadata": {},
   "outputs": [
    {
     "data": {
      "text/plain": [
       "fare_amount          0\n",
       "pickup_datetime      0\n",
       "pickup_longitude     0\n",
       "pickup_latitude      0\n",
       "dropoff_longitude    0\n",
       "dropoff_latitude     0\n",
       "passenger_count      0\n",
       "dtype: int64"
      ]
     },
     "execution_count": 6,
     "metadata": {},
     "output_type": "execute_result"
    }
   ],
   "source": [
    "df.isnull().sum()# after clean dataset"
   ]
  },
  {
   "cell_type": "code",
   "execution_count": 7,
   "metadata": {},
   "outputs": [
    {
     "data": {
      "text/plain": [
       "0"
      ]
     },
     "execution_count": 7,
     "metadata": {},
     "output_type": "execute_result"
    }
   ],
   "source": [
    "df.duplicated().sum()#checking duplicate values"
   ]
  },
  {
   "cell_type": "code",
   "execution_count": 8,
   "metadata": {},
   "outputs": [
    {
     "data": {
      "text/plain": [
       "(13, 7)"
      ]
     },
     "execution_count": 8,
     "metadata": {},
     "output_type": "execute_result"
    }
   ],
   "source": [
    "df_delete = df[(df['pickup_latitude']>180) | (df['pickup_latitude']<-180)|\n",
    "                    (df['dropoff_latitude']>180) | (df['dropoff_latitude']< -180)|\n",
    "                    (df['pickup_longitude']>90) | (df['pickup_longitude']<-90) |\n",
    "                    (df['dropoff_longitude']>90) | (df['dropoff_longitude']<-90)]\n",
    "df_delete.shape"
   ]
  },
  {
   "cell_type": "code",
   "execution_count": 9,
   "metadata": {},
   "outputs": [
    {
     "data": {
      "text/plain": [
       "Index([  4949,  32549,  40908,  48506,  56617,  61793,  75851,  91422, 103745,\n",
       "       139447, 144253, 161652, 199936],\n",
       "      dtype='int64')"
      ]
     },
     "execution_count": 9,
     "metadata": {},
     "output_type": "execute_result"
    }
   ],
   "source": [
    "index_to_delete = df_delete.index\n",
    "index_to_delete"
   ]
  },
  {
   "cell_type": "code",
   "execution_count": 10,
   "metadata": {},
   "outputs": [
    {
     "name": "stdout",
     "output_type": "stream",
     "text": [
      "before :199999,after :199986\n"
     ]
    }
   ],
   "source": [
    "before = df.shape\n",
    "df.drop(index_to_delete,inplace=True)\n",
    "print(f'before :{before[0]},after :{df.shape[0]}')"
   ]
  },
  {
   "cell_type": "code",
   "execution_count": 11,
   "metadata": {},
   "outputs": [],
   "source": [
    "df['year'] = df.pickup_datetime.dt.year\n",
    "df['month'] = df.pickup_datetime.dt.month\n",
    "df['weekday'] = df.pickup_datetime.dt.weekday\n",
    "df['hour'] = df.pickup_datetime.dt.hour"
   ]
  },
  {
   "cell_type": "code",
   "execution_count": 12,
   "metadata": {},
   "outputs": [],
   "source": [
    "df['Monthly_Quarter'] = df.month.map({1:'Q1',2:'Q1',3:'Q1',4:'Q2',5:'Q2',6:'Q2',7:'Q3',\n",
    "                                      8:'Q3',9:'Q3',10:'Q4',11:'Q4',12:'Q4'})\n",
    "\n",
    "df['Hourly_Segments'] = df.hour.map({0:'H1',1:'H1',2:'H1',3:'H1',4:'H2',5:'H2',6:'H2',7:'H2',8:'H3',\n",
    "                                     9:'H3',10:'H3',11:'H3',12:'H4',13:'H4',14:'H4',15:'H4',16:'H5',\n",
    "                                     17:'H5',18:'H5',19:'H5',20:'H6',21:'H6',22:'H6',23:'H6'})"
   ]
  },
  {
   "cell_type": "code",
   "execution_count": 13,
   "metadata": {},
   "outputs": [
    {
     "data": {
      "text/html": [
       "<div>\n",
       "<style scoped>\n",
       "    .dataframe tbody tr th:only-of-type {\n",
       "        vertical-align: middle;\n",
       "    }\n",
       "\n",
       "    .dataframe tbody tr th {\n",
       "        vertical-align: top;\n",
       "    }\n",
       "\n",
       "    .dataframe thead th {\n",
       "        text-align: right;\n",
       "    }\n",
       "</style>\n",
       "<table border=\"1\" class=\"dataframe\">\n",
       "  <thead>\n",
       "    <tr style=\"text-align: right;\">\n",
       "      <th></th>\n",
       "      <th>fare_amount</th>\n",
       "      <th>pickup_datetime</th>\n",
       "      <th>pickup_longitude</th>\n",
       "      <th>pickup_latitude</th>\n",
       "      <th>dropoff_longitude</th>\n",
       "      <th>dropoff_latitude</th>\n",
       "      <th>passenger_count</th>\n",
       "      <th>year</th>\n",
       "      <th>month</th>\n",
       "      <th>weekday</th>\n",
       "      <th>hour</th>\n",
       "      <th>Monthly_Quarter</th>\n",
       "      <th>Hourly_Segments</th>\n",
       "    </tr>\n",
       "  </thead>\n",
       "  <tbody>\n",
       "    <tr>\n",
       "      <th>0</th>\n",
       "      <td>7.5</td>\n",
       "      <td>2015-05-07 19:52:06+00:00</td>\n",
       "      <td>-73.999817</td>\n",
       "      <td>40.738354</td>\n",
       "      <td>-73.999512</td>\n",
       "      <td>40.723217</td>\n",
       "      <td>1</td>\n",
       "      <td>2015</td>\n",
       "      <td>5</td>\n",
       "      <td>3</td>\n",
       "      <td>19</td>\n",
       "      <td>Q2</td>\n",
       "      <td>H5</td>\n",
       "    </tr>\n",
       "    <tr>\n",
       "      <th>1</th>\n",
       "      <td>7.7</td>\n",
       "      <td>2009-07-17 20:04:56+00:00</td>\n",
       "      <td>-73.994355</td>\n",
       "      <td>40.728225</td>\n",
       "      <td>-73.994710</td>\n",
       "      <td>40.750325</td>\n",
       "      <td>1</td>\n",
       "      <td>2009</td>\n",
       "      <td>7</td>\n",
       "      <td>4</td>\n",
       "      <td>20</td>\n",
       "      <td>Q3</td>\n",
       "      <td>H6</td>\n",
       "    </tr>\n",
       "    <tr>\n",
       "      <th>2</th>\n",
       "      <td>12.9</td>\n",
       "      <td>2009-08-24 21:45:00+00:00</td>\n",
       "      <td>-74.005043</td>\n",
       "      <td>40.740770</td>\n",
       "      <td>-73.962565</td>\n",
       "      <td>40.772647</td>\n",
       "      <td>1</td>\n",
       "      <td>2009</td>\n",
       "      <td>8</td>\n",
       "      <td>0</td>\n",
       "      <td>21</td>\n",
       "      <td>Q3</td>\n",
       "      <td>H6</td>\n",
       "    </tr>\n",
       "    <tr>\n",
       "      <th>3</th>\n",
       "      <td>5.3</td>\n",
       "      <td>2009-06-26 08:22:21+00:00</td>\n",
       "      <td>-73.976124</td>\n",
       "      <td>40.790844</td>\n",
       "      <td>-73.965316</td>\n",
       "      <td>40.803349</td>\n",
       "      <td>3</td>\n",
       "      <td>2009</td>\n",
       "      <td>6</td>\n",
       "      <td>4</td>\n",
       "      <td>8</td>\n",
       "      <td>Q2</td>\n",
       "      <td>H3</td>\n",
       "    </tr>\n",
       "    <tr>\n",
       "      <th>4</th>\n",
       "      <td>16.0</td>\n",
       "      <td>2014-08-28 17:47:00+00:00</td>\n",
       "      <td>-73.925023</td>\n",
       "      <td>40.744085</td>\n",
       "      <td>-73.973082</td>\n",
       "      <td>40.761247</td>\n",
       "      <td>5</td>\n",
       "      <td>2014</td>\n",
       "      <td>8</td>\n",
       "      <td>3</td>\n",
       "      <td>17</td>\n",
       "      <td>Q3</td>\n",
       "      <td>H5</td>\n",
       "    </tr>\n",
       "  </tbody>\n",
       "</table>\n",
       "</div>"
      ],
      "text/plain": [
       "   fare_amount           pickup_datetime  pickup_longitude  pickup_latitude  \\\n",
       "0          7.5 2015-05-07 19:52:06+00:00        -73.999817        40.738354   \n",
       "1          7.7 2009-07-17 20:04:56+00:00        -73.994355        40.728225   \n",
       "2         12.9 2009-08-24 21:45:00+00:00        -74.005043        40.740770   \n",
       "3          5.3 2009-06-26 08:22:21+00:00        -73.976124        40.790844   \n",
       "4         16.0 2014-08-28 17:47:00+00:00        -73.925023        40.744085   \n",
       "\n",
       "   dropoff_longitude  dropoff_latitude  passenger_count  year  month  weekday  \\\n",
       "0         -73.999512         40.723217                1  2015      5        3   \n",
       "1         -73.994710         40.750325                1  2009      7        4   \n",
       "2         -73.962565         40.772647                1  2009      8        0   \n",
       "3         -73.965316         40.803349                3  2009      6        4   \n",
       "4         -73.973082         40.761247                5  2014      8        3   \n",
       "\n",
       "   hour Monthly_Quarter Hourly_Segments  \n",
       "0    19              Q2              H5  \n",
       "1    20              Q3              H6  \n",
       "2    21              Q3              H6  \n",
       "3     8              Q2              H3  \n",
       "4    17              Q3              H5  "
      ]
     },
     "execution_count": 13,
     "metadata": {},
     "output_type": "execute_result"
    }
   ],
   "source": [
    "df.head()"
   ]
  },
  {
   "cell_type": "code",
   "execution_count": 14,
   "metadata": {},
   "outputs": [],
   "source": [
    "df.drop(['pickup_datetime','month', 'hour',], axis=1, inplace=True)"
   ]
  },
  {
   "cell_type": "markdown",
   "metadata": {},
   "source": [
    "##### Calculate Distance"
   ]
  },
  {
   "cell_type": "code",
   "execution_count": 15,
   "metadata": {},
   "outputs": [],
   "source": [
    "from math import radians, sin, cos, sqrt, asin\n",
    "\n",
    "def distance_transform(longitude1, latitude1, longitude2, latitude2):\n",
    "    travel_dist = []\n",
    "    \n",
    "    for pos in range(len(longitude1)):\n",
    "        long1,lati1,long2,lati2 = map(radians,[longitude1[pos],latitude1[pos],longitude2[pos],latitude2[pos]])\n",
    "        dist_long = long2 - long1\n",
    "        dist_lati = lati2 - lati1\n",
    "        a = sin(dist_lati/2)**2 + cos(lati1) * cos(lati2) * sin(dist_long/2)**2\n",
    "        c = 2 * asin(sqrt(a))*6371\n",
    "        travel_dist.append(c)\n",
    "       \n",
    "    return travel_dist"
   ]
  },
  {
   "cell_type": "code",
   "execution_count": 16,
   "metadata": {},
   "outputs": [],
   "source": [
    "df['distance_traveled']=distance_transform(df['pickup_longitude'].to_numpy(),\n",
    "                                  df['pickup_latitude'].to_numpy(),\n",
    "                                  df['dropoff_longitude'].to_numpy(),\n",
    "                                  df['dropoff_latitude'].to_numpy())\n",
    "## This Distance is in kilometers\n",
    "df['distance_traveled'] = df['distance_traveled'].round(3)"
   ]
  },
  {
   "cell_type": "code",
   "execution_count": 17,
   "metadata": {},
   "outputs": [
    {
     "data": {
      "text/plain": [
       "(22, 11)"
      ]
     },
     "execution_count": 17,
     "metadata": {},
     "output_type": "execute_result"
    }
   ],
   "source": [
    "df[df['fare_amount']<= 0].shape"
   ]
  },
  {
   "cell_type": "code",
   "execution_count": 18,
   "metadata": {},
   "outputs": [
    {
     "data": {
      "text/plain": [
       "(22, 11)"
      ]
     },
     "execution_count": 18,
     "metadata": {},
     "output_type": "execute_result"
    }
   ],
   "source": [
    "df_fare_delete = df[df['fare_amount']<=0]\n",
    "df_fare_delete.shape"
   ]
  },
  {
   "cell_type": "code",
   "execution_count": 19,
   "metadata": {},
   "outputs": [
    {
     "name": "stdout",
     "output_type": "stream",
     "text": [
      "Number of items removed : 22\n"
     ]
    }
   ],
   "source": [
    "old_shape = df.shape\n",
    "index_to_delete_fare = df_fare_delete.index\n",
    "df.drop(index_to_delete_fare,inplace=True)\n",
    "print(f\"Number of items removed : {old_shape[0] - df.shape[0]}\")"
   ]
  },
  {
   "cell_type": "code",
   "execution_count": 20,
   "metadata": {},
   "outputs": [
    {
     "data": {
      "text/plain": [
       "passenger_count\n",
       "1      138404\n",
       "2       29423\n",
       "5       14004\n",
       "3        8878\n",
       "4        4275\n",
       "6        4271\n",
       "0         708\n",
       "208         1\n",
       "Name: count, dtype: int64"
      ]
     },
     "execution_count": 20,
     "metadata": {},
     "output_type": "execute_result"
    }
   ],
   "source": [
    "df['passenger_count'].value_counts()"
   ]
  },
  {
   "cell_type": "code",
   "execution_count": 21,
   "metadata": {},
   "outputs": [
    {
     "name": "stdout",
     "output_type": "stream",
     "text": [
      "After drop 1\n"
     ]
    }
   ],
   "source": [
    "old_shape = df.shape\n",
    "index_to_delete_passenger = df[df['passenger_count']==df['passenger_count'].max()].index\n",
    "df.drop(index_to_delete_passenger,inplace=True)\n",
    "print(f\"After drop {old_shape[0] - df.shape[0]}\")"
   ]
  },
  {
   "cell_type": "code",
   "execution_count": 22,
   "metadata": {},
   "outputs": [
    {
     "data": {
      "text/plain": [
       "passenger_count\n",
       "1    138404\n",
       "2     29423\n",
       "5     14004\n",
       "3      8878\n",
       "4      4275\n",
       "6      4271\n",
       "0       708\n",
       "Name: count, dtype: int64"
      ]
     },
     "execution_count": 22,
     "metadata": {},
     "output_type": "execute_result"
    }
   ],
   "source": [
    "# now the large passenger count is removed 208 column\n",
    "df['passenger_count'].value_counts()"
   ]
  },
  {
   "cell_type": "code",
   "execution_count": 23,
   "metadata": {},
   "outputs": [],
   "source": [
    "# here we will replace 0 with 1 count\n",
    "df['passenger_count']=np.where(df['passenger_count']==0,1,df['passenger_count'])"
   ]
  },
  {
   "cell_type": "code",
   "execution_count": 24,
   "metadata": {},
   "outputs": [
    {
     "data": {
      "text/plain": [
       "passenger_count\n",
       "1    139112\n",
       "2     29423\n",
       "5     14004\n",
       "3      8878\n",
       "4      4275\n",
       "6      4271\n",
       "Name: count, dtype: int64"
      ]
     },
     "execution_count": 24,
     "metadata": {},
     "output_type": "execute_result"
    }
   ],
   "source": [
    "df['passenger_count'].value_counts()"
   ]
  },
  {
   "cell_type": "code",
   "execution_count": 25,
   "metadata": {},
   "outputs": [
    {
     "data": {
      "text/html": [
       "<div>\n",
       "<style scoped>\n",
       "    .dataframe tbody tr th:only-of-type {\n",
       "        vertical-align: middle;\n",
       "    }\n",
       "\n",
       "    .dataframe tbody tr th {\n",
       "        vertical-align: top;\n",
       "    }\n",
       "\n",
       "    .dataframe thead th {\n",
       "        text-align: right;\n",
       "    }\n",
       "</style>\n",
       "<table border=\"1\" class=\"dataframe\">\n",
       "  <thead>\n",
       "    <tr style=\"text-align: right;\">\n",
       "      <th></th>\n",
       "      <th>fare_amount</th>\n",
       "      <th>pickup_longitude</th>\n",
       "      <th>pickup_latitude</th>\n",
       "      <th>dropoff_longitude</th>\n",
       "      <th>dropoff_latitude</th>\n",
       "      <th>passenger_count</th>\n",
       "      <th>year</th>\n",
       "      <th>weekday</th>\n",
       "      <th>distance_traveled</th>\n",
       "    </tr>\n",
       "  </thead>\n",
       "  <tbody>\n",
       "    <tr>\n",
       "      <th>count</th>\n",
       "      <td>194247.000000</td>\n",
       "      <td>194247.000000</td>\n",
       "      <td>194247.000000</td>\n",
       "      <td>194247.000000</td>\n",
       "      <td>194247.000000</td>\n",
       "      <td>194247.000000</td>\n",
       "      <td>194247.000000</td>\n",
       "      <td>194247.000000</td>\n",
       "      <td>194247.000000</td>\n",
       "    </tr>\n",
       "    <tr>\n",
       "      <th>mean</th>\n",
       "      <td>11.349822</td>\n",
       "      <td>-73.826480</td>\n",
       "      <td>40.646902</td>\n",
       "      <td>-73.837556</td>\n",
       "      <td>40.651579</td>\n",
       "      <td>1.687413</td>\n",
       "      <td>2011.747420</td>\n",
       "      <td>3.048577</td>\n",
       "      <td>21.060440</td>\n",
       "    </tr>\n",
       "    <tr>\n",
       "      <th>std</th>\n",
       "      <td>9.722955</td>\n",
       "      <td>3.660507</td>\n",
       "      <td>2.931640</td>\n",
       "      <td>3.536295</td>\n",
       "      <td>2.900095</td>\n",
       "      <td>1.303961</td>\n",
       "      <td>1.859941</td>\n",
       "      <td>1.946791</td>\n",
       "      <td>384.091421</td>\n",
       "    </tr>\n",
       "    <tr>\n",
       "      <th>min</th>\n",
       "      <td>0.010000</td>\n",
       "      <td>-89.933333</td>\n",
       "      <td>-74.015515</td>\n",
       "      <td>-75.458979</td>\n",
       "      <td>-74.015750</td>\n",
       "      <td>1.000000</td>\n",
       "      <td>2009.000000</td>\n",
       "      <td>0.000000</td>\n",
       "      <td>0.001000</td>\n",
       "    </tr>\n",
       "    <tr>\n",
       "      <th>25%</th>\n",
       "      <td>6.000000</td>\n",
       "      <td>-73.992269</td>\n",
       "      <td>40.736348</td>\n",
       "      <td>-73.991589</td>\n",
       "      <td>40.735220</td>\n",
       "      <td>1.000000</td>\n",
       "      <td>2010.000000</td>\n",
       "      <td>1.000000</td>\n",
       "      <td>1.283000</td>\n",
       "    </tr>\n",
       "    <tr>\n",
       "      <th>50%</th>\n",
       "      <td>8.500000</td>\n",
       "      <td>-73.982116</td>\n",
       "      <td>40.753253</td>\n",
       "      <td>-73.980539</td>\n",
       "      <td>40.753708</td>\n",
       "      <td>1.000000</td>\n",
       "      <td>2012.000000</td>\n",
       "      <td>3.000000</td>\n",
       "      <td>2.185000</td>\n",
       "    </tr>\n",
       "    <tr>\n",
       "      <th>75%</th>\n",
       "      <td>12.500000</td>\n",
       "      <td>-73.968400</td>\n",
       "      <td>40.767508</td>\n",
       "      <td>-73.965423</td>\n",
       "      <td>40.768314</td>\n",
       "      <td>2.000000</td>\n",
       "      <td>2013.000000</td>\n",
       "      <td>5.000000</td>\n",
       "      <td>3.961000</td>\n",
       "    </tr>\n",
       "    <tr>\n",
       "      <th>max</th>\n",
       "      <td>499.000000</td>\n",
       "      <td>40.808425</td>\n",
       "      <td>48.018760</td>\n",
       "      <td>40.831932</td>\n",
       "      <td>45.031598</td>\n",
       "      <td>6.000000</td>\n",
       "      <td>2015.000000</td>\n",
       "      <td>6.000000</td>\n",
       "      <td>8782.899000</td>\n",
       "    </tr>\n",
       "  </tbody>\n",
       "</table>\n",
       "</div>"
      ],
      "text/plain": [
       "         fare_amount  pickup_longitude  pickup_latitude  dropoff_longitude  \\\n",
       "count  194247.000000     194247.000000    194247.000000      194247.000000   \n",
       "mean       11.349822        -73.826480        40.646902         -73.837556   \n",
       "std         9.722955          3.660507         2.931640           3.536295   \n",
       "min         0.010000        -89.933333       -74.015515         -75.458979   \n",
       "25%         6.000000        -73.992269        40.736348         -73.991589   \n",
       "50%         8.500000        -73.982116        40.753253         -73.980539   \n",
       "75%        12.500000        -73.968400        40.767508         -73.965423   \n",
       "max       499.000000         40.808425        48.018760          40.831932   \n",
       "\n",
       "       dropoff_latitude  passenger_count           year        weekday  \\\n",
       "count     194247.000000    194247.000000  194247.000000  194247.000000   \n",
       "mean          40.651579         1.687413    2011.747420       3.048577   \n",
       "std            2.900095         1.303961       1.859941       1.946791   \n",
       "min          -74.015750         1.000000    2009.000000       0.000000   \n",
       "25%           40.735220         1.000000    2010.000000       1.000000   \n",
       "50%           40.753708         1.000000    2012.000000       3.000000   \n",
       "75%           40.768314         2.000000    2013.000000       5.000000   \n",
       "max           45.031598         6.000000    2015.000000       6.000000   \n",
       "\n",
       "       distance_traveled  \n",
       "count      194247.000000  \n",
       "mean           21.060440  \n",
       "std           384.091421  \n",
       "min             0.001000  \n",
       "25%             1.283000  \n",
       "50%             2.185000  \n",
       "75%             3.961000  \n",
       "max          8782.899000  "
      ]
     },
     "execution_count": 25,
     "metadata": {},
     "output_type": "execute_result"
    }
   ],
   "source": [
    "# removing zero distance travel\n",
    "index_to_delete_distance = df[df['distance_traveled'] == 0].index\n",
    "df.drop(index_to_delete_distance,inplace=True)\n",
    "df.describe()"
   ]
  },
  {
   "cell_type": "code",
   "execution_count": 26,
   "metadata": {},
   "outputs": [
    {
     "data": {
      "text/plain": [
       "1081"
      ]
     },
     "execution_count": 26,
     "metadata": {},
     "output_type": "execute_result"
    }
   ],
   "source": [
    "len(df[df.distance_traveled < 0.1])"
   ]
  },
  {
   "cell_type": "code",
   "execution_count": 27,
   "metadata": {},
   "outputs": [
    {
     "name": "stdout",
     "output_type": "stream",
     "text": [
      "before :194247,after :193166\n"
     ]
    }
   ],
   "source": [
    "# removing 100m distance traveled\n",
    "before = df.shape\n",
    "df.drop(df[df.distance_traveled < 0.1].index, inplace=True)\n",
    "print(f\"before :{before[0]},after :{df.shape[0]}\")"
   ]
  },
  {
   "cell_type": "code",
   "execution_count": 28,
   "metadata": {},
   "outputs": [
    {
     "data": {
      "text/html": [
       "<div>\n",
       "<style scoped>\n",
       "    .dataframe tbody tr th:only-of-type {\n",
       "        vertical-align: middle;\n",
       "    }\n",
       "\n",
       "    .dataframe tbody tr th {\n",
       "        vertical-align: top;\n",
       "    }\n",
       "\n",
       "    .dataframe thead th {\n",
       "        text-align: right;\n",
       "    }\n",
       "</style>\n",
       "<table border=\"1\" class=\"dataframe\">\n",
       "  <thead>\n",
       "    <tr style=\"text-align: right;\">\n",
       "      <th></th>\n",
       "      <th>fare_amount</th>\n",
       "      <th>pickup_longitude</th>\n",
       "      <th>pickup_latitude</th>\n",
       "      <th>dropoff_longitude</th>\n",
       "      <th>dropoff_latitude</th>\n",
       "      <th>passenger_count</th>\n",
       "      <th>year</th>\n",
       "      <th>weekday</th>\n",
       "      <th>Monthly_Quarter</th>\n",
       "      <th>Hourly_Segments</th>\n",
       "      <th>distance_traveled</th>\n",
       "    </tr>\n",
       "  </thead>\n",
       "  <tbody>\n",
       "    <tr>\n",
       "      <th>346</th>\n",
       "      <td>15.50</td>\n",
       "      <td>0.000000</td>\n",
       "      <td>0.000000</td>\n",
       "      <td>-73.979805</td>\n",
       "      <td>40.786030</td>\n",
       "      <td>1</td>\n",
       "      <td>2015</td>\n",
       "      <td>3</td>\n",
       "      <td>Q1</td>\n",
       "      <td>H5</td>\n",
       "      <td>8666.398</td>\n",
       "    </tr>\n",
       "    <tr>\n",
       "      <th>1067</th>\n",
       "      <td>52.00</td>\n",
       "      <td>-73.781095</td>\n",
       "      <td>40.645015</td>\n",
       "      <td>0.000000</td>\n",
       "      <td>0.000000</td>\n",
       "      <td>1</td>\n",
       "      <td>2014</td>\n",
       "      <td>6</td>\n",
       "      <td>Q1</td>\n",
       "      <td>H6</td>\n",
       "      <td>8647.036</td>\n",
       "    </tr>\n",
       "    <tr>\n",
       "      <th>1526</th>\n",
       "      <td>2.50</td>\n",
       "      <td>-74.001849</td>\n",
       "      <td>40.715156</td>\n",
       "      <td>0.000000</td>\n",
       "      <td>0.000000</td>\n",
       "      <td>3</td>\n",
       "      <td>2014</td>\n",
       "      <td>0</td>\n",
       "      <td>Q2</td>\n",
       "      <td>H4</td>\n",
       "      <td>8666.772</td>\n",
       "    </tr>\n",
       "    <tr>\n",
       "      <th>2547</th>\n",
       "      <td>10.10</td>\n",
       "      <td>0.000000</td>\n",
       "      <td>0.000000</td>\n",
       "      <td>-73.953210</td>\n",
       "      <td>40.803528</td>\n",
       "      <td>2</td>\n",
       "      <td>2011</td>\n",
       "      <td>1</td>\n",
       "      <td>Q3</td>\n",
       "      <td>H6</td>\n",
       "      <td>8664.557</td>\n",
       "    </tr>\n",
       "    <tr>\n",
       "      <th>3045</th>\n",
       "      <td>15.00</td>\n",
       "      <td>0.000000</td>\n",
       "      <td>0.000000</td>\n",
       "      <td>-73.843777</td>\n",
       "      <td>40.739255</td>\n",
       "      <td>1</td>\n",
       "      <td>2013</td>\n",
       "      <td>1</td>\n",
       "      <td>Q1</td>\n",
       "      <td>H1</td>\n",
       "      <td>8654.177</td>\n",
       "    </tr>\n",
       "    <tr>\n",
       "      <th>...</th>\n",
       "      <td>...</td>\n",
       "      <td>...</td>\n",
       "      <td>...</td>\n",
       "      <td>...</td>\n",
       "      <td>...</td>\n",
       "      <td>...</td>\n",
       "      <td>...</td>\n",
       "      <td>...</td>\n",
       "      <td>...</td>\n",
       "      <td>...</td>\n",
       "      <td>...</td>\n",
       "    </tr>\n",
       "    <tr>\n",
       "      <th>196967</th>\n",
       "      <td>57.33</td>\n",
       "      <td>0.000000</td>\n",
       "      <td>0.000000</td>\n",
       "      <td>-73.789045</td>\n",
       "      <td>40.655135</td>\n",
       "      <td>2</td>\n",
       "      <td>2014</td>\n",
       "      <td>2</td>\n",
       "      <td>Q3</td>\n",
       "      <td>H3</td>\n",
       "      <td>8647.904</td>\n",
       "    </tr>\n",
       "    <tr>\n",
       "      <th>197468</th>\n",
       "      <td>6.90</td>\n",
       "      <td>0.000000</td>\n",
       "      <td>0.000000</td>\n",
       "      <td>-73.980827</td>\n",
       "      <td>40.747133</td>\n",
       "      <td>5</td>\n",
       "      <td>2011</td>\n",
       "      <td>2</td>\n",
       "      <td>Q1</td>\n",
       "      <td>H5</td>\n",
       "      <td>8665.686</td>\n",
       "    </tr>\n",
       "    <tr>\n",
       "      <th>197863</th>\n",
       "      <td>7.00</td>\n",
       "      <td>-73.962190</td>\n",
       "      <td>40.759158</td>\n",
       "      <td>0.000000</td>\n",
       "      <td>0.000000</td>\n",
       "      <td>1</td>\n",
       "      <td>2014</td>\n",
       "      <td>1</td>\n",
       "      <td>Q4</td>\n",
       "      <td>H6</td>\n",
       "      <td>8664.389</td>\n",
       "    </tr>\n",
       "    <tr>\n",
       "      <th>198567</th>\n",
       "      <td>23.50</td>\n",
       "      <td>-73.968115</td>\n",
       "      <td>40.801455</td>\n",
       "      <td>0.000000</td>\n",
       "      <td>0.000000</td>\n",
       "      <td>2</td>\n",
       "      <td>2013</td>\n",
       "      <td>0</td>\n",
       "      <td>Q4</td>\n",
       "      <td>H1</td>\n",
       "      <td>8665.747</td>\n",
       "    </tr>\n",
       "    <tr>\n",
       "      <th>198665</th>\n",
       "      <td>20.10</td>\n",
       "      <td>-0.116667</td>\n",
       "      <td>40.729775</td>\n",
       "      <td>0.000000</td>\n",
       "      <td>0.000000</td>\n",
       "      <td>5</td>\n",
       "      <td>2012</td>\n",
       "      <td>1</td>\n",
       "      <td>Q2</td>\n",
       "      <td>H6</td>\n",
       "      <td>4528.960</td>\n",
       "    </tr>\n",
       "  </tbody>\n",
       "</table>\n",
       "<p>379 rows × 11 columns</p>\n",
       "</div>"
      ],
      "text/plain": [
       "        fare_amount  pickup_longitude  pickup_latitude  dropoff_longitude  \\\n",
       "346           15.50          0.000000         0.000000         -73.979805   \n",
       "1067          52.00        -73.781095        40.645015           0.000000   \n",
       "1526           2.50        -74.001849        40.715156           0.000000   \n",
       "2547          10.10          0.000000         0.000000         -73.953210   \n",
       "3045          15.00          0.000000         0.000000         -73.843777   \n",
       "...             ...               ...              ...                ...   \n",
       "196967        57.33          0.000000         0.000000         -73.789045   \n",
       "197468         6.90          0.000000         0.000000         -73.980827   \n",
       "197863         7.00        -73.962190        40.759158           0.000000   \n",
       "198567        23.50        -73.968115        40.801455           0.000000   \n",
       "198665        20.10         -0.116667        40.729775           0.000000   \n",
       "\n",
       "        dropoff_latitude  passenger_count  year  weekday Monthly_Quarter  \\\n",
       "346            40.786030                1  2015        3              Q1   \n",
       "1067            0.000000                1  2014        6              Q1   \n",
       "1526            0.000000                3  2014        0              Q2   \n",
       "2547           40.803528                2  2011        1              Q3   \n",
       "3045           40.739255                1  2013        1              Q1   \n",
       "...                  ...              ...   ...      ...             ...   \n",
       "196967         40.655135                2  2014        2              Q3   \n",
       "197468         40.747133                5  2011        2              Q1   \n",
       "197863          0.000000                1  2014        1              Q4   \n",
       "198567          0.000000                2  2013        0              Q4   \n",
       "198665          0.000000                5  2012        1              Q2   \n",
       "\n",
       "       Hourly_Segments  distance_traveled  \n",
       "346                 H5           8666.398  \n",
       "1067                H6           8647.036  \n",
       "1526                H4           8666.772  \n",
       "2547                H6           8664.557  \n",
       "3045                H1           8654.177  \n",
       "...                ...                ...  \n",
       "196967              H3           8647.904  \n",
       "197468              H5           8665.686  \n",
       "197863              H6           8664.389  \n",
       "198567              H1           8665.747  \n",
       "198665              H6           4528.960  \n",
       "\n",
       "[379 rows x 11 columns]"
      ]
     },
     "execution_count": 28,
     "metadata": {},
     "output_type": "execute_result"
    }
   ],
   "source": [
    "df_delete_lat_long = df[(df['pickup_longitude']==0) | (df['pickup_latitude']==0) | (df['dropoff_longitude']==0) | (df['dropoff_latitude']==0) ]\n",
    "df_delete_lat_long"
   ]
  },
  {
   "cell_type": "code",
   "execution_count": 29,
   "metadata": {},
   "outputs": [
    {
     "name": "stdout",
     "output_type": "stream",
     "text": [
      "After drop 379\n"
     ]
    }
   ],
   "source": [
    "old_shape = df.shape\n",
    "index_to_delete_lat_long = df[(df['pickup_longitude']==0) | (df['pickup_latitude']==0) | (df['dropoff_longitude']==0) | (df['dropoff_latitude']==0) ].index\n",
    "df.drop(index_to_delete_lat_long,inplace=True)\n",
    "print(f\"After drop {old_shape[0] - df.shape[0]}\")"
   ]
  },
  {
   "cell_type": "markdown",
   "metadata": {},
   "source": [
    "#### Encoding Categorical Features"
   ]
  },
  {
   "cell_type": "code",
   "execution_count": 30,
   "metadata": {},
   "outputs": [
    {
     "name": "stdout",
     "output_type": "stream",
     "text": [
      "Hour Segments Decoded Categories: ['H5' 'H6' 'H6' ... 'H1' 'H4' 'H2']\n",
      "Decoded Categories: ['Q2' 'Q3' 'Q3' ... 'Q2' 'Q2' 'Q2']\n"
     ]
    }
   ],
   "source": [
    "Hour_encoder = LabelEncoder()\n",
    "Month_encoder = LabelEncoder()\n",
    "\n",
    "df.Monthly_Quarter = Month_encoder.fit_transform(df.Monthly_Quarter)\n",
    "df.Hourly_Segments = Hour_encoder.fit_transform(df.Hourly_Segments)\n",
    "\n",
    "Hour_Segments_decoded = Hour_encoder.inverse_transform(df.Hourly_Segments)\n",
    "print(\"Hour Segments Decoded Categories:\", Hour_Segments_decoded)\n",
    "\n",
    "Month_Segments_decoded = Month_encoder.inverse_transform(df.Monthly_Quarter)\n",
    "print(\"Decoded Categories:\", Month_Segments_decoded)"
   ]
  },
  {
   "cell_type": "code",
   "execution_count": 31,
   "metadata": {},
   "outputs": [
    {
     "name": "stdout",
     "output_type": "stream",
     "text": [
      "<class 'pandas.core.frame.DataFrame'>\n",
      "Index: 192787 entries, 0 to 199999\n",
      "Data columns (total 11 columns):\n",
      " #   Column             Non-Null Count   Dtype  \n",
      "---  ------             --------------   -----  \n",
      " 0   fare_amount        192787 non-null  float64\n",
      " 1   pickup_longitude   192787 non-null  float64\n",
      " 2   pickup_latitude    192787 non-null  float64\n",
      " 3   dropoff_longitude  192787 non-null  float64\n",
      " 4   dropoff_latitude   192787 non-null  float64\n",
      " 5   passenger_count    192787 non-null  int64  \n",
      " 6   year               192787 non-null  int32  \n",
      " 7   weekday            192787 non-null  int32  \n",
      " 8   Monthly_Quarter    192787 non-null  int64  \n",
      " 9   Hourly_Segments    192787 non-null  int64  \n",
      " 10  distance_traveled  192787 non-null  float64\n",
      "dtypes: float64(6), int32(2), int64(3)\n",
      "memory usage: 16.2 MB\n"
     ]
    }
   ],
   "source": [
    "df.info()"
   ]
  },
  {
   "cell_type": "code",
   "execution_count": 32,
   "metadata": {},
   "outputs": [
    {
     "name": "stdout",
     "output_type": "stream",
     "text": [
      "Inference: The dataset doesn't have any duplicates\n"
     ]
    }
   ],
   "source": [
    "counter = 0\n",
    "rows,columns = df.shape\n",
    "df.drop_duplicates(inplace=True)\n",
    "df.drop(['pickup_latitude','pickup_longitude',\n",
    "         'dropoff_latitude','dropoff_longitude'],axis=1)\n",
    "if df.shape==(rows,columns):\n",
    "    print('Inference: The dataset doesn\\'t have any duplicates')\n",
    "else:\n",
    "    print(f'Inference: Number of duplicates dropped fixed ---> {rows-df.shape[0]}')"
   ]
  },
  {
   "cell_type": "markdown",
   "metadata": {},
   "source": [
    "#### Feature Selection"
   ]
  },
  {
   "cell_type": "code",
   "execution_count": 33,
   "metadata": {},
   "outputs": [],
   "source": [
    "features =  ['passenger_count', 'year',\n",
    "             'weekday', 'Monthly_Quarter', \n",
    "             'Hourly_Segments', 'distance_traveled']\n",
    "\n",
    "target = 'fare_amount'"
   ]
  },
  {
   "cell_type": "code",
   "execution_count": 34,
   "metadata": {},
   "outputs": [],
   "source": [
    "# Splitting Data into X and Y\n",
    "X, y = df[features], df[target]"
   ]
  },
  {
   "cell_type": "code",
   "execution_count": 35,
   "metadata": {},
   "outputs": [
    {
     "name": "stdout",
     "output_type": "stream",
     "text": [
      "Selected features:\n",
      "\n",
      "passenger_count\n",
      "year\n",
      "weekday\n",
      "Monthly_Quarter\n",
      "Hourly_Segments\n",
      "distance_traveled\n"
     ]
    }
   ],
   "source": [
    "selector = SelectKBest(score_func=f_regression, k=6)\n",
    "X_new = selector.fit_transform(X, y)\n",
    "\n",
    "selected_feature_indices = selector.get_support(indices=True)\n",
    "selected_features = X.columns[selected_feature_indices]\n",
    "\n",
    "print(\"Selected features:\\n\")\n",
    "print('\\n'.join(map(str, selected_features)))"
   ]
  },
  {
   "cell_type": "markdown",
   "metadata": {},
   "source": [
    "### Data Splitting into Train and test set, Data Scaling and Model Training"
   ]
  },
  {
   "cell_type": "code",
   "execution_count": 36,
   "metadata": {},
   "outputs": [],
   "source": [
    "# X_train, X_test, y_train, y_test = train_test_split(X, y, test_size=0.2, random_state=42,shuffle=False)"
   ]
  },
  {
   "cell_type": "code",
   "execution_count": 37,
   "metadata": {},
   "outputs": [],
   "source": [
    "# manual splitting up to 2015 data\n",
    "train, test = df[df.year < 2015], df[df.year == 2015]\n",
    "\n",
    "X_train = train[features]\n",
    "y_train = train[target]\n",
    "\n",
    "X_test = test[features]\n",
    "y_test = test[target]"
   ]
  },
  {
   "cell_type": "code",
   "execution_count": 38,
   "metadata": {},
   "outputs": [
    {
     "name": "stdout",
     "output_type": "stream",
     "text": [
      "X_train shape: (179407, 6)\n",
      "y_train shape: (179407,)\n",
      "X_test shape: (13380, 6)\n",
      "y_test shape: (13380,)\n"
     ]
    }
   ],
   "source": [
    "print(\"X_train shape:\", X_train.shape)\n",
    "print(\"y_train shape:\", y_train.shape)\n",
    "print(\"X_test shape:\", X_test.shape)\n",
    "print(\"y_test shape:\", y_test.shape)"
   ]
  },
  {
   "cell_type": "code",
   "execution_count": 39,
   "metadata": {},
   "outputs": [
    {
     "data": {
      "text/plain": [
       "((179407, 6), (179407,), (13380, 6), (13380,))"
      ]
     },
     "execution_count": 39,
     "metadata": {},
     "output_type": "execute_result"
    }
   ],
   "source": [
    "# transforming the data\n",
    "scaler = StandardScaler()\n",
    "X_train = scaler.fit_transform(X_train)\n",
    "X_test = scaler.transform(X_test)\n",
    "\n",
    "X_train.shape, y_train.shape, X_test.shape, y_test.shape"
   ]
  },
  {
   "cell_type": "code",
   "execution_count": 40,
   "metadata": {},
   "outputs": [],
   "source": [
    "models_collection = {\n",
    "    'Random_Forest_1': RandomForestRegressor(),\n",
    "    'Decision_tree_1': DecisionTreeRegressor(),\n",
    "    'Linear_Regression_1': LinearRegression(),\n",
    "    'XGBoost_1': XGBRegressor(),\n",
    "    'Lasso_1': Lasso(),\n",
    "    'Gradient_Boost_1' : GradientBoostingRegressor(),\n",
    "    'High_Gradient_Boost_1' : HistGradientBoostingRegressor(),\n",
    "}"
   ]
  },
  {
   "cell_type": "code",
   "execution_count": 41,
   "metadata": {},
   "outputs": [],
   "source": [
    "def eval_model(y_true, y_pred):\n",
    "    mae = mean_absolute_error(y_true, y_pred)\n",
    "    mse = mean_squared_error(y_true, y_pred)\n",
    "    r2 = r2_score(y_true, y_pred)\n",
    "    return mae, mse, r2"
   ]
  },
  {
   "cell_type": "code",
   "execution_count": 42,
   "metadata": {},
   "outputs": [
    {
     "name": "stderr",
     "output_type": "stream",
     "text": [
      "Training Models: 100%|██████████| 7/7 [01:22<00:00, 11.86s/it]\n"
     ]
    }
   ],
   "source": [
    "train_test_results = {}\n",
    "\n",
    "for model_name, model in tqdm(models_collection.items(), desc='Training Models'):\n",
    "    model.fit(X_train, y_train.ravel())\n",
    "\n",
    "    y_train_pred = model.predict(X_train)\n",
    "    y_test_pred = model.predict(X_test)\n",
    "\n",
    "    trained_data_mae, trained_data_mse, trained_data_r2 = eval_model(y_train, y_train_pred)\n",
    "    test_data_mae, test_data_mse, test_data_r2 = eval_model(y_test, y_test_pred)\n",
    "\n",
    "    train_test_results[model_name] = {\n",
    "        'Train': {\n",
    "            'Train_MAE': trained_data_mae,\n",
    "            'Train_R2': trained_data_r2,\n",
    "            'Train_mse': trained_data_mse\n",
    "        },\n",
    "        'Test': {\n",
    "            'Test_MAE': test_data_mae,\n",
    "            'Test_R2': test_data_r2,\n",
    "            'Test_mse': test_data_mse\n",
    "        }\n",
    "    }"
   ]
  },
  {
   "cell_type": "code",
   "execution_count": 43,
   "metadata": {},
   "outputs": [
    {
     "name": "stdout",
     "output_type": "stream",
     "text": [
      "-----------------------------------------------------------------\n",
      "Model                     Train_MSE Test_MSE Train_R2 Test_R2 \n",
      "-----------------------------------------------------------------\n",
      "Random_Forest_1           2.344     17.699    0.973     0.856    \n",
      "Decision_tree_1           0.062     40.743    0.999     0.668    \n",
      "Linear_Regression_1       86.265    122.500   0.018     0.003    \n",
      "XGBoost_1                 11.418    15.400    0.870     0.875    \n",
      "Lasso_1                   87.542    124.973   0.004     -0.017   \n",
      "Gradient_Boost_1          14.090    14.740    0.840     0.880    \n",
      "High_Gradient_Boost_1     15.394    15.365    0.825     0.875    \n",
      "-----------------------------------------------------------------\n"
     ]
    }
   ],
   "source": [
    "print('-'*65)\n",
    "print('{:<25s} {:<8s} {:<8s} {:<8s} {:<8s}'.format('Model', 'Train_MSE', 'Test_MSE', 'Train_R2', 'Test_R2'))\n",
    "print('-'*65)\n",
    "for model_name, model_results in train_test_results.items():\n",
    "    print('{:<25s} {:<9.3f} {:<9.3f} {:<9.3f} {:<9.3f}'.format(\n",
    "        model_name,\n",
    "        model_results['Train']['Train_mse'],\n",
    "        model_results['Test']['Test_mse'],\n",
    "        model_results['Train']['Train_R2'],\n",
    "        model_results['Test']['Test_R2'],\n",
    "    ))\n",
    "print('-'*65)"
   ]
  },
  {
   "cell_type": "markdown",
   "metadata": {},
   "source": [
    "### 2. K-Fold Cross Validation, Data Scaling and Model Training"
   ]
  },
  {
   "cell_type": "code",
   "execution_count": 44,
   "metadata": {},
   "outputs": [],
   "source": [
    "scalar_1 = StandardScaler()\n",
    "# taking all features to x fold and y fold as target data\n",
    "X_fold = scalar_1.fit_transform(df[features])\n",
    "y_fold = df.fare_amount"
   ]
  },
  {
   "cell_type": "code",
   "execution_count": 45,
   "metadata": {},
   "outputs": [],
   "source": [
    "Kfold_models = {\n",
    "    'Random_Forest_2': RandomForestRegressor(),\n",
    "    'Decision_tree_2': DecisionTreeRegressor(),\n",
    "    'Linear_Regression_2': LinearRegression(),\n",
    "    'XGBoost_2': XGBRegressor(),\n",
    "    'Lasso_2': Lasso(),\n",
    "    'Gradient_Boost_2' : GradientBoostingRegressor(),\n",
    "    'High_Gradient_Boost_2' : HistGradientBoostingRegressor(),\n",
    "}"
   ]
  },
  {
   "cell_type": "code",
   "execution_count": 46,
   "metadata": {},
   "outputs": [
    {
     "name": "stderr",
     "output_type": "stream",
     "text": [
      "Training Models: 100%|██████████| 7/7 [05:36<00:00, 48.14s/it] \n"
     ]
    }
   ],
   "source": [
    "kfold_results = {}\n",
    "\n",
    "folds = 5\n",
    "k_folds = KFold(n_splits=folds)\n",
    "\n",
    "for model_name, model in tqdm(Kfold_models.items(), desc='Training Models'):\n",
    "    scores = cross_val_score(model, X_fold, y_fold.ravel(), scoring='r2')\n",
    "    \n",
    "    kfold_results[model_name] = {\n",
    "        'Fold_Scores': scores,\n",
    "        'Average_Score': np.mean(scores),\n",
    "}"
   ]
  },
  {
   "cell_type": "code",
   "execution_count": 47,
   "metadata": {},
   "outputs": [
    {
     "name": "stdout",
     "output_type": "stream",
     "text": [
      "----------------------------------------------------------------------\n",
      "Model                     R2 Scores                           Average R2  \n",
      "----------------------------------------------------------------------\n",
      "Random_Forest_2           0.809, 0.826, 0.823, 0.805, 0.820   0.817       \n",
      "Decision_tree_2           0.655, 0.669, 0.637, 0.647, 0.628   0.647       \n",
      "Linear_Regression_2       0.018, 0.018, 0.019, 0.018, 0.021   0.019       \n",
      "XGBoost_2                 0.826, 0.846, 0.842, 0.821, 0.841   0.835       \n",
      "Lasso_2                   0.004, 0.004, 0.004, 0.005, 0.004   0.004       \n",
      "Gradient_Boost_2          0.825, 0.848, 0.844, 0.825, 0.841   0.837       \n",
      "High_Gradient_Boost_2     0.808, 0.836, 0.824, 0.819, 0.830   0.823       \n",
      "----------------------------------------------------------------------\n"
     ]
    }
   ],
   "source": [
    "print('-'*70)\n",
    "print('{:<25s} {:<35s} {:<12s}'.format('Model', 'R2 Scores', 'Average R2'))\n",
    "print('-'*70)\n",
    "for model_name, model_results in kfold_results.items():\n",
    "    scores_str = ', '.join([f'{score:.3f}' for score in model_results['Fold_Scores']])\n",
    "    print('{:<25s} {:<35s} {:<12.3f}'.format(model_name, scores_str, model_results['Average_Score']))\n",
    "print('-'*70)\n"
   ]
  },
  {
   "cell_type": "markdown",
   "metadata": {},
   "source": [
    "## Tuning Hyperparameter\n",
    "Using Optuna for tuning\n",
    "- tuning Hyper parameters of Xgboost cause <b>XGBOOST IS ALL YOU NEED</b>"
   ]
  },
  {
   "cell_type": "code",
   "execution_count": 48,
   "metadata": {},
   "outputs": [],
   "source": [
    "import os\n",
    "import pickle\n",
    "import logging\n",
    "def save_object(obj):\n",
    "    \"\"\"\n",
    "        saving the object in a specific path\n",
    "    \"\"\"\n",
    "    try:\n",
    "        file_path = os.path.join(\"artifacts\", 'model.pkl')\n",
    "        dir_path = os.path.dirname(file_path)\n",
    "        os.makedirs(dir_path, exist_ok=True)\n",
    "        with open(file_path, \"wb\") as file_obj:\n",
    "            pickle.dump(obj, file_obj)\n",
    "        logging.info(f\"Object Saved at : {file_path}\")\n",
    "    except Exception as e:\n",
    "        logging.error(e)"
   ]
  },
  {
   "cell_type": "code",
   "execution_count": 49,
   "metadata": {},
   "outputs": [],
   "source": [
    "def objective(trial):\n",
    "    params = {\n",
    "        'max_depth': trial.suggest_int('max_depth', 5, 500),\n",
    "        'subsample': trial.suggest_float('subsample', 0.1, 1),\n",
    "        'colsample_bytree': trial.suggest_float('colsample_bytree', 0.01, 1.0),\n",
    "        'colsample_bylevel': trial.suggest_float('colsample_bylevel', 0.01, 1.0),\n",
    "        'min_child_weight': trial.suggest_int('min_child_weight', 0.5, 30),\n",
    "        'reg_lambda': trial.suggest_float('reg_lambda', 0.01, 1.0, log=True),\n",
    "        'reg_alpha': trial.suggest_float('reg_alpha', 0.01, 1.0, log=True),\n",
    "        'n_estimators': trial.suggest_int('n_estimators', 100, 1000),\n",
    "        'learning_rate': trial.suggest_float('learning_rate', 0.01, 0.1),\n",
    "    }\n",
    "    model = XGBRegressor(**params)\n",
    "    model.fit(X_train, y_train)\n",
    "    return model.score(X_test, y_test.ravel())"
   ]
  },
  {
   "cell_type": "code",
   "execution_count": 50,
   "metadata": {},
   "outputs": [
    {
     "name": "stderr",
     "output_type": "stream",
     "text": [
      "Optimizing Hyperparameter:   0%|          | 0/200 [00:00<?, ?it/s][I 2023-08-21 16:59:08,709] A new study created in memory with name: no-name-092c3a06-bec4-4031-b13d-8f1d949cd63d\n",
      "[I 2023-08-21 16:59:28,588] Trial 0 finished with value: 0.8845395227360761 and parameters: {'max_depth': 312, 'subsample': 0.45200167839635863, 'colsample_bytree': 0.6292908688660471, 'colsample_bylevel': 0.3362888883573264, 'min_child_weight': 25, 'reg_lambda': 0.04503175626177595, 'reg_alpha': 0.05527727459423678, 'n_estimators': 538, 'learning_rate': 0.07780225991955042}. Best is trial 0 with value: 0.8845395227360761.\n",
      "Optimizing Hyperparameter:   1%|          | 2/200 [00:19<32:48,  9.94s/it][I 2023-08-21 17:00:09,254] Trial 1 finished with value: 0.861144207194035 and parameters: {'max_depth': 189, 'subsample': 0.818340588502551, 'colsample_bytree': 0.8568428641016561, 'colsample_bylevel': 0.8877045407719724, 'min_child_weight': 5, 'reg_lambda': 0.11515197551705078, 'reg_alpha': 0.680727447999879, 'n_estimators': 168, 'learning_rate': 0.032027970764330546}. Best is trial 0 with value: 0.8845395227360761.\n",
      "Optimizing Hyperparameter:   2%|▏         | 3/200 [01:00<1:14:40, 22.74s/it][I 2023-08-21 17:00:45,796] Trial 2 finished with value: 0.8565681384389114 and parameters: {'max_depth': 393, 'subsample': 0.3230309384260426, 'colsample_bytree': 0.2534092755120498, 'colsample_bylevel': 0.2324709567837138, 'min_child_weight': 7, 'reg_lambda': 0.09978022811473308, 'reg_alpha': 0.011691826871516356, 'n_estimators': 770, 'learning_rate': 0.04497571347649592}. Best is trial 0 with value: 0.8845395227360761.\n",
      "Optimizing Hyperparameter:   2%|▏         | 4/200 [01:37<1:31:06, 27.89s/it][I 2023-08-21 17:01:05,145] Trial 3 finished with value: 0.883027231543368 and parameters: {'max_depth': 40, 'subsample': 0.35305237696165137, 'colsample_bytree': 0.5821244682718419, 'colsample_bylevel': 0.5089234973604536, 'min_child_weight': 26, 'reg_lambda': 0.02491933311233524, 'reg_alpha': 0.04182783748588819, 'n_estimators': 571, 'learning_rate': 0.0395775005258181}. Best is trial 0 with value: 0.8845395227360761.\n",
      "Optimizing Hyperparameter:   2%|▎         | 5/200 [01:56<1:20:59, 24.92s/it][I 2023-08-21 17:01:10,940] Trial 4 finished with value: 0.8325691241746113 and parameters: {'max_depth': 208, 'subsample': 0.4090038798829937, 'colsample_bytree': 0.5442090618353296, 'colsample_bylevel': 0.4004672847405547, 'min_child_weight': 10, 'reg_lambda': 0.14410192636872032, 'reg_alpha': 0.4113243798847977, 'n_estimators': 166, 'learning_rate': 0.03544846104290542}. Best is trial 0 with value: 0.8845395227360761.\n",
      "Optimizing Hyperparameter:   3%|▎         | 6/200 [02:02<1:00:03, 18.57s/it][I 2023-08-21 17:01:15,449] Trial 5 finished with value: 0.8815018808765022 and parameters: {'max_depth': 200, 'subsample': 0.6309339963688652, 'colsample_bytree': 0.738565159858182, 'colsample_bylevel': 0.12853199319501463, 'min_child_weight': 0, 'reg_lambda': 0.010593917570326204, 'reg_alpha': 0.09805613576179933, 'n_estimators': 115, 'learning_rate': 0.09924240149340825}. Best is trial 0 with value: 0.8845395227360761.\n",
      "Optimizing Hyperparameter:   4%|▎         | 7/200 [02:06<45:11, 14.05s/it]  [I 2023-08-21 17:01:53,882] Trial 6 finished with value: 0.8828330218586259 and parameters: {'max_depth': 348, 'subsample': 0.8104281822698992, 'colsample_bytree': 0.8556261107886698, 'colsample_bylevel': 0.3721736664237455, 'min_child_weight': 18, 'reg_lambda': 0.07038162926322064, 'reg_alpha': 0.022382164710564444, 'n_estimators': 774, 'learning_rate': 0.01572108294726259}. Best is trial 0 with value: 0.8845395227360761.\n",
      "Optimizing Hyperparameter:   4%|▍         | 8/200 [02:45<1:09:31, 21.73s/it][I 2023-08-21 17:02:03,747] Trial 7 finished with value: 0.8105965863051522 and parameters: {'max_depth': 411, 'subsample': 0.6474862961597836, 'colsample_bytree': 0.07810679570331026, 'colsample_bylevel': 0.3509476157885492, 'min_child_weight': 4, 'reg_lambda': 0.7772755054924512, 'reg_alpha': 0.4754294171857515, 'n_estimators': 250, 'learning_rate': 0.048859851058474846}. Best is trial 0 with value: 0.8845395227360761.\n",
      "Optimizing Hyperparameter:   4%|▍         | 9/200 [02:55<57:27, 18.05s/it]  [I 2023-08-21 17:02:13,196] Trial 8 finished with value: 0.8091810662787996 and parameters: {'max_depth': 297, 'subsample': 0.226620396368262, 'colsample_bytree': 0.2985714440235131, 'colsample_bylevel': 0.42594388294385965, 'min_child_weight': 16, 'reg_lambda': 0.08507684490879562, 'reg_alpha': 0.01291786285920867, 'n_estimators': 293, 'learning_rate': 0.03733932088612988}. Best is trial 0 with value: 0.8845395227360761.\n",
      "Optimizing Hyperparameter:   5%|▌         | 10/200 [03:04<48:47, 15.41s/it][I 2023-08-21 17:02:41,850] Trial 9 finished with value: 0.8794980885766199 and parameters: {'max_depth': 436, 'subsample': 0.7978340715352592, 'colsample_bytree': 0.3826365038852492, 'colsample_bylevel': 0.6321378621016206, 'min_child_weight': 11, 'reg_lambda': 0.05933665206151436, 'reg_alpha': 0.017091832505989953, 'n_estimators': 826, 'learning_rate': 0.021891971397985543}. Best is trial 0 with value: 0.8845395227360761.\n",
      "Optimizing Hyperparameter:   6%|▌         | 11/200 [03:33<1:01:15, 19.45s/it][I 2023-08-21 17:03:00,981] Trial 10 finished with value: 0.874489113335846 and parameters: {'max_depth': 68, 'subsample': 0.13589421907412302, 'colsample_bytree': 0.9457244697241509, 'colsample_bylevel': 0.011147541616168266, 'min_child_weight': 30, 'reg_lambda': 0.29643727479282145, 'reg_alpha': 0.11835267957819146, 'n_estimators': 480, 'learning_rate': 0.07030356371697569}. Best is trial 0 with value: 0.8845395227360761.\n",
      "Optimizing Hyperparameter:   6%|▌         | 12/200 [03:52<1:00:37, 19.35s/it][I 2023-08-21 17:03:18,038] Trial 11 finished with value: 0.8837369909274746 and parameters: {'max_depth': 28, 'subsample': 0.455616129839755, 'colsample_bytree': 0.6016612675664456, 'colsample_bylevel': 0.5982685056348193, 'min_child_weight': 26, 'reg_lambda': 0.023288557881022545, 'reg_alpha': 0.04326497767538822, 'n_estimators': 448, 'learning_rate': 0.0627921345523756}. Best is trial 0 with value: 0.8845395227360761.\n",
      "Optimizing Hyperparameter:   6%|▋         | 13/200 [04:09<58:08, 18.66s/it]  [I 2023-08-21 17:03:37,050] Trial 12 finished with value: 0.8836350366884613 and parameters: {'max_depth': 286, 'subsample': 0.4822831743777059, 'colsample_bytree': 0.6470651121038113, 'colsample_bylevel': 0.6252378060908936, 'min_child_weight': 26, 'reg_lambda': 0.028968032827545506, 'reg_alpha': 0.04669812679578512, 'n_estimators': 502, 'learning_rate': 0.06576768754823563}. Best is trial 0 with value: 0.8845395227360761.\n",
      "Optimizing Hyperparameter:   7%|▋         | 14/200 [04:28<58:10, 18.77s/it][I 2023-08-21 17:03:50,064] Trial 13 finished with value: 0.8829630078980858 and parameters: {'max_depth': 496, 'subsample': 0.5286291043754446, 'colsample_bytree': 0.46395191427833243, 'colsample_bylevel': 0.7095212337405432, 'min_child_weight': 22, 'reg_lambda': 0.029925904621890747, 'reg_alpha': 0.048377917679040545, 'n_estimators': 437, 'learning_rate': 0.0737564344750087}. Best is trial 0 with value: 0.8845395227360761.\n",
      "Optimizing Hyperparameter:   8%|▊         | 15/200 [04:41<52:30, 17.03s/it][I 2023-08-21 17:04:17,426] Trial 14 finished with value: 0.8835940843807156 and parameters: {'max_depth': 110, 'subsample': 0.4624944685814196, 'colsample_bytree': 0.7185348854611778, 'colsample_bylevel': 0.23316460072508235, 'min_child_weight': 22, 'reg_lambda': 0.010033063962907476, 'reg_alpha': 0.10869955249558116, 'n_estimators': 631, 'learning_rate': 0.059178868633346496}. Best is trial 0 with value: 0.8845395227360761.\n",
      "Optimizing Hyperparameter:   8%|▊         | 16/200 [05:08<1:01:46, 20.14s/it][I 2023-08-21 17:04:45,338] Trial 15 finished with value: 0.8821136987404563 and parameters: {'max_depth': 135, 'subsample': 0.9932349146044392, 'colsample_bytree': 0.4972369101268701, 'colsample_bylevel': 0.9532424011833449, 'min_child_weight': 29, 'reg_lambda': 0.04490729777744844, 'reg_alpha': 0.028783972848417987, 'n_estimators': 983, 'learning_rate': 0.08227831410461095}. Best is trial 0 with value: 0.8845395227360761.\n",
      "Optimizing Hyperparameter:   8%|▊         | 17/200 [05:36<1:08:32, 22.48s/it][I 2023-08-21 17:05:11,110] Trial 16 finished with value: 0.8802699314156535 and parameters: {'max_depth': 18, 'subsample': 0.2608736594995709, 'colsample_bytree': 0.6725740829740718, 'colsample_bylevel': 0.5166763642323298, 'min_child_weight': 21, 'reg_lambda': 0.019362363303587975, 'reg_alpha': 0.06540037718943693, 'n_estimators': 385, 'learning_rate': 0.05387848073119263}. Best is trial 0 with value: 0.8845395227360761.\n",
      "Optimizing Hyperparameter:   9%|▉         | 18/200 [06:02<1:11:10, 23.47s/it][I 2023-08-21 17:06:05,833] Trial 17 finished with value: 0.8763923292718014 and parameters: {'max_depth': 325, 'subsample': 0.41320006626031475, 'colsample_bytree': 0.583759058193758, 'colsample_bylevel': 0.7930046041556362, 'min_child_weight': 26, 'reg_lambda': 0.03816537190843507, 'reg_alpha': 0.026553850056152576, 'n_estimators': 657, 'learning_rate': 0.0779038383444357}. Best is trial 0 with value: 0.8845395227360761.\n",
      "Optimizing Hyperparameter:  10%|▉         | 19/200 [06:57<1:39:06, 32.85s/it][I 2023-08-21 17:06:39,861] Trial 18 finished with value: 0.875013149202319 and parameters: {'max_depth': 235, 'subsample': 0.5832809988667401, 'colsample_bytree': 0.7659577010846046, 'colsample_bylevel': 0.6130755678777852, 'min_child_weight': 20, 'reg_lambda': 0.016363062138236385, 'reg_alpha': 0.17787185314002366, 'n_estimators': 363, 'learning_rate': 0.061852834688103056}. Best is trial 0 with value: 0.8845395227360761.\n",
      "Optimizing Hyperparameter:  10%|█         | 20/200 [07:31<1:39:36, 33.20s/it][I 2023-08-21 17:06:57,617] Trial 19 finished with value: 0.8834689586983626 and parameters: {'max_depth': 139, 'subsample': 0.5261617119185383, 'colsample_bytree': 0.44793780040472087, 'colsample_bylevel': 0.7791849362475354, 'min_child_weight': 14, 'reg_lambda': 0.04233120287518997, 'reg_alpha': 0.19846589096671718, 'n_estimators': 587, 'learning_rate': 0.08477198553809273}. Best is trial 0 with value: 0.8845395227360761.\n",
      "Optimizing Hyperparameter:  10%|█         | 21/200 [07:48<1:25:13, 28.57s/it][I 2023-08-21 17:07:53,432] Trial 20 finished with value: 0.8760981331253818 and parameters: {'max_depth': 357, 'subsample': 0.3508482325229086, 'colsample_bytree': 0.6699749159324621, 'colsample_bylevel': 0.530671466059908, 'min_child_weight': 25, 'reg_lambda': 0.017844626807554716, 'reg_alpha': 0.032514256302505526, 'n_estimators': 691, 'learning_rate': 0.05482513502261047}. Best is trial 0 with value: 0.8845395227360761.\n",
      "Optimizing Hyperparameter:  11%|█         | 22/200 [08:44<1:49:00, 36.74s/it][I 2023-08-21 17:08:11,749] Trial 21 finished with value: 0.8835768352067668 and parameters: {'max_depth': 241, 'subsample': 0.4367370743355063, 'colsample_bytree': 0.6321320101252462, 'colsample_bylevel': 0.6207892160215029, 'min_child_weight': 25, 'reg_lambda': 0.02881273937338699, 'reg_alpha': 0.06098868856273806, 'n_estimators': 501, 'learning_rate': 0.0646126561623611}. Best is trial 0 with value: 0.8845395227360761.\n",
      "Optimizing Hyperparameter:  12%|█▏        | 23/200 [09:03<1:32:05, 31.22s/it][I 2023-08-21 17:08:53,530] Trial 22 finished with value: 0.879525419372894 and parameters: {'max_depth': 278, 'subsample': 0.4766147352612776, 'colsample_bytree': 0.6054227917464889, 'colsample_bylevel': 0.6867167958315719, 'min_child_weight': 28, 'reg_lambda': 0.04997823640382918, 'reg_alpha': 0.042121501403711126, 'n_estimators': 489, 'learning_rate': 0.0707677805398856}. Best is trial 0 with value: 0.8845395227360761.\n",
      "Optimizing Hyperparameter:  12%|█▏        | 24/200 [09:44<1:40:51, 34.39s/it][I 2023-08-21 17:09:09,286] Trial 23 finished with value: 0.8833086743926986 and parameters: {'max_depth': 284, 'subsample': 0.5354763490701486, 'colsample_bytree': 0.5327637975450202, 'colsample_bylevel': 0.551661784853127, 'min_child_weight': 24, 'reg_lambda': 0.031708677569912386, 'reg_alpha': 0.06875106719164763, 'n_estimators': 372, 'learning_rate': 0.06470807848204091}. Best is trial 0 with value: 0.8845395227360761.\n",
      "Optimizing Hyperparameter:  12%|█▎        | 25/200 [10:00<1:23:59, 28.80s/it][I 2023-08-21 17:09:29,535] Trial 24 finished with value: 0.883018408166749 and parameters: {'max_depth': 317, 'subsample': 0.2894929798281845, 'colsample_bytree': 0.7933202723687156, 'colsample_bylevel': 0.4575024836363087, 'min_child_weight': 28, 'reg_lambda': 0.02385246692285062, 'reg_alpha': 0.021034393640503902, 'n_estimators': 542, 'learning_rate': 0.08823650240699116}. Best is trial 0 with value: 0.8845395227360761.\n",
      "Optimizing Hyperparameter:  13%|█▎        | 26/200 [10:20<1:16:04, 26.23s/it][I 2023-08-21 17:09:45,783] Trial 25 finished with value: 0.8840445008229184 and parameters: {'max_depth': 159, 'subsample': 0.39113828895614555, 'colsample_bytree': 0.6568846906094514, 'colsample_bylevel': 0.31422233720512843, 'min_child_weight': 18, 'reg_lambda': 0.06264733958076868, 'reg_alpha': 0.03609752122941709, 'n_estimators': 424, 'learning_rate': 0.06699377128151081}. Best is trial 0 with value: 0.8845395227360761.\n",
      "Optimizing Hyperparameter:  14%|█▎        | 27/200 [10:37<1:06:59, 23.24s/it][I 2023-08-21 17:09:57,197] Trial 26 finished with value: 0.8831294385062054 and parameters: {'max_depth': 78, 'subsample': 0.37954204399348623, 'colsample_bytree': 0.6878683692902329, 'colsample_bylevel': 0.3095055030132202, 'min_child_weight': 17, 'reg_lambda': 0.07696886933397912, 'reg_alpha': 0.033949227983562875, 'n_estimators': 295, 'learning_rate': 0.07539583716458144}. Best is trial 0 with value: 0.8845395227360761.\n",
      "Optimizing Hyperparameter:  14%|█▍        | 28/200 [10:48<56:26, 19.69s/it]  [I 2023-08-21 17:10:11,719] Trial 27 finished with value: 0.8815414735037798 and parameters: {'max_depth': 143, 'subsample': 0.2573247664140339, 'colsample_bytree': 0.56866181297751, 'colsample_bylevel': 0.3101167213204166, 'min_child_weight': 19, 'reg_lambda': 0.05601877169742308, 'reg_alpha': 0.015092535444903086, 'n_estimators': 414, 'learning_rate': 0.05429030475708351}. Best is trial 0 with value: 0.8845395227360761.\n",
      "Optimizing Hyperparameter:  14%|█▍        | 29/200 [11:03<51:41, 18.14s/it][I 2023-08-21 17:10:24,299] Trial 28 finished with value: 0.8816762177289521 and parameters: {'max_depth': 91, 'subsample': 0.1911464094371303, 'colsample_bytree': 0.8185198122368584, 'colsample_bylevel': 0.41329527494511853, 'min_child_weight': 14, 'reg_lambda': 0.04510459619734998, 'reg_alpha': 0.02161098454569407, 'n_estimators': 334, 'learning_rate': 0.06980937292258954}. Best is trial 0 with value: 0.8845395227360761.\n",
      "Optimizing Hyperparameter:  15%|█▌        | 30/200 [11:15<46:40, 16.47s/it][I 2023-08-21 17:10:35,765] Trial 29 finished with value: 0.8801437268982993 and parameters: {'max_depth': 165, 'subsample': 0.30565889502407906, 'colsample_bytree': 0.7375088650154087, 'colsample_bylevel': 0.46389801685362153, 'min_child_weight': 23, 'reg_lambda': 0.15951256927015772, 'reg_alpha': 0.03247493310466904, 'n_estimators': 269, 'learning_rate': 0.0592105201827281}. Best is trial 0 with value: 0.8845395227360761.\n",
      "Optimizing Hyperparameter:  16%|█▌        | 31/200 [11:27<42:09, 14.97s/it][I 2023-08-21 17:10:46,672] Trial 30 finished with value: 0.8816313350875646 and parameters: {'max_depth': 45, 'subsample': 0.382083315300061, 'colsample_bytree': 0.9077892948962876, 'colsample_bylevel': 0.2525200780452948, 'min_child_weight': 12, 'reg_lambda': 0.0651145092514754, 'reg_alpha': 0.07649574128093828, 'n_estimators': 228, 'learning_rate': 0.08035677652709583}. Best is trial 0 with value: 0.8845395227360761.\n",
      "Optimizing Hyperparameter:  16%|█▌        | 32/200 [11:37<38:30, 13.75s/it][I 2023-08-21 17:11:04,887] Trial 31 finished with value: 0.8841901820458121 and parameters: {'max_depth': 268, 'subsample': 0.48875078735271493, 'colsample_bytree': 0.6480793161484937, 'colsample_bylevel': 0.5635540664219484, 'min_child_weight': 27, 'reg_lambda': 0.0402437963417305, 'reg_alpha': 0.049348379820699076, 'n_estimators': 477, 'learning_rate': 0.06655846623012403}. Best is trial 0 with value: 0.8845395227360761.\n",
      "Optimizing Hyperparameter:  16%|█▋        | 33/200 [11:56<42:00, 15.09s/it][I 2023-08-21 17:11:24,306] Trial 32 finished with value: 0.883579815630437 and parameters: {'max_depth': 254, 'subsample': 0.4413471682010217, 'colsample_bytree': 0.6313689221045581, 'colsample_bylevel': 0.462245192747718, 'min_child_weight': 28, 'reg_lambda': 0.036668774862885146, 'reg_alpha': 0.050459381010317286, 'n_estimators': 456, 'learning_rate': 0.07537514363450944}. Best is trial 0 with value: 0.8845395227360761.\n",
      "Optimizing Hyperparameter:  17%|█▋        | 34/200 [12:15<45:20, 16.39s/it][I 2023-08-21 17:11:47,034] Trial 33 finished with value: 0.8824952947459644 and parameters: {'max_depth': 9, 'subsample': 0.3834627333832322, 'colsample_bytree': 0.7083780257869325, 'colsample_bylevel': 0.5338307908853865, 'min_child_weight': 30, 'reg_lambda': 0.10268214722041491, 'reg_alpha': 0.03785390978687683, 'n_estimators': 555, 'learning_rate': 0.06729781106346716}. Best is trial 0 with value: 0.8845395227360761.\n",
      "Optimizing Hyperparameter:  18%|█▊        | 35/200 [12:38<50:17, 18.29s/it][I 2023-08-21 17:12:12,982] Trial 34 finished with value: 0.8818440063528801 and parameters: {'max_depth': 209, 'subsample': 0.30795717763919145, 'colsample_bytree': 0.9947707235872246, 'colsample_bylevel': 0.3784178701256513, 'min_child_weight': 27, 'reg_lambda': 0.053361543682665324, 'reg_alpha': 0.0541314270841046, 'n_estimators': 630, 'learning_rate': 0.04773731842946956}. Best is trial 0 with value: 0.8845395227360761.\n",
      "Optimizing Hyperparameter:  18%|█▊        | 36/200 [13:04<56:16, 20.59s/it][I 2023-08-21 17:12:27,562] Trial 35 finished with value: 0.8828436101479893 and parameters: {'max_depth': 177, 'subsample': 0.3486554862732809, 'colsample_bytree': 0.538292714462739, 'colsample_bylevel': 0.1701293519643347, 'min_child_weight': 23, 'reg_lambda': 0.022101054997015993, 'reg_alpha': 0.08067264756034444, 'n_estimators': 420, 'learning_rate': 0.059988297762581425}. Best is trial 0 with value: 0.8845395227360761.\n",
      "Optimizing Hyperparameter:  18%|█▊        | 37/200 [13:18<51:02, 18.79s/it][I 2023-08-21 17:12:55,434] Trial 36 finished with value: 0.8813427441148752 and parameters: {'max_depth': 367, 'subsample': 0.5900441509563621, 'colsample_bytree': 0.7760015581481093, 'colsample_bylevel': 0.314540473556388, 'min_child_weight': 21, 'reg_lambda': 0.014721478658697395, 'reg_alpha': 0.04041247229330803, 'n_estimators': 539, 'learning_rate': 0.0895196349807687}. Best is trial 0 with value: 0.8845395227360761.\n",
      "Optimizing Hyperparameter:  19%|█▉        | 38/200 [13:46<58:05, 21.51s/it][I 2023-08-21 17:13:25,478] Trial 37 finished with value: 0.884077472584968 and parameters: {'max_depth': 217, 'subsample': 0.48442332623104667, 'colsample_bytree': 0.6010059504586965, 'colsample_bylevel': 0.5612302387732205, 'min_child_weight': 9, 'reg_lambda': 0.03618039705386855, 'reg_alpha': 0.01035569143875024, 'n_estimators': 745, 'learning_rate': 0.042887835369915785}. Best is trial 0 with value: 0.8845395227360761.\n",
      "Optimizing Hyperparameter:  20%|█▉        | 39/200 [14:16<1:04:35, 24.07s/it][I 2023-08-21 17:15:12,270] Trial 38 finished with value: 0.8531396620574544 and parameters: {'max_depth': 198, 'subsample': 0.5067314317558033, 'colsample_bytree': 0.8412788925855963, 'colsample_bylevel': 0.4771045551200233, 'min_child_weight': 7, 'reg_lambda': 0.03748771846283787, 'reg_alpha': 0.01013844132737867, 'n_estimators': 862, 'learning_rate': 0.03970595539322777}. Best is trial 0 with value: 0.8845395227360761.\n",
      "Optimizing Hyperparameter:  20%|██        | 40/200 [16:03<2:10:22, 48.89s/it][I 2023-08-21 17:15:57,217] Trial 39 finished with value: 0.8809233256492398 and parameters: {'max_depth': 229, 'subsample': 0.5801486767686187, 'colsample_bytree': 0.7211542356951779, 'colsample_bylevel': 0.3696274604182631, 'min_child_weight': 9, 'reg_lambda': 0.07792762817162427, 'reg_alpha': 0.012179569167161045, 'n_estimators': 712, 'learning_rate': 0.043761438857413654}. Best is trial 0 with value: 0.8845395227360761.\n",
      "Optimizing Hyperparameter:  20%|██        | 41/200 [16:48<2:06:24, 47.70s/it][I 2023-08-21 17:16:25,209] Trial 40 finished with value: 0.8838288071901832 and parameters: {'max_depth': 323, 'subsample': 0.4100428654715008, 'colsample_bytree': 0.5549805156610477, 'colsample_bylevel': 0.40867666855911244, 'min_child_weight': 6, 'reg_lambda': 0.06149089239938166, 'reg_alpha': 0.018316441501439403, 'n_estimators': 753, 'learning_rate': 0.031192346820041298}. Best is trial 0 with value: 0.8845395227360761.\n",
      "Optimizing Hyperparameter:  21%|██        | 42/200 [17:16<1:50:02, 41.79s/it][I 2023-08-21 17:16:51,648] Trial 41 finished with value: 0.8840989553381596 and parameters: {'max_depth': 263, 'subsample': 0.393167603692814, 'colsample_bytree': 0.5599302987995307, 'colsample_bylevel': 0.41931984922473725, 'min_child_weight': 2, 'reg_lambda': 0.05999893169725111, 'reg_alpha': 0.018730208302140224, 'n_estimators': 781, 'learning_rate': 0.027779276753073706}. Best is trial 0 with value: 0.8845395227360761.\n",
      "Optimizing Hyperparameter:  22%|██▏       | 43/200 [17:42<1:37:17, 37.18s/it][I 2023-08-21 17:17:22,398] Trial 42 finished with value: 0.8837060613959726 and parameters: {'max_depth': 262, 'subsample': 0.49140324488034975, 'colsample_bytree': 0.6317357706054411, 'colsample_bylevel': 0.5666305821796658, 'min_child_weight': 0, 'reg_lambda': 0.08775350622712161, 'reg_alpha': 0.016101061485597635, 'n_estimators': 866, 'learning_rate': 0.02634397361178438}. Best is trial 0 with value: 0.8845395227360761.\n",
      "Optimizing Hyperparameter:  22%|██▏       | 44/200 [18:13<1:31:40, 35.26s/it][I 2023-08-21 17:17:56,984] Trial 43 finished with value: 0.8811738526987544 and parameters: {'max_depth': 218, 'subsample': 0.344398598705701, 'colsample_bytree': 0.5014268247197764, 'colsample_bylevel': 0.49373590357449115, 'min_child_weight': 3, 'reg_lambda': 0.04829321323747606, 'reg_alpha': 0.024771553103262952, 'n_estimators': 994, 'learning_rate': 0.013016943565297624}. Best is trial 0 with value: 0.8845395227360761.\n",
      "Optimizing Hyperparameter:  22%|██▎       | 45/200 [18:48<1:30:33, 35.05s/it][I 2023-08-21 17:18:29,492] Trial 44 finished with value: 0.8837517253060845 and parameters: {'max_depth': 309, 'subsample': 0.4124132154052375, 'colsample_bytree': 0.5832152269328797, 'colsample_bylevel': 0.335492664170734, 'min_child_weight': 2, 'reg_lambda': 0.13384837002070002, 'reg_alpha': 0.014698931555421601, 'n_estimators': 925, 'learning_rate': 0.019040170724154516}. Best is trial 0 with value: 0.8845395227360761.\n",
      "Optimizing Hyperparameter:  23%|██▎       | 46/200 [19:20<1:28:00, 34.29s/it][I 2023-08-21 17:18:59,869] Trial 45 finished with value: 0.882652731672292 and parameters: {'max_depth': 164, 'subsample': 0.4673359318896847, 'colsample_bytree': 0.6695233642740233, 'colsample_bylevel': 0.41906672520710814, 'min_child_weight': 8, 'reg_lambda': 0.05906974375097977, 'reg_alpha': 0.011644744932112878, 'n_estimators': 773, 'learning_rate': 0.03404720883535367}. Best is trial 0 with value: 0.8845395227360761.\n",
      "Optimizing Hyperparameter:  24%|██▎       | 47/200 [19:51<1:24:26, 33.12s/it][I 2023-08-21 17:19:23,762] Trial 46 finished with value: 0.884522316282039 and parameters: {'max_depth': 265, 'subsample': 0.5185400368613461, 'colsample_bytree': 0.43576524525304544, 'colsample_bylevel': 0.5711507012888859, 'min_child_weight': 12, 'reg_lambda': 0.03441438063943237, 'reg_alpha': 0.02078229255203239, 'n_estimators': 824, 'learning_rate': 0.05032350372924948}. Best is trial 0 with value: 0.8845395227360761.\n",
      "Optimizing Hyperparameter:  24%|██▍       | 48/200 [20:15<1:16:53, 30.35s/it][I 2023-08-21 17:19:47,531] Trial 47 finished with value: 0.8827287156715328 and parameters: {'max_depth': 395, 'subsample': 0.6466431653108708, 'colsample_bytree': 0.46546751241589623, 'colsample_bylevel': 0.5647799194868172, 'min_child_weight': 12, 'reg_lambda': 0.03395489621237788, 'reg_alpha': 0.019614547883868363, 'n_estimators': 832, 'learning_rate': 0.05008506078088748}. Best is trial 0 with value: 0.8845395227360761.\n",
      "Optimizing Hyperparameter:  24%|██▍       | 49/200 [20:38<1:11:24, 28.38s/it][I 2023-08-21 17:20:15,556] Trial 48 finished with value: 0.882100986900291 and parameters: {'max_depth': 261, 'subsample': 0.556693973282066, 'colsample_bytree': 0.3724619157163078, 'colsample_bylevel': 0.5796876628054128, 'min_child_weight': 5, 'reg_lambda': 0.040196191162960325, 'reg_alpha': 0.024216584173696015, 'n_estimators': 916, 'learning_rate': 0.0422269915465933}. Best is trial 0 with value: 0.8845395227360761.\n",
      "Optimizing Hyperparameter:  25%|██▌       | 50/200 [21:06<1:10:40, 28.27s/it][I 2023-08-21 17:20:32,849] Trial 49 finished with value: 0.8814933956676677 and parameters: {'max_depth': 343, 'subsample': 0.49532144443291254, 'colsample_bytree': 0.4114185191992833, 'colsample_bylevel': 0.49302309167038205, 'min_child_weight': 11, 'reg_lambda': 0.026873798826651526, 'reg_alpha': 0.010000826948800846, 'n_estimators': 607, 'learning_rate': 0.038438852434051055}. Best is trial 0 with value: 0.8845395227360761.\n",
      "Optimizing Hyperparameter:  26%|██▌       | 51/200 [21:24<1:02:01, 24.98s/it][I 2023-08-21 17:20:59,181] Trial 50 finished with value: 0.8837760277900725 and parameters: {'max_depth': 436, 'subsample': 0.6105572622093722, 'colsample_bytree': 0.5183868587283516, 'colsample_bylevel': 0.6594952182874954, 'min_child_weight': 15, 'reg_lambda': 0.032233006237933744, 'reg_alpha': 0.013726374921961684, 'n_estimators': 742, 'learning_rate': 0.044309312115274946}. Best is trial 0 with value: 0.8845395227360761.\n",
      "Optimizing Hyperparameter:  26%|██▌       | 52/200 [21:50<1:02:36, 25.38s/it][I 2023-08-21 17:21:28,815] Trial 51 finished with value: 0.8841459395358693 and parameters: {'max_depth': 294, 'subsample': 0.5131652299165868, 'colsample_bytree': 0.5888949551422976, 'colsample_bylevel': 0.43774703051692826, 'min_child_weight': 13, 'reg_lambda': 0.0690726557691606, 'reg_alpha': 0.02837211381556392, 'n_estimators': 807, 'learning_rate': 0.05017493917430263}. Best is trial 0 with value: 0.8845395227360761.\n",
      "Optimizing Hyperparameter:  26%|██▋       | 53/200 [22:20<1:05:18, 26.66s/it][I 2023-08-21 17:21:52,584] Trial 52 finished with value: 0.8837441627304915 and parameters: {'max_depth': 294, 'subsample': 0.5251156307485756, 'colsample_bytree': 0.5946337865939004, 'colsample_bylevel': 0.4366904372392538, 'min_child_weight': 10, 'reg_lambda': 0.047619532199877634, 'reg_alpha': 0.028886486305034376, 'n_estimators': 709, 'learning_rate': 0.05029553175105547}. Best is trial 0 with value: 0.8845395227360761.\n",
      "Optimizing Hyperparameter:  27%|██▋       | 54/200 [22:43<1:02:45, 25.79s/it][I 2023-08-21 17:22:20,091] Trial 53 finished with value: 0.8843753908260387 and parameters: {'max_depth': 269, 'subsample': 0.5525558893619111, 'colsample_bytree': 0.5511260474666897, 'colsample_bylevel': 0.509769392262034, 'min_child_weight': 14, 'reg_lambda': 0.040985941236462514, 'reg_alpha': 0.01752571796862191, 'n_estimators': 807, 'learning_rate': 0.04075200299617516}. Best is trial 0 with value: 0.8845395227360761.\n",
      "Optimizing Hyperparameter:  28%|██▊       | 55/200 [23:11<1:03:34, 26.31s/it][I 2023-08-21 17:22:47,331] Trial 54 finished with value: 0.8849572522782743 and parameters: {'max_depth': 274, 'subsample': 0.5475386084736504, 'colsample_bytree': 0.5137790300968605, 'colsample_bylevel': 0.5227905430084384, 'min_child_weight': 13, 'reg_lambda': 0.04345556187085086, 'reg_alpha': 0.028505133944626004, 'n_estimators': 812, 'learning_rate': 0.032382812244981886}. Best is trial 54 with value: 0.8849572522782743.\n",
      "Optimizing Hyperparameter:  28%|██▊       | 56/200 [23:38<1:03:48, 26.59s/it][I 2023-08-21 17:23:10,761] Trial 55 finished with value: 0.8831886734078815 and parameters: {'max_depth': 338, 'subsample': 0.5527989307739444, 'colsample_bytree': 0.4843883384363347, 'colsample_bylevel': 0.5234691783701245, 'min_child_weight': 13, 'reg_lambda': 0.027578907323574247, 'reg_alpha': 0.024755728573505973, 'n_estimators': 826, 'learning_rate': 0.04685495762282336}. Best is trial 54 with value: 0.8849572522782743.\n",
      "Optimizing Hyperparameter:  28%|██▊       | 57/200 [24:02<1:01:06, 25.64s/it][I 2023-08-21 17:23:28,856] Trial 56 finished with value: 0.8830680705424547 and parameters: {'max_depth': 378, 'subsample': 0.6855683588902393, 'colsample_bytree': 0.4391999060469777, 'colsample_bylevel': 0.6003094458535836, 'min_child_weight': 15, 'reg_lambda': 0.04161817697698572, 'reg_alpha': 0.030042088807633812, 'n_estimators': 666, 'learning_rate': 0.051082606169034345}. Best is trial 54 with value: 0.8849572522782743.\n",
      "Optimizing Hyperparameter:  29%|██▉       | 58/200 [24:20<55:19, 23.38s/it]  [I 2023-08-21 17:23:58,885] Trial 57 finished with value: 0.8834340437189813 and parameters: {'max_depth': 298, 'subsample': 0.43414204311642995, 'colsample_bytree': 0.517470438458763, 'colsample_bylevel': 0.5015062966079299, 'min_child_weight': 17, 'reg_lambda': 0.05203893754011463, 'reg_alpha': 0.04203814050092576, 'n_estimators': 929, 'learning_rate': 0.057532440760797846}. Best is trial 54 with value: 0.8849572522782743.\n",
      "Optimizing Hyperparameter:  30%|██▉       | 59/200 [24:50<59:37, 25.37s/it][I 2023-08-21 17:24:22,106] Trial 58 finished with value: 0.8826714487742522 and parameters: {'max_depth': 271, 'subsample': 0.5653794350676867, 'colsample_bytree': 0.48372262268421096, 'colsample_bylevel': 0.523955838947574, 'min_child_weight': 13, 'reg_lambda': 0.0741298959003142, 'reg_alpha': 0.028374942820628322, 'n_estimators': 800, 'learning_rate': 0.03533427739668953}. Best is trial 54 with value: 0.8849572522782743.\n",
      "Optimizing Hyperparameter:  30%|███       | 60/200 [25:13<57:41, 24.73s/it][I 2023-08-21 17:24:45,222] Trial 59 finished with value: 0.883748908352319 and parameters: {'max_depth': 240, 'subsample': 0.5233319364887612, 'colsample_bytree': 0.3739814905348015, 'colsample_bylevel': 0.6431942983491219, 'min_child_weight': 16, 'reg_lambda': 0.025701041067602483, 'reg_alpha': 0.02184355042858488, 'n_estimators': 811, 'learning_rate': 0.040312473367198655}. Best is trial 54 with value: 0.8849572522782743.\n",
      "Optimizing Hyperparameter:  30%|███       | 61/200 [25:36<56:09, 24.24s/it][I 2023-08-21 17:24:48,753] Trial 60 finished with value: 0.8275871165775397 and parameters: {'max_depth': 304, 'subsample': 0.6304161158645987, 'colsample_bytree': 0.525835204064363, 'colsample_bylevel': 0.5955995023895675, 'min_child_weight': 11, 'reg_lambda': 0.03107824964102163, 'reg_alpha': 0.055785841278040454, 'n_estimators': 101, 'learning_rate': 0.04589501124694025}. Best is trial 54 with value: 0.8849572522782743.\n",
      "Optimizing Hyperparameter:  31%|███       | 62/200 [25:40<41:28, 18.03s/it][I 2023-08-21 17:25:19,395] Trial 61 finished with value: 0.8847340092017306 and parameters: {'max_depth': 279, 'subsample': 0.4345424926097525, 'colsample_bytree': 0.5622634134407082, 'colsample_bylevel': 0.3923528714879626, 'min_child_weight': 14, 'reg_lambda': 0.06742774838901208, 'reg_alpha': 0.017874241571797112, 'n_estimators': 953, 'learning_rate': 0.029727487436549856}. Best is trial 54 with value: 0.8849572522782743.\n",
      "Optimizing Hyperparameter:  32%|███▏      | 63/200 [26:10<49:48, 21.81s/it][I 2023-08-21 17:25:50,494] Trial 62 finished with value: 0.8845733138442932 and parameters: {'max_depth': 285, 'subsample': 0.4627248930143012, 'colsample_bytree': 0.6164593016487597, 'colsample_bylevel': 0.3791848485254336, 'min_child_weight': 14, 'reg_lambda': 0.04307171108439918, 'reg_alpha': 0.016932454652929828, 'n_estimators': 953, 'learning_rate': 0.03238326737254882}. Best is trial 54 with value: 0.8849572522782743.\n",
      "Optimizing Hyperparameter:  32%|███▏      | 64/200 [26:41<55:45, 24.60s/it][I 2023-08-21 17:26:21,921] Trial 63 finished with value: 0.8847512183399694 and parameters: {'max_depth': 278, 'subsample': 0.45246303128825766, 'colsample_bytree': 0.6229087916849172, 'colsample_bylevel': 0.3846738043355687, 'min_child_weight': 16, 'reg_lambda': 0.04361270318449301, 'reg_alpha': 0.01768709727454582, 'n_estimators': 958, 'learning_rate': 0.032066465343121235}. Best is trial 54 with value: 0.8849572522782743.\n",
      "Optimizing Hyperparameter:  32%|███▎      | 65/200 [27:13<59:57, 26.65s/it][I 2023-08-21 17:26:55,310] Trial 64 finished with value: 0.884675083225052 and parameters: {'max_depth': 333, 'subsample': 0.445044091768095, 'colsample_bytree': 0.5464670911736771, 'colsample_bylevel': 0.3863154148158539, 'min_child_weight': 16, 'reg_lambda': 0.04517029823893159, 'reg_alpha': 0.017302485672792498, 'n_estimators': 955, 'learning_rate': 0.03660350333397426}. Best is trial 54 with value: 0.8849572522782743.\n",
      "Optimizing Hyperparameter:  33%|███▎      | 66/200 [27:46<1:04:01, 28.67s/it][I 2023-08-21 17:27:30,452] Trial 65 finished with value: 0.8845566495765697 and parameters: {'max_depth': 336, 'subsample': 0.45745255653384803, 'colsample_bytree': 0.6211133280082167, 'colsample_bylevel': 0.3825415863602166, 'min_child_weight': 16, 'reg_lambda': 0.05147423316503683, 'reg_alpha': 0.015234065250817498, 'n_estimators': 956, 'learning_rate': 0.031415454176665907}. Best is trial 54 with value: 0.8849572522782743.\n",
      "Optimizing Hyperparameter:  34%|███▎      | 67/200 [28:21<1:07:51, 30.61s/it][I 2023-08-21 17:28:07,956] Trial 66 finished with value: 0.883387615102394 and parameters: {'max_depth': 334, 'subsample': 0.45939814514104066, 'colsample_bytree': 0.6899265432013498, 'colsample_bylevel': 0.3804914183920962, 'min_child_weight': 19, 'reg_lambda': 0.04849558799575284, 'reg_alpha': 0.012525740189177773, 'n_estimators': 952, 'learning_rate': 0.03179928807133818}. Best is trial 54 with value: 0.8849572522782743.\n",
      "Optimizing Hyperparameter:  34%|███▍      | 68/200 [28:59<1:11:53, 32.68s/it][I 2023-08-21 17:28:40,573] Trial 67 finished with value: 0.8848248237949098 and parameters: {'max_depth': 351, 'subsample': 0.439899800469229, 'colsample_bytree': 0.6208700985643322, 'colsample_bylevel': 0.35543371708928745, 'min_child_weight': 16, 'reg_lambda': 0.05399972156027779, 'reg_alpha': 0.016855271797001477, 'n_estimators': 955, 'learning_rate': 0.0360080840884793}. Best is trial 54 with value: 0.8849572522782743.\n",
      "Optimizing Hyperparameter:  34%|███▍      | 69/200 [29:31<1:11:18, 32.66s/it][I 2023-08-21 17:29:12,133] Trial 68 finished with value: 0.8843303315025611 and parameters: {'max_depth': 419, 'subsample': 0.4315034306700364, 'colsample_bytree': 0.6147246604665918, 'colsample_bylevel': 0.34660305768537053, 'min_child_weight': 16, 'reg_lambda': 0.05641737659354585, 'reg_alpha': 0.014543065620382321, 'n_estimators': 967, 'learning_rate': 0.03665944180245658}. Best is trial 54 with value: 0.8849572522782743.\n",
      "Optimizing Hyperparameter:  35%|███▌      | 70/200 [30:03<1:10:02, 32.33s/it][I 2023-08-21 17:29:41,138] Trial 69 finished with value: 0.8845869212766626 and parameters: {'max_depth': 319, 'subsample': 0.45253685935816435, 'colsample_bytree': 0.619840683141534, 'colsample_bylevel': 0.39237489987681706, 'min_child_weight': 18, 'reg_lambda': 0.06952327728156776, 'reg_alpha': 0.01702456473472415, 'n_estimators': 875, 'learning_rate': 0.02866852006816333}. Best is trial 54 with value: 0.8849572522782743.\n",
      "Optimizing Hyperparameter:  36%|███▌      | 71/200 [30:32<1:07:21, 31.33s/it][I 2023-08-21 17:30:10,443] Trial 70 finished with value: 0.8841801802673382 and parameters: {'max_depth': 365, 'subsample': 0.4329191364885383, 'colsample_bytree': 0.656367588790121, 'colsample_bylevel': 0.276890709764292, 'min_child_weight': 18, 'reg_lambda': 0.08467893258493328, 'reg_alpha': 0.017022782833253775, 'n_estimators': 893, 'learning_rate': 0.025710069510326602}. Best is trial 54 with value: 0.8849572522782743.\n",
      "Optimizing Hyperparameter:  36%|███▌      | 72/200 [31:01<1:05:32, 30.72s/it][I 2023-08-21 17:30:41,779] Trial 71 finished with value: 0.8849131851445189 and parameters: {'max_depth': 351, 'subsample': 0.45198855420474, 'colsample_bytree': 0.6238519912950776, 'colsample_bylevel': 0.3901577655186964, 'min_child_weight': 17, 'reg_lambda': 0.04493287761796138, 'reg_alpha': 0.015136710173231574, 'n_estimators': 952, 'learning_rate': 0.029683751859485488}. Best is trial 54 with value: 0.8849572522782743.\n",
      "Optimizing Hyperparameter:  36%|███▋      | 73/200 [31:33<1:05:25, 30.91s/it][I 2023-08-21 17:31:09,671] Trial 72 finished with value: 0.8847186518543654 and parameters: {'max_depth': 384, 'subsample': 0.36889567124514183, 'colsample_bytree': 0.5717120668113685, 'colsample_bylevel': 0.39571139283455364, 'min_child_weight': 17, 'reg_lambda': 0.0702895589941018, 'reg_alpha': 0.016397428850028272, 'n_estimators': 889, 'learning_rate': 0.029373870055341093}. Best is trial 54 with value: 0.8849572522782743.\n",
      "Optimizing Hyperparameter:  37%|███▋      | 74/200 [32:00<1:03:00, 30.00s/it][I 2023-08-21 17:31:39,937] Trial 73 finished with value: 0.8841458015302512 and parameters: {'max_depth': 391, 'subsample': 0.3659049561782366, 'colsample_bytree': 0.5703754474796592, 'colsample_bylevel': 0.34642167000802015, 'min_child_weight': 17, 'reg_lambda': 0.06837054003203938, 'reg_alpha': 0.013231149249632547, 'n_estimators': 885, 'learning_rate': 0.02857963993914873}. Best is trial 54 with value: 0.8849572522782743.\n",
      "Optimizing Hyperparameter:  38%|███▊      | 75/200 [32:31<1:02:40, 30.08s/it][I 2023-08-21 17:32:07,951] Trial 74 finished with value: 0.883329224330297 and parameters: {'max_depth': 355, 'subsample': 0.3334085473765639, 'colsample_bytree': 0.5523112964515708, 'colsample_bylevel': 0.4491530265309457, 'min_child_weight': 20, 'reg_lambda': 0.06769170122920272, 'reg_alpha': 0.020220634778514466, 'n_estimators': 898, 'learning_rate': 0.022894150249108798}. Best is trial 54 with value: 0.8849572522782743.\n",
      "Optimizing Hyperparameter:  38%|███▊      | 76/200 [32:59<1:00:53, 29.46s/it][I 2023-08-21 17:32:39,130] Trial 75 finished with value: 0.8845589012460477 and parameters: {'max_depth': 377, 'subsample': 0.37135482176482526, 'colsample_bytree': 0.5825122908731163, 'colsample_bylevel': 0.46852095477679495, 'min_child_weight': 19, 'reg_lambda': 0.09478698134961219, 'reg_alpha': 0.023093401654820392, 'n_estimators': 999, 'learning_rate': 0.034280127009461654}. Best is trial 54 with value: 0.8849572522782743.\n",
      "Optimizing Hyperparameter:  38%|███▊      | 77/200 [33:30<1:01:27, 29.98s/it][I 2023-08-21 17:33:11,437] Trial 76 finished with value: 0.8836174360309264 and parameters: {'max_depth': 312, 'subsample': 0.4215911696409012, 'colsample_bytree': 0.6948099797666824, 'colsample_bylevel': 0.4040967957811413, 'min_child_weight': 18, 'reg_lambda': 0.07776184995436702, 'reg_alpha': 0.01771240769243581, 'n_estimators': 856, 'learning_rate': 0.02917615686780293}. Best is trial 54 with value: 0.8849572522782743.\n",
      "Optimizing Hyperparameter:  39%|███▉      | 78/200 [34:02<1:02:22, 30.68s/it][I 2023-08-21 17:33:40,965] Trial 77 finished with value: 0.8847918793428292 and parameters: {'max_depth': 474, 'subsample': 0.4005910065851699, 'colsample_bytree': 0.6614032275134786, 'colsample_bylevel': 0.2863175231784241, 'min_child_weight': 15, 'reg_lambda': 0.055956089389290614, 'reg_alpha': 0.015429381617827365, 'n_estimators': 915, 'learning_rate': 0.036107206198972445}. Best is trial 54 with value: 0.8849572522782743.\n",
      "Optimizing Hyperparameter:  40%|███▉      | 79/200 [34:32<1:01:10, 30.33s/it][I 2023-08-21 17:34:10,870] Trial 78 finished with value: 0.884419247720259 and parameters: {'max_depth': 462, 'subsample': 0.4025954930291761, 'colsample_bytree': 0.53376434974197, 'colsample_bylevel': 0.294498342113308, 'min_child_weight': 15, 'reg_lambda': 0.054305658143085474, 'reg_alpha': 0.014100582139029373, 'n_estimators': 933, 'learning_rate': 0.03760253483023902}. Best is trial 54 with value: 0.8849572522782743.\n",
      "Optimizing Hyperparameter:  40%|████      | 80/200 [35:02<1:00:24, 30.20s/it][I 2023-08-21 17:34:40,583] Trial 79 finished with value: 0.8845797674795497 and parameters: {'max_depth': 461, 'subsample': 0.3578775030917236, 'colsample_bytree': 0.6514557881100438, 'colsample_bylevel': 0.3291816362708943, 'min_child_weight': 16, 'reg_lambda': 0.04313170409514711, 'reg_alpha': 0.011091005711928587, 'n_estimators': 973, 'learning_rate': 0.035850068291929764}. Best is trial 54 with value: 0.8849572522782743.\n",
      "Optimizing Hyperparameter:  40%|████      | 81/200 [35:31<59:36, 30.06s/it]  [I 2023-08-21 17:35:10,811] Trial 80 finished with value: 0.8833750047218807 and parameters: {'max_depth': 491, 'subsample': 0.317257537330197, 'colsample_bytree': 0.7359931248981594, 'colsample_bylevel': 0.2705925691690572, 'min_child_weight': 15, 'reg_lambda': 0.060313810079547565, 'reg_alpha': 0.013435758592879522, 'n_estimators': 913, 'learning_rate': 0.022853227800388627}. Best is trial 54 with value: 0.8849572522782743.\n",
      "Optimizing Hyperparameter:  41%|████      | 82/200 [36:02<59:12, 30.11s/it][I 2023-08-21 17:35:40,067] Trial 81 finished with value: 0.8845821468080363 and parameters: {'max_depth': 318, 'subsample': 0.4421709234046282, 'colsample_bytree': 0.6286933971344996, 'colsample_bylevel': 0.35668827308856627, 'min_child_weight': 17, 'reg_lambda': 0.06628987030271057, 'reg_alpha': 0.01615874755384642, 'n_estimators': 876, 'learning_rate': 0.029816502466823974}. Best is trial 54 with value: 0.8849572522782743.\n",
      "Optimizing Hyperparameter:  42%|████▏     | 83/200 [36:31<58:12, 29.85s/it][I 2023-08-21 17:36:13,800] Trial 82 finished with value: 0.8844089044546193 and parameters: {'max_depth': 410, 'subsample': 0.394499536187514, 'colsample_bytree': 0.6708331369851385, 'colsample_bylevel': 0.3983268919167674, 'min_child_weight': 18, 'reg_lambda': 0.04685780419919882, 'reg_alpha': 0.01888661224402291, 'n_estimators': 944, 'learning_rate': 0.033134591705914464}. Best is trial 54 with value: 0.8849572522782743.\n",
      "Optimizing Hyperparameter:  42%|████▏     | 84/200 [37:05<59:57, 31.02s/it][I 2023-08-21 17:36:43,386] Trial 83 finished with value: 0.883501094407964 and parameters: {'max_depth': 330, 'subsample': 0.4785404919809294, 'colsample_bytree': 0.5961293469932573, 'colsample_bylevel': 0.43212679695586464, 'min_child_weight': 20, 'reg_lambda': 0.05422767799649561, 'reg_alpha': 0.011600628315760662, 'n_estimators': 854, 'learning_rate': 0.02457224749175772}. Best is trial 54 with value: 0.8849572522782743.\n",
      "Optimizing Hyperparameter:  42%|████▎     | 85/200 [37:34<58:37, 30.59s/it][I 2023-08-21 17:37:14,595] Trial 84 finished with value: 0.8842634669015778 and parameters: {'max_depth': 351, 'subsample': 0.4149128387599379, 'colsample_bytree': 0.5674331513077232, 'colsample_bylevel': 0.35934182558262645, 'min_child_weight': 17, 'reg_lambda': 0.03678377671110755, 'reg_alpha': 0.01552028767879034, 'n_estimators': 979, 'learning_rate': 0.02766691939256284}. Best is trial 54 with value: 0.8849572522782743.\n",
      "Optimizing Hyperparameter:  43%|████▎     | 86/200 [38:05<58:28, 30.77s/it][I 2023-08-21 17:37:43,573] Trial 85 finished with value: 0.8832315846795272 and parameters: {'max_depth': 247, 'subsample': 0.4552530814674165, 'colsample_bytree': 0.646277649300262, 'colsample_bylevel': 0.3237626251093744, 'min_child_weight': 14, 'reg_lambda': 0.07507642715161364, 'reg_alpha': 0.020440333614981866, 'n_estimators': 903, 'learning_rate': 0.02007028121563352}. Best is trial 54 with value: 0.8849572522782743.\n",
      "Optimizing Hyperparameter:  44%|████▎     | 87/200 [38:34<56:56, 30.23s/it][I 2023-08-21 17:38:17,699] Trial 86 finished with value: 0.8836628826156511 and parameters: {'max_depth': 366, 'subsample': 0.37389425525256764, 'colsample_bytree': 0.7117526527016486, 'colsample_bylevel': 0.3890559922257211, 'min_child_weight': 13, 'reg_lambda': 0.048590647590909114, 'reg_alpha': 0.012653967741427767, 'n_estimators': 999, 'learning_rate': 0.030781884714026205}. Best is trial 54 with value: 0.8849572522782743.\n",
      "Optimizing Hyperparameter:  44%|████▍     | 88/200 [39:09<58:37, 31.40s/it][I 2023-08-21 17:38:45,202] Trial 87 finished with value: 0.8846619081918188 and parameters: {'max_depth': 393, 'subsample': 0.4803598438969167, 'colsample_bytree': 0.5052398934845096, 'colsample_bylevel': 0.2936948622098713, 'min_child_weight': 16, 'reg_lambda': 0.060924482141977265, 'reg_alpha': 0.02387322005418801, 'n_estimators': 844, 'learning_rate': 0.0342113202051051}. Best is trial 54 with value: 0.8849572522782743.\n",
      "Optimizing Hyperparameter:  44%|████▍     | 89/200 [39:36<55:55, 30.23s/it][I 2023-08-21 17:39:12,737] Trial 88 finished with value: 0.8848060636466596 and parameters: {'max_depth': 399, 'subsample': 0.4866409031152795, 'colsample_bytree': 0.5077053489353472, 'colsample_bylevel': 0.23678062425191113, 'min_child_weight': 16, 'reg_lambda': 0.06114279916134083, 'reg_alpha': 0.026012435497712354, 'n_estimators': 846, 'learning_rate': 0.034457836720691006}. Best is trial 54 with value: 0.8849572522782743.\n",
      "Optimizing Hyperparameter:  45%|████▌     | 90/200 [40:04<53:56, 29.42s/it][I 2023-08-21 17:39:43,137] Trial 89 finished with value: 0.8839619050395747 and parameters: {'max_depth': 428, 'subsample': 0.5033551161325105, 'colsample_bytree': 0.5411957141741468, 'colsample_bylevel': 0.22753248406617857, 'min_child_weight': 14, 'reg_lambda': 0.03684437488091679, 'reg_alpha': 0.02201655897934694, 'n_estimators': 928, 'learning_rate': 0.037365389005463275}. Best is trial 54 with value: 0.8849572522782743.\n",
      "Optimizing Hyperparameter:  46%|████▌     | 91/200 [40:34<53:59, 29.72s/it][I 2023-08-21 17:40:12,507] Trial 90 finished with value: 0.8840505586154155 and parameters: {'max_depth': 447, 'subsample': 0.4053431034135594, 'colsample_bytree': 0.5686070685109873, 'colsample_bylevel': 0.3555687798594782, 'min_child_weight': 15, 'reg_lambda': 0.08592859822947403, 'reg_alpha': 0.026133509482021016, 'n_estimators': 966, 'learning_rate': 0.02628199175547395}. Best is trial 54 with value: 0.8849572522782743.\n",
      "Optimizing Hyperparameter:  46%|████▌     | 92/200 [41:03<53:18, 29.61s/it][I 2023-08-21 17:40:36,807] Trial 91 finished with value: 0.8833440273517925 and parameters: {'max_depth': 401, 'subsample': 0.48336226078335404, 'colsample_bytree': 0.48963776012754, 'colsample_bylevel': 0.28445137613490784, 'min_child_weight': 16, 'reg_lambda': 0.06055352826929936, 'reg_alpha': 0.023668934916538608, 'n_estimators': 843, 'learning_rate': 0.032942169740069506}. Best is trial 54 with value: 0.8849572522782743.\n",
      "Optimizing Hyperparameter:  46%|████▋     | 93/200 [41:28<49:57, 28.02s/it][I 2023-08-21 17:41:07,411] Trial 92 finished with value: 0.8846979577213907 and parameters: {'max_depth': 382, 'subsample': 0.498140774656491, 'colsample_bytree': 0.5388371029770835, 'colsample_bylevel': 0.24733217313143327, 'min_child_weight': 19, 'reg_lambda': 0.05314328064139244, 'reg_alpha': 0.018205873138988735, 'n_estimators': 907, 'learning_rate': 0.03478985472576365}. Best is trial 54 with value: 0.8849572522782743.\n",
      "Optimizing Hyperparameter:  47%|████▋     | 94/200 [41:58<50:52, 28.79s/it][I 2023-08-21 17:41:37,043] Trial 93 finished with value: 0.8844564259519562 and parameters: {'max_depth': 380, 'subsample': 0.5056277969489571, 'colsample_bytree': 0.5210127491627528, 'colsample_bylevel': 0.24043876891868055, 'min_child_weight': 19, 'reg_lambda': 0.04468315462230153, 'reg_alpha': 0.01880061090403206, 'n_estimators': 899, 'learning_rate': 0.035736646785526356}. Best is trial 54 with value: 0.8849572522782743.\n",
      "Optimizing Hyperparameter:  48%|████▊     | 95/200 [42:28<50:49, 29.05s/it][I 2023-08-21 17:42:07,407] Trial 94 finished with value: 0.8846500797599516 and parameters: {'max_depth': 349, 'subsample': 0.5377379068833139, 'colsample_bytree': 0.5861715165414619, 'colsample_bylevel': 0.25838823152031276, 'min_child_weight': 20, 'reg_lambda': 0.0541777741159209, 'reg_alpha': 0.015662200246034083, 'n_estimators': 932, 'learning_rate': 0.039037135530111275}. Best is trial 54 with value: 0.8849572522782743.\n",
      "Optimizing Hyperparameter:  48%|████▊     | 96/200 [42:58<51:01, 29.44s/it][I 2023-08-21 17:42:38,841] Trial 95 finished with value: 0.8846070182711596 and parameters: {'max_depth': 412, 'subsample': 0.4256570405754664, 'colsample_bytree': 0.5485509672104706, 'colsample_bylevel': 0.33004481032206323, 'min_child_weight': 17, 'reg_lambda': 0.04013897532279942, 'reg_alpha': 0.01973712236356298, 'n_estimators': 983, 'learning_rate': 0.030659791732241662}. Best is trial 54 with value: 0.8849572522782743.\n",
      "Optimizing Hyperparameter:  48%|████▊     | 97/200 [43:30<51:34, 30.04s/it][I 2023-08-21 17:43:07,499] Trial 96 finished with value: 0.8849043341160016 and parameters: {'max_depth': 383, 'subsample': 0.38737023633035067, 'colsample_bytree': 0.6018035774362378, 'colsample_bylevel': 0.2162553730467129, 'min_child_weight': 21, 'reg_lambda': 0.032960701077694256, 'reg_alpha': 0.03279612142806877, 'n_estimators': 906, 'learning_rate': 0.041116658413506604}. Best is trial 54 with value: 0.8849572522782743.\n",
      "Optimizing Hyperparameter:  49%|████▉     | 98/200 [43:58<50:21, 29.63s/it][I 2023-08-21 17:43:34,387] Trial 97 finished with value: 0.8841141510341493 and parameters: {'max_depth': 384, 'subsample': 0.33989638843124625, 'colsample_bytree': 0.605362257324655, 'colsample_bylevel': 0.3017898541083654, 'min_child_weight': 22, 'reg_lambda': 0.04947151240032893, 'reg_alpha': 0.031787528609403724, 'n_estimators': 915, 'learning_rate': 0.03438244947722678}. Best is trial 54 with value: 0.8849572522782743.\n",
      "Optimizing Hyperparameter:  50%|████▉     | 99/200 [44:25<48:29, 28.80s/it][I 2023-08-21 17:44:00,853] Trial 98 finished with value: 0.8849264054708197 and parameters: {'max_depth': 364, 'subsample': 0.40103860942500846, 'colsample_bytree': 0.6378441912413446, 'colsample_bylevel': 0.2129438561465633, 'min_child_weight': 21, 'reg_lambda': 0.03363981790075677, 'reg_alpha': 0.026568086294257, 'n_estimators': 875, 'learning_rate': 0.04094788540114273}. Best is trial 54 with value: 0.8849572522782743.\n",
      "Optimizing Hyperparameter:  50%|█████     | 100/200 [44:52<46:50, 28.10s/it][I 2023-08-21 17:44:27,221] Trial 99 finished with value: 0.8847409655627742 and parameters: {'max_depth': 363, 'subsample': 0.3907509879223757, 'colsample_bytree': 0.6456319580855803, 'colsample_bylevel': 0.20864542307284256, 'min_child_weight': 23, 'reg_lambda': 0.02956082718441806, 'reg_alpha': 0.026576987302705843, 'n_estimators': 882, 'learning_rate': 0.0416228367636598}. Best is trial 54 with value: 0.8849572522782743.\n",
      "Optimizing Hyperparameter:  50%|█████     | 101/200 [45:18<45:30, 27.58s/it][I 2023-08-21 17:44:58,272] Trial 100 finished with value: 0.8836896943026049 and parameters: {'max_depth': 484, 'subsample': 0.40095639657353804, 'colsample_bytree': 0.6815274897572188, 'colsample_bylevel': 0.21213463961832632, 'min_child_weight': 23, 'reg_lambda': 0.030233344377948227, 'reg_alpha': 0.034826838517164574, 'n_estimators': 873, 'learning_rate': 0.04173105147299513}. Best is trial 54 with value: 0.8849572522782743.\n",
      "Optimizing Hyperparameter:  51%|█████     | 102/200 [45:49<46:45, 28.62s/it][I 2023-08-21 17:45:26,508] Trial 101 finished with value: 0.8844657070919049 and parameters: {'max_depth': 362, 'subsample': 0.3844488475496756, 'colsample_bytree': 0.6300171888930346, 'colsample_bylevel': 0.19679993158551817, 'min_child_weight': 24, 'reg_lambda': 0.03525660217300167, 'reg_alpha': 0.026087991565734946, 'n_estimators': 887, 'learning_rate': 0.038517712603726564}. Best is trial 54 with value: 0.8849572522782743.\n",
      "Optimizing Hyperparameter:  52%|█████▏    | 103/200 [46:17<46:05, 28.51s/it][I 2023-08-21 17:45:54,882] Trial 102 finished with value: 0.8844746656708925 and parameters: {'max_depth': 369, 'subsample': 0.3537003583137461, 'colsample_bytree': 0.6414231032555798, 'colsample_bylevel': 0.15807805241103273, 'min_child_weight': 21, 'reg_lambda': 0.02908561124232963, 'reg_alpha': 0.038231670458008626, 'n_estimators': 941, 'learning_rate': 0.04059565663160125}. Best is trial 54 with value: 0.8849572522782743.\n",
      "Optimizing Hyperparameter:  52%|█████▏    | 104/200 [46:46<45:32, 28.47s/it][I 2023-08-21 17:46:26,708] Trial 103 finished with value: 0.8836941904559414 and parameters: {'max_depth': 345, 'subsample': 0.41659426776468494, 'colsample_bytree': 0.669246536241999, 'colsample_bylevel': 0.21835217601124815, 'min_child_weight': 23, 'reg_lambda': 0.03444901496925346, 'reg_alpha': 0.026595960640470647, 'n_estimators': 839, 'learning_rate': 0.042543090654609685}. Best is trial 54 with value: 0.8849572522782743.\n",
      "Optimizing Hyperparameter:  52%|█████▎    | 105/200 [47:18<46:40, 29.48s/it][I 2023-08-21 17:46:53,743] Trial 104 finished with value: 0.8847649450697549 and parameters: {'max_depth': 447, 'subsample': 0.3717845350065088, 'colsample_bytree': 0.6085527019523259, 'colsample_bylevel': 0.2551421043880927, 'min_child_weight': 12, 'reg_lambda': 0.025108437020811572, 'reg_alpha': 0.022297681173422075, 'n_estimators': 863, 'learning_rate': 0.04505075941750197}. Best is trial 54 with value: 0.8849572522782743.\n",
      "Optimizing Hyperparameter:  53%|█████▎    | 106/200 [47:45<45:01, 28.74s/it][I 2023-08-21 17:47:18,458] Trial 105 finished with value: 0.8843960272964696 and parameters: {'max_depth': 472, 'subsample': 0.3905421720448834, 'colsample_bytree': 0.610113620998565, 'colsample_bylevel': 0.20053854782522162, 'min_child_weight': 12, 'reg_lambda': 0.023923849013652583, 'reg_alpha': 0.02202677375959745, 'n_estimators': 797, 'learning_rate': 0.044623339027644114}. Best is trial 54 with value: 0.8849572522782743.\n",
      "Optimizing Hyperparameter:  54%|█████▎    | 107/200 [48:09<42:40, 27.53s/it][I 2023-08-21 17:47:50,615] Trial 106 finished with value: 0.8819998613120581 and parameters: {'max_depth': 425, 'subsample': 0.3325452391854912, 'colsample_bytree': 0.7007860236134742, 'colsample_bylevel': 0.26020630201476724, 'min_child_weight': 11, 'reg_lambda': 0.026609701562735164, 'reg_alpha': 0.033693579299451173, 'n_estimators': 923, 'learning_rate': 0.039150589422911594}. Best is trial 54 with value: 0.8849572522782743.\n",
      "Optimizing Hyperparameter:  54%|█████▍    | 108/200 [48:41<44:20, 28.92s/it][I 2023-08-21 17:48:15,721] Trial 107 finished with value: 0.8848529571854359 and parameters: {'max_depth': 478, 'subsample': 0.43160122196870004, 'colsample_bytree': 0.6615670407805386, 'colsample_bylevel': 0.2748411389991097, 'min_child_weight': 24, 'reg_lambda': 0.03264487042483764, 'reg_alpha': 0.030298145568703947, 'n_estimators': 781, 'learning_rate': 0.04564750617983769}. Best is trial 54 with value: 0.8849572522782743.\n",
      "Optimizing Hyperparameter:  55%|█████▍    | 109/200 [49:07<42:07, 27.78s/it][I 2023-08-21 17:48:41,930] Trial 108 finished with value: 0.8844247268562185 and parameters: {'max_depth': 445, 'subsample': 0.4700389805658854, 'colsample_bytree': 0.658227801622825, 'colsample_bylevel': 0.2377323730011062, 'min_child_weight': 25, 'reg_lambda': 0.03265256074653608, 'reg_alpha': 0.030783714963564177, 'n_estimators': 793, 'learning_rate': 0.04533245540340153}. Best is trial 54 with value: 0.8849572522782743.\n",
      "Optimizing Hyperparameter:  55%|█████▌    | 110/200 [49:33<40:57, 27.31s/it][I 2023-08-21 17:49:09,434] Trial 109 finished with value: 0.8835938721370216 and parameters: {'max_depth': 472, 'subsample': 0.2959482946293587, 'colsample_bytree': 0.6896740570074426, 'colsample_bylevel': 0.269558493455326, 'min_child_weight': 24, 'reg_lambda': 0.021000534480660624, 'reg_alpha': 0.027715987771197322, 'n_estimators': 817, 'learning_rate': 0.047962747842055196}. Best is trial 54 with value: 0.8849572522782743.\n",
      "Optimizing Hyperparameter:  56%|█████▌    | 111/200 [50:00<40:35, 27.37s/it][I 2023-08-21 17:49:37,401] Trial 110 finished with value: 0.88364293985779 and parameters: {'max_depth': 500, 'subsample': 0.42390888524674536, 'colsample_bytree': 0.7236431817359525, 'colsample_bylevel': 0.30666930523314595, 'min_child_weight': 22, 'reg_lambda': 0.02891415472081719, 'reg_alpha': 0.029183600758084908, 'n_estimators': 752, 'learning_rate': 0.043313648226328626}. Best is trial 54 with value: 0.8849572522782743.\n",
      "Optimizing Hyperparameter:  56%|█████▌    | 112/200 [50:28<40:24, 27.55s/it][I 2023-08-21 17:50:05,745] Trial 111 finished with value: 0.8844221543243709 and parameters: {'max_depth': 404, 'subsample': 0.4356992305654509, 'colsample_bytree': 0.6392553233615116, 'colsample_bylevel': 0.28316687431814996, 'min_child_weight': 13, 'reg_lambda': 0.038116202212065395, 'reg_alpha': 0.036479402173030175, 'n_estimators': 858, 'learning_rate': 0.04016387495053629}. Best is trial 54 with value: 0.8849572522782743.\n",
      "Optimizing Hyperparameter:  56%|█████▋    | 113/200 [50:57<40:17, 27.79s/it][I 2023-08-21 17:50:33,981] Trial 112 finished with value: 0.8846066630628981 and parameters: {'max_depth': 440, 'subsample': 0.4472786349573224, 'colsample_bytree': 0.592872223393361, 'colsample_bylevel': 0.18054073822547367, 'min_child_weight': 21, 'reg_lambda': 0.024499504036167557, 'reg_alpha': 0.02511898061473231, 'n_estimators': 868, 'learning_rate': 0.0417417558664029}. Best is trial 54 with value: 0.8849572522782743.\n",
      "Optimizing Hyperparameter:  57%|█████▋    | 114/200 [51:25<40:01, 27.92s/it][I 2023-08-21 17:51:03,920] Trial 113 finished with value: 0.8842142340440563 and parameters: {'max_depth': 278, 'subsample': 0.3823132000049795, 'colsample_bytree': 0.6055451107571667, 'colsample_bylevel': 0.234132161882212, 'min_child_weight': 10, 'reg_lambda': 0.032339653099878206, 'reg_alpha': 0.02123888510645505, 'n_estimators': 965, 'learning_rate': 0.037081351972693945}. Best is trial 54 with value: 0.8849572522782743.\n",
      "Optimizing Hyperparameter:  57%|█████▊    | 115/200 [51:55<40:24, 28.53s/it][I 2023-08-21 17:51:28,480] Trial 114 finished with value: 0.8843928259393575 and parameters: {'max_depth': 459, 'subsample': 0.4052930499295817, 'colsample_bytree': 0.6287877422471263, 'colsample_bylevel': 0.15281937307767554, 'min_child_weight': 25, 'reg_lambda': 0.03918796460761084, 'reg_alpha': 0.03182124002210277, 'n_estimators': 774, 'learning_rate': 0.045837315969480076}. Best is trial 54 with value: 0.8849572522782743.\n",
      "Optimizing Hyperparameter:  58%|█████▊    | 116/200 [52:19<38:16, 27.34s/it][I 2023-08-21 17:51:34,941] Trial 115 finished with value: 0.8541467408663279 and parameters: {'max_depth': 487, 'subsample': 0.466654729288306, 'colsample_bytree': 0.6616799335228959, 'colsample_bylevel': 0.25008768379092455, 'min_child_weight': 14, 'reg_lambda': 0.031014845192563378, 'reg_alpha': 0.04429621506093604, 'n_estimators': 195, 'learning_rate': 0.03619852477965924}. Best is trial 54 with value: 0.8849572522782743.\n",
      "Optimizing Hyperparameter:  58%|█████▊    | 117/200 [52:26<29:09, 21.07s/it][I 2023-08-21 17:52:00,499] Trial 116 finished with value: 0.8832906510385036 and parameters: {'max_depth': 449, 'subsample': 0.3542144006411129, 'colsample_bytree': 0.6742021015628867, 'colsample_bylevel': 0.3155094095004292, 'min_child_weight': 24, 'reg_lambda': 0.044165309579949484, 'reg_alpha': 0.023067802630878678, 'n_estimators': 726, 'learning_rate': 0.03246070127079602}. Best is trial 54 with value: 0.8849572522782743.\n",
      "Optimizing Hyperparameter:  59%|█████▉    | 118/200 [52:51<30:38, 22.42s/it][I 2023-08-21 17:52:35,786] Trial 117 finished with value: 0.8836893831134798 and parameters: {'max_depth': 470, 'subsample': 0.443446393900163, 'colsample_bytree': 0.759198397617923, 'colsample_bylevel': 0.21031205697825256, 'min_child_weight': 26, 'reg_lambda': 0.026626337928218544, 'reg_alpha': 0.019241820094712245, 'n_estimators': 939, 'learning_rate': 0.04086290939905224}. Best is trial 54 with value: 0.8849572522782743.\n",
      "Optimizing Hyperparameter:  60%|█████▉    | 119/200 [53:27<35:28, 26.28s/it][I 2023-08-21 17:53:05,781] Trial 118 finished with value: 0.8839134386446917 and parameters: {'max_depth': 430, 'subsample': 0.32483603485112117, 'colsample_bytree': 0.5846617582844136, 'colsample_bylevel': 0.1875172694187704, 'min_child_weight': 15, 'reg_lambda': 0.04166158624512928, 'reg_alpha': 0.014396581368380845, 'n_estimators': 979, 'learning_rate': 0.038454507255631445}. Best is trial 54 with value: 0.8849572522782743.\n",
      "Optimizing Hyperparameter:  60%|██████    | 120/200 [53:57<36:31, 27.39s/it][I 2023-08-21 17:53:32,421] Trial 119 finished with value: 0.8839194605009815 and parameters: {'max_depth': 479, 'subsample': 0.42164137698935045, 'colsample_bytree': 0.6462653422102492, 'colsample_bylevel': 0.12905848643026047, 'min_child_weight': 12, 'reg_lambda': 0.021996233765571485, 'reg_alpha': 0.02634348970174886, 'n_estimators': 833, 'learning_rate': 0.04369793827703728}. Best is trial 54 with value: 0.8849572522782743.\n",
      "Optimizing Hyperparameter:  60%|██████    | 121/200 [54:23<35:46, 27.17s/it][I 2023-08-21 17:54:00,223] Trial 120 finished with value: 0.8845580617935893 and parameters: {'max_depth': 303, 'subsample': 0.3715526940506667, 'colsample_bytree': 0.6127776334880902, 'colsample_bylevel': 0.26975888004184784, 'min_child_weight': 13, 'reg_lambda': 0.03385237149912764, 'reg_alpha': 0.03934020922695945, 'n_estimators': 905, 'learning_rate': 0.03212258387201078}. Best is trial 54 with value: 0.8849572522782743.\n",
      "Optimizing Hyperparameter:  61%|██████    | 122/200 [54:51<35:33, 27.36s/it][I 2023-08-21 17:54:27,099] Trial 121 finished with value: 0.8844876684972844 and parameters: {'max_depth': 417, 'subsample': 0.3638245410790114, 'colsample_bytree': 0.5716639113485767, 'colsample_bylevel': 0.34421624695529907, 'min_child_weight': 14, 'reg_lambda': 0.0640986336858889, 'reg_alpha': 0.015906379871240828, 'n_estimators': 875, 'learning_rate': 0.029871463242816854}. Best is trial 54 with value: 0.8849572522782743.\n",
      "Optimizing Hyperparameter:  62%|██████▏   | 123/200 [55:18<34:55, 27.21s/it][I 2023-08-21 17:54:54,934] Trial 122 finished with value: 0.8833453176402681 and parameters: {'max_depth': 356, 'subsample': 0.3914516033610929, 'colsample_bytree': 0.5690378154888938, 'colsample_bylevel': 0.41619129317738063, 'min_child_weight': 22, 'reg_lambda': 0.04964798810757944, 'reg_alpha': 0.020610429187297215, 'n_estimators': 898, 'learning_rate': 0.02742777830763969}. Best is trial 54 with value: 0.8849572522782743.\n",
      "Optimizing Hyperparameter:  62%|██████▏   | 124/200 [55:46<34:42, 27.40s/it][I 2023-08-21 17:55:22,742] Trial 123 finished with value: 0.884639399095827 and parameters: {'max_depth': 389, 'subsample': 0.4009853157126688, 'colsample_bytree': 0.5978376253699274, 'colsample_bylevel': 0.2161769066515375, 'min_child_weight': 17, 'reg_lambda': 0.057962241815028466, 'reg_alpha': 0.022342829030589977, 'n_estimators': 882, 'learning_rate': 0.03355704463210426}. Best is trial 54 with value: 0.8849572522782743.\n",
      "Optimizing Hyperparameter:  62%|██████▎   | 125/200 [56:14<34:24, 27.52s/it][I 2023-08-21 17:55:49,088] Trial 124 finished with value: 0.8841397068656189 and parameters: {'max_depth': 371, 'subsample': 0.3723303775356878, 'colsample_bytree': 0.5153652200246234, 'colsample_bylevel': 0.3672288348359368, 'min_child_weight': 15, 'reg_lambda': 0.03944639552082645, 'reg_alpha': 0.013287787737879015, 'n_estimators': 850, 'learning_rate': 0.03002787534081051}. Best is trial 54 with value: 0.8849572522782743.\n",
      "Optimizing Hyperparameter:  63%|██████▎   | 126/200 [56:40<33:30, 27.17s/it][I 2023-08-21 17:56:19,111] Trial 125 finished with value: 0.8843516497236097 and parameters: {'max_depth': 399, 'subsample': 0.46173364907310577, 'colsample_bytree': 0.6293278960043092, 'colsample_bylevel': 0.2921739244982908, 'min_child_weight': 27, 'reg_lambda': 0.0455481294322868, 'reg_alpha': 0.0170409530977035, 'n_estimators': 920, 'learning_rate': 0.03517102907118663}. Best is trial 54 with value: 0.8849572522782743.\n",
      "Optimizing Hyperparameter:  64%|██████▎   | 127/200 [57:10<34:05, 28.03s/it][I 2023-08-21 17:56:47,860] Trial 126 finished with value: 0.8846350076790892 and parameters: {'max_depth': 253, 'subsample': 0.3437542984875713, 'colsample_bytree': 0.5620420811597527, 'colsample_bylevel': 0.4417140443575493, 'min_child_weight': 18, 'reg_lambda': 0.028618463501512845, 'reg_alpha': 0.028069979840387067, 'n_estimators': 955, 'learning_rate': 0.03768397506741815}. Best is trial 54 with value: 0.8849572522782743.\n",
      "Optimizing Hyperparameter:  64%|██████▍   | 128/200 [57:39<33:53, 28.24s/it][I 2023-08-21 17:57:23,252] Trial 127 finished with value: 0.8821634514784863 and parameters: {'max_depth': 289, 'subsample': 0.4347005694052461, 'colsample_bytree': 0.6951279207510919, 'colsample_bylevel': 0.32697380129482684, 'min_child_weight': 16, 'reg_lambda': 0.07113204331563737, 'reg_alpha': 0.018783413204035954, 'n_estimators': 945, 'learning_rate': 0.047668052928035054}. Best is trial 54 with value: 0.8849572522782743.\n",
      "Optimizing Hyperparameter:  64%|██████▍   | 129/200 [58:14<35:57, 30.39s/it][I 2023-08-21 17:57:50,688] Trial 128 finished with value: 0.8840764286221963 and parameters: {'max_depth': 407, 'subsample': 0.4886138654101639, 'colsample_bytree': 0.6634874386551216, 'colsample_bylevel': 0.2519500719836351, 'min_child_weight': 11, 'reg_lambda': 0.03611824262048016, 'reg_alpha': 0.023963849439534838, 'n_estimators': 822, 'learning_rate': 0.028555053577059692}. Best is trial 54 with value: 0.8849572522782743.\n",
      "Optimizing Hyperparameter:  65%|██████▌   | 130/200 [58:41<34:25, 29.50s/it][I 2023-08-21 17:58:19,029] Trial 129 finished with value: 0.8840194519183249 and parameters: {'max_depth': 323, 'subsample': 0.4141368192664471, 'colsample_bytree': 0.6209697440655924, 'colsample_bylevel': 0.47717493542345124, 'min_child_weight': 21, 'reg_lambda': 0.05545396482941472, 'reg_alpha': 0.03069677574492939, 'n_estimators': 889, 'learning_rate': 0.031411289447160436}. Best is trial 54 with value: 0.8849572522782743.\n",
      "Optimizing Hyperparameter:  66%|██████▌   | 131/200 [59:10<33:31, 29.15s/it][I 2023-08-21 17:58:49,588] Trial 130 finished with value: 0.8843567633180072 and parameters: {'max_depth': 233, 'subsample': 0.5143225134725735, 'colsample_bytree': 0.5823013960048403, 'colsample_bylevel': 0.414737055041197, 'min_child_weight': 15, 'reg_lambda': 0.024925773584920135, 'reg_alpha': 0.01524067652343225, 'n_estimators': 912, 'learning_rate': 0.033350683976614115}. Best is trial 54 with value: 0.8849572522782743.\n",
      "Optimizing Hyperparameter:  66%|██████▌   | 132/200 [59:40<33:31, 29.57s/it][I 2023-08-21 17:59:18,373] Trial 131 finished with value: 0.8846779395332162 and parameters: {'max_depth': 377, 'subsample': 0.493486059679142, 'colsample_bytree': 0.5351168836385305, 'colsample_bylevel': 0.24712577209902145, 'min_child_weight': 19, 'reg_lambda': 0.05086863306234352, 'reg_alpha': 0.01780961314695797, 'n_estimators': 864, 'learning_rate': 0.03467785936265047}. Best is trial 54 with value: 0.8849572522782743.\n",
      "Optimizing Hyperparameter:  66%|██████▋   | 133/200 [1:00:09<32:45, 29.34s/it][I 2023-08-21 17:59:48,703] Trial 132 finished with value: 0.88452028572759 and parameters: {'max_depth': 357, 'subsample': 0.530818492195105, 'colsample_bytree': 0.501519564055374, 'colsample_bylevel': 0.19805493927350024, 'min_child_weight': 20, 'reg_lambda': 0.05579969304546638, 'reg_alpha': 0.02049026996917521, 'n_estimators': 895, 'learning_rate': 0.036218169609310916}. Best is trial 54 with value: 0.8849572522782743.\n",
      "Optimizing Hyperparameter:  67%|██████▋   | 134/200 [1:00:40<32:35, 29.64s/it][I 2023-08-21 18:00:21,988] Trial 133 finished with value: 0.8845408941552413 and parameters: {'max_depth': 388, 'subsample': 0.4732264929669602, 'colsample_bytree': 0.5525740038382804, 'colsample_bylevel': 0.27120919018027057, 'min_child_weight': 17, 'reg_lambda': 0.06424262260264672, 'reg_alpha': 0.012264968622858124, 'n_estimators': 982, 'learning_rate': 0.03875280009204675}. Best is trial 54 with value: 0.8849572522782743.\n",
      "Optimizing Hyperparameter:  68%|██████▊   | 135/200 [1:01:13<33:17, 30.73s/it][I 2023-08-21 18:00:52,474] Trial 134 finished with value: 0.8837769221348255 and parameters: {'max_depth': 385, 'subsample': 0.4545301688062813, 'colsample_bytree': 0.5401180619378565, 'colsample_bylevel': 0.23201732424673677, 'min_child_weight': 19, 'reg_lambda': 0.043370272492462336, 'reg_alpha': 0.014183763868623621, 'n_estimators': 930, 'learning_rate': 0.024859983905867772}. Best is trial 54 with value: 0.8849572522782743.\n",
      "Optimizing Hyperparameter:  68%|██████▊   | 136/200 [1:01:43<32:42, 30.66s/it][I 2023-08-21 18:01:16,368] Trial 135 finished with value: 0.8835500156810454 and parameters: {'max_depth': 343, 'subsample': 0.38924209679723737, 'colsample_bytree': 0.4672269861211758, 'colsample_bylevel': 0.3095358084838799, 'min_child_weight': 18, 'reg_lambda': 0.05283485503166188, 'reg_alpha': 0.017940883542390887, 'n_estimators': 911, 'learning_rate': 0.04280969853356678}. Best is trial 54 with value: 0.8849572522782743.\n",
      "Optimizing Hyperparameter:  68%|██████▊   | 137/200 [1:02:07<30:03, 28.63s/it][I 2023-08-21 18:01:44,606] Trial 136 finished with value: 0.8838668712556655 and parameters: {'max_depth': 370, 'subsample': 0.5015111705122386, 'colsample_bytree': 0.5994722169494898, 'colsample_bylevel': 0.17969702270099647, 'min_child_weight': 21, 'reg_lambda': 0.08017192921052227, 'reg_alpha': 0.01619479566779907, 'n_estimators': 848, 'learning_rate': 0.040131495391824264}. Best is trial 54 with value: 0.8849572522782743.\n",
      "Optimizing Hyperparameter:  69%|██████▉   | 138/200 [1:02:35<29:27, 28.51s/it][I 2023-08-21 18:02:01,236] Trial 137 finished with value: 0.8810598004683451 and parameters: {'max_depth': 451, 'subsample': 0.4240698170423002, 'colsample_bytree': 0.648120877247327, 'colsample_bylevel': 0.22539969139149002, 'min_child_weight': 23, 'reg_lambda': 0.047598035504224194, 'reg_alpha': 0.02264102796171086, 'n_estimators': 518, 'learning_rate': 0.03539711207708134}. Best is trial 54 with value: 0.8849572522782743.\n",
      "Optimizing Hyperparameter:  70%|██████▉   | 139/200 [1:02:52<25:21, 24.95s/it][I 2023-08-21 18:02:32,120] Trial 138 finished with value: 0.8846964646161402 and parameters: {'max_depth': 420, 'subsample': 0.44215283631875046, 'colsample_bytree': 0.5241937099065429, 'colsample_bylevel': 0.3619157115708655, 'min_child_weight': 20, 'reg_lambda': 0.03821852523956201, 'reg_alpha': 0.03302846022966642, 'n_estimators': 959, 'learning_rate': 0.031895232205712096}. Best is trial 54 with value: 0.8849572522782743.\n",
      "Optimizing Hyperparameter:  70%|███████   | 140/200 [1:03:23<26:43, 26.73s/it][I 2023-08-21 18:03:10,042] Trial 139 finished with value: 0.8840825618414694 and parameters: {'max_depth': 360, 'subsample': 0.474190056211207, 'colsample_bytree': 0.6778607710119767, 'colsample_bylevel': 0.33734706983779805, 'min_child_weight': 22, 'reg_lambda': 0.032741225236327456, 'reg_alpha': 0.02557314370882137, 'n_estimators': 999, 'learning_rate': 0.027059138034120325}. Best is trial 54 with value: 0.8849572522782743.\n",
      "Optimizing Hyperparameter:  70%|███████   | 141/200 [1:04:01<29:35, 30.09s/it][I 2023-08-21 18:03:37,941] Trial 140 finished with value: 0.8844594306485378 and parameters: {'max_depth': 397, 'subsample': 0.3173173163471814, 'colsample_bytree': 0.6209916094093129, 'colsample_bylevel': 0.39720655533304594, 'min_child_weight': 16, 'reg_lambda': 0.06233007487997697, 'reg_alpha': 0.019314613564543885, 'n_estimators': 945, 'learning_rate': 0.029713024465919266}. Best is trial 54 with value: 0.8849572522782743.\n",
      "Optimizing Hyperparameter:  71%|███████   | 142/200 [1:04:29<28:26, 29.43s/it][I 2023-08-21 18:04:06,996] Trial 141 finished with value: 0.8843884255005182 and parameters: {'max_depth': 415, 'subsample': 0.40879446599694724, 'colsample_bytree': 0.520234950319491, 'colsample_bylevel': 0.37054379879635446, 'min_child_weight': 20, 'reg_lambda': 0.039337146401213344, 'reg_alpha': 0.034662752071642176, 'n_estimators': 921, 'learning_rate': 0.03185118965689742}. Best is trial 54 with value: 0.8849572522782743.\n",
      "Optimizing Hyperparameter:  72%|███████▏  | 143/200 [1:04:58<27:51, 29.32s/it][I 2023-08-21 18:04:35,886] Trial 142 finished with value: 0.8844965755930216 and parameters: {'max_depth': 423, 'subsample': 0.4463534196909428, 'colsample_bytree': 0.5760304738768168, 'colsample_bylevel': 0.2877946392809887, 'min_child_weight': 18, 'reg_lambda': 0.03638597030265881, 'reg_alpha': 0.0307595552330883, 'n_estimators': 888, 'learning_rate': 0.03398195271531812}. Best is trial 54 with value: 0.8849572522782743.\n",
      "Optimizing Hyperparameter:  72%|███████▏  | 144/200 [1:05:27<27:14, 29.19s/it][I 2023-08-21 18:05:01,095] Trial 143 finished with value: 0.8836004695368165 and parameters: {'max_depth': 437, 'subsample': 0.3755229678350346, 'colsample_bytree': 0.487823918580984, 'colsample_bylevel': 0.3580888222146929, 'min_child_weight': 17, 'reg_lambda': 0.03011113862114776, 'reg_alpha': 0.03418036212105665, 'n_estimators': 972, 'learning_rate': 0.03728174258081482}. Best is trial 54 with value: 0.8849572522782743.\n",
      "Optimizing Hyperparameter:  72%|███████▎  | 145/200 [1:05:52<25:39, 28.00s/it][I 2023-08-21 18:05:31,667] Trial 144 finished with value: 0.8844465347972971 and parameters: {'max_depth': 377, 'subsample': 0.4323520227128854, 'colsample_bytree': 0.5489556050702186, 'colsample_bylevel': 0.25918898736102, 'min_child_weight': 19, 'reg_lambda': 0.045631742587975116, 'reg_alpha': 0.028161237882842454, 'n_estimators': 962, 'learning_rate': 0.03144698784584861}. Best is trial 54 with value: 0.8849572522782743.\n",
      "Optimizing Hyperparameter:  73%|███████▎  | 146/200 [1:06:22<25:53, 28.77s/it][I 2023-08-21 18:05:59,920] Trial 145 finished with value: 0.8842208018359522 and parameters: {'max_depth': 280, 'subsample': 0.45017548932119267, 'colsample_bytree': 0.6042138552611286, 'colsample_bylevel': 0.42834904513961014, 'min_child_weight': 20, 'reg_lambda': 0.04182636203240187, 'reg_alpha': 0.02400936426205997, 'n_estimators': 865, 'learning_rate': 0.0419005129825864}. Best is trial 54 with value: 0.8849572522782743.\n",
      "Optimizing Hyperparameter:  74%|███████▎  | 147/200 [1:06:51<25:16, 28.61s/it][I 2023-08-21 18:06:30,172] Trial 146 finished with value: 0.8842616627239039 and parameters: {'max_depth': 458, 'subsample': 0.40171417339941246, 'colsample_bytree': 0.5109025420969171, 'colsample_bylevel': 0.3397685096663487, 'min_child_weight': 14, 'reg_lambda': 0.07146549340249796, 'reg_alpha': 0.011234510066238108, 'n_estimators': 946, 'learning_rate': 0.028720367688770076}. Best is trial 54 with value: 0.8849572522782743.\n",
      "Optimizing Hyperparameter:  74%|███████▍  | 148/200 [1:07:21<25:13, 29.11s/it][I 2023-08-21 18:06:57,621] Trial 147 finished with value: 0.8845124097568452 and parameters: {'max_depth': 436, 'subsample': 0.35321808264230964, 'colsample_bytree': 0.6435795473110787, 'colsample_bylevel': 0.31290704833649063, 'min_child_weight': 15, 'reg_lambda': 0.05089779679172956, 'reg_alpha': 0.0469486429107111, 'n_estimators': 905, 'learning_rate': 0.045231852647411135}. Best is trial 54 with value: 0.8849572522782743.\n",
      "Optimizing Hyperparameter:  74%|███████▍  | 149/200 [1:07:48<24:19, 28.61s/it][I 2023-08-21 18:07:28,622] Trial 148 finished with value: 0.8847652689822464 and parameters: {'max_depth': 122, 'subsample': 0.49758656060727446, 'colsample_bytree': 0.5620327407828529, 'colsample_bylevel': 0.37652287900443615, 'min_child_weight': 22, 'reg_lambda': 0.035261782548841214, 'reg_alpha': 0.03979571201572051, 'n_estimators': 934, 'learning_rate': 0.03309983724586221}. Best is trial 54 with value: 0.8849572522782743.\n",
      "Optimizing Hyperparameter:  75%|███████▌  | 150/200 [1:08:20<24:29, 29.39s/it][I 2023-08-21 18:07:56,490] Trial 149 finished with value: 0.8845016393327791 and parameters: {'max_depth': 88, 'subsample': 0.49345648163636013, 'colsample_bytree': 0.5864065745819653, 'colsample_bylevel': 0.4025953241173973, 'min_child_weight': 23, 'reg_lambda': 0.028008022736924803, 'reg_alpha': 0.03686414532149113, 'n_estimators': 827, 'learning_rate': 0.03535402322535781}. Best is trial 54 with value: 0.8849572522782743.\n",
      "Optimizing Hyperparameter:  76%|███████▌  | 151/200 [1:08:47<23:34, 28.87s/it][I 2023-08-21 18:08:27,580] Trial 150 finished with value: 0.884387087613073 and parameters: {'max_depth': 109, 'subsample': 0.5355675742426076, 'colsample_bytree': 0.5620442463025028, 'colsample_bylevel': 0.45125879071348385, 'min_child_weight': 22, 'reg_lambda': 0.033782378696580205, 'reg_alpha': 0.02025261248865662, 'n_estimators': 930, 'learning_rate': 0.03974721877154785}. Best is trial 54 with value: 0.8849572522782743.\n",
      "Optimizing Hyperparameter:  76%|███████▌  | 152/200 [1:09:18<23:37, 29.54s/it][I 2023-08-21 18:08:59,314] Trial 151 finished with value: 0.8844432082804833 and parameters: {'max_depth': 196, 'subsample': 0.4712796908190837, 'colsample_bytree': 0.5277605835831782, 'colsample_bylevel': 0.3578513430865474, 'min_child_weight': 22, 'reg_lambda': 0.037954337554141564, 'reg_alpha': 0.02929482209894515, 'n_estimators': 958, 'learning_rate': 0.03277194386156319}. Best is trial 54 with value: 0.8849572522782743.\n",
      "Optimizing Hyperparameter:  76%|███████▋  | 153/200 [1:09:50<23:39, 30.19s/it][I 2023-08-21 18:09:27,376] Trial 152 finished with value: 0.8841088212306983 and parameters: {'max_depth': 402, 'subsample': 0.423825729875825, 'colsample_bytree': 0.5357163217111417, 'colsample_bylevel': 0.3814158091751433, 'min_child_weight': 24, 'reg_lambda': 0.05698524974919667, 'reg_alpha': 0.041898368390562706, 'n_estimators': 876, 'learning_rate': 0.02983091754195495}. Best is trial 54 with value: 0.8849572522782743.\n",
      "Optimizing Hyperparameter:  77%|███████▋  | 154/200 [1:10:18<22:39, 29.55s/it][I 2023-08-21 18:09:49,874] Trial 153 finished with value: 0.8806054180156694 and parameters: {'max_depth': 477, 'subsample': 0.5223385581686577, 'colsample_bytree': 0.4693910308221064, 'colsample_bylevel': 0.20177171235751287, 'min_child_weight': 21, 'reg_lambda': 0.031438840140349554, 'reg_alpha': 0.03256888265388895, 'n_estimators': 789, 'learning_rate': 0.02605179325895034}. Best is trial 54 with value: 0.8849572522782743.\n",
      "Optimizing Hyperparameter:  78%|███████▊  | 155/200 [1:10:41<20:34, 27.44s/it][I 2023-08-21 18:10:20,428] Trial 154 finished with value: 0.8844586963916933 and parameters: {'max_depth': 347, 'subsample': 0.5081404904240712, 'colsample_bytree': 0.613131253370389, 'colsample_bylevel': 0.23876800258892258, 'min_child_weight': 16, 'reg_lambda': 0.042807568753168074, 'reg_alpha': 0.024936671692193296, 'n_estimators': 911, 'learning_rate': 0.037397838773384665}. Best is trial 54 with value: 0.8849572522782743.\n",
      "Optimizing Hyperparameter:  78%|███████▊  | 156/200 [1:11:11<20:48, 28.37s/it][I 2023-08-21 18:10:46,335] Trial 155 finished with value: 0.8832185319145164 and parameters: {'max_depth': 56, 'subsample': 0.44663167955673455, 'colsample_bytree': 0.49783974694247907, 'colsample_bylevel': 0.29059654496979165, 'min_child_weight': 13, 'reg_lambda': 0.04743263287669372, 'reg_alpha': 0.03851171122716574, 'n_estimators': 938, 'learning_rate': 0.03344141919431506}. Best is trial 54 with value: 0.8849572522782743.\n",
      "Optimizing Hyperparameter:  78%|███████▊  | 157/200 [1:11:37<19:48, 27.63s/it][I 2023-08-21 18:11:16,893] Trial 156 finished with value: 0.8838510250141319 and parameters: {'max_depth': 223, 'subsample': 0.385693569986676, 'colsample_bytree': 0.6328016778814642, 'colsample_bylevel': 0.37699277715918056, 'min_child_weight': 21, 'reg_lambda': 0.034017934642239345, 'reg_alpha': 0.01664065865535292, 'n_estimators': 986, 'learning_rate': 0.030610553119628063}. Best is trial 54 with value: 0.8849572522782743.\n",
      "Optimizing Hyperparameter:  79%|███████▉  | 158/200 [1:12:08<19:57, 28.51s/it][I 2023-08-21 18:11:46,401] Trial 157 finished with value: 0.8846808988110141 and parameters: {'max_depth': 383, 'subsample': 0.46322942657962457, 'colsample_bytree': 0.5609795075960862, 'colsample_bylevel': 0.32839695809994235, 'min_child_weight': 24, 'reg_lambda': 0.026080688911043932, 'reg_alpha': 0.021187199064584036, 'n_estimators': 894, 'learning_rate': 0.03508404994534624}. Best is trial 54 with value: 0.8849572522782743.\n",
      "Optimizing Hyperparameter:  80%|███████▉  | 159/200 [1:12:37<19:41, 28.81s/it][I 2023-08-21 18:12:13,152] Trial 158 finished with value: 0.8831583469870768 and parameters: {'max_depth': 369, 'subsample': 0.41067774496467957, 'colsample_bytree': 0.5855876729288816, 'colsample_bylevel': 0.2216472432944916, 'min_child_weight': 23, 'reg_lambda': 0.03895282370049232, 'reg_alpha': 0.014907909694906506, 'n_estimators': 843, 'learning_rate': 0.0279154073896149}. Best is trial 54 with value: 0.8849572522782743.\n",
      "Optimizing Hyperparameter:  80%|████████  | 160/200 [1:13:04<18:47, 28.19s/it][I 2023-08-21 18:12:45,073] Trial 159 finished with value: 0.8844469903860512 and parameters: {'max_depth': 270, 'subsample': 0.4839548391868215, 'colsample_bytree': 0.650231942349125, 'colsample_bylevel': 0.27123196233388575, 'min_child_weight': 20, 'reg_lambda': 0.023256014468964626, 'reg_alpha': 0.02716255472080194, 'n_estimators': 968, 'learning_rate': 0.046649753584949716}. Best is trial 54 with value: 0.8849572522782743.\n",
      "Optimizing Hyperparameter:  80%|████████  | 161/200 [1:13:36<19:03, 29.31s/it][I 2023-08-21 18:13:21,131] Trial 160 finished with value: 0.8826324519427522 and parameters: {'max_depth': 184, 'subsample': 0.5545285872661437, 'colsample_bytree': 0.710322796340023, 'colsample_bylevel': 0.16430063796294694, 'min_child_weight': 19, 'reg_lambda': 0.030263243226572728, 'reg_alpha': 0.01326338331322948, 'n_estimators': 922, 'learning_rate': 0.03844842018737359}. Best is trial 54 with value: 0.8849572522782743.\n",
      "Optimizing Hyperparameter:  81%|████████  | 162/200 [1:14:12<19:50, 31.34s/it][I 2023-08-21 18:13:50,459] Trial 161 finished with value: 0.8844854213566761 and parameters: {'max_depth': 382, 'subsample': 0.46176878887908007, 'colsample_bytree': 0.563656253506404, 'colsample_bylevel': 0.3229843260879114, 'min_child_weight': 24, 'reg_lambda': 0.025555716926828672, 'reg_alpha': 0.02200129708924149, 'n_estimators': 889, 'learning_rate': 0.03556529703446726}. Best is trial 54 with value: 0.8849572522782743.\n",
      "Optimizing Hyperparameter:  82%|████████▏ | 163/200 [1:14:41<18:57, 30.73s/it][I 2023-08-21 18:14:19,714] Trial 162 finished with value: 0.884775766378507 and parameters: {'max_depth': 150, 'subsample': 0.4392167647623574, 'colsample_bytree': 0.5394034895718905, 'colsample_bylevel': 0.347394454144525, 'min_child_weight': 24, 'reg_lambda': 0.02723474713882334, 'reg_alpha': 0.018467453487299508, 'n_estimators': 901, 'learning_rate': 0.03279171601304485}. Best is trial 54 with value: 0.8849572522782743.\n",
      "Optimizing Hyperparameter:  82%|████████▏ | 164/200 [1:15:11<18:10, 30.29s/it][I 2023-08-21 18:14:47,593] Trial 163 finished with value: 0.8841499334932597 and parameters: {'max_depth': 150, 'subsample': 0.44091921857432526, 'colsample_bytree': 0.5230969006297513, 'colsample_bylevel': 0.4015644172915314, 'min_child_weight': 23, 'reg_lambda': 0.027643053722944188, 'reg_alpha': 0.01824112584428119, 'n_estimators': 859, 'learning_rate': 0.03173525631570392}. Best is trial 54 with value: 0.8849572522782743.\n",
      "Optimizing Hyperparameter:  82%|████████▎ | 165/200 [1:15:38<17:14, 29.57s/it][I 2023-08-21 18:15:18,186] Trial 164 finished with value: 0.8847407825034089 and parameters: {'max_depth': 126, 'subsample': 0.4185553913924669, 'colsample_bytree': 0.602518428582831, 'colsample_bylevel': 0.3500981358343701, 'min_child_weight': 25, 'reg_lambda': 0.01939144174625876, 'reg_alpha': 0.01659914818776352, 'n_estimators': 941, 'learning_rate': 0.03334286831065452}. Best is trial 54 with value: 0.8849572522782743.\n",
      "Optimizing Hyperparameter:  83%|████████▎ | 166/200 [1:16:09<16:55, 29.87s/it][I 2023-08-21 18:15:46,770] Trial 165 finished with value: 0.8847446828718732 and parameters: {'max_depth': 136, 'subsample': 0.392227918586813, 'colsample_bytree': 0.6041446514999486, 'colsample_bylevel': 0.3452758483163332, 'min_child_weight': 27, 'reg_lambda': 0.020811561941888563, 'reg_alpha': 0.015661256207255395, 'n_estimators': 909, 'learning_rate': 0.04119137619179242}. Best is trial 54 with value: 0.8849572522782743.\n",
      "Optimizing Hyperparameter:  84%|████████▎ | 167/200 [1:16:38<16:13, 29.49s/it][I 2023-08-21 18:16:13,858] Trial 166 finished with value: 0.8841693264930168 and parameters: {'max_depth': 126, 'subsample': 0.3637830748087143, 'colsample_bytree': 0.6061578789658025, 'colsample_bylevel': 0.38572086489073754, 'min_child_weight': 29, 'reg_lambda': 0.020197848135280194, 'reg_alpha': 0.01558138290832859, 'n_estimators': 880, 'learning_rate': 0.04128843416470436}. Best is trial 54 with value: 0.8849572522782743.\n",
      "Optimizing Hyperparameter:  84%|████████▍ | 168/200 [1:17:05<15:20, 28.77s/it][I 2023-08-21 18:16:43,954] Trial 167 finished with value: 0.8849270569066345 and parameters: {'max_depth': 137, 'subsample': 0.39066315268044005, 'colsample_bytree': 0.631926715416571, 'colsample_bylevel': 0.3476716587030789, 'min_child_weight': 25, 'reg_lambda': 0.020063118730027144, 'reg_alpha': 0.017420005180879765, 'n_estimators': 936, 'learning_rate': 0.04413208637733733}. Best is trial 54 with value: 0.8849572522782743.\n",
      "Optimizing Hyperparameter:  84%|████████▍ | 169/200 [1:17:35<15:04, 29.17s/it][I 2023-08-21 18:17:13,130] Trial 168 finished with value: 0.8848930115788151 and parameters: {'max_depth': 112, 'subsample': 0.3918541098684124, 'colsample_bytree': 0.6654521773276918, 'colsample_bylevel': 0.34462917710981666, 'min_child_weight': 25, 'reg_lambda': 0.017341577114357114, 'reg_alpha': 0.014199901135416542, 'n_estimators': 934, 'learning_rate': 0.04209884183734553}. Best is trial 54 with value: 0.8849572522782743.\n",
      "Optimizing Hyperparameter:  85%|████████▌ | 170/200 [1:18:04<14:35, 29.17s/it][I 2023-08-21 18:17:46,756] Trial 169 finished with value: 0.8837117544535814 and parameters: {'max_depth': 125, 'subsample': 0.3845546999266852, 'colsample_bytree': 0.6867029690422822, 'colsample_bylevel': 0.30938728206041205, 'min_child_weight': 25, 'reg_lambda': 0.018617804030668428, 'reg_alpha': 0.013092711064748032, 'n_estimators': 929, 'learning_rate': 0.04420915227172865}. Best is trial 54 with value: 0.8849572522782743.\n",
      "Optimizing Hyperparameter:  86%|████████▌ | 171/200 [1:18:38<14:44, 30.51s/it][I 2023-08-21 18:18:21,058] Trial 170 finished with value: 0.8836704539453568 and parameters: {'max_depth': 106, 'subsample': 0.4021463388130609, 'colsample_bytree': 0.6691795526645782, 'colsample_bylevel': 0.34262259409394247, 'min_child_weight': 26, 'reg_lambda': 0.016285711289511288, 'reg_alpha': 0.01447084452171749, 'n_estimators': 939, 'learning_rate': 0.04858065981112723}. Best is trial 54 with value: 0.8849572522782743.\n",
      "Optimizing Hyperparameter:  86%|████████▌ | 172/200 [1:19:12<14:46, 31.64s/it][I 2023-08-21 18:18:51,337] Trial 171 finished with value: 0.8850160285200904 and parameters: {'max_depth': 131, 'subsample': 0.42464567716707363, 'colsample_bytree': 0.6334219579187542, 'colsample_bylevel': 0.3468854063974383, 'min_child_weight': 27, 'reg_lambda': 0.016861241473966254, 'reg_alpha': 0.016755886799599502, 'n_estimators': 947, 'learning_rate': 0.04447176391014558}. Best is trial 171 with value: 0.8850160285200904.\n",
      "Optimizing Hyperparameter:  86%|████████▋ | 173/200 [1:19:42<14:03, 31.23s/it][I 2023-08-21 18:19:20,257] Trial 172 finished with value: 0.8853040873302218 and parameters: {'max_depth': 119, 'subsample': 0.41820403470964324, 'colsample_bytree': 0.6335115127446679, 'colsample_bylevel': 0.3436320978696319, 'min_child_weight': 27, 'reg_lambda': 0.01996510386027647, 'reg_alpha': 0.016841820325183873, 'n_estimators': 906, 'learning_rate': 0.04372410064644335}. Best is trial 172 with value: 0.8853040873302218.\n",
      "Optimizing Hyperparameter:  87%|████████▋ | 174/200 [1:20:11<13:14, 30.54s/it][I 2023-08-21 18:19:48,992] Trial 173 finished with value: 0.8850994537795593 and parameters: {'max_depth': 147, 'subsample': 0.39177933954282174, 'colsample_bytree': 0.6338564035082184, 'colsample_bylevel': 0.33141123802917716, 'min_child_weight': 26, 'reg_lambda': 0.017631239937711055, 'reg_alpha': 0.01452066915943351, 'n_estimators': 912, 'learning_rate': 0.0441431636821456}. Best is trial 172 with value: 0.8853040873302218.\n",
      "Optimizing Hyperparameter:  88%|████████▊ | 175/200 [1:20:40<12:29, 30.00s/it][I 2023-08-21 18:20:19,844] Trial 174 finished with value: 0.8849712852145757 and parameters: {'max_depth': 150, 'subsample': 0.4220620012897392, 'colsample_bytree': 0.6313842282598473, 'colsample_bylevel': 0.3026639126588972, 'min_child_weight': 28, 'reg_lambda': 0.016989380697142214, 'reg_alpha': 0.014139255678272114, 'n_estimators': 914, 'learning_rate': 0.04385706810746184}. Best is trial 172 with value: 0.8853040873302218.\n",
      "Optimizing Hyperparameter:  88%|████████▊ | 176/200 [1:21:11<12:06, 30.25s/it][I 2023-08-21 18:20:54,449] Trial 175 finished with value: 0.8851594263602081 and parameters: {'max_depth': 162, 'subsample': 0.42123508330169745, 'colsample_bytree': 0.6316123077082331, 'colsample_bylevel': 0.300015800402785, 'min_child_weight': 28, 'reg_lambda': 0.01685253340444355, 'reg_alpha': 0.013969972504919426, 'n_estimators': 922, 'learning_rate': 0.043670884883784095}. Best is trial 172 with value: 0.8853040873302218.\n",
      "Optimizing Hyperparameter:  88%|████████▊ | 177/200 [1:21:45<12:05, 31.56s/it][I 2023-08-21 18:21:22,739] Trial 176 finished with value: 0.8849423528960366 and parameters: {'max_depth': 150, 'subsample': 0.41810449490918744, 'colsample_bytree': 0.6656967023967082, 'colsample_bylevel': 0.295269825106033, 'min_child_weight': 28, 'reg_lambda': 0.01658037882542488, 'reg_alpha': 0.013784755330365753, 'n_estimators': 915, 'learning_rate': 0.04630558027584243}. Best is trial 172 with value: 0.8853040873302218.\n",
      "Optimizing Hyperparameter:  89%|████████▉ | 178/200 [1:22:14<11:12, 30.58s/it][I 2023-08-21 18:21:50,687] Trial 177 finished with value: 0.8852656484081011 and parameters: {'max_depth': 155, 'subsample': 0.416720975945576, 'colsample_bytree': 0.6611186974819737, 'colsample_bylevel': 0.2989038536183093, 'min_child_weight': 29, 'reg_lambda': 0.016529568646864338, 'reg_alpha': 0.01330236737873724, 'n_estimators': 912, 'learning_rate': 0.0433932741083835}. Best is trial 172 with value: 0.8853040873302218.\n",
      "Optimizing Hyperparameter:  90%|████████▉ | 179/200 [1:22:42<10:25, 29.79s/it][I 2023-08-21 18:22:23,634] Trial 178 finished with value: 0.8841205242574764 and parameters: {'max_depth': 153, 'subsample': 0.4203409489186928, 'colsample_bytree': 0.6667208812272784, 'colsample_bylevel': 0.29869217407124266, 'min_child_weight': 28, 'reg_lambda': 0.016290792362911515, 'reg_alpha': 0.012115721394398201, 'n_estimators': 912, 'learning_rate': 0.04352764573951464}. Best is trial 172 with value: 0.8853040873302218.\n",
      "Optimizing Hyperparameter:  90%|█████████ | 180/200 [1:23:14<10:14, 30.74s/it][I 2023-08-21 18:22:55,630] Trial 179 finished with value: 0.8834185924155409 and parameters: {'max_depth': 146, 'subsample': 0.40702298785725277, 'colsample_bytree': 0.6876480499325022, 'colsample_bylevel': 0.3224720402941838, 'min_child_weight': 29, 'reg_lambda': 0.013341305797460335, 'reg_alpha': 0.010787571822318332, 'n_estimators': 900, 'learning_rate': 0.046504777425062815}. Best is trial 172 with value: 0.8853040873302218.\n",
      "Optimizing Hyperparameter:  90%|█████████ | 181/200 [1:23:46<09:51, 31.12s/it][I 2023-08-21 18:23:24,098] Trial 180 finished with value: 0.8846249969654404 and parameters: {'max_depth': 168, 'subsample': 0.4267092608775159, 'colsample_bytree': 0.6577022624840134, 'colsample_bylevel': 0.28865641624850674, 'min_child_weight': 28, 'reg_lambda': 0.018303745973666304, 'reg_alpha': 0.013563042740085598, 'n_estimators': 920, 'learning_rate': 0.04434486156759016}. Best is trial 172 with value: 0.8853040873302218.\n",
      "Optimizing Hyperparameter:  91%|█████████ | 182/200 [1:24:15<09:05, 30.32s/it][I 2023-08-21 18:23:52,980] Trial 181 finished with value: 0.8846456218916563 and parameters: {'max_depth': 118, 'subsample': 0.4269391494220807, 'colsample_bytree': 0.636833069894519, 'colsample_bylevel': 0.30694474908056313, 'min_child_weight': 27, 'reg_lambda': 0.017277764807728052, 'reg_alpha': 0.014603693099628851, 'n_estimators': 933, 'learning_rate': 0.0466933515359446}. Best is trial 172 with value: 0.8853040873302218.\n",
      "Optimizing Hyperparameter:  92%|█████████▏| 183/200 [1:24:44<08:28, 29.89s/it][I 2023-08-21 18:24:21,707] Trial 182 finished with value: 0.8849682211622918 and parameters: {'max_depth': 99, 'subsample': 0.40757537276312533, 'colsample_bytree': 0.6409980944350454, 'colsample_bylevel': 0.32945574374867836, 'min_child_weight': 30, 'reg_lambda': 0.014438902253136508, 'reg_alpha': 0.011917348442454175, 'n_estimators': 949, 'learning_rate': 0.049338213472251854}. Best is trial 172 with value: 0.8853040873302218.\n",
      "Optimizing Hyperparameter:  92%|█████████▏| 184/200 [1:25:13<07:52, 29.54s/it][I 2023-08-21 18:24:55,077] Trial 183 finished with value: 0.8836602088356869 and parameters: {'max_depth': 159, 'subsample': 0.40470908761702795, 'colsample_bytree': 0.7046082528064543, 'colsample_bylevel': 0.3301264411839865, 'min_child_weight': 29, 'reg_lambda': 0.014623637883272488, 'reg_alpha': 0.012272161314486307, 'n_estimators': 949, 'learning_rate': 0.05270599644347433}. Best is trial 172 with value: 0.8853040873302218.\n",
      "Optimizing Hyperparameter:  92%|█████████▎| 185/200 [1:25:46<07:40, 30.69s/it][I 2023-08-21 18:25:24,167] Trial 184 finished with value: 0.8846531286315708 and parameters: {'max_depth': 98, 'subsample': 0.3885418112899317, 'colsample_bytree': 0.6618570716686328, 'colsample_bylevel': 0.2820386118630298, 'min_child_weight': 30, 'reg_lambda': 0.014905594319180924, 'reg_alpha': 0.01134334784684845, 'n_estimators': 973, 'learning_rate': 0.04908314835309228}. Best is trial 172 with value: 0.8853040873302218.\n",
      "Optimizing Hyperparameter:  93%|█████████▎| 186/200 [1:26:15<07:02, 30.21s/it][I 2023-08-21 18:25:42,353] Trial 185 finished with value: 0.8839028493021698 and parameters: {'max_depth': 175, 'subsample': 0.41434825061691377, 'colsample_bytree': 0.6321282402341274, 'colsample_bylevel': 0.30482879104819455, 'min_child_weight': 26, 'reg_lambda': 0.01766238605037493, 'reg_alpha': 0.013605112947005284, 'n_estimators': 588, 'learning_rate': 0.04567199130256165}. Best is trial 172 with value: 0.8853040873302218.\n",
      "Optimizing Hyperparameter:  94%|█████████▎| 187/200 [1:26:33<05:45, 26.60s/it][I 2023-08-21 18:26:15,304] Trial 186 finished with value: 0.8839791268228826 and parameters: {'max_depth': 132, 'subsample': 0.4397964545252063, 'colsample_bytree': 0.6788592652069712, 'colsample_bylevel': 0.32884223911046595, 'min_child_weight': 28, 'reg_lambda': 0.019560482862003632, 'reg_alpha': 0.012329774882740513, 'n_estimators': 912, 'learning_rate': 0.0431571827935235}. Best is trial 172 with value: 0.8853040873302218.\n",
      "Optimizing Hyperparameter:  94%|█████████▍| 188/200 [1:27:06<05:42, 28.51s/it][I 2023-08-21 18:26:41,785] Trial 187 finished with value: 0.8853122579893192 and parameters: {'max_depth': 142, 'subsample': 0.3663454942040451, 'colsample_bytree': 0.6476416607525354, 'colsample_bylevel': 0.29795702734529433, 'min_child_weight': 30, 'reg_lambda': 0.01317042403483614, 'reg_alpha': 0.01027655390129267, 'n_estimators': 897, 'learning_rate': 0.047048928497122354}. Best is trial 187 with value: 0.8853122579893192.\n",
      "Optimizing Hyperparameter:  94%|█████████▍| 189/200 [1:27:33<05:06, 27.90s/it][I 2023-08-21 18:27:08,628] Trial 188 finished with value: 0.885156838508254 and parameters: {'max_depth': 140, 'subsample': 0.3566139798952084, 'colsample_bytree': 0.646107543794507, 'colsample_bylevel': 0.2705198838004788, 'min_child_weight': 29, 'reg_lambda': 0.012296601670397422, 'reg_alpha': 0.010905437913737524, 'n_estimators': 923, 'learning_rate': 0.04798778570665227}. Best is trial 187 with value: 0.8853122579893192.\n",
      "Optimizing Hyperparameter:  95%|█████████▌| 190/200 [1:27:59<04:35, 27.58s/it][I 2023-08-21 18:27:36,764] Trial 189 finished with value: 0.8846831838033651 and parameters: {'max_depth': 137, 'subsample': 0.3710017924075403, 'colsample_bytree': 0.6445017557256933, 'colsample_bylevel': 0.26448060500455906, 'min_child_weight': 30, 'reg_lambda': 0.01292213219932523, 'reg_alpha': 0.01285110040728012, 'n_estimators': 956, 'learning_rate': 0.048363003826237524}. Best is trial 187 with value: 0.8853122579893192.\n",
      "Optimizing Hyperparameter:  96%|█████████▌| 191/200 [1:28:28<04:09, 27.75s/it][I 2023-08-21 18:28:05,148] Trial 190 finished with value: 0.8851289405983903 and parameters: {'max_depth': 115, 'subsample': 0.34420091358857957, 'colsample_bytree': 0.6245132392090076, 'colsample_bylevel': 0.3091459817648608, 'min_child_weight': 29, 'reg_lambda': 0.015696079588862717, 'reg_alpha': 0.010518198924475029, 'n_estimators': 980, 'learning_rate': 0.05082569286267463}. Best is trial 187 with value: 0.8853122579893192.\n",
      "Optimizing Hyperparameter:  96%|█████████▌| 192/200 [1:28:56<03:43, 27.94s/it][I 2023-08-21 18:28:34,039] Trial 191 finished with value: 0.8850471920910113 and parameters: {'max_depth': 115, 'subsample': 0.34253534197395064, 'colsample_bytree': 0.630487686152612, 'colsample_bylevel': 0.3115229943495551, 'min_child_weight': 29, 'reg_lambda': 0.012059312941114819, 'reg_alpha': 0.01012367902442657, 'n_estimators': 991, 'learning_rate': 0.051975260252729444}. Best is trial 187 with value: 0.8853122579893192.\n",
      "Optimizing Hyperparameter:  96%|█████████▋| 193/200 [1:29:25<03:17, 28.23s/it][I 2023-08-21 18:29:03,115] Trial 192 finished with value: 0.8851005275191753 and parameters: {'max_depth': 114, 'subsample': 0.35118309824498667, 'colsample_bytree': 0.6317344783581756, 'colsample_bylevel': 0.3059574170374103, 'min_child_weight': 29, 'reg_lambda': 0.011838536464432683, 'reg_alpha': 0.01045835882752192, 'n_estimators': 994, 'learning_rate': 0.052326816869775694}. Best is trial 187 with value: 0.8853122579893192.\n",
      "Optimizing Hyperparameter:  97%|█████████▋| 194/200 [1:29:54<02:50, 28.48s/it][I 2023-08-21 18:29:32,733] Trial 193 finished with value: 0.8853301529886997 and parameters: {'max_depth': 112, 'subsample': 0.3469967481099918, 'colsample_bytree': 0.6309059379386522, 'colsample_bylevel': 0.3085281750706274, 'min_child_weight': 29, 'reg_lambda': 0.01150636384272438, 'reg_alpha': 0.010210436465593971, 'n_estimators': 982, 'learning_rate': 0.05249320481465959}. Best is trial 193 with value: 0.8853301529886997.\n",
      "Optimizing Hyperparameter:  98%|█████████▊| 195/200 [1:30:24<02:24, 28.82s/it][I 2023-08-21 18:30:01,479] Trial 194 finished with value: 0.8854558626072118 and parameters: {'max_depth': 112, 'subsample': 0.330180671919689, 'colsample_bytree': 0.6255748486314187, 'colsample_bylevel': 0.31182107096618394, 'min_child_weight': 29, 'reg_lambda': 0.011118049665564124, 'reg_alpha': 0.01041926528482782, 'n_estimators': 998, 'learning_rate': 0.05144533179056253}. Best is trial 194 with value: 0.8854558626072118.\n",
      "Optimizing Hyperparameter:  98%|█████████▊| 196/200 [1:30:52<01:55, 28.80s/it][I 2023-08-21 18:30:30,017] Trial 195 finished with value: 0.8857720486171174 and parameters: {'max_depth': 82, 'subsample': 0.3305281737972945, 'colsample_bytree': 0.6355737458916039, 'colsample_bylevel': 0.3026524980467276, 'min_child_weight': 29, 'reg_lambda': 0.01152810480440571, 'reg_alpha': 0.010030697456109162, 'n_estimators': 993, 'learning_rate': 0.05247278757656417}. Best is trial 195 with value: 0.8857720486171174.\n",
      "Optimizing Hyperparameter:  98%|█████████▊| 197/200 [1:31:21<01:26, 28.72s/it][I 2023-08-21 18:30:58,804] Trial 196 finished with value: 0.8855661924968287 and parameters: {'max_depth': 73, 'subsample': 0.33937231302285464, 'colsample_bytree': 0.6297367567513912, 'colsample_bylevel': 0.31311807870754277, 'min_child_weight': 30, 'reg_lambda': 0.011029638735107651, 'reg_alpha': 0.010475162094354718, 'n_estimators': 995, 'learning_rate': 0.051979551607130255}. Best is trial 195 with value: 0.8857720486171174.\n",
      "Optimizing Hyperparameter:  99%|█████████▉| 198/200 [1:31:50<00:57, 28.76s/it][I 2023-08-21 18:31:27,496] Trial 197 finished with value: 0.885469138254365 and parameters: {'max_depth': 79, 'subsample': 0.3332083898038391, 'colsample_bytree': 0.633067004958663, 'colsample_bylevel': 0.2983616871099906, 'min_child_weight': 29, 'reg_lambda': 0.011207990424298932, 'reg_alpha': 0.010180123667335794, 'n_estimators': 991, 'learning_rate': 0.05108525753538928}. Best is trial 195 with value: 0.8857720486171174.\n",
      "Optimizing Hyperparameter: 100%|█████████▉| 199/200 [1:32:18<00:28, 28.72s/it][I 2023-08-21 18:31:56,018] Trial 198 finished with value: 0.8850994717837491 and parameters: {'max_depth': 79, 'subsample': 0.32943571732098453, 'colsample_bytree': 0.6313573285088503, 'colsample_bylevel': 0.313981898305988, 'min_child_weight': 29, 'reg_lambda': 0.011209147307612286, 'reg_alpha': 0.010803756757279818, 'n_estimators': 994, 'learning_rate': 0.05203982910945717}. Best is trial 195 with value: 0.8857720486171174.\n",
      "Optimizing Hyperparameter: 100%|██████████| 200/200 [1:32:47<00:00, 28.66s/it][I 2023-08-21 18:32:24,236] Trial 199 finished with value: 0.8846175916310824 and parameters: {'max_depth': 80, 'subsample': 0.3050099398993787, 'colsample_bytree': 0.6211137427599145, 'colsample_bylevel': 0.30582016428410513, 'min_child_weight': 29, 'reg_lambda': 0.01178783289988543, 'reg_alpha': 0.010210313771589154, 'n_estimators': 994, 'learning_rate': 0.05219194043312041}. Best is trial 195 with value: 0.8857720486171174.\n",
      "Optimizing Hyperparameter: 201it [1:33:15, 27.84s/it]                         "
     ]
    },
    {
     "name": "stdout",
     "output_type": "stream",
     "text": [
      "Best Hyperparameter for XGBRegressor:\n",
      "{'max_depth': 82, 'subsample': 0.3305281737972945, 'colsample_bytree': 0.6355737458916039, 'colsample_bylevel': 0.3026524980467276, 'min_child_weight': 29, 'reg_lambda': 0.01152810480440571, 'reg_alpha': 0.010030697456109162, 'n_estimators': 993, 'learning_rate': 0.05247278757656417}\n",
      "Best R2 Score: 0.886\n"
     ]
    },
    {
     "name": "stderr",
     "output_type": "stream",
     "text": [
      "\n"
     ]
    }
   ],
   "source": [
    "progress_bar = tqdm(total=200, desc='Optimizing Hyperparameter', dynamic_ncols=True)\n",
    "\n",
    "def callback(study, trial):\n",
    "    progress_bar.n = len(study.trials)\n",
    "    progress_bar.update(1)\n",
    "\n",
    "study = optuna.create_study(direction='maximize')\n",
    "study.optimize(objective, n_trials=200, callbacks=[callback])\n",
    "\n",
    "progress_bar.close()\n",
    "\n",
    "best_params = study.best_params\n",
    "best_score = study.best_value\n",
    "\n",
    "print(\"Best Hyperparameter for XGBRegressor:\")\n",
    "print(best_params)\n",
    "print(\"Best R2 Score: {:.3f}\".format(best_score))"
   ]
  },
  {
   "cell_type": "code",
   "execution_count": 51,
   "metadata": {},
   "outputs": [],
   "source": [
    "# saving the best model\n",
    "model = XGBRegressor(**best_params)\n",
    "model.fit(X_train, y_train)\n",
    "\n",
    "save_object(obj=model)"
   ]
  }
 ],
 "metadata": {
  "kernelspec": {
   "display_name": "Python 3 (ipykernel)",
   "language": "python",
   "name": "python3"
  },
  "language_info": {
   "codemirror_mode": {
    "name": "ipython",
    "version": 3
   },
   "file_extension": ".py",
   "mimetype": "text/x-python",
   "name": "python",
   "nbconvert_exporter": "python",
   "pygments_lexer": "ipython3",
   "version": "3.9.16"
  }
 },
 "nbformat": 4,
 "nbformat_minor": 4
}
