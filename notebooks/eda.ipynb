{
 "cells": [
  {
   "cell_type": "markdown",
   "metadata": {},
   "source": [
    "## EDA OF Uber Fare Amount"
   ]
  },
  {
   "cell_type": "markdown",
   "metadata": {},
   "source": [
    "#### Importing the Dataset"
   ]
  },
  {
   "cell_type": "code",
   "execution_count": 2,
   "metadata": {},
   "outputs": [],
   "source": [
    "import pandas as pd\n",
    "import numpy as np\n",
    "import matplotlib.pyplot as plt\n",
    "\n",
    "\n",
    "import warnings\n",
    "warnings.filterwarnings('ignore')"
   ]
  },
  {
   "cell_type": "code",
   "execution_count": 3,
   "metadata": {},
   "outputs": [
    {
     "data": {
      "text/html": [
       "<div>\n",
       "<style scoped>\n",
       "    .dataframe tbody tr th:only-of-type {\n",
       "        vertical-align: middle;\n",
       "    }\n",
       "\n",
       "    .dataframe tbody tr th {\n",
       "        vertical-align: top;\n",
       "    }\n",
       "\n",
       "    .dataframe thead th {\n",
       "        text-align: right;\n",
       "    }\n",
       "</style>\n",
       "<table border=\"1\" class=\"dataframe\">\n",
       "  <thead>\n",
       "    <tr style=\"text-align: right;\">\n",
       "      <th></th>\n",
       "      <th>fare_amount</th>\n",
       "      <th>pickup_datetime</th>\n",
       "      <th>pickup_longitude</th>\n",
       "      <th>pickup_latitude</th>\n",
       "      <th>dropoff_longitude</th>\n",
       "      <th>dropoff_latitude</th>\n",
       "      <th>passenger_count</th>\n",
       "    </tr>\n",
       "  </thead>\n",
       "  <tbody>\n",
       "    <tr>\n",
       "      <th>0</th>\n",
       "      <td>7.5</td>\n",
       "      <td>2015-05-07 19:52:06+00:00</td>\n",
       "      <td>-73.999817</td>\n",
       "      <td>40.738354</td>\n",
       "      <td>-73.999512</td>\n",
       "      <td>40.723217</td>\n",
       "      <td>1</td>\n",
       "    </tr>\n",
       "    <tr>\n",
       "      <th>1</th>\n",
       "      <td>7.7</td>\n",
       "      <td>2009-07-17 20:04:56+00:00</td>\n",
       "      <td>-73.994355</td>\n",
       "      <td>40.728225</td>\n",
       "      <td>-73.994710</td>\n",
       "      <td>40.750325</td>\n",
       "      <td>1</td>\n",
       "    </tr>\n",
       "    <tr>\n",
       "      <th>2</th>\n",
       "      <td>12.9</td>\n",
       "      <td>2009-08-24 21:45:00+00:00</td>\n",
       "      <td>-74.005043</td>\n",
       "      <td>40.740770</td>\n",
       "      <td>-73.962565</td>\n",
       "      <td>40.772647</td>\n",
       "      <td>1</td>\n",
       "    </tr>\n",
       "    <tr>\n",
       "      <th>3</th>\n",
       "      <td>5.3</td>\n",
       "      <td>2009-06-26 08:22:21+00:00</td>\n",
       "      <td>-73.976124</td>\n",
       "      <td>40.790844</td>\n",
       "      <td>-73.965316</td>\n",
       "      <td>40.803349</td>\n",
       "      <td>3</td>\n",
       "    </tr>\n",
       "    <tr>\n",
       "      <th>4</th>\n",
       "      <td>16.0</td>\n",
       "      <td>2014-08-28 17:47:00+00:00</td>\n",
       "      <td>-73.925023</td>\n",
       "      <td>40.744085</td>\n",
       "      <td>-73.973082</td>\n",
       "      <td>40.761247</td>\n",
       "      <td>5</td>\n",
       "    </tr>\n",
       "  </tbody>\n",
       "</table>\n",
       "</div>"
      ],
      "text/plain": [
       "   fare_amount           pickup_datetime  pickup_longitude  pickup_latitude  \\\n",
       "0          7.5 2015-05-07 19:52:06+00:00        -73.999817        40.738354   \n",
       "1          7.7 2009-07-17 20:04:56+00:00        -73.994355        40.728225   \n",
       "2         12.9 2009-08-24 21:45:00+00:00        -74.005043        40.740770   \n",
       "3          5.3 2009-06-26 08:22:21+00:00        -73.976124        40.790844   \n",
       "4         16.0 2014-08-28 17:47:00+00:00        -73.925023        40.744085   \n",
       "\n",
       "   dropoff_longitude  dropoff_latitude  passenger_count  \n",
       "0         -73.999512         40.723217                1  \n",
       "1         -73.994710         40.750325                1  \n",
       "2         -73.962565         40.772647                1  \n",
       "3         -73.965316         40.803349                3  \n",
       "4         -73.973082         40.761247                5  "
      ]
     },
     "execution_count": 3,
     "metadata": {},
     "output_type": "execute_result"
    }
   ],
   "source": [
    "df = pd.read_csv(\"../data/uber.csv\", parse_dates=['pickup_datetime'])\n",
    "df.drop(['Unnamed: 0','key'], axis=1, inplace=True)\n",
    "df.head()"
   ]
  },
  {
   "cell_type": "code",
   "execution_count": 4,
   "metadata": {},
   "outputs": [
    {
     "name": "stdout",
     "output_type": "stream",
     "text": [
      "Inference: The Dataset consists of 7 features & 200000 samples.\n"
     ]
    }
   ],
   "source": [
    "print(f'Inference: The Dataset consists of {df.shape[1]} features & {df.shape[0]} samples.')"
   ]
  },
  {
   "cell_type": "markdown",
   "metadata": {},
   "source": [
    "### Handling Missing Values"
   ]
  },
  {
   "cell_type": "code",
   "execution_count": 5,
   "metadata": {},
   "outputs": [
    {
     "name": "stdout",
     "output_type": "stream",
     "text": [
      "                   Total Null Values  Percentage\n",
      "fare_amount                        0         0.0\n",
      "pickup_datetime                    0         0.0\n",
      "pickup_longitude                   0         0.0\n",
      "pickup_latitude                    0         0.0\n",
      "passenger_count                    0         0.0\n",
      "dropoff_longitude                  1         0.0\n",
      "dropoff_latitude                   1         0.0\n"
     ]
    }
   ],
   "source": [
    "nullValues = pd.DataFrame(df.isnull().sum().sort_values(), columns=['Total Null Values'])\n",
    "nullValues['Percentage'] = round(nullValues['Total Null Values']/df.shape[0],3)*100\n",
    "print(nullValues)"
   ]
  },
  {
   "cell_type": "code",
   "execution_count": 6,
   "metadata": {},
   "outputs": [
    {
     "data": {
      "text/html": [
       "<div>\n",
       "<style scoped>\n",
       "    .dataframe tbody tr th:only-of-type {\n",
       "        vertical-align: middle;\n",
       "    }\n",
       "\n",
       "    .dataframe tbody tr th {\n",
       "        vertical-align: top;\n",
       "    }\n",
       "\n",
       "    .dataframe thead th {\n",
       "        text-align: right;\n",
       "    }\n",
       "</style>\n",
       "<table border=\"1\" class=\"dataframe\">\n",
       "  <thead>\n",
       "    <tr style=\"text-align: right;\">\n",
       "      <th></th>\n",
       "      <th>fare_amount</th>\n",
       "      <th>pickup_datetime</th>\n",
       "      <th>pickup_longitude</th>\n",
       "      <th>pickup_latitude</th>\n",
       "      <th>dropoff_longitude</th>\n",
       "      <th>dropoff_latitude</th>\n",
       "      <th>passenger_count</th>\n",
       "    </tr>\n",
       "  </thead>\n",
       "  <tbody>\n",
       "    <tr>\n",
       "      <th>87946</th>\n",
       "      <td>24.1</td>\n",
       "      <td>2013-07-02 03:51:57+00:00</td>\n",
       "      <td>-73.950581</td>\n",
       "      <td>40.779692</td>\n",
       "      <td>NaN</td>\n",
       "      <td>NaN</td>\n",
       "      <td>0</td>\n",
       "    </tr>\n",
       "  </tbody>\n",
       "</table>\n",
       "</div>"
      ],
      "text/plain": [
       "       fare_amount           pickup_datetime  pickup_longitude  \\\n",
       "87946         24.1 2013-07-02 03:51:57+00:00        -73.950581   \n",
       "\n",
       "       pickup_latitude  dropoff_longitude  dropoff_latitude  passenger_count  \n",
       "87946        40.779692                NaN               NaN                0  "
      ]
     },
     "execution_count": 6,
     "metadata": {},
     "output_type": "execute_result"
    }
   ],
   "source": [
    "df[df['dropoff_longitude'].isnull()]"
   ]
  },
  {
   "cell_type": "code",
   "execution_count": 7,
   "metadata": {},
   "outputs": [],
   "source": [
    "df.dropna(inplace=True)"
   ]
  },
  {
   "cell_type": "code",
   "execution_count": 8,
   "metadata": {},
   "outputs": [
    {
     "data": {
      "text/plain": [
       "fare_amount          0\n",
       "pickup_datetime      0\n",
       "pickup_longitude     0\n",
       "pickup_latitude      0\n",
       "dropoff_longitude    0\n",
       "dropoff_latitude     0\n",
       "passenger_count      0\n",
       "dtype: int64"
      ]
     },
     "execution_count": 8,
     "metadata": {},
     "output_type": "execute_result"
    }
   ],
   "source": [
    "df.isnull().sum()# after clean dataset"
   ]
  },
  {
   "cell_type": "code",
   "execution_count": 9,
   "metadata": {},
   "outputs": [
    {
     "data": {
      "text/plain": [
       "0"
      ]
     },
     "execution_count": 9,
     "metadata": {},
     "output_type": "execute_result"
    }
   ],
   "source": [
    "df.duplicated().sum()#checking duplicate values"
   ]
  },
  {
   "cell_type": "code",
   "execution_count": 10,
   "metadata": {},
   "outputs": [
    {
     "name": "stdout",
     "output_type": "stream",
     "text": [
      "<class 'pandas.core.frame.DataFrame'>\n",
      "Index: 199999 entries, 0 to 199999\n",
      "Data columns (total 7 columns):\n",
      " #   Column             Non-Null Count   Dtype              \n",
      "---  ------             --------------   -----              \n",
      " 0   fare_amount        199999 non-null  float64            \n",
      " 1   pickup_datetime    199999 non-null  datetime64[ns, UTC]\n",
      " 2   pickup_longitude   199999 non-null  float64            \n",
      " 3   pickup_latitude    199999 non-null  float64            \n",
      " 4   dropoff_longitude  199999 non-null  float64            \n",
      " 5   dropoff_latitude   199999 non-null  float64            \n",
      " 6   passenger_count    199999 non-null  int64              \n",
      "dtypes: datetime64[ns, UTC](1), float64(5), int64(1)\n",
      "memory usage: 12.2 MB\n"
     ]
    }
   ],
   "source": [
    "df.info()"
   ]
  },
  {
   "cell_type": "code",
   "execution_count": 11,
   "metadata": {},
   "outputs": [
    {
     "data": {
      "text/html": [
       "<div>\n",
       "<style scoped>\n",
       "    .dataframe tbody tr th:only-of-type {\n",
       "        vertical-align: middle;\n",
       "    }\n",
       "\n",
       "    .dataframe tbody tr th {\n",
       "        vertical-align: top;\n",
       "    }\n",
       "\n",
       "    .dataframe thead th {\n",
       "        text-align: right;\n",
       "    }\n",
       "</style>\n",
       "<table border=\"1\" class=\"dataframe\">\n",
       "  <thead>\n",
       "    <tr style=\"text-align: right;\">\n",
       "      <th></th>\n",
       "      <th>fare_amount</th>\n",
       "      <th>pickup_longitude</th>\n",
       "      <th>pickup_latitude</th>\n",
       "      <th>dropoff_longitude</th>\n",
       "      <th>dropoff_latitude</th>\n",
       "      <th>passenger_count</th>\n",
       "    </tr>\n",
       "  </thead>\n",
       "  <tbody>\n",
       "    <tr>\n",
       "      <th>count</th>\n",
       "      <td>199999.000000</td>\n",
       "      <td>199999.000000</td>\n",
       "      <td>199999.000000</td>\n",
       "      <td>199999.000000</td>\n",
       "      <td>199999.000000</td>\n",
       "      <td>199999.000000</td>\n",
       "    </tr>\n",
       "    <tr>\n",
       "      <th>mean</th>\n",
       "      <td>11.359892</td>\n",
       "      <td>-72.527631</td>\n",
       "      <td>39.935881</td>\n",
       "      <td>-72.525292</td>\n",
       "      <td>39.923890</td>\n",
       "      <td>1.684543</td>\n",
       "    </tr>\n",
       "    <tr>\n",
       "      <th>std</th>\n",
       "      <td>9.901760</td>\n",
       "      <td>11.437815</td>\n",
       "      <td>7.720558</td>\n",
       "      <td>13.117408</td>\n",
       "      <td>6.794829</td>\n",
       "      <td>1.385995</td>\n",
       "    </tr>\n",
       "    <tr>\n",
       "      <th>min</th>\n",
       "      <td>-52.000000</td>\n",
       "      <td>-1340.648410</td>\n",
       "      <td>-74.015515</td>\n",
       "      <td>-3356.666300</td>\n",
       "      <td>-881.985513</td>\n",
       "      <td>0.000000</td>\n",
       "    </tr>\n",
       "    <tr>\n",
       "      <th>25%</th>\n",
       "      <td>6.000000</td>\n",
       "      <td>-73.992065</td>\n",
       "      <td>40.734796</td>\n",
       "      <td>-73.991407</td>\n",
       "      <td>40.733823</td>\n",
       "      <td>1.000000</td>\n",
       "    </tr>\n",
       "    <tr>\n",
       "      <th>50%</th>\n",
       "      <td>8.500000</td>\n",
       "      <td>-73.981823</td>\n",
       "      <td>40.752592</td>\n",
       "      <td>-73.980093</td>\n",
       "      <td>40.753042</td>\n",
       "      <td>1.000000</td>\n",
       "    </tr>\n",
       "    <tr>\n",
       "      <th>75%</th>\n",
       "      <td>12.500000</td>\n",
       "      <td>-73.967154</td>\n",
       "      <td>40.767158</td>\n",
       "      <td>-73.963658</td>\n",
       "      <td>40.768001</td>\n",
       "      <td>2.000000</td>\n",
       "    </tr>\n",
       "    <tr>\n",
       "      <th>max</th>\n",
       "      <td>499.000000</td>\n",
       "      <td>57.418457</td>\n",
       "      <td>1644.421482</td>\n",
       "      <td>1153.572603</td>\n",
       "      <td>872.697628</td>\n",
       "      <td>208.000000</td>\n",
       "    </tr>\n",
       "  </tbody>\n",
       "</table>\n",
       "</div>"
      ],
      "text/plain": [
       "         fare_amount  pickup_longitude  pickup_latitude  dropoff_longitude  \\\n",
       "count  199999.000000     199999.000000    199999.000000      199999.000000   \n",
       "mean       11.359892        -72.527631        39.935881         -72.525292   \n",
       "std         9.901760         11.437815         7.720558          13.117408   \n",
       "min       -52.000000      -1340.648410       -74.015515       -3356.666300   \n",
       "25%         6.000000        -73.992065        40.734796         -73.991407   \n",
       "50%         8.500000        -73.981823        40.752592         -73.980093   \n",
       "75%        12.500000        -73.967154        40.767158         -73.963658   \n",
       "max       499.000000         57.418457      1644.421482        1153.572603   \n",
       "\n",
       "       dropoff_latitude  passenger_count  \n",
       "count     199999.000000    199999.000000  \n",
       "mean          39.923890         1.684543  \n",
       "std            6.794829         1.385995  \n",
       "min         -881.985513         0.000000  \n",
       "25%           40.733823         1.000000  \n",
       "50%           40.753042         1.000000  \n",
       "75%           40.768001         2.000000  \n",
       "max          872.697628       208.000000  "
      ]
     },
     "execution_count": 11,
     "metadata": {},
     "output_type": "execute_result"
    }
   ],
   "source": [
    "df.describe()"
   ]
  },
  {
   "cell_type": "markdown",
   "metadata": {},
   "source": [
    "#### Observations\n",
    "\n",
    "- Longitude and latitude values must be between -90 to 90. Some rows have inconsistent values\n",
    "- Minimum fare amount is negative. May be an error.\n",
    "- Maximum fare is significantly high. It needs to be analyzed.\n",
    "- The minimum passenger count is 0 and max is 208. Both the values seem inconsistent."
   ]
  },
  {
   "cell_type": "code",
   "execution_count": 12,
   "metadata": {},
   "outputs": [
    {
     "data": {
      "text/plain": [
       "(13, 7)"
      ]
     },
     "execution_count": 12,
     "metadata": {},
     "output_type": "execute_result"
    }
   ],
   "source": [
    "df_delete = df[(df['pickup_latitude']>180) | (df['pickup_latitude']<-180)|\n",
    "                    (df['dropoff_latitude']>180) | (df['dropoff_latitude']< -180)|\n",
    "                    (df['pickup_longitude']>90) | (df['pickup_longitude']<-90) |\n",
    "                    (df['dropoff_longitude']>90) | (df['dropoff_longitude']<-90)]\n",
    "df_delete.shape"
   ]
  },
  {
   "cell_type": "code",
   "execution_count": 13,
   "metadata": {},
   "outputs": [
    {
     "data": {
      "text/plain": [
       "Index([  4949,  32549,  40908,  48506,  56617,  61793,  75851,  91422, 103745,\n",
       "       139447, 144253, 161652, 199936],\n",
       "      dtype='int64')"
      ]
     },
     "execution_count": 13,
     "metadata": {},
     "output_type": "execute_result"
    }
   ],
   "source": [
    "index_to_delete = df_delete.index\n",
    "index_to_delete"
   ]
  },
  {
   "cell_type": "markdown",
   "metadata": {},
   "source": [
    "Since only 13 rows out of 200000 records have inconsistent values in latitude and longitude columns, we can drop these rows."
   ]
  },
  {
   "cell_type": "code",
   "execution_count": 14,
   "metadata": {},
   "outputs": [
    {
     "name": "stdout",
     "output_type": "stream",
     "text": [
      "before :199999,after :199986\n"
     ]
    }
   ],
   "source": [
    "before = df.shape\n",
    "df.drop(index_to_delete,inplace=True)\n",
    "print(f'before :{before[0]},after :{df.shape[0]}')"
   ]
  },
  {
   "cell_type": "code",
   "execution_count": 15,
   "metadata": {},
   "outputs": [],
   "source": [
    "df['year'] = df.pickup_datetime.dt.year\n",
    "df['month'] = df.pickup_datetime.dt.month\n",
    "df['weekday'] = df.pickup_datetime.dt.weekday\n",
    "df['hour'] = df.pickup_datetime.dt.hour"
   ]
  },
  {
   "cell_type": "code",
   "execution_count": 16,
   "metadata": {},
   "outputs": [
    {
     "data": {
      "text/html": [
       "<div>\n",
       "<style scoped>\n",
       "    .dataframe tbody tr th:only-of-type {\n",
       "        vertical-align: middle;\n",
       "    }\n",
       "\n",
       "    .dataframe tbody tr th {\n",
       "        vertical-align: top;\n",
       "    }\n",
       "\n",
       "    .dataframe thead th {\n",
       "        text-align: right;\n",
       "    }\n",
       "</style>\n",
       "<table border=\"1\" class=\"dataframe\">\n",
       "  <thead>\n",
       "    <tr style=\"text-align: right;\">\n",
       "      <th></th>\n",
       "      <th>fare_amount</th>\n",
       "      <th>pickup_datetime</th>\n",
       "      <th>pickup_longitude</th>\n",
       "      <th>pickup_latitude</th>\n",
       "      <th>dropoff_longitude</th>\n",
       "      <th>dropoff_latitude</th>\n",
       "      <th>passenger_count</th>\n",
       "      <th>year</th>\n",
       "      <th>month</th>\n",
       "      <th>weekday</th>\n",
       "      <th>hour</th>\n",
       "    </tr>\n",
       "  </thead>\n",
       "  <tbody>\n",
       "    <tr>\n",
       "      <th>0</th>\n",
       "      <td>7.5</td>\n",
       "      <td>2015-05-07 19:52:06+00:00</td>\n",
       "      <td>-73.999817</td>\n",
       "      <td>40.738354</td>\n",
       "      <td>-73.999512</td>\n",
       "      <td>40.723217</td>\n",
       "      <td>1</td>\n",
       "      <td>2015</td>\n",
       "      <td>5</td>\n",
       "      <td>3</td>\n",
       "      <td>19</td>\n",
       "    </tr>\n",
       "    <tr>\n",
       "      <th>1</th>\n",
       "      <td>7.7</td>\n",
       "      <td>2009-07-17 20:04:56+00:00</td>\n",
       "      <td>-73.994355</td>\n",
       "      <td>40.728225</td>\n",
       "      <td>-73.994710</td>\n",
       "      <td>40.750325</td>\n",
       "      <td>1</td>\n",
       "      <td>2009</td>\n",
       "      <td>7</td>\n",
       "      <td>4</td>\n",
       "      <td>20</td>\n",
       "    </tr>\n",
       "    <tr>\n",
       "      <th>2</th>\n",
       "      <td>12.9</td>\n",
       "      <td>2009-08-24 21:45:00+00:00</td>\n",
       "      <td>-74.005043</td>\n",
       "      <td>40.740770</td>\n",
       "      <td>-73.962565</td>\n",
       "      <td>40.772647</td>\n",
       "      <td>1</td>\n",
       "      <td>2009</td>\n",
       "      <td>8</td>\n",
       "      <td>0</td>\n",
       "      <td>21</td>\n",
       "    </tr>\n",
       "    <tr>\n",
       "      <th>3</th>\n",
       "      <td>5.3</td>\n",
       "      <td>2009-06-26 08:22:21+00:00</td>\n",
       "      <td>-73.976124</td>\n",
       "      <td>40.790844</td>\n",
       "      <td>-73.965316</td>\n",
       "      <td>40.803349</td>\n",
       "      <td>3</td>\n",
       "      <td>2009</td>\n",
       "      <td>6</td>\n",
       "      <td>4</td>\n",
       "      <td>8</td>\n",
       "    </tr>\n",
       "    <tr>\n",
       "      <th>4</th>\n",
       "      <td>16.0</td>\n",
       "      <td>2014-08-28 17:47:00+00:00</td>\n",
       "      <td>-73.925023</td>\n",
       "      <td>40.744085</td>\n",
       "      <td>-73.973082</td>\n",
       "      <td>40.761247</td>\n",
       "      <td>5</td>\n",
       "      <td>2014</td>\n",
       "      <td>8</td>\n",
       "      <td>3</td>\n",
       "      <td>17</td>\n",
       "    </tr>\n",
       "  </tbody>\n",
       "</table>\n",
       "</div>"
      ],
      "text/plain": [
       "   fare_amount           pickup_datetime  pickup_longitude  pickup_latitude  \\\n",
       "0          7.5 2015-05-07 19:52:06+00:00        -73.999817        40.738354   \n",
       "1          7.7 2009-07-17 20:04:56+00:00        -73.994355        40.728225   \n",
       "2         12.9 2009-08-24 21:45:00+00:00        -74.005043        40.740770   \n",
       "3          5.3 2009-06-26 08:22:21+00:00        -73.976124        40.790844   \n",
       "4         16.0 2014-08-28 17:47:00+00:00        -73.925023        40.744085   \n",
       "\n",
       "   dropoff_longitude  dropoff_latitude  passenger_count  year  month  weekday  \\\n",
       "0         -73.999512         40.723217                1  2015      5        3   \n",
       "1         -73.994710         40.750325                1  2009      7        4   \n",
       "2         -73.962565         40.772647                1  2009      8        0   \n",
       "3         -73.965316         40.803349                3  2009      6        4   \n",
       "4         -73.973082         40.761247                5  2014      8        3   \n",
       "\n",
       "   hour  \n",
       "0    19  \n",
       "1    20  \n",
       "2    21  \n",
       "3     8  \n",
       "4    17  "
      ]
     },
     "execution_count": 16,
     "metadata": {},
     "output_type": "execute_result"
    }
   ],
   "source": [
    "df.head()"
   ]
  },
  {
   "cell_type": "code",
   "execution_count": 17,
   "metadata": {},
   "outputs": [],
   "source": [
    "df['Monthly_Quarter'] = df.month.map({1:'Q1',2:'Q1',3:'Q1',4:'Q2',5:'Q2',6:'Q2',7:'Q3',\n",
    "                                      8:'Q3',9:'Q3',10:'Q4',11:'Q4',12:'Q4'})\n",
    "\n",
    "df['Hourly_Segments'] = df.hour.map({0:'H1',1:'H1',2:'H1',3:'H1',4:'H2',5:'H2',6:'H2',7:'H2',8:'H3',\n",
    "                                     9:'H3',10:'H3',11:'H3',12:'H4',13:'H4',14:'H4',15:'H4',16:'H5',\n",
    "                                     17:'H5',18:'H5',19:'H5',20:'H6',21:'H6',22:'H6',23:'H6'})"
   ]
  },
  {
   "cell_type": "code",
   "execution_count": 18,
   "metadata": {},
   "outputs": [
    {
     "data": {
      "text/html": [
       "<div>\n",
       "<style scoped>\n",
       "    .dataframe tbody tr th:only-of-type {\n",
       "        vertical-align: middle;\n",
       "    }\n",
       "\n",
       "    .dataframe tbody tr th {\n",
       "        vertical-align: top;\n",
       "    }\n",
       "\n",
       "    .dataframe thead th {\n",
       "        text-align: right;\n",
       "    }\n",
       "</style>\n",
       "<table border=\"1\" class=\"dataframe\">\n",
       "  <thead>\n",
       "    <tr style=\"text-align: right;\">\n",
       "      <th></th>\n",
       "      <th>fare_amount</th>\n",
       "      <th>pickup_datetime</th>\n",
       "      <th>pickup_longitude</th>\n",
       "      <th>pickup_latitude</th>\n",
       "      <th>dropoff_longitude</th>\n",
       "      <th>dropoff_latitude</th>\n",
       "      <th>passenger_count</th>\n",
       "      <th>year</th>\n",
       "      <th>month</th>\n",
       "      <th>weekday</th>\n",
       "      <th>hour</th>\n",
       "      <th>Monthly_Quarter</th>\n",
       "      <th>Hourly_Segments</th>\n",
       "    </tr>\n",
       "  </thead>\n",
       "  <tbody>\n",
       "    <tr>\n",
       "      <th>0</th>\n",
       "      <td>7.5</td>\n",
       "      <td>2015-05-07 19:52:06+00:00</td>\n",
       "      <td>-73.999817</td>\n",
       "      <td>40.738354</td>\n",
       "      <td>-73.999512</td>\n",
       "      <td>40.723217</td>\n",
       "      <td>1</td>\n",
       "      <td>2015</td>\n",
       "      <td>5</td>\n",
       "      <td>3</td>\n",
       "      <td>19</td>\n",
       "      <td>Q2</td>\n",
       "      <td>H5</td>\n",
       "    </tr>\n",
       "    <tr>\n",
       "      <th>1</th>\n",
       "      <td>7.7</td>\n",
       "      <td>2009-07-17 20:04:56+00:00</td>\n",
       "      <td>-73.994355</td>\n",
       "      <td>40.728225</td>\n",
       "      <td>-73.994710</td>\n",
       "      <td>40.750325</td>\n",
       "      <td>1</td>\n",
       "      <td>2009</td>\n",
       "      <td>7</td>\n",
       "      <td>4</td>\n",
       "      <td>20</td>\n",
       "      <td>Q3</td>\n",
       "      <td>H6</td>\n",
       "    </tr>\n",
       "    <tr>\n",
       "      <th>2</th>\n",
       "      <td>12.9</td>\n",
       "      <td>2009-08-24 21:45:00+00:00</td>\n",
       "      <td>-74.005043</td>\n",
       "      <td>40.740770</td>\n",
       "      <td>-73.962565</td>\n",
       "      <td>40.772647</td>\n",
       "      <td>1</td>\n",
       "      <td>2009</td>\n",
       "      <td>8</td>\n",
       "      <td>0</td>\n",
       "      <td>21</td>\n",
       "      <td>Q3</td>\n",
       "      <td>H6</td>\n",
       "    </tr>\n",
       "    <tr>\n",
       "      <th>3</th>\n",
       "      <td>5.3</td>\n",
       "      <td>2009-06-26 08:22:21+00:00</td>\n",
       "      <td>-73.976124</td>\n",
       "      <td>40.790844</td>\n",
       "      <td>-73.965316</td>\n",
       "      <td>40.803349</td>\n",
       "      <td>3</td>\n",
       "      <td>2009</td>\n",
       "      <td>6</td>\n",
       "      <td>4</td>\n",
       "      <td>8</td>\n",
       "      <td>Q2</td>\n",
       "      <td>H3</td>\n",
       "    </tr>\n",
       "    <tr>\n",
       "      <th>4</th>\n",
       "      <td>16.0</td>\n",
       "      <td>2014-08-28 17:47:00+00:00</td>\n",
       "      <td>-73.925023</td>\n",
       "      <td>40.744085</td>\n",
       "      <td>-73.973082</td>\n",
       "      <td>40.761247</td>\n",
       "      <td>5</td>\n",
       "      <td>2014</td>\n",
       "      <td>8</td>\n",
       "      <td>3</td>\n",
       "      <td>17</td>\n",
       "      <td>Q3</td>\n",
       "      <td>H5</td>\n",
       "    </tr>\n",
       "  </tbody>\n",
       "</table>\n",
       "</div>"
      ],
      "text/plain": [
       "   fare_amount           pickup_datetime  pickup_longitude  pickup_latitude  \\\n",
       "0          7.5 2015-05-07 19:52:06+00:00        -73.999817        40.738354   \n",
       "1          7.7 2009-07-17 20:04:56+00:00        -73.994355        40.728225   \n",
       "2         12.9 2009-08-24 21:45:00+00:00        -74.005043        40.740770   \n",
       "3          5.3 2009-06-26 08:22:21+00:00        -73.976124        40.790844   \n",
       "4         16.0 2014-08-28 17:47:00+00:00        -73.925023        40.744085   \n",
       "\n",
       "   dropoff_longitude  dropoff_latitude  passenger_count  year  month  weekday  \\\n",
       "0         -73.999512         40.723217                1  2015      5        3   \n",
       "1         -73.994710         40.750325                1  2009      7        4   \n",
       "2         -73.962565         40.772647                1  2009      8        0   \n",
       "3         -73.965316         40.803349                3  2009      6        4   \n",
       "4         -73.973082         40.761247                5  2014      8        3   \n",
       "\n",
       "   hour Monthly_Quarter Hourly_Segments  \n",
       "0    19              Q2              H5  \n",
       "1    20              Q3              H6  \n",
       "2    21              Q3              H6  \n",
       "3     8              Q2              H3  \n",
       "4    17              Q3              H5  "
      ]
     },
     "execution_count": 18,
     "metadata": {},
     "output_type": "execute_result"
    }
   ],
   "source": [
    "df.head()"
   ]
  },
  {
   "cell_type": "code",
   "execution_count": 19,
   "metadata": {},
   "outputs": [],
   "source": [
    "df.drop(['pickup_datetime','month', 'hour',], axis=1, inplace=True)"
   ]
  },
  {
   "cell_type": "code",
   "execution_count": 20,
   "metadata": {},
   "outputs": [
    {
     "data": {
      "text/html": [
       "<div>\n",
       "<style scoped>\n",
       "    .dataframe tbody tr th:only-of-type {\n",
       "        vertical-align: middle;\n",
       "    }\n",
       "\n",
       "    .dataframe tbody tr th {\n",
       "        vertical-align: top;\n",
       "    }\n",
       "\n",
       "    .dataframe thead th {\n",
       "        text-align: right;\n",
       "    }\n",
       "</style>\n",
       "<table border=\"1\" class=\"dataframe\">\n",
       "  <thead>\n",
       "    <tr style=\"text-align: right;\">\n",
       "      <th></th>\n",
       "      <th>fare_amount</th>\n",
       "      <th>pickup_longitude</th>\n",
       "      <th>pickup_latitude</th>\n",
       "      <th>dropoff_longitude</th>\n",
       "      <th>dropoff_latitude</th>\n",
       "      <th>passenger_count</th>\n",
       "      <th>year</th>\n",
       "      <th>weekday</th>\n",
       "      <th>Monthly_Quarter</th>\n",
       "      <th>Hourly_Segments</th>\n",
       "    </tr>\n",
       "  </thead>\n",
       "  <tbody>\n",
       "    <tr>\n",
       "      <th>0</th>\n",
       "      <td>7.5</td>\n",
       "      <td>-73.999817</td>\n",
       "      <td>40.738354</td>\n",
       "      <td>-73.999512</td>\n",
       "      <td>40.723217</td>\n",
       "      <td>1</td>\n",
       "      <td>2015</td>\n",
       "      <td>3</td>\n",
       "      <td>Q2</td>\n",
       "      <td>H5</td>\n",
       "    </tr>\n",
       "    <tr>\n",
       "      <th>1</th>\n",
       "      <td>7.7</td>\n",
       "      <td>-73.994355</td>\n",
       "      <td>40.728225</td>\n",
       "      <td>-73.994710</td>\n",
       "      <td>40.750325</td>\n",
       "      <td>1</td>\n",
       "      <td>2009</td>\n",
       "      <td>4</td>\n",
       "      <td>Q3</td>\n",
       "      <td>H6</td>\n",
       "    </tr>\n",
       "    <tr>\n",
       "      <th>2</th>\n",
       "      <td>12.9</td>\n",
       "      <td>-74.005043</td>\n",
       "      <td>40.740770</td>\n",
       "      <td>-73.962565</td>\n",
       "      <td>40.772647</td>\n",
       "      <td>1</td>\n",
       "      <td>2009</td>\n",
       "      <td>0</td>\n",
       "      <td>Q3</td>\n",
       "      <td>H6</td>\n",
       "    </tr>\n",
       "    <tr>\n",
       "      <th>3</th>\n",
       "      <td>5.3</td>\n",
       "      <td>-73.976124</td>\n",
       "      <td>40.790844</td>\n",
       "      <td>-73.965316</td>\n",
       "      <td>40.803349</td>\n",
       "      <td>3</td>\n",
       "      <td>2009</td>\n",
       "      <td>4</td>\n",
       "      <td>Q2</td>\n",
       "      <td>H3</td>\n",
       "    </tr>\n",
       "    <tr>\n",
       "      <th>4</th>\n",
       "      <td>16.0</td>\n",
       "      <td>-73.925023</td>\n",
       "      <td>40.744085</td>\n",
       "      <td>-73.973082</td>\n",
       "      <td>40.761247</td>\n",
       "      <td>5</td>\n",
       "      <td>2014</td>\n",
       "      <td>3</td>\n",
       "      <td>Q3</td>\n",
       "      <td>H5</td>\n",
       "    </tr>\n",
       "  </tbody>\n",
       "</table>\n",
       "</div>"
      ],
      "text/plain": [
       "   fare_amount  pickup_longitude  pickup_latitude  dropoff_longitude  \\\n",
       "0          7.5        -73.999817        40.738354         -73.999512   \n",
       "1          7.7        -73.994355        40.728225         -73.994710   \n",
       "2         12.9        -74.005043        40.740770         -73.962565   \n",
       "3          5.3        -73.976124        40.790844         -73.965316   \n",
       "4         16.0        -73.925023        40.744085         -73.973082   \n",
       "\n",
       "   dropoff_latitude  passenger_count  year  weekday Monthly_Quarter  \\\n",
       "0         40.723217                1  2015        3              Q2   \n",
       "1         40.750325                1  2009        4              Q3   \n",
       "2         40.772647                1  2009        0              Q3   \n",
       "3         40.803349                3  2009        4              Q2   \n",
       "4         40.761247                5  2014        3              Q3   \n",
       "\n",
       "  Hourly_Segments  \n",
       "0              H5  \n",
       "1              H6  \n",
       "2              H6  \n",
       "3              H3  \n",
       "4              H5  "
      ]
     },
     "execution_count": 20,
     "metadata": {},
     "output_type": "execute_result"
    }
   ],
   "source": [
    "df.head()"
   ]
  },
  {
   "cell_type": "markdown",
   "metadata": {},
   "source": [
    "#### Problem can be solved using Haversine formula\n",
    "👉🏻 [reference from GeekForGeeks](https://www.geeksforgeeks.org/program-distance-two-points-earth/)\n",
    "\n",
    "```\n",
    "Find the value of the latitude in radians:\n",
    "Value of Latitude in Radians, lat = Latitude / (180/pi) OR\n",
    "Value of Latitude in Radians, lat = Latitude / 57.29577951\n",
    "Find the value of longitude in radians:\n",
    "Value of Longitude in Radians, long = Longitude / (180/pi) OR\n",
    "Value of Longitude in Radians, long = Longitude / 57.29577951\n",
    "```\n",
    "\n",
    "Distance, d = 3963.0 * arccos[(sin(lat1) * sin(lat2)) + cos(lat1) * cos(lat2) * cos(long2 – long1)]"
   ]
  },
  {
   "cell_type": "code",
   "execution_count": 21,
   "metadata": {},
   "outputs": [],
   "source": [
    "from math import radians, sin, cos, sqrt, asin\n",
    "\n",
    "def distance_transform(longitude1, latitude1, longitude2, latitude2):\n",
    "    travel_dist = []\n",
    "    \n",
    "    for pos in range(len(longitude1)):\n",
    "        long1,lati1,long2,lati2 = map(radians,[longitude1[pos],latitude1[pos],longitude2[pos],latitude2[pos]])\n",
    "        dist_long = long2 - long1\n",
    "        dist_lati = lati2 - lati1\n",
    "        a = sin(dist_lati/2)**2 + cos(lati1) * cos(lati2) * sin(dist_long/2)**2\n",
    "        c = 2 * asin(sqrt(a))*6371\n",
    "        travel_dist.append(c)\n",
    "       \n",
    "    return travel_dist"
   ]
  },
  {
   "cell_type": "code",
   "execution_count": 22,
   "metadata": {},
   "outputs": [],
   "source": [
    "df['distance_travelled']=distance_transform(df['pickup_longitude'].to_numpy(),\n",
    "                                  df['pickup_latitude'].to_numpy(),\n",
    "                                  df['dropoff_longitude'].to_numpy(),\n",
    "                                  df['dropoff_latitude'].to_numpy())\n",
    "\n",
    "df['distance_travelled'] = df['distance_travelled'].round(3)\n",
    "## This Distance is in kilometers\n"
   ]
  },
  {
   "cell_type": "code",
   "execution_count": 23,
   "metadata": {},
   "outputs": [
    {
     "data": {
      "text/html": [
       "<div>\n",
       "<style scoped>\n",
       "    .dataframe tbody tr th:only-of-type {\n",
       "        vertical-align: middle;\n",
       "    }\n",
       "\n",
       "    .dataframe tbody tr th {\n",
       "        vertical-align: top;\n",
       "    }\n",
       "\n",
       "    .dataframe thead th {\n",
       "        text-align: right;\n",
       "    }\n",
       "</style>\n",
       "<table border=\"1\" class=\"dataframe\">\n",
       "  <thead>\n",
       "    <tr style=\"text-align: right;\">\n",
       "      <th></th>\n",
       "      <th>fare_amount</th>\n",
       "      <th>pickup_longitude</th>\n",
       "      <th>pickup_latitude</th>\n",
       "      <th>dropoff_longitude</th>\n",
       "      <th>dropoff_latitude</th>\n",
       "      <th>passenger_count</th>\n",
       "      <th>year</th>\n",
       "      <th>weekday</th>\n",
       "      <th>Monthly_Quarter</th>\n",
       "      <th>Hourly_Segments</th>\n",
       "      <th>distance_travelled</th>\n",
       "    </tr>\n",
       "  </thead>\n",
       "  <tbody>\n",
       "    <tr>\n",
       "      <th>0</th>\n",
       "      <td>7.5</td>\n",
       "      <td>-73.999817</td>\n",
       "      <td>40.738354</td>\n",
       "      <td>-73.999512</td>\n",
       "      <td>40.723217</td>\n",
       "      <td>1</td>\n",
       "      <td>2015</td>\n",
       "      <td>3</td>\n",
       "      <td>Q2</td>\n",
       "      <td>H5</td>\n",
       "      <td>1.683</td>\n",
       "    </tr>\n",
       "    <tr>\n",
       "      <th>1</th>\n",
       "      <td>7.7</td>\n",
       "      <td>-73.994355</td>\n",
       "      <td>40.728225</td>\n",
       "      <td>-73.994710</td>\n",
       "      <td>40.750325</td>\n",
       "      <td>1</td>\n",
       "      <td>2009</td>\n",
       "      <td>4</td>\n",
       "      <td>Q3</td>\n",
       "      <td>H6</td>\n",
       "      <td>2.458</td>\n",
       "    </tr>\n",
       "    <tr>\n",
       "      <th>2</th>\n",
       "      <td>12.9</td>\n",
       "      <td>-74.005043</td>\n",
       "      <td>40.740770</td>\n",
       "      <td>-73.962565</td>\n",
       "      <td>40.772647</td>\n",
       "      <td>1</td>\n",
       "      <td>2009</td>\n",
       "      <td>0</td>\n",
       "      <td>Q3</td>\n",
       "      <td>H6</td>\n",
       "      <td>5.036</td>\n",
       "    </tr>\n",
       "    <tr>\n",
       "      <th>3</th>\n",
       "      <td>5.3</td>\n",
       "      <td>-73.976124</td>\n",
       "      <td>40.790844</td>\n",
       "      <td>-73.965316</td>\n",
       "      <td>40.803349</td>\n",
       "      <td>3</td>\n",
       "      <td>2009</td>\n",
       "      <td>4</td>\n",
       "      <td>Q2</td>\n",
       "      <td>H3</td>\n",
       "      <td>1.662</td>\n",
       "    </tr>\n",
       "    <tr>\n",
       "      <th>4</th>\n",
       "      <td>16.0</td>\n",
       "      <td>-73.925023</td>\n",
       "      <td>40.744085</td>\n",
       "      <td>-73.973082</td>\n",
       "      <td>40.761247</td>\n",
       "      <td>5</td>\n",
       "      <td>2014</td>\n",
       "      <td>3</td>\n",
       "      <td>Q3</td>\n",
       "      <td>H5</td>\n",
       "      <td>4.475</td>\n",
       "    </tr>\n",
       "  </tbody>\n",
       "</table>\n",
       "</div>"
      ],
      "text/plain": [
       "   fare_amount  pickup_longitude  pickup_latitude  dropoff_longitude  \\\n",
       "0          7.5        -73.999817        40.738354         -73.999512   \n",
       "1          7.7        -73.994355        40.728225         -73.994710   \n",
       "2         12.9        -74.005043        40.740770         -73.962565   \n",
       "3          5.3        -73.976124        40.790844         -73.965316   \n",
       "4         16.0        -73.925023        40.744085         -73.973082   \n",
       "\n",
       "   dropoff_latitude  passenger_count  year  weekday Monthly_Quarter  \\\n",
       "0         40.723217                1  2015        3              Q2   \n",
       "1         40.750325                1  2009        4              Q3   \n",
       "2         40.772647                1  2009        0              Q3   \n",
       "3         40.803349                3  2009        4              Q2   \n",
       "4         40.761247                5  2014        3              Q3   \n",
       "\n",
       "  Hourly_Segments  distance_travelled  \n",
       "0              H5               1.683  \n",
       "1              H6               2.458  \n",
       "2              H6               5.036  \n",
       "3              H3               1.662  \n",
       "4              H5               4.475  "
      ]
     },
     "execution_count": 23,
     "metadata": {},
     "output_type": "execute_result"
    }
   ],
   "source": [
    "df.head()"
   ]
  },
  {
   "cell_type": "code",
   "execution_count": 24,
   "metadata": {},
   "outputs": [
    {
     "data": {
      "text/html": [
       "<div>\n",
       "<style scoped>\n",
       "    .dataframe tbody tr th:only-of-type {\n",
       "        vertical-align: middle;\n",
       "    }\n",
       "\n",
       "    .dataframe tbody tr th {\n",
       "        vertical-align: top;\n",
       "    }\n",
       "\n",
       "    .dataframe thead th {\n",
       "        text-align: right;\n",
       "    }\n",
       "</style>\n",
       "<table border=\"1\" class=\"dataframe\">\n",
       "  <thead>\n",
       "    <tr style=\"text-align: right;\">\n",
       "      <th></th>\n",
       "      <th>fare_amount</th>\n",
       "      <th>pickup_longitude</th>\n",
       "      <th>pickup_latitude</th>\n",
       "      <th>dropoff_longitude</th>\n",
       "      <th>dropoff_latitude</th>\n",
       "      <th>passenger_count</th>\n",
       "      <th>year</th>\n",
       "      <th>weekday</th>\n",
       "      <th>distance_travelled</th>\n",
       "    </tr>\n",
       "  </thead>\n",
       "  <tbody>\n",
       "    <tr>\n",
       "      <th>count</th>\n",
       "      <td>199986.000000</td>\n",
       "      <td>199986.000000</td>\n",
       "      <td>199986.000000</td>\n",
       "      <td>199986.000000</td>\n",
       "      <td>199986.000000</td>\n",
       "      <td>199986.000000</td>\n",
       "      <td>199986.000000</td>\n",
       "      <td>199986.000000</td>\n",
       "      <td>199986.000000</td>\n",
       "    </tr>\n",
       "    <tr>\n",
       "      <th>mean</th>\n",
       "      <td>11.359865</td>\n",
       "      <td>-72.501679</td>\n",
       "      <td>39.917919</td>\n",
       "      <td>-72.511699</td>\n",
       "      <td>39.922055</td>\n",
       "      <td>1.684548</td>\n",
       "      <td>2011.742477</td>\n",
       "      <td>3.048383</td>\n",
       "      <td>20.542992</td>\n",
       "    </tr>\n",
       "    <tr>\n",
       "      <th>std</th>\n",
       "      <td>9.901890</td>\n",
       "      <td>10.449873</td>\n",
       "      <td>6.130422</td>\n",
       "      <td>10.412139</td>\n",
       "      <td>6.117675</td>\n",
       "      <td>1.386002</td>\n",
       "      <td>1.856432</td>\n",
       "      <td>1.946965</td>\n",
       "      <td>379.542503</td>\n",
       "    </tr>\n",
       "    <tr>\n",
       "      <th>min</th>\n",
       "      <td>-52.000000</td>\n",
       "      <td>-89.933333</td>\n",
       "      <td>-74.015515</td>\n",
       "      <td>-75.458979</td>\n",
       "      <td>-74.015750</td>\n",
       "      <td>0.000000</td>\n",
       "      <td>2009.000000</td>\n",
       "      <td>0.000000</td>\n",
       "      <td>0.000000</td>\n",
       "    </tr>\n",
       "    <tr>\n",
       "      <th>25%</th>\n",
       "      <td>6.000000</td>\n",
       "      <td>-73.992064</td>\n",
       "      <td>40.734793</td>\n",
       "      <td>-73.991407</td>\n",
       "      <td>40.733824</td>\n",
       "      <td>1.000000</td>\n",
       "      <td>2010.000000</td>\n",
       "      <td>1.000000</td>\n",
       "      <td>1.215000</td>\n",
       "    </tr>\n",
       "    <tr>\n",
       "      <th>50%</th>\n",
       "      <td>8.500000</td>\n",
       "      <td>-73.981822</td>\n",
       "      <td>40.752592</td>\n",
       "      <td>-73.980092</td>\n",
       "      <td>40.753042</td>\n",
       "      <td>1.000000</td>\n",
       "      <td>2012.000000</td>\n",
       "      <td>3.000000</td>\n",
       "      <td>2.121000</td>\n",
       "    </tr>\n",
       "    <tr>\n",
       "      <th>75%</th>\n",
       "      <td>12.500000</td>\n",
       "      <td>-73.967154</td>\n",
       "      <td>40.767157</td>\n",
       "      <td>-73.963658</td>\n",
       "      <td>40.768001</td>\n",
       "      <td>2.000000</td>\n",
       "      <td>2013.000000</td>\n",
       "      <td>5.000000</td>\n",
       "      <td>3.875000</td>\n",
       "    </tr>\n",
       "    <tr>\n",
       "      <th>max</th>\n",
       "      <td>499.000000</td>\n",
       "      <td>40.808425</td>\n",
       "      <td>48.018760</td>\n",
       "      <td>40.831932</td>\n",
       "      <td>45.031598</td>\n",
       "      <td>208.000000</td>\n",
       "      <td>2015.000000</td>\n",
       "      <td>6.000000</td>\n",
       "      <td>8782.899000</td>\n",
       "    </tr>\n",
       "  </tbody>\n",
       "</table>\n",
       "</div>"
      ],
      "text/plain": [
       "         fare_amount  pickup_longitude  pickup_latitude  dropoff_longitude  \\\n",
       "count  199986.000000     199986.000000    199986.000000      199986.000000   \n",
       "mean       11.359865        -72.501679        39.917919         -72.511699   \n",
       "std         9.901890         10.449873         6.130422          10.412139   \n",
       "min       -52.000000        -89.933333       -74.015515         -75.458979   \n",
       "25%         6.000000        -73.992064        40.734793         -73.991407   \n",
       "50%         8.500000        -73.981822        40.752592         -73.980092   \n",
       "75%        12.500000        -73.967154        40.767157         -73.963658   \n",
       "max       499.000000         40.808425        48.018760          40.831932   \n",
       "\n",
       "       dropoff_latitude  passenger_count           year        weekday  \\\n",
       "count     199986.000000    199986.000000  199986.000000  199986.000000   \n",
       "mean          39.922055         1.684548    2011.742477       3.048383   \n",
       "std            6.117675         1.386002       1.856432       1.946965   \n",
       "min          -74.015750         0.000000    2009.000000       0.000000   \n",
       "25%           40.733824         1.000000    2010.000000       1.000000   \n",
       "50%           40.753042         1.000000    2012.000000       3.000000   \n",
       "75%           40.768001         2.000000    2013.000000       5.000000   \n",
       "max           45.031598       208.000000    2015.000000       6.000000   \n",
       "\n",
       "       distance_travelled  \n",
       "count       199986.000000  \n",
       "mean            20.542992  \n",
       "std            379.542503  \n",
       "min              0.000000  \n",
       "25%              1.215000  \n",
       "50%              2.121000  \n",
       "75%              3.875000  \n",
       "max           8782.899000  "
      ]
     },
     "execution_count": 24,
     "metadata": {},
     "output_type": "execute_result"
    }
   ],
   "source": [
    "df.describe()"
   ]
  },
  {
   "cell_type": "code",
   "execution_count": 25,
   "metadata": {},
   "outputs": [
    {
     "data": {
      "text/plain": [
       "(22, 11)"
      ]
     },
     "execution_count": 25,
     "metadata": {},
     "output_type": "execute_result"
    }
   ],
   "source": [
    "df[df['fare_amount']<= 0].shape"
   ]
  },
  {
   "cell_type": "code",
   "execution_count": 26,
   "metadata": {},
   "outputs": [],
   "source": [
    "old_shape = df.shape"
   ]
  },
  {
   "cell_type": "code",
   "execution_count": 27,
   "metadata": {},
   "outputs": [
    {
     "data": {
      "text/plain": [
       "(22, 11)"
      ]
     },
     "execution_count": 27,
     "metadata": {},
     "output_type": "execute_result"
    }
   ],
   "source": [
    "df_fare_delete = df[df['fare_amount']<=0]\n",
    "df_fare_delete.shape"
   ]
  },
  {
   "cell_type": "code",
   "execution_count": 28,
   "metadata": {},
   "outputs": [],
   "source": [
    "index_to_delete_fare = df_fare_delete.index\n",
    "df.drop(index_to_delete_fare,inplace=True)"
   ]
  },
  {
   "cell_type": "code",
   "execution_count": 29,
   "metadata": {},
   "outputs": [
    {
     "name": "stdout",
     "output_type": "stream",
     "text": [
      "Number of items removed : 22\n"
     ]
    }
   ],
   "source": [
    "print(f\"Number of items removed : {old_shape[0] - df.shape[0]}\")"
   ]
  },
  {
   "cell_type": "code",
   "execution_count": 30,
   "metadata": {},
   "outputs": [
    {
     "data": {
      "text/html": [
       "<div>\n",
       "<style scoped>\n",
       "    .dataframe tbody tr th:only-of-type {\n",
       "        vertical-align: middle;\n",
       "    }\n",
       "\n",
       "    .dataframe tbody tr th {\n",
       "        vertical-align: top;\n",
       "    }\n",
       "\n",
       "    .dataframe thead th {\n",
       "        text-align: right;\n",
       "    }\n",
       "</style>\n",
       "<table border=\"1\" class=\"dataframe\">\n",
       "  <thead>\n",
       "    <tr style=\"text-align: right;\">\n",
       "      <th></th>\n",
       "      <th>fare_amount</th>\n",
       "      <th>pickup_longitude</th>\n",
       "      <th>pickup_latitude</th>\n",
       "      <th>dropoff_longitude</th>\n",
       "      <th>dropoff_latitude</th>\n",
       "      <th>passenger_count</th>\n",
       "      <th>year</th>\n",
       "      <th>weekday</th>\n",
       "      <th>distance_travelled</th>\n",
       "    </tr>\n",
       "  </thead>\n",
       "  <tbody>\n",
       "    <tr>\n",
       "      <th>count</th>\n",
       "      <td>199964.000000</td>\n",
       "      <td>199964.000000</td>\n",
       "      <td>199964.000000</td>\n",
       "      <td>199964.000000</td>\n",
       "      <td>199964.000000</td>\n",
       "      <td>199964.000000</td>\n",
       "      <td>199964.000000</td>\n",
       "      <td>199964.000000</td>\n",
       "      <td>199964.000000</td>\n",
       "    </tr>\n",
       "    <tr>\n",
       "      <th>mean</th>\n",
       "      <td>11.362560</td>\n",
       "      <td>-72.501889</td>\n",
       "      <td>39.918031</td>\n",
       "      <td>-72.512649</td>\n",
       "      <td>39.922574</td>\n",
       "      <td>1.684493</td>\n",
       "      <td>2011.742344</td>\n",
       "      <td>3.048409</td>\n",
       "      <td>20.458319</td>\n",
       "    </tr>\n",
       "    <tr>\n",
       "      <th>std</th>\n",
       "      <td>9.897193</td>\n",
       "      <td>10.449179</td>\n",
       "      <td>6.130103</td>\n",
       "      <td>10.408913</td>\n",
       "      <td>6.116051</td>\n",
       "      <td>1.385979</td>\n",
       "      <td>1.856312</td>\n",
       "      <td>1.946990</td>\n",
       "      <td>378.577233</td>\n",
       "    </tr>\n",
       "    <tr>\n",
       "      <th>min</th>\n",
       "      <td>0.010000</td>\n",
       "      <td>-89.933333</td>\n",
       "      <td>-74.015515</td>\n",
       "      <td>-75.458979</td>\n",
       "      <td>-74.015750</td>\n",
       "      <td>0.000000</td>\n",
       "      <td>2009.000000</td>\n",
       "      <td>0.000000</td>\n",
       "      <td>0.000000</td>\n",
       "    </tr>\n",
       "    <tr>\n",
       "      <th>25%</th>\n",
       "      <td>6.000000</td>\n",
       "      <td>-73.992064</td>\n",
       "      <td>40.734792</td>\n",
       "      <td>-73.991407</td>\n",
       "      <td>40.733825</td>\n",
       "      <td>1.000000</td>\n",
       "      <td>2010.000000</td>\n",
       "      <td>1.000000</td>\n",
       "      <td>1.215000</td>\n",
       "    </tr>\n",
       "    <tr>\n",
       "      <th>50%</th>\n",
       "      <td>8.500000</td>\n",
       "      <td>-73.981822</td>\n",
       "      <td>40.752590</td>\n",
       "      <td>-73.980092</td>\n",
       "      <td>40.753042</td>\n",
       "      <td>1.000000</td>\n",
       "      <td>2012.000000</td>\n",
       "      <td>3.000000</td>\n",
       "      <td>2.121000</td>\n",
       "    </tr>\n",
       "    <tr>\n",
       "      <th>75%</th>\n",
       "      <td>12.500000</td>\n",
       "      <td>-73.967155</td>\n",
       "      <td>40.767157</td>\n",
       "      <td>-73.963659</td>\n",
       "      <td>40.768000</td>\n",
       "      <td>2.000000</td>\n",
       "      <td>2013.000000</td>\n",
       "      <td>5.000000</td>\n",
       "      <td>3.875000</td>\n",
       "    </tr>\n",
       "    <tr>\n",
       "      <th>max</th>\n",
       "      <td>499.000000</td>\n",
       "      <td>40.808425</td>\n",
       "      <td>48.018760</td>\n",
       "      <td>40.831932</td>\n",
       "      <td>45.031598</td>\n",
       "      <td>208.000000</td>\n",
       "      <td>2015.000000</td>\n",
       "      <td>6.000000</td>\n",
       "      <td>8782.899000</td>\n",
       "    </tr>\n",
       "  </tbody>\n",
       "</table>\n",
       "</div>"
      ],
      "text/plain": [
       "         fare_amount  pickup_longitude  pickup_latitude  dropoff_longitude  \\\n",
       "count  199964.000000     199964.000000    199964.000000      199964.000000   \n",
       "mean       11.362560        -72.501889        39.918031         -72.512649   \n",
       "std         9.897193         10.449179         6.130103          10.408913   \n",
       "min         0.010000        -89.933333       -74.015515         -75.458979   \n",
       "25%         6.000000        -73.992064        40.734792         -73.991407   \n",
       "50%         8.500000        -73.981822        40.752590         -73.980092   \n",
       "75%        12.500000        -73.967155        40.767157         -73.963659   \n",
       "max       499.000000         40.808425        48.018760          40.831932   \n",
       "\n",
       "       dropoff_latitude  passenger_count           year        weekday  \\\n",
       "count     199964.000000    199964.000000  199964.000000  199964.000000   \n",
       "mean          39.922574         1.684493    2011.742344       3.048409   \n",
       "std            6.116051         1.385979       1.856312       1.946990   \n",
       "min          -74.015750         0.000000    2009.000000       0.000000   \n",
       "25%           40.733825         1.000000    2010.000000       1.000000   \n",
       "50%           40.753042         1.000000    2012.000000       3.000000   \n",
       "75%           40.768000         2.000000    2013.000000       5.000000   \n",
       "max           45.031598       208.000000    2015.000000       6.000000   \n",
       "\n",
       "       distance_travelled  \n",
       "count       199964.000000  \n",
       "mean            20.458319  \n",
       "std            378.577233  \n",
       "min              0.000000  \n",
       "25%              1.215000  \n",
       "50%              2.121000  \n",
       "75%              3.875000  \n",
       "max           8782.899000  "
      ]
     },
     "execution_count": 30,
     "metadata": {},
     "output_type": "execute_result"
    }
   ],
   "source": [
    "df.describe()"
   ]
  },
  {
   "cell_type": "markdown",
   "metadata": {},
   "source": [
    "Maximum fare can be analyzed later when distance covered during ride will be calculated"
   ]
  },
  {
   "cell_type": "code",
   "execution_count": 31,
   "metadata": {},
   "outputs": [
    {
     "data": {
      "text/plain": [
       "passenger_count\n",
       "1      138404\n",
       "2       29423\n",
       "5       14004\n",
       "3        8878\n",
       "4        4275\n",
       "6        4271\n",
       "0         708\n",
       "208         1\n",
       "Name: count, dtype: int64"
      ]
     },
     "execution_count": 31,
     "metadata": {},
     "output_type": "execute_result"
    }
   ],
   "source": [
    "df['passenger_count'].value_counts()"
   ]
  },
  {
   "cell_type": "markdown",
   "metadata": {},
   "source": [
    "Only 1 ride contains passenger count as 208, may be erroneous data. It can be dropped.\n",
    "\n",
    "Around 708 rides show no passenger. It can be replaced with 1."
   ]
  },
  {
   "cell_type": "code",
   "execution_count": 32,
   "metadata": {},
   "outputs": [
    {
     "data": {
      "text/plain": [
       "<Axes: xlabel='passenger_count', ylabel='count'>"
      ]
     },
     "execution_count": 32,
     "metadata": {},
     "output_type": "execute_result"
    },
    {
     "data": {
      "image/png": "[encoded data removed]",
      "text/plain": [
       "<Figure size 640x480 with 1 Axes>"
      ]
     },
     "metadata": {},
     "output_type": "display_data"
    }
   ],
   "source": [
    "import seaborn as sns\n",
    "#plt.figure(figsize=[8,4])\n",
    "sns.countplot(data = df,x = 'passenger_count')"
   ]
  },
  {
   "cell_type": "code",
   "execution_count": 33,
   "metadata": {},
   "outputs": [
    {
     "name": "stdout",
     "output_type": "stream",
     "text": [
      "After drop 1\n"
     ]
    }
   ],
   "source": [
    "old_shape = df.shape\n",
    "index_to_delete_passenger = df[df['passenger_count']==df['passenger_count'].max()].index\n",
    "df.drop(index_to_delete_passenger,inplace=True)\n",
    "print(f\"After drop {old_shape[0] - df.shape[0]}\")"
   ]
  },
  {
   "cell_type": "code",
   "execution_count": 34,
   "metadata": {},
   "outputs": [
    {
     "data": {
      "text/plain": [
       "passenger_count\n",
       "1    138404\n",
       "2     29423\n",
       "5     14004\n",
       "3      8878\n",
       "4      4275\n",
       "6      4271\n",
       "0       708\n",
       "Name: count, dtype: int64"
      ]
     },
     "execution_count": 34,
     "metadata": {},
     "output_type": "execute_result"
    }
   ],
   "source": [
    "# now the large passenger count is removed 208 column\n",
    "df['passenger_count'].value_counts()"
   ]
  },
  {
   "cell_type": "code",
   "execution_count": 35,
   "metadata": {},
   "outputs": [],
   "source": [
    "# here we will replace 0 with 1 count\n",
    "df['passenger_count']=np.where(df['passenger_count']==0,1,df['passenger_count'])"
   ]
  },
  {
   "cell_type": "code",
   "execution_count": 36,
   "metadata": {},
   "outputs": [
    {
     "data": {
      "text/plain": [
       "passenger_count\n",
       "1    139112\n",
       "2     29423\n",
       "5     14004\n",
       "3      8878\n",
       "4      4275\n",
       "6      4271\n",
       "Name: count, dtype: int64"
      ]
     },
     "execution_count": 36,
     "metadata": {},
     "output_type": "execute_result"
    }
   ],
   "source": [
    "df['passenger_count'].value_counts()"
   ]
  },
  {
   "cell_type": "code",
   "execution_count": 37,
   "metadata": {},
   "outputs": [
    {
     "data": {
      "text/plain": [
       "<Axes: xlabel='passenger_count', ylabel='count'>"
      ]
     },
     "execution_count": 37,
     "metadata": {},
     "output_type": "execute_result"
    },
    {
     "data": {
      "image/png": "[encoded data removed]",
      "text/plain": [
       "<Figure size 640x480 with 1 Axes>"
      ]
     },
     "metadata": {},
     "output_type": "display_data"
    }
   ],
   "source": [
    "sns.countplot(data = df,x = 'passenger_count')"
   ]
  },
  {
   "cell_type": "markdown",
   "metadata": {},
   "source": [
    "#### Using Real Map image and Assigning pick_pickup location lat and long Values to the map image"
   ]
  },
  {
   "cell_type": "code",
   "execution_count": 38,
   "metadata": {},
   "outputs": [],
   "source": [
    "from PIL import Image\n",
    "import numpy as np\n",
    "import requests\n",
    "image=Image.open(requests.get(\"https://raw.githubusercontent.com/Masterx-AI/Project_Uber_Fare_Prediction/main/wm.png\", stream=True).raw)\n",
    "image_array=np.array(image)"
   ]
  },
  {
   "cell_type": "code",
   "execution_count": 39,
   "metadata": {},
   "outputs": [
    {
     "data": {
      "image/png": "[encoded data removed]",
      "text/plain": [
       "<Figure size 1000x1000 with 1 Axes>"
      ]
     },
     "metadata": {},
     "output_type": "display_data"
    }
   ],
   "source": [
    "plt.figure(figsize=[10,10])\n",
    "plt.imshow(image_array, alpha=0.2)\n",
    "plt.scatter((df.pickup_longitude+180)*3,(df.pickup_latitude+215)*1.45555555,alpha=0.3, color='red')\n",
    "plt.show()"
   ]
  },
  {
   "cell_type": "code",
   "execution_count": 40,
   "metadata": {},
   "outputs": [
    {
     "data": {
      "image/png": "[encoded data removed]",
      "text/plain": [
       "<Figure size 800x400 with 1 Axes>"
      ]
     },
     "metadata": {},
     "output_type": "display_data"
    }
   ],
   "source": [
    "#Let us first analyze the distribution of the target variable\n",
    "\n",
    "plt.figure(figsize=[8,4])\n",
    "sns.distplot(df[\"fare_amount\"], color='g',hist_kws=dict(edgecolor=\"black\", linewidth=2), bins=30)\n",
    "plt.title('Target Variable Distribution - Median Value of Homes ($1Ms)')\n",
    "plt.show()"
   ]
  },
  {
   "cell_type": "markdown",
   "metadata": {},
   "source": [
    "Inference:The Target Variable seems to be be highly skewed, with most datapoints lieing near 0."
   ]
  },
  {
   "cell_type": "code",
   "execution_count": 41,
   "metadata": {},
   "outputs": [
    {
     "data": {
      "text/html": [
       "<div>\n",
       "<style scoped>\n",
       "    .dataframe tbody tr th:only-of-type {\n",
       "        vertical-align: middle;\n",
       "    }\n",
       "\n",
       "    .dataframe tbody tr th {\n",
       "        vertical-align: top;\n",
       "    }\n",
       "\n",
       "    .dataframe thead th {\n",
       "        text-align: right;\n",
       "    }\n",
       "</style>\n",
       "<table border=\"1\" class=\"dataframe\">\n",
       "  <thead>\n",
       "    <tr style=\"text-align: right;\">\n",
       "      <th></th>\n",
       "      <th>fare_amount</th>\n",
       "      <th>pickup_longitude</th>\n",
       "      <th>pickup_latitude</th>\n",
       "      <th>dropoff_longitude</th>\n",
       "      <th>dropoff_latitude</th>\n",
       "      <th>passenger_count</th>\n",
       "      <th>year</th>\n",
       "      <th>weekday</th>\n",
       "      <th>distance_travelled</th>\n",
       "    </tr>\n",
       "  </thead>\n",
       "  <tbody>\n",
       "    <tr>\n",
       "      <th>count</th>\n",
       "      <td>199963.000000</td>\n",
       "      <td>199963.000000</td>\n",
       "      <td>199963.000000</td>\n",
       "      <td>199963.000000</td>\n",
       "      <td>199963.000000</td>\n",
       "      <td>199963.000000</td>\n",
       "      <td>199963.000000</td>\n",
       "      <td>199963.000000</td>\n",
       "      <td>199963.000000</td>\n",
       "    </tr>\n",
       "    <tr>\n",
       "      <th>mean</th>\n",
       "      <td>11.362558</td>\n",
       "      <td>-72.501882</td>\n",
       "      <td>39.918026</td>\n",
       "      <td>-72.512641</td>\n",
       "      <td>39.922570</td>\n",
       "      <td>1.687002</td>\n",
       "      <td>2011.742352</td>\n",
       "      <td>3.048419</td>\n",
       "      <td>20.458421</td>\n",
       "    </tr>\n",
       "    <tr>\n",
       "      <th>std</th>\n",
       "      <td>9.897217</td>\n",
       "      <td>10.449205</td>\n",
       "      <td>6.130118</td>\n",
       "      <td>10.408939</td>\n",
       "      <td>6.116066</td>\n",
       "      <td>1.303719</td>\n",
       "      <td>1.856312</td>\n",
       "      <td>1.946989</td>\n",
       "      <td>378.578177</td>\n",
       "    </tr>\n",
       "    <tr>\n",
       "      <th>min</th>\n",
       "      <td>0.010000</td>\n",
       "      <td>-89.933333</td>\n",
       "      <td>-74.015515</td>\n",
       "      <td>-75.458979</td>\n",
       "      <td>-74.015750</td>\n",
       "      <td>1.000000</td>\n",
       "      <td>2009.000000</td>\n",
       "      <td>0.000000</td>\n",
       "      <td>0.000000</td>\n",
       "    </tr>\n",
       "    <tr>\n",
       "      <th>25%</th>\n",
       "      <td>6.000000</td>\n",
       "      <td>-73.992064</td>\n",
       "      <td>40.734792</td>\n",
       "      <td>-73.991407</td>\n",
       "      <td>40.733825</td>\n",
       "      <td>1.000000</td>\n",
       "      <td>2010.000000</td>\n",
       "      <td>1.000000</td>\n",
       "      <td>1.215000</td>\n",
       "    </tr>\n",
       "    <tr>\n",
       "      <th>50%</th>\n",
       "      <td>8.500000</td>\n",
       "      <td>-73.981822</td>\n",
       "      <td>40.752590</td>\n",
       "      <td>-73.980092</td>\n",
       "      <td>40.753042</td>\n",
       "      <td>1.000000</td>\n",
       "      <td>2012.000000</td>\n",
       "      <td>3.000000</td>\n",
       "      <td>2.121000</td>\n",
       "    </tr>\n",
       "    <tr>\n",
       "      <th>75%</th>\n",
       "      <td>12.500000</td>\n",
       "      <td>-73.967155</td>\n",
       "      <td>40.767157</td>\n",
       "      <td>-73.963659</td>\n",
       "      <td>40.768000</td>\n",
       "      <td>2.000000</td>\n",
       "      <td>2013.000000</td>\n",
       "      <td>5.000000</td>\n",
       "      <td>3.875000</td>\n",
       "    </tr>\n",
       "    <tr>\n",
       "      <th>max</th>\n",
       "      <td>499.000000</td>\n",
       "      <td>40.808425</td>\n",
       "      <td>48.018760</td>\n",
       "      <td>40.831932</td>\n",
       "      <td>45.031598</td>\n",
       "      <td>6.000000</td>\n",
       "      <td>2015.000000</td>\n",
       "      <td>6.000000</td>\n",
       "      <td>8782.899000</td>\n",
       "    </tr>\n",
       "  </tbody>\n",
       "</table>\n",
       "</div>"
      ],
      "text/plain": [
       "         fare_amount  pickup_longitude  pickup_latitude  dropoff_longitude  \\\n",
       "count  199963.000000     199963.000000    199963.000000      199963.000000   \n",
       "mean       11.362558        -72.501882        39.918026         -72.512641   \n",
       "std         9.897217         10.449205         6.130118          10.408939   \n",
       "min         0.010000        -89.933333       -74.015515         -75.458979   \n",
       "25%         6.000000        -73.992064        40.734792         -73.991407   \n",
       "50%         8.500000        -73.981822        40.752590         -73.980092   \n",
       "75%        12.500000        -73.967155        40.767157         -73.963659   \n",
       "max       499.000000         40.808425        48.018760          40.831932   \n",
       "\n",
       "       dropoff_latitude  passenger_count           year        weekday  \\\n",
       "count     199963.000000    199963.000000  199963.000000  199963.000000   \n",
       "mean          39.922570         1.687002    2011.742352       3.048419   \n",
       "std            6.116066         1.303719       1.856312       1.946989   \n",
       "min          -74.015750         1.000000    2009.000000       0.000000   \n",
       "25%           40.733825         1.000000    2010.000000       1.000000   \n",
       "50%           40.753042         1.000000    2012.000000       3.000000   \n",
       "75%           40.768000         2.000000    2013.000000       5.000000   \n",
       "max           45.031598         6.000000    2015.000000       6.000000   \n",
       "\n",
       "       distance_travelled  \n",
       "count       199963.000000  \n",
       "mean            20.458421  \n",
       "std            378.578177  \n",
       "min              0.000000  \n",
       "25%              1.215000  \n",
       "50%              2.121000  \n",
       "75%              3.875000  \n",
       "max           8782.899000  "
      ]
     },
     "execution_count": 41,
     "metadata": {},
     "output_type": "execute_result"
    }
   ],
   "source": [
    "df.describe()"
   ]
  },
  {
   "cell_type": "code",
   "execution_count": 42,
   "metadata": {},
   "outputs": [
    {
     "data": {
      "text/html": [
       "<div>\n",
       "<style scoped>\n",
       "    .dataframe tbody tr th:only-of-type {\n",
       "        vertical-align: middle;\n",
       "    }\n",
       "\n",
       "    .dataframe tbody tr th {\n",
       "        vertical-align: top;\n",
       "    }\n",
       "\n",
       "    .dataframe thead th {\n",
       "        text-align: right;\n",
       "    }\n",
       "</style>\n",
       "<table border=\"1\" class=\"dataframe\">\n",
       "  <thead>\n",
       "    <tr style=\"text-align: right;\">\n",
       "      <th></th>\n",
       "      <th>fare_amount</th>\n",
       "      <th>pickup_longitude</th>\n",
       "      <th>pickup_latitude</th>\n",
       "      <th>dropoff_longitude</th>\n",
       "      <th>dropoff_latitude</th>\n",
       "      <th>passenger_count</th>\n",
       "      <th>year</th>\n",
       "      <th>weekday</th>\n",
       "      <th>distance_travelled</th>\n",
       "    </tr>\n",
       "  </thead>\n",
       "  <tbody>\n",
       "    <tr>\n",
       "      <th>count</th>\n",
       "      <td>194247.000000</td>\n",
       "      <td>194247.000000</td>\n",
       "      <td>194247.000000</td>\n",
       "      <td>194247.000000</td>\n",
       "      <td>194247.000000</td>\n",
       "      <td>194247.000000</td>\n",
       "      <td>194247.000000</td>\n",
       "      <td>194247.000000</td>\n",
       "      <td>194247.000000</td>\n",
       "    </tr>\n",
       "    <tr>\n",
       "      <th>mean</th>\n",
       "      <td>11.349822</td>\n",
       "      <td>-73.826480</td>\n",
       "      <td>40.646902</td>\n",
       "      <td>-73.837556</td>\n",
       "      <td>40.651579</td>\n",
       "      <td>1.687413</td>\n",
       "      <td>2011.747420</td>\n",
       "      <td>3.048577</td>\n",
       "      <td>21.060440</td>\n",
       "    </tr>\n",
       "    <tr>\n",
       "      <th>std</th>\n",
       "      <td>9.722955</td>\n",
       "      <td>3.660507</td>\n",
       "      <td>2.931640</td>\n",
       "      <td>3.536295</td>\n",
       "      <td>2.900095</td>\n",
       "      <td>1.303961</td>\n",
       "      <td>1.859941</td>\n",
       "      <td>1.946791</td>\n",
       "      <td>384.091421</td>\n",
       "    </tr>\n",
       "    <tr>\n",
       "      <th>min</th>\n",
       "      <td>0.010000</td>\n",
       "      <td>-89.933333</td>\n",
       "      <td>-74.015515</td>\n",
       "      <td>-75.458979</td>\n",
       "      <td>-74.015750</td>\n",
       "      <td>1.000000</td>\n",
       "      <td>2009.000000</td>\n",
       "      <td>0.000000</td>\n",
       "      <td>0.001000</td>\n",
       "    </tr>\n",
       "    <tr>\n",
       "      <th>25%</th>\n",
       "      <td>6.000000</td>\n",
       "      <td>-73.992269</td>\n",
       "      <td>40.736348</td>\n",
       "      <td>-73.991589</td>\n",
       "      <td>40.735220</td>\n",
       "      <td>1.000000</td>\n",
       "      <td>2010.000000</td>\n",
       "      <td>1.000000</td>\n",
       "      <td>1.283000</td>\n",
       "    </tr>\n",
       "    <tr>\n",
       "      <th>50%</th>\n",
       "      <td>8.500000</td>\n",
       "      <td>-73.982116</td>\n",
       "      <td>40.753253</td>\n",
       "      <td>-73.980539</td>\n",
       "      <td>40.753708</td>\n",
       "      <td>1.000000</td>\n",
       "      <td>2012.000000</td>\n",
       "      <td>3.000000</td>\n",
       "      <td>2.185000</td>\n",
       "    </tr>\n",
       "    <tr>\n",
       "      <th>75%</th>\n",
       "      <td>12.500000</td>\n",
       "      <td>-73.968400</td>\n",
       "      <td>40.767508</td>\n",
       "      <td>-73.965423</td>\n",
       "      <td>40.768314</td>\n",
       "      <td>2.000000</td>\n",
       "      <td>2013.000000</td>\n",
       "      <td>5.000000</td>\n",
       "      <td>3.961000</td>\n",
       "    </tr>\n",
       "    <tr>\n",
       "      <th>max</th>\n",
       "      <td>499.000000</td>\n",
       "      <td>40.808425</td>\n",
       "      <td>48.018760</td>\n",
       "      <td>40.831932</td>\n",
       "      <td>45.031598</td>\n",
       "      <td>6.000000</td>\n",
       "      <td>2015.000000</td>\n",
       "      <td>6.000000</td>\n",
       "      <td>8782.899000</td>\n",
       "    </tr>\n",
       "  </tbody>\n",
       "</table>\n",
       "</div>"
      ],
      "text/plain": [
       "         fare_amount  pickup_longitude  pickup_latitude  dropoff_longitude  \\\n",
       "count  194247.000000     194247.000000    194247.000000      194247.000000   \n",
       "mean       11.349822        -73.826480        40.646902         -73.837556   \n",
       "std         9.722955          3.660507         2.931640           3.536295   \n",
       "min         0.010000        -89.933333       -74.015515         -75.458979   \n",
       "25%         6.000000        -73.992269        40.736348         -73.991589   \n",
       "50%         8.500000        -73.982116        40.753253         -73.980539   \n",
       "75%        12.500000        -73.968400        40.767508         -73.965423   \n",
       "max       499.000000         40.808425        48.018760          40.831932   \n",
       "\n",
       "       dropoff_latitude  passenger_count           year        weekday  \\\n",
       "count     194247.000000    194247.000000  194247.000000  194247.000000   \n",
       "mean          40.651579         1.687413    2011.747420       3.048577   \n",
       "std            2.900095         1.303961       1.859941       1.946791   \n",
       "min          -74.015750         1.000000    2009.000000       0.000000   \n",
       "25%           40.735220         1.000000    2010.000000       1.000000   \n",
       "50%           40.753708         1.000000    2012.000000       3.000000   \n",
       "75%           40.768314         2.000000    2013.000000       5.000000   \n",
       "max           45.031598         6.000000    2015.000000       6.000000   \n",
       "\n",
       "       distance_travelled  \n",
       "count       194247.000000  \n",
       "mean            21.060440  \n",
       "std            384.091421  \n",
       "min              0.001000  \n",
       "25%              1.283000  \n",
       "50%              2.185000  \n",
       "75%              3.961000  \n",
       "max           8782.899000  "
      ]
     },
     "execution_count": 42,
     "metadata": {},
     "output_type": "execute_result"
    }
   ],
   "source": [
    "# removing zero distance travel\n",
    "index_to_delete_distance = df[df['distance_travelled'] == 0].index\n",
    "df.drop(index_to_delete_distance,inplace=True)\n",
    "df.describe()"
   ]
  },
  {
   "cell_type": "code",
   "execution_count": 43,
   "metadata": {},
   "outputs": [
    {
     "data": {
      "text/plain": [
       "1081"
      ]
     },
     "execution_count": 43,
     "metadata": {},
     "output_type": "execute_result"
    }
   ],
   "source": [
    "len(df[df.distance_travelled < 0.1])"
   ]
  },
  {
   "cell_type": "code",
   "execution_count": 44,
   "metadata": {},
   "outputs": [
    {
     "name": "stdout",
     "output_type": "stream",
     "text": [
      "before :194247,after :193166\n"
     ]
    }
   ],
   "source": [
    "before = df.shape\n",
    "df.drop(df[df.distance_travelled < 0.1].index, inplace=True)\n",
    "print(f\"before :{before[0]},after :{df.shape[0]}\")"
   ]
  },
  {
   "cell_type": "code",
   "execution_count": 45,
   "metadata": {},
   "outputs": [
    {
     "data": {
      "text/html": [
       "<div>\n",
       "<style scoped>\n",
       "    .dataframe tbody tr th:only-of-type {\n",
       "        vertical-align: middle;\n",
       "    }\n",
       "\n",
       "    .dataframe tbody tr th {\n",
       "        vertical-align: top;\n",
       "    }\n",
       "\n",
       "    .dataframe thead th {\n",
       "        text-align: right;\n",
       "    }\n",
       "</style>\n",
       "<table border=\"1\" class=\"dataframe\">\n",
       "  <thead>\n",
       "    <tr style=\"text-align: right;\">\n",
       "      <th></th>\n",
       "      <th>fare_amount</th>\n",
       "      <th>pickup_longitude</th>\n",
       "      <th>pickup_latitude</th>\n",
       "      <th>dropoff_longitude</th>\n",
       "      <th>dropoff_latitude</th>\n",
       "      <th>passenger_count</th>\n",
       "      <th>year</th>\n",
       "      <th>weekday</th>\n",
       "      <th>Monthly_Quarter</th>\n",
       "      <th>Hourly_Segments</th>\n",
       "      <th>distance_travelled</th>\n",
       "    </tr>\n",
       "  </thead>\n",
       "  <tbody>\n",
       "    <tr>\n",
       "      <th>346</th>\n",
       "      <td>15.50</td>\n",
       "      <td>0.000000</td>\n",
       "      <td>0.000000</td>\n",
       "      <td>-73.979805</td>\n",
       "      <td>40.786030</td>\n",
       "      <td>1</td>\n",
       "      <td>2015</td>\n",
       "      <td>3</td>\n",
       "      <td>Q1</td>\n",
       "      <td>H5</td>\n",
       "      <td>8666.398</td>\n",
       "    </tr>\n",
       "    <tr>\n",
       "      <th>1067</th>\n",
       "      <td>52.00</td>\n",
       "      <td>-73.781095</td>\n",
       "      <td>40.645015</td>\n",
       "      <td>0.000000</td>\n",
       "      <td>0.000000</td>\n",
       "      <td>1</td>\n",
       "      <td>2014</td>\n",
       "      <td>6</td>\n",
       "      <td>Q1</td>\n",
       "      <td>H6</td>\n",
       "      <td>8647.036</td>\n",
       "    </tr>\n",
       "    <tr>\n",
       "      <th>1526</th>\n",
       "      <td>2.50</td>\n",
       "      <td>-74.001849</td>\n",
       "      <td>40.715156</td>\n",
       "      <td>0.000000</td>\n",
       "      <td>0.000000</td>\n",
       "      <td>3</td>\n",
       "      <td>2014</td>\n",
       "      <td>0</td>\n",
       "      <td>Q2</td>\n",
       "      <td>H4</td>\n",
       "      <td>8666.772</td>\n",
       "    </tr>\n",
       "    <tr>\n",
       "      <th>2547</th>\n",
       "      <td>10.10</td>\n",
       "      <td>0.000000</td>\n",
       "      <td>0.000000</td>\n",
       "      <td>-73.953210</td>\n",
       "      <td>40.803528</td>\n",
       "      <td>2</td>\n",
       "      <td>2011</td>\n",
       "      <td>1</td>\n",
       "      <td>Q3</td>\n",
       "      <td>H6</td>\n",
       "      <td>8664.557</td>\n",
       "    </tr>\n",
       "    <tr>\n",
       "      <th>3045</th>\n",
       "      <td>15.00</td>\n",
       "      <td>0.000000</td>\n",
       "      <td>0.000000</td>\n",
       "      <td>-73.843777</td>\n",
       "      <td>40.739255</td>\n",
       "      <td>1</td>\n",
       "      <td>2013</td>\n",
       "      <td>1</td>\n",
       "      <td>Q1</td>\n",
       "      <td>H1</td>\n",
       "      <td>8654.177</td>\n",
       "    </tr>\n",
       "    <tr>\n",
       "      <th>...</th>\n",
       "      <td>...</td>\n",
       "      <td>...</td>\n",
       "      <td>...</td>\n",
       "      <td>...</td>\n",
       "      <td>...</td>\n",
       "      <td>...</td>\n",
       "      <td>...</td>\n",
       "      <td>...</td>\n",
       "      <td>...</td>\n",
       "      <td>...</td>\n",
       "      <td>...</td>\n",
       "    </tr>\n",
       "    <tr>\n",
       "      <th>196967</th>\n",
       "      <td>57.33</td>\n",
       "      <td>0.000000</td>\n",
       "      <td>0.000000</td>\n",
       "      <td>-73.789045</td>\n",
       "      <td>40.655135</td>\n",
       "      <td>2</td>\n",
       "      <td>2014</td>\n",
       "      <td>2</td>\n",
       "      <td>Q3</td>\n",
       "      <td>H3</td>\n",
       "      <td>8647.904</td>\n",
       "    </tr>\n",
       "    <tr>\n",
       "      <th>197468</th>\n",
       "      <td>6.90</td>\n",
       "      <td>0.000000</td>\n",
       "      <td>0.000000</td>\n",
       "      <td>-73.980827</td>\n",
       "      <td>40.747133</td>\n",
       "      <td>5</td>\n",
       "      <td>2011</td>\n",
       "      <td>2</td>\n",
       "      <td>Q1</td>\n",
       "      <td>H5</td>\n",
       "      <td>8665.686</td>\n",
       "    </tr>\n",
       "    <tr>\n",
       "      <th>197863</th>\n",
       "      <td>7.00</td>\n",
       "      <td>-73.962190</td>\n",
       "      <td>40.759158</td>\n",
       "      <td>0.000000</td>\n",
       "      <td>0.000000</td>\n",
       "      <td>1</td>\n",
       "      <td>2014</td>\n",
       "      <td>1</td>\n",
       "      <td>Q4</td>\n",
       "      <td>H6</td>\n",
       "      <td>8664.389</td>\n",
       "    </tr>\n",
       "    <tr>\n",
       "      <th>198567</th>\n",
       "      <td>23.50</td>\n",
       "      <td>-73.968115</td>\n",
       "      <td>40.801455</td>\n",
       "      <td>0.000000</td>\n",
       "      <td>0.000000</td>\n",
       "      <td>2</td>\n",
       "      <td>2013</td>\n",
       "      <td>0</td>\n",
       "      <td>Q4</td>\n",
       "      <td>H1</td>\n",
       "      <td>8665.747</td>\n",
       "    </tr>\n",
       "    <tr>\n",
       "      <th>198665</th>\n",
       "      <td>20.10</td>\n",
       "      <td>-0.116667</td>\n",
       "      <td>40.729775</td>\n",
       "      <td>0.000000</td>\n",
       "      <td>0.000000</td>\n",
       "      <td>5</td>\n",
       "      <td>2012</td>\n",
       "      <td>1</td>\n",
       "      <td>Q2</td>\n",
       "      <td>H6</td>\n",
       "      <td>4528.960</td>\n",
       "    </tr>\n",
       "  </tbody>\n",
       "</table>\n",
       "<p>379 rows × 11 columns</p>\n",
       "</div>"
      ],
      "text/plain": [
       "        fare_amount  pickup_longitude  pickup_latitude  dropoff_longitude  \\\n",
       "346           15.50          0.000000         0.000000         -73.979805   \n",
       "1067          52.00        -73.781095        40.645015           0.000000   \n",
       "1526           2.50        -74.001849        40.715156           0.000000   \n",
       "2547          10.10          0.000000         0.000000         -73.953210   \n",
       "3045          15.00          0.000000         0.000000         -73.843777   \n",
       "...             ...               ...              ...                ...   \n",
       "196967        57.33          0.000000         0.000000         -73.789045   \n",
       "197468         6.90          0.000000         0.000000         -73.980827   \n",
       "197863         7.00        -73.962190        40.759158           0.000000   \n",
       "198567        23.50        -73.968115        40.801455           0.000000   \n",
       "198665        20.10         -0.116667        40.729775           0.000000   \n",
       "\n",
       "        dropoff_latitude  passenger_count  year  weekday Monthly_Quarter  \\\n",
       "346            40.786030                1  2015        3              Q1   \n",
       "1067            0.000000                1  2014        6              Q1   \n",
       "1526            0.000000                3  2014        0              Q2   \n",
       "2547           40.803528                2  2011        1              Q3   \n",
       "3045           40.739255                1  2013        1              Q1   \n",
       "...                  ...              ...   ...      ...             ...   \n",
       "196967         40.655135                2  2014        2              Q3   \n",
       "197468         40.747133                5  2011        2              Q1   \n",
       "197863          0.000000                1  2014        1              Q4   \n",
       "198567          0.000000                2  2013        0              Q4   \n",
       "198665          0.000000                5  2012        1              Q2   \n",
       "\n",
       "       Hourly_Segments  distance_travelled  \n",
       "346                 H5            8666.398  \n",
       "1067                H6            8647.036  \n",
       "1526                H4            8666.772  \n",
       "2547                H6            8664.557  \n",
       "3045                H1            8654.177  \n",
       "...                ...                 ...  \n",
       "196967              H3            8647.904  \n",
       "197468              H5            8665.686  \n",
       "197863              H6            8664.389  \n",
       "198567              H1            8665.747  \n",
       "198665              H6            4528.960  \n",
       "\n",
       "[379 rows x 11 columns]"
      ]
     },
     "execution_count": 45,
     "metadata": {},
     "output_type": "execute_result"
    }
   ],
   "source": [
    "df_delete_lat_long = df[(df['pickup_longitude']==0) | (df['pickup_latitude']==0) | (df['dropoff_longitude']==0) | (df['dropoff_latitude']==0) ]\n",
    "df_delete_lat_long"
   ]
  },
  {
   "cell_type": "markdown",
   "metadata": {},
   "source": [
    "```\n",
    "As the above rows show some inconsistent data (as the latitude and longitude values for pickup and dropoff locations are all zeros which is the location in South Atlantic Ocean), we have dropped these rows.\n",
    "```"
   ]
  },
  {
   "cell_type": "code",
   "execution_count": 46,
   "metadata": {},
   "outputs": [
    {
     "name": "stdout",
     "output_type": "stream",
     "text": [
      "After drop 379\n"
     ]
    }
   ],
   "source": [
    "old_shape = df.shape\n",
    "index_to_delete_lat_long = df[(df['pickup_longitude']==0) | (df['pickup_latitude']==0) | (df['dropoff_longitude']==0) | (df['dropoff_latitude']==0) ].index\n",
    "df.drop(index_to_delete_lat_long,inplace=True)\n",
    "print(f\"After drop {old_shape[0] - df.shape[0]}\")"
   ]
  },
  {
   "cell_type": "code",
   "execution_count": 47,
   "metadata": {},
   "outputs": [
    {
     "data": {
      "text/plain": [
       "<matplotlib.collections.PathCollection at 0x16e0dbd60>"
      ]
     },
     "execution_count": 47,
     "metadata": {},
     "output_type": "execute_result"
    },
    {
     "data": {
      "image/png": "[encoded data removed]",
      "text/plain": [
       "<Figure size 640x480 with 1 Axes>"
      ]
     },
     "metadata": {},
     "output_type": "display_data"
    }
   ],
   "source": [
    "plt.scatter(data = df,x='distance_travelled',y='fare_amount')"
   ]
  },
  {
   "cell_type": "code",
   "execution_count": 48,
   "metadata": {},
   "outputs": [
    {
     "name": "stdout",
     "output_type": "stream",
     "text": [
      "FARE_AMOUNT\n",
      "Upper Whisker 22.25\n",
      "Lower Whisker -3.75\n",
      "************************************\n",
      "DISTANCE_TRAVELLED\n",
      "Upper Whisker 7.959\n",
      "Lower Whisker -2.7049999999999996\n",
      "************************************\n"
     ]
    }
   ],
   "source": [
    "for feature in ['fare_amount','distance_travelled']:\n",
    "\n",
    "    q1 = df[feature].quantile(0.25)\n",
    "    q3 = df[feature].quantile(0.75)\n",
    "    iqr = q3-q1\n",
    "    upper_whisker = q3+1.5*iqr\n",
    "    lower_whisker = q1-1.5*iqr\n",
    "    print(str.upper(feature))\n",
    "    print('Upper Whisker',upper_whisker)\n",
    "    print('Lower Whisker',lower_whisker)\n",
    "    print('************************************')"
   ]
  },
  {
   "cell_type": "code",
   "execution_count": 49,
   "metadata": {},
   "outputs": [
    {
     "data": {
      "text/plain": [
       "<Axes: >"
      ]
     },
     "execution_count": 49,
     "metadata": {},
     "output_type": "execute_result"
    },
    {
     "data": {
      "image/png": "[encoded data removed]",
      "text/plain": [
       "<Figure size 640x480 with 1 Axes>"
      ]
     },
     "metadata": {},
     "output_type": "display_data"
    }
   ],
   "source": [
    "df[['fare_amount']].boxplot(vert=0)"
   ]
  },
  {
   "cell_type": "code",
   "execution_count": 50,
   "metadata": {},
   "outputs": [],
   "source": [
    "# Outlier treatment\n",
    "for feature in ['fare_amount','distance_travelled']:\n",
    "    q1 = df[feature].quantile(0.25)\n",
    "    q3 = df[feature].quantile(0.75)\n",
    "    iqr = q3-q1\n",
    "    upper_whisker = q3+1.5*iqr\n",
    "    lower_whisker = q1-1.5*iqr\n",
    "    df[feature]=np.where(df[feature]<lower_whisker,lower_whisker,df[feature])\n",
    "    df[feature]=np.where(df[feature]>upper_whisker,upper_whisker,df[feature])"
   ]
  },
  {
   "cell_type": "code",
   "execution_count": 51,
   "metadata": {},
   "outputs": [
    {
     "data": {
      "text/plain": [
       "<Axes: >"
      ]
     },
     "execution_count": 51,
     "metadata": {},
     "output_type": "execute_result"
    },
    {
     "data": {
      "image/png": "[encoded data removed]",
      "text/plain": [
       "<Figure size 640x480 with 1 Axes>"
      ]
     },
     "metadata": {},
     "output_type": "display_data"
    }
   ],
   "source": [
    "df[['fare_amount','distance_travelled']].boxplot(vert=0)"
   ]
  },
  {
   "cell_type": "code",
   "execution_count": 52,
   "metadata": {},
   "outputs": [
    {
     "data": {
      "text/plain": [
       "<matplotlib.collections.PathCollection at 0x17ff4f460>"
      ]
     },
     "execution_count": 52,
     "metadata": {},
     "output_type": "execute_result"
    },
    {
     "data": {
      "image/png": "[encoded data removed]",
      "text/plain": [
       "<Figure size 640x480 with 1 Axes>"
      ]
     },
     "metadata": {},
     "output_type": "display_data"
    }
   ],
   "source": [
    "plt.scatter(data = df,x='distance_travelled',y='fare_amount')"
   ]
  },
  {
   "cell_type": "code",
   "execution_count": 53,
   "metadata": {},
   "outputs": [
    {
     "data": {
      "text/html": [
       "<div>\n",
       "<style scoped>\n",
       "    .dataframe tbody tr th:only-of-type {\n",
       "        vertical-align: middle;\n",
       "    }\n",
       "\n",
       "    .dataframe tbody tr th {\n",
       "        vertical-align: top;\n",
       "    }\n",
       "\n",
       "    .dataframe thead th {\n",
       "        text-align: right;\n",
       "    }\n",
       "</style>\n",
       "<table border=\"1\" class=\"dataframe\">\n",
       "  <thead>\n",
       "    <tr style=\"text-align: right;\">\n",
       "      <th></th>\n",
       "      <th>fare_amount</th>\n",
       "      <th>pickup_longitude</th>\n",
       "      <th>pickup_latitude</th>\n",
       "      <th>dropoff_longitude</th>\n",
       "      <th>dropoff_latitude</th>\n",
       "      <th>passenger_count</th>\n",
       "      <th>year</th>\n",
       "      <th>weekday</th>\n",
       "      <th>Monthly_Quarter</th>\n",
       "      <th>Hourly_Segments</th>\n",
       "      <th>distance_travelled</th>\n",
       "    </tr>\n",
       "  </thead>\n",
       "  <tbody>\n",
       "    <tr>\n",
       "      <th>0</th>\n",
       "      <td>7.5</td>\n",
       "      <td>-73.999817</td>\n",
       "      <td>40.738354</td>\n",
       "      <td>-73.999512</td>\n",
       "      <td>40.723217</td>\n",
       "      <td>1</td>\n",
       "      <td>2015</td>\n",
       "      <td>3</td>\n",
       "      <td>Q2</td>\n",
       "      <td>H5</td>\n",
       "      <td>1.683</td>\n",
       "    </tr>\n",
       "    <tr>\n",
       "      <th>1</th>\n",
       "      <td>7.7</td>\n",
       "      <td>-73.994355</td>\n",
       "      <td>40.728225</td>\n",
       "      <td>-73.994710</td>\n",
       "      <td>40.750325</td>\n",
       "      <td>1</td>\n",
       "      <td>2009</td>\n",
       "      <td>4</td>\n",
       "      <td>Q3</td>\n",
       "      <td>H6</td>\n",
       "      <td>2.458</td>\n",
       "    </tr>\n",
       "    <tr>\n",
       "      <th>2</th>\n",
       "      <td>12.9</td>\n",
       "      <td>-74.005043</td>\n",
       "      <td>40.740770</td>\n",
       "      <td>-73.962565</td>\n",
       "      <td>40.772647</td>\n",
       "      <td>1</td>\n",
       "      <td>2009</td>\n",
       "      <td>0</td>\n",
       "      <td>Q3</td>\n",
       "      <td>H6</td>\n",
       "      <td>5.036</td>\n",
       "    </tr>\n",
       "    <tr>\n",
       "      <th>3</th>\n",
       "      <td>5.3</td>\n",
       "      <td>-73.976124</td>\n",
       "      <td>40.790844</td>\n",
       "      <td>-73.965316</td>\n",
       "      <td>40.803349</td>\n",
       "      <td>3</td>\n",
       "      <td>2009</td>\n",
       "      <td>4</td>\n",
       "      <td>Q2</td>\n",
       "      <td>H3</td>\n",
       "      <td>1.662</td>\n",
       "    </tr>\n",
       "    <tr>\n",
       "      <th>4</th>\n",
       "      <td>16.0</td>\n",
       "      <td>-73.925023</td>\n",
       "      <td>40.744085</td>\n",
       "      <td>-73.973082</td>\n",
       "      <td>40.761247</td>\n",
       "      <td>5</td>\n",
       "      <td>2014</td>\n",
       "      <td>3</td>\n",
       "      <td>Q3</td>\n",
       "      <td>H5</td>\n",
       "      <td>4.475</td>\n",
       "    </tr>\n",
       "  </tbody>\n",
       "</table>\n",
       "</div>"
      ],
      "text/plain": [
       "   fare_amount  pickup_longitude  pickup_latitude  dropoff_longitude  \\\n",
       "0          7.5        -73.999817        40.738354         -73.999512   \n",
       "1          7.7        -73.994355        40.728225         -73.994710   \n",
       "2         12.9        -74.005043        40.740770         -73.962565   \n",
       "3          5.3        -73.976124        40.790844         -73.965316   \n",
       "4         16.0        -73.925023        40.744085         -73.973082   \n",
       "\n",
       "   dropoff_latitude  passenger_count  year  weekday Monthly_Quarter  \\\n",
       "0         40.723217                1  2015        3              Q2   \n",
       "1         40.750325                1  2009        4              Q3   \n",
       "2         40.772647                1  2009        0              Q3   \n",
       "3         40.803349                3  2009        4              Q2   \n",
       "4         40.761247                5  2014        3              Q3   \n",
       "\n",
       "  Hourly_Segments  distance_travelled  \n",
       "0              H5               1.683  \n",
       "1              H6               2.458  \n",
       "2              H6               5.036  \n",
       "3              H3               1.662  \n",
       "4              H5               4.475  "
      ]
     },
     "execution_count": 53,
     "metadata": {},
     "output_type": "execute_result"
    }
   ],
   "source": [
    "df.head()"
   ]
  },
  {
   "cell_type": "code",
   "execution_count": 54,
   "metadata": {},
   "outputs": [],
   "source": [
    "from IPython.display import Markdown, display"
   ]
  },
  {
   "cell_type": "code",
   "execution_count": 55,
   "metadata": {},
   "outputs": [
    {
     "data": {
      "text/markdown": [
       "***Categorical Variables Dataframe:***"
      ],
      "text/plain": [
       "<IPython.core.display.Markdown object>"
      ]
     },
     "metadata": {},
     "output_type": "display_data"
    },
    {
     "data": {
      "text/html": [
       "<div>\n",
       "<style scoped>\n",
       "    .dataframe tbody tr th:only-of-type {\n",
       "        vertical-align: middle;\n",
       "    }\n",
       "\n",
       "    .dataframe tbody tr th {\n",
       "        vertical-align: top;\n",
       "    }\n",
       "\n",
       "    .dataframe thead th {\n",
       "        text-align: right;\n",
       "    }\n",
       "</style>\n",
       "<table border=\"1\" class=\"dataframe\">\n",
       "  <thead>\n",
       "    <tr style=\"text-align: right;\">\n",
       "      <th></th>\n",
       "      <th>Monthly_Quarter</th>\n",
       "      <th>Hourly_Segments</th>\n",
       "    </tr>\n",
       "  </thead>\n",
       "  <tbody>\n",
       "    <tr>\n",
       "      <th>0</th>\n",
       "      <td>Q2</td>\n",
       "      <td>H5</td>\n",
       "    </tr>\n",
       "    <tr>\n",
       "      <th>1</th>\n",
       "      <td>Q3</td>\n",
       "      <td>H6</td>\n",
       "    </tr>\n",
       "    <tr>\n",
       "      <th>2</th>\n",
       "      <td>Q3</td>\n",
       "      <td>H6</td>\n",
       "    </tr>\n",
       "    <tr>\n",
       "      <th>3</th>\n",
       "      <td>Q2</td>\n",
       "      <td>H3</td>\n",
       "    </tr>\n",
       "    <tr>\n",
       "      <th>4</th>\n",
       "      <td>Q3</td>\n",
       "      <td>H5</td>\n",
       "    </tr>\n",
       "  </tbody>\n",
       "</table>\n",
       "</div>"
      ],
      "text/plain": [
       "  Monthly_Quarter Hourly_Segments\n",
       "0              Q2              H5\n",
       "1              Q3              H6\n",
       "2              Q3              H6\n",
       "3              Q2              H3\n",
       "4              Q3              H5"
      ]
     },
     "metadata": {},
     "output_type": "display_data"
    },
    {
     "data": {
      "text/markdown": [
       "***Numeric Variables Dataframe:***"
      ],
      "text/plain": [
       "<IPython.core.display.Markdown object>"
      ]
     },
     "metadata": {},
     "output_type": "display_data"
    },
    {
     "data": {
      "text/html": [
       "<div>\n",
       "<style scoped>\n",
       "    .dataframe tbody tr th:only-of-type {\n",
       "        vertical-align: middle;\n",
       "    }\n",
       "\n",
       "    .dataframe tbody tr th {\n",
       "        vertical-align: top;\n",
       "    }\n",
       "\n",
       "    .dataframe thead th {\n",
       "        text-align: right;\n",
       "    }\n",
       "</style>\n",
       "<table border=\"1\" class=\"dataframe\">\n",
       "  <thead>\n",
       "    <tr style=\"text-align: right;\">\n",
       "      <th></th>\n",
       "      <th>fare_amount</th>\n",
       "      <th>pickup_longitude</th>\n",
       "      <th>pickup_latitude</th>\n",
       "      <th>dropoff_longitude</th>\n",
       "      <th>dropoff_latitude</th>\n",
       "      <th>passenger_count</th>\n",
       "      <th>year</th>\n",
       "      <th>weekday</th>\n",
       "      <th>distance_travelled</th>\n",
       "    </tr>\n",
       "  </thead>\n",
       "  <tbody>\n",
       "    <tr>\n",
       "      <th>0</th>\n",
       "      <td>7.5</td>\n",
       "      <td>-73.999817</td>\n",
       "      <td>40.738354</td>\n",
       "      <td>-73.999512</td>\n",
       "      <td>40.723217</td>\n",
       "      <td>1</td>\n",
       "      <td>2015</td>\n",
       "      <td>3</td>\n",
       "      <td>1.683</td>\n",
       "    </tr>\n",
       "    <tr>\n",
       "      <th>1</th>\n",
       "      <td>7.7</td>\n",
       "      <td>-73.994355</td>\n",
       "      <td>40.728225</td>\n",
       "      <td>-73.994710</td>\n",
       "      <td>40.750325</td>\n",
       "      <td>1</td>\n",
       "      <td>2009</td>\n",
       "      <td>4</td>\n",
       "      <td>2.458</td>\n",
       "    </tr>\n",
       "    <tr>\n",
       "      <th>2</th>\n",
       "      <td>12.9</td>\n",
       "      <td>-74.005043</td>\n",
       "      <td>40.740770</td>\n",
       "      <td>-73.962565</td>\n",
       "      <td>40.772647</td>\n",
       "      <td>1</td>\n",
       "      <td>2009</td>\n",
       "      <td>0</td>\n",
       "      <td>5.036</td>\n",
       "    </tr>\n",
       "    <tr>\n",
       "      <th>3</th>\n",
       "      <td>5.3</td>\n",
       "      <td>-73.976124</td>\n",
       "      <td>40.790844</td>\n",
       "      <td>-73.965316</td>\n",
       "      <td>40.803349</td>\n",
       "      <td>3</td>\n",
       "      <td>2009</td>\n",
       "      <td>4</td>\n",
       "      <td>1.662</td>\n",
       "    </tr>\n",
       "    <tr>\n",
       "      <th>4</th>\n",
       "      <td>16.0</td>\n",
       "      <td>-73.925023</td>\n",
       "      <td>40.744085</td>\n",
       "      <td>-73.973082</td>\n",
       "      <td>40.761247</td>\n",
       "      <td>5</td>\n",
       "      <td>2014</td>\n",
       "      <td>3</td>\n",
       "      <td>4.475</td>\n",
       "    </tr>\n",
       "  </tbody>\n",
       "</table>\n",
       "</div>"
      ],
      "text/plain": [
       "   fare_amount  pickup_longitude  pickup_latitude  dropoff_longitude  \\\n",
       "0          7.5        -73.999817        40.738354         -73.999512   \n",
       "1          7.7        -73.994355        40.728225         -73.994710   \n",
       "2         12.9        -74.005043        40.740770         -73.962565   \n",
       "3          5.3        -73.976124        40.790844         -73.965316   \n",
       "4         16.0        -73.925023        40.744085         -73.973082   \n",
       "\n",
       "   dropoff_latitude  passenger_count  year  weekday  distance_travelled  \n",
       "0         40.723217                1  2015        3               1.683  \n",
       "1         40.750325                1  2009        4               2.458  \n",
       "2         40.772647                1  2009        0               5.036  \n",
       "3         40.803349                3  2009        4               1.662  \n",
       "4         40.761247                5  2014        3               4.475  "
      ]
     },
     "metadata": {},
     "output_type": "display_data"
    }
   ],
   "source": [
    "cat = df.select_dtypes(include='object')\n",
    "num = df.select_dtypes(exclude='object')\n",
    "\n",
    "display(Markdown(\"***Categorical Variables Dataframe:***\"))\n",
    "display(cat.head())\n",
    "\n",
    "display(Markdown(\"***Numeric Variables Dataframe:***\"))\n",
    "display(num.head())"
   ]
  },
  {
   "cell_type": "markdown",
   "metadata": {},
   "source": [
    "### Encoding the Categorical Features"
   ]
  },
  {
   "cell_type": "code",
   "execution_count": 56,
   "metadata": {},
   "outputs": [],
   "source": [
    "from sklearn.preprocessing import LabelEncoder, StandardScaler"
   ]
  },
  {
   "cell_type": "code",
   "execution_count": 57,
   "metadata": {},
   "outputs": [
    {
     "name": "stdout",
     "output_type": "stream",
     "text": [
      "Hour Segments Decoded Categories: ['H5' 'H6' 'H6' ... 'H1' 'H4' 'H2']\n",
      "Decoded Categories: ['Q2' 'Q3' 'Q3' ... 'Q2' 'Q2' 'Q2']\n"
     ]
    }
   ],
   "source": [
    "Hour_encoder = LabelEncoder()\n",
    "Month_encoder = LabelEncoder()\n",
    "\n",
    "df.Monthly_Quarter = Month_encoder.fit_transform(df.Monthly_Quarter)\n",
    "df.Hourly_Segments = Hour_encoder.fit_transform(df.Hourly_Segments)\n",
    "\n",
    "Hour_Segments_decoded = Hour_encoder.inverse_transform(df.Hourly_Segments)\n",
    "print(\"Hour Segments Decoded Categories:\", Hour_Segments_decoded)\n",
    "\n",
    "Month_Segments_decoded = Month_encoder.inverse_transform(df.Monthly_Quarter)\n",
    "print(\"Decoded Categories:\", Month_Segments_decoded)"
   ]
  },
  {
   "cell_type": "code",
   "execution_count": 58,
   "metadata": {},
   "outputs": [
    {
     "name": "stdout",
     "output_type": "stream",
     "text": [
      "<class 'pandas.core.frame.DataFrame'>\n",
      "Index: 192787 entries, 0 to 199999\n",
      "Data columns (total 11 columns):\n",
      " #   Column              Non-Null Count   Dtype  \n",
      "---  ------              --------------   -----  \n",
      " 0   fare_amount         192787 non-null  float64\n",
      " 1   pickup_longitude    192787 non-null  float64\n",
      " 2   pickup_latitude     192787 non-null  float64\n",
      " 3   dropoff_longitude   192787 non-null  float64\n",
      " 4   dropoff_latitude    192787 non-null  float64\n",
      " 5   passenger_count     192787 non-null  int64  \n",
      " 6   year                192787 non-null  int32  \n",
      " 7   weekday             192787 non-null  int32  \n",
      " 8   Monthly_Quarter     192787 non-null  int64  \n",
      " 9   Hourly_Segments     192787 non-null  int64  \n",
      " 10  distance_travelled  192787 non-null  float64\n",
      "dtypes: float64(6), int32(2), int64(3)\n",
      "memory usage: 16.2 MB\n"
     ]
    }
   ],
   "source": [
    "df.info()"
   ]
  },
  {
   "cell_type": "code",
   "execution_count": 59,
   "metadata": {},
   "outputs": [
    {
     "data": {
      "image/png": "[encoded data removed]",
      "text/plain": [
       "<Figure size 800x600 with 1 Axes>"
      ]
     },
     "metadata": {},
     "output_type": "display_data"
    }
   ],
   "source": [
    "monthly_labels = ['1 - 3', '4 - 6', '7 - 9', '10 - 12'] \n",
    "plt.figure(figsize=(8, 6))\n",
    "sns.countplot(data=df, x='Monthly_Quarter', palette='viridis')\n",
    "plt.xlabel('Monthly Quarter')\n",
    "plt.ylabel('Count')\n",
    "plt.title('Distribution of Trips by Monthly Quarter')\n",
    "\n",
    "plt.xticks(ticks=range(len(monthly_labels)), labels=monthly_labels)\n",
    "\n",
    "plt.show()"
   ]
  },
  {
   "cell_type": "code",
   "execution_count": 60,
   "metadata": {},
   "outputs": [
    {
     "data": {
      "image/png": "[encoded data removed]",
      "text/plain": [
       "<Figure size 1000x600 with 1 Axes>"
      ]
     },
     "metadata": {},
     "output_type": "display_data"
    }
   ],
   "source": [
    "hourly_segment_labels = ['0-3', '4-7', '8-11', '12-15', '16-19', '20-23']\n",
    "\n",
    "plt.figure(figsize=(10, 6))\n",
    "sns.countplot(data=df, x='Hourly_Segments', palette='muted')\n",
    "plt.xlabel('Hourly Segments')\n",
    "plt.ylabel('Count')\n",
    "plt.title('Distribution of Trips by Hourly Segments')\n",
    "\n",
    "plt.xticks(ticks=range(len(hourly_segment_labels)), labels=hourly_segment_labels)\n",
    "plt.show()"
   ]
  },
  {
   "cell_type": "code",
   "execution_count": 61,
   "metadata": {},
   "outputs": [
    {
     "data": {
      "text/html": [
       "<div>\n",
       "<style scoped>\n",
       "    .dataframe tbody tr th:only-of-type {\n",
       "        vertical-align: middle;\n",
       "    }\n",
       "\n",
       "    .dataframe tbody tr th {\n",
       "        vertical-align: top;\n",
       "    }\n",
       "\n",
       "    .dataframe thead th {\n",
       "        text-align: right;\n",
       "    }\n",
       "</style>\n",
       "<table border=\"1\" class=\"dataframe\">\n",
       "  <thead>\n",
       "    <tr style=\"text-align: right;\">\n",
       "      <th></th>\n",
       "      <th>fare_amount</th>\n",
       "      <th>pickup_longitude</th>\n",
       "      <th>pickup_latitude</th>\n",
       "      <th>dropoff_longitude</th>\n",
       "      <th>dropoff_latitude</th>\n",
       "      <th>passenger_count</th>\n",
       "      <th>year</th>\n",
       "      <th>weekday</th>\n",
       "      <th>Monthly_Quarter</th>\n",
       "      <th>Hourly_Segments</th>\n",
       "      <th>distance_travelled</th>\n",
       "    </tr>\n",
       "  </thead>\n",
       "  <tbody>\n",
       "    <tr>\n",
       "      <th>0</th>\n",
       "      <td>7.5</td>\n",
       "      <td>-73.999817</td>\n",
       "      <td>40.738354</td>\n",
       "      <td>-73.999512</td>\n",
       "      <td>40.723217</td>\n",
       "      <td>1</td>\n",
       "      <td>2015</td>\n",
       "      <td>3</td>\n",
       "      <td>1</td>\n",
       "      <td>4</td>\n",
       "      <td>1.683</td>\n",
       "    </tr>\n",
       "    <tr>\n",
       "      <th>1</th>\n",
       "      <td>7.7</td>\n",
       "      <td>-73.994355</td>\n",
       "      <td>40.728225</td>\n",
       "      <td>-73.994710</td>\n",
       "      <td>40.750325</td>\n",
       "      <td>1</td>\n",
       "      <td>2009</td>\n",
       "      <td>4</td>\n",
       "      <td>2</td>\n",
       "      <td>5</td>\n",
       "      <td>2.458</td>\n",
       "    </tr>\n",
       "    <tr>\n",
       "      <th>2</th>\n",
       "      <td>12.9</td>\n",
       "      <td>-74.005043</td>\n",
       "      <td>40.740770</td>\n",
       "      <td>-73.962565</td>\n",
       "      <td>40.772647</td>\n",
       "      <td>1</td>\n",
       "      <td>2009</td>\n",
       "      <td>0</td>\n",
       "      <td>2</td>\n",
       "      <td>5</td>\n",
       "      <td>5.036</td>\n",
       "    </tr>\n",
       "    <tr>\n",
       "      <th>3</th>\n",
       "      <td>5.3</td>\n",
       "      <td>-73.976124</td>\n",
       "      <td>40.790844</td>\n",
       "      <td>-73.965316</td>\n",
       "      <td>40.803349</td>\n",
       "      <td>3</td>\n",
       "      <td>2009</td>\n",
       "      <td>4</td>\n",
       "      <td>1</td>\n",
       "      <td>2</td>\n",
       "      <td>1.662</td>\n",
       "    </tr>\n",
       "    <tr>\n",
       "      <th>4</th>\n",
       "      <td>16.0</td>\n",
       "      <td>-73.925023</td>\n",
       "      <td>40.744085</td>\n",
       "      <td>-73.973082</td>\n",
       "      <td>40.761247</td>\n",
       "      <td>5</td>\n",
       "      <td>2014</td>\n",
       "      <td>3</td>\n",
       "      <td>2</td>\n",
       "      <td>4</td>\n",
       "      <td>4.475</td>\n",
       "    </tr>\n",
       "  </tbody>\n",
       "</table>\n",
       "</div>"
      ],
      "text/plain": [
       "   fare_amount  pickup_longitude  pickup_latitude  dropoff_longitude  \\\n",
       "0          7.5        -73.999817        40.738354         -73.999512   \n",
       "1          7.7        -73.994355        40.728225         -73.994710   \n",
       "2         12.9        -74.005043        40.740770         -73.962565   \n",
       "3          5.3        -73.976124        40.790844         -73.965316   \n",
       "4         16.0        -73.925023        40.744085         -73.973082   \n",
       "\n",
       "   dropoff_latitude  passenger_count  year  weekday  Monthly_Quarter  \\\n",
       "0         40.723217                1  2015        3                1   \n",
       "1         40.750325                1  2009        4                2   \n",
       "2         40.772647                1  2009        0                2   \n",
       "3         40.803349                3  2009        4                1   \n",
       "4         40.761247                5  2014        3                2   \n",
       "\n",
       "   Hourly_Segments  distance_travelled  \n",
       "0                4               1.683  \n",
       "1                5               2.458  \n",
       "2                5               5.036  \n",
       "3                2               1.662  \n",
       "4                4               4.475  "
      ]
     },
     "execution_count": 61,
     "metadata": {},
     "output_type": "execute_result"
    }
   ],
   "source": [
    "df.head()"
   ]
  },
  {
   "cell_type": "code",
   "execution_count": 62,
   "metadata": {},
   "outputs": [
    {
     "name": "stdout",
     "output_type": "stream",
     "text": [
      "Inference: The dataset doesn't have any duplicates\n"
     ]
    }
   ],
   "source": [
    "counter = 0\n",
    "rows,columns = df.shape\n",
    "\n",
    "df.drop_duplicates(inplace=True)\n",
    "df.drop(['pickup_latitude','pickup_longitude',\n",
    "         'dropoff_latitude','dropoff_longitude'],axis=1)\n",
    "\n",
    "if df.shape==(rows,columns):\n",
    "    print('Inference: The dataset doesn\\'t have any duplicates')\n",
    "else:\n",
    "    print(f'Inference: Number of duplicates dropped fixed ---> {rows-df.shape[0]}')"
   ]
  },
  {
   "cell_type": "code",
   "execution_count": 63,
   "metadata": {},
   "outputs": [
    {
     "data": {
      "text/plain": [
       "Text(0, 0.5, 'Fare amount')"
      ]
     },
     "execution_count": 63,
     "metadata": {},
     "output_type": "execute_result"
    },
    {
     "data": {
      "image/png": "[encoded data removed]",
      "text/plain": [
       "<Figure size 1000x600 with 1 Axes>"
      ]
     },
     "metadata": {},
     "output_type": "display_data"
    }
   ],
   "source": [
    "plt.figure(figsize=(10, 6))\n",
    "plt.subplot(1, 2, 1)\n",
    "plt.scatter(df.distance_travelled, df['fare_amount'], color='blue')\n",
    "plt.xlabel('distance_travelled')\n",
    "plt.ylabel('Fare amount')"
   ]
  },
  {
   "cell_type": "code",
   "execution_count": 64,
   "metadata": {},
   "outputs": [
    {
     "data": {
      "image/png": "[encoded data removed]",
      "text/plain": [
       "<Figure size 800x600 with 1 Axes>"
      ]
     },
     "metadata": {},
     "output_type": "display_data"
    }
   ],
   "source": [
    "plt.figure(figsize=(8, 6))\n",
    "sns.kdeplot(df.fare_amount, fill=True, linewidth=2)\n",
    "plt.xlabel('Fare Amount')\n",
    "plt.ylabel('Frrequency')\n",
    "plt.title('Kernel Density Plot')\n",
    "plt.show()"
   ]
  },
  {
   "cell_type": "code",
   "execution_count": 65,
   "metadata": {},
   "outputs": [
    {
     "data": {
      "text/html": [
       "<div>\n",
       "<style scoped>\n",
       "    .dataframe tbody tr th:only-of-type {\n",
       "        vertical-align: middle;\n",
       "    }\n",
       "\n",
       "    .dataframe tbody tr th {\n",
       "        vertical-align: top;\n",
       "    }\n",
       "\n",
       "    .dataframe thead th {\n",
       "        text-align: right;\n",
       "    }\n",
       "</style>\n",
       "<table border=\"1\" class=\"dataframe\">\n",
       "  <thead>\n",
       "    <tr style=\"text-align: right;\">\n",
       "      <th></th>\n",
       "      <th>fare_amount</th>\n",
       "      <th>pickup_longitude</th>\n",
       "      <th>pickup_latitude</th>\n",
       "      <th>dropoff_longitude</th>\n",
       "      <th>dropoff_latitude</th>\n",
       "      <th>passenger_count</th>\n",
       "      <th>year</th>\n",
       "      <th>weekday</th>\n",
       "      <th>Monthly_Quarter</th>\n",
       "      <th>Hourly_Segments</th>\n",
       "      <th>distance_travelled</th>\n",
       "    </tr>\n",
       "  </thead>\n",
       "  <tbody>\n",
       "    <tr>\n",
       "      <th>count</th>\n",
       "      <td>192787.000000</td>\n",
       "      <td>192787.000000</td>\n",
       "      <td>192787.000000</td>\n",
       "      <td>192787.000000</td>\n",
       "      <td>192787.000000</td>\n",
       "      <td>192787.000000</td>\n",
       "      <td>192787.000000</td>\n",
       "      <td>192787.000000</td>\n",
       "      <td>192787.000000</td>\n",
       "      <td>192787.000000</td>\n",
       "      <td>192787.000000</td>\n",
       "    </tr>\n",
       "    <tr>\n",
       "      <th>mean</th>\n",
       "      <td>10.101971</td>\n",
       "      <td>-73.905464</td>\n",
       "      <td>40.687945</td>\n",
       "      <td>-73.905118</td>\n",
       "      <td>40.687386</td>\n",
       "      <td>1.688464</td>\n",
       "      <td>2011.746752</td>\n",
       "      <td>3.049059</td>\n",
       "      <td>1.427114</td>\n",
       "      <td>2.992448</td>\n",
       "      <td>2.952360</td>\n",
       "    </tr>\n",
       "    <tr>\n",
       "      <th>std</th>\n",
       "      <td>5.410046</td>\n",
       "      <td>2.752196</td>\n",
       "      <td>2.630297</td>\n",
       "      <td>2.742568</td>\n",
       "      <td>2.635747</td>\n",
       "      <td>1.304705</td>\n",
       "      <td>1.859275</td>\n",
       "      <td>1.946567</td>\n",
       "      <td>1.116818</td>\n",
       "      <td>1.598328</td>\n",
       "      <td>2.204943</td>\n",
       "    </tr>\n",
       "    <tr>\n",
       "      <th>min</th>\n",
       "      <td>0.010000</td>\n",
       "      <td>-89.933333</td>\n",
       "      <td>-74.015515</td>\n",
       "      <td>-75.458979</td>\n",
       "      <td>-74.015750</td>\n",
       "      <td>1.000000</td>\n",
       "      <td>2009.000000</td>\n",
       "      <td>0.000000</td>\n",
       "      <td>0.000000</td>\n",
       "      <td>0.000000</td>\n",
       "      <td>0.100000</td>\n",
       "    </tr>\n",
       "    <tr>\n",
       "      <th>25%</th>\n",
       "      <td>6.000000</td>\n",
       "      <td>-73.992277</td>\n",
       "      <td>40.736474</td>\n",
       "      <td>-73.991595</td>\n",
       "      <td>40.735337</td>\n",
       "      <td>1.000000</td>\n",
       "      <td>2010.000000</td>\n",
       "      <td>1.000000</td>\n",
       "      <td>0.000000</td>\n",
       "      <td>2.000000</td>\n",
       "      <td>1.294000</td>\n",
       "    </tr>\n",
       "    <tr>\n",
       "      <th>50%</th>\n",
       "      <td>8.500000</td>\n",
       "      <td>-73.982135</td>\n",
       "      <td>40.753307</td>\n",
       "      <td>-73.980572</td>\n",
       "      <td>40.753753</td>\n",
       "      <td>1.000000</td>\n",
       "      <td>2012.000000</td>\n",
       "      <td>3.000000</td>\n",
       "      <td>1.000000</td>\n",
       "      <td>3.000000</td>\n",
       "      <td>2.193000</td>\n",
       "    </tr>\n",
       "    <tr>\n",
       "      <th>75%</th>\n",
       "      <td>12.500000</td>\n",
       "      <td>-73.968510</td>\n",
       "      <td>40.767558</td>\n",
       "      <td>-73.965583</td>\n",
       "      <td>40.768342</td>\n",
       "      <td>2.000000</td>\n",
       "      <td>2013.000000</td>\n",
       "      <td>5.000000</td>\n",
       "      <td>2.000000</td>\n",
       "      <td>4.000000</td>\n",
       "      <td>3.960000</td>\n",
       "    </tr>\n",
       "    <tr>\n",
       "      <th>max</th>\n",
       "      <td>22.250000</td>\n",
       "      <td>40.808425</td>\n",
       "      <td>48.018760</td>\n",
       "      <td>40.831932</td>\n",
       "      <td>42.464187</td>\n",
       "      <td>6.000000</td>\n",
       "      <td>2015.000000</td>\n",
       "      <td>6.000000</td>\n",
       "      <td>3.000000</td>\n",
       "      <td>5.000000</td>\n",
       "      <td>7.959000</td>\n",
       "    </tr>\n",
       "  </tbody>\n",
       "</table>\n",
       "</div>"
      ],
      "text/plain": [
       "         fare_amount  pickup_longitude  pickup_latitude  dropoff_longitude  \\\n",
       "count  192787.000000     192787.000000    192787.000000      192787.000000   \n",
       "mean       10.101971        -73.905464        40.687945         -73.905118   \n",
       "std         5.410046          2.752196         2.630297           2.742568   \n",
       "min         0.010000        -89.933333       -74.015515         -75.458979   \n",
       "25%         6.000000        -73.992277        40.736474         -73.991595   \n",
       "50%         8.500000        -73.982135        40.753307         -73.980572   \n",
       "75%        12.500000        -73.968510        40.767558         -73.965583   \n",
       "max        22.250000         40.808425        48.018760          40.831932   \n",
       "\n",
       "       dropoff_latitude  passenger_count           year        weekday  \\\n",
       "count     192787.000000    192787.000000  192787.000000  192787.000000   \n",
       "mean          40.687386         1.688464    2011.746752       3.049059   \n",
       "std            2.635747         1.304705       1.859275       1.946567   \n",
       "min          -74.015750         1.000000    2009.000000       0.000000   \n",
       "25%           40.735337         1.000000    2010.000000       1.000000   \n",
       "50%           40.753753         1.000000    2012.000000       3.000000   \n",
       "75%           40.768342         2.000000    2013.000000       5.000000   \n",
       "max           42.464187         6.000000    2015.000000       6.000000   \n",
       "\n",
       "       Monthly_Quarter  Hourly_Segments  distance_travelled  \n",
       "count    192787.000000    192787.000000       192787.000000  \n",
       "mean          1.427114         2.992448            2.952360  \n",
       "std           1.116818         1.598328            2.204943  \n",
       "min           0.000000         0.000000            0.100000  \n",
       "25%           0.000000         2.000000            1.294000  \n",
       "50%           1.000000         3.000000            2.193000  \n",
       "75%           2.000000         4.000000            3.960000  \n",
       "max           3.000000         5.000000            7.959000  "
      ]
     },
     "execution_count": 65,
     "metadata": {},
     "output_type": "execute_result"
    }
   ],
   "source": [
    "df.describe()"
   ]
  },
  {
   "cell_type": "code",
   "execution_count": 66,
   "metadata": {},
   "outputs": [
    {
     "data": {
      "text/plain": [
       "Text(0, 0.5, 'Frequency')"
      ]
     },
     "execution_count": 66,
     "metadata": {},
     "output_type": "execute_result"
    },
    {
     "data": {
      "image/png": "[encoded data removed]",
      "text/plain": [
       "<Figure size 1000x600 with 1 Axes>"
      ]
     },
     "metadata": {},
     "output_type": "display_data"
    }
   ],
   "source": [
    "plt.figure(figsize=(10, 6))\n",
    "plt.subplot(1, 2, 1)\n",
    "plt.hist(df['fare_amount'], bins=60, edgecolor='black', color='blue')\n",
    "plt.xlabel('Fare Amount')\n",
    "plt.ylabel('Frequency')"
   ]
  },
  {
   "cell_type": "markdown",
   "metadata": {},
   "source": [
    "## Feature Selection"
   ]
  },
  {
   "cell_type": "markdown",
   "metadata": {},
   "source": [
    "#### 1. Pearson's Correlation feature Selection\n",
    "\n",
    "- for (Numerical Input, Numerical Output) we use Pearson's Correlation feature Selection Regression Feature Selection"
   ]
  },
  {
   "cell_type": "code",
   "execution_count": 67,
   "metadata": {},
   "outputs": [],
   "source": [
    "features =  ['passenger_count', 'year',\n",
    "             'weekday', 'Monthly_Quarter', \n",
    "             'Hourly_Segments', 'distance_travelled']\n",
    "\n",
    "target = 'fare_amount'"
   ]
  },
  {
   "cell_type": "code",
   "execution_count": 68,
   "metadata": {},
   "outputs": [],
   "source": [
    "# Splitting Data into X and Y\n",
    "X, y = df[features], df[target]"
   ]
  },
  {
   "cell_type": "code",
   "execution_count": 69,
   "metadata": {},
   "outputs": [],
   "source": [
    "from sklearn.feature_selection import SelectKBest, f_regression"
   ]
  },
  {
   "cell_type": "code",
   "execution_count": 70,
   "metadata": {},
   "outputs": [
    {
     "name": "stdout",
     "output_type": "stream",
     "text": [
      "Selected features:\n",
      "\n",
      "passenger_count\n",
      "year\n",
      "weekday\n",
      "Monthly_Quarter\n",
      "Hourly_Segments\n",
      "distance_travelled\n"
     ]
    }
   ],
   "source": [
    "selector = SelectKBest(score_func=f_regression, k=6)\n",
    "X_new = selector.fit_transform(X, y)\n",
    "\n",
    "selected_feature_indices = selector.get_support(indices=True)\n",
    "selected_features = X.columns[selected_feature_indices]\n",
    "\n",
    "print(\"Selected features:\\n\")\n",
    "print('\\n'.join(map(str, selected_features)))\n"
   ]
  },
  {
   "cell_type": "markdown",
   "metadata": {},
   "source": [
    "### 2. Spearman's Correlation "
   ]
  },
  {
   "cell_type": "code",
   "execution_count": 71,
   "metadata": {},
   "outputs": [
    {
     "data": {
      "text/html": [
       "<div>\n",
       "<style scoped>\n",
       "    .dataframe tbody tr th:only-of-type {\n",
       "        vertical-align: middle;\n",
       "    }\n",
       "\n",
       "    .dataframe tbody tr th {\n",
       "        vertical-align: top;\n",
       "    }\n",
       "\n",
       "    .dataframe thead th {\n",
       "        text-align: right;\n",
       "    }\n",
       "</style>\n",
       "<table border=\"1\" class=\"dataframe\">\n",
       "  <thead>\n",
       "    <tr style=\"text-align: right;\">\n",
       "      <th></th>\n",
       "      <th>fare_amount</th>\n",
       "      <th>pickup_longitude</th>\n",
       "      <th>pickup_latitude</th>\n",
       "      <th>dropoff_longitude</th>\n",
       "      <th>dropoff_latitude</th>\n",
       "      <th>passenger_count</th>\n",
       "      <th>year</th>\n",
       "      <th>weekday</th>\n",
       "      <th>Monthly_Quarter</th>\n",
       "      <th>Hourly_Segments</th>\n",
       "      <th>distance_travelled</th>\n",
       "    </tr>\n",
       "  </thead>\n",
       "  <tbody>\n",
       "    <tr>\n",
       "      <th>fare_amount</th>\n",
       "      <td>1.000000</td>\n",
       "      <td>0.045034</td>\n",
       "      <td>-0.075815</td>\n",
       "      <td>0.110574</td>\n",
       "      <td>-0.090162</td>\n",
       "      <td>0.023047</td>\n",
       "      <td>0.150042</td>\n",
       "      <td>0.014103</td>\n",
       "      <td>0.030520</td>\n",
       "      <td>-0.008056</td>\n",
       "      <td>0.865969</td>\n",
       "    </tr>\n",
       "    <tr>\n",
       "      <th>pickup_longitude</th>\n",
       "      <td>0.045034</td>\n",
       "      <td>1.000000</td>\n",
       "      <td>0.609805</td>\n",
       "      <td>0.356762</td>\n",
       "      <td>0.284369</td>\n",
       "      <td>-0.016445</td>\n",
       "      <td>0.007177</td>\n",
       "      <td>-0.033616</td>\n",
       "      <td>-0.001011</td>\n",
       "      <td>0.005104</td>\n",
       "      <td>0.056478</td>\n",
       "    </tr>\n",
       "    <tr>\n",
       "      <th>pickup_latitude</th>\n",
       "      <td>-0.075815</td>\n",
       "      <td>0.609805</td>\n",
       "      <td>1.000000</td>\n",
       "      <td>0.264285</td>\n",
       "      <td>0.461130</td>\n",
       "      <td>-0.017847</td>\n",
       "      <td>-0.009155</td>\n",
       "      <td>-0.052257</td>\n",
       "      <td>0.002030</td>\n",
       "      <td>0.017797</td>\n",
       "      <td>-0.060333</td>\n",
       "    </tr>\n",
       "    <tr>\n",
       "      <th>dropoff_longitude</th>\n",
       "      <td>0.110574</td>\n",
       "      <td>0.356762</td>\n",
       "      <td>0.264285</td>\n",
       "      <td>1.000000</td>\n",
       "      <td>0.557915</td>\n",
       "      <td>-0.012891</td>\n",
       "      <td>0.009674</td>\n",
       "      <td>-0.017006</td>\n",
       "      <td>0.000535</td>\n",
       "      <td>-0.034735</td>\n",
       "      <td>0.141598</td>\n",
       "    </tr>\n",
       "    <tr>\n",
       "      <th>dropoff_latitude</th>\n",
       "      <td>-0.090162</td>\n",
       "      <td>0.284369</td>\n",
       "      <td>0.461130</td>\n",
       "      <td>0.557915</td>\n",
       "      <td>1.000000</td>\n",
       "      <td>-0.010512</td>\n",
       "      <td>-0.006379</td>\n",
       "      <td>-0.039589</td>\n",
       "      <td>0.000017</td>\n",
       "      <td>0.003999</td>\n",
       "      <td>-0.053321</td>\n",
       "    </tr>\n",
       "    <tr>\n",
       "      <th>passenger_count</th>\n",
       "      <td>0.023047</td>\n",
       "      <td>-0.016445</td>\n",
       "      <td>-0.017847</td>\n",
       "      <td>-0.012891</td>\n",
       "      <td>-0.010512</td>\n",
       "      <td>1.000000</td>\n",
       "      <td>-0.013357</td>\n",
       "      <td>0.056964</td>\n",
       "      <td>0.009089</td>\n",
       "      <td>0.033361</td>\n",
       "      <td>0.013107</td>\n",
       "    </tr>\n",
       "    <tr>\n",
       "      <th>year</th>\n",
       "      <td>0.150042</td>\n",
       "      <td>0.007177</td>\n",
       "      <td>-0.009155</td>\n",
       "      <td>0.009674</td>\n",
       "      <td>-0.006379</td>\n",
       "      <td>-0.013357</td>\n",
       "      <td>1.000000</td>\n",
       "      <td>0.005942</td>\n",
       "      <td>-0.111136</td>\n",
       "      <td>0.001067</td>\n",
       "      <td>0.014336</td>\n",
       "    </tr>\n",
       "    <tr>\n",
       "      <th>weekday</th>\n",
       "      <td>0.014103</td>\n",
       "      <td>-0.033616</td>\n",
       "      <td>-0.052257</td>\n",
       "      <td>-0.017006</td>\n",
       "      <td>-0.039589</td>\n",
       "      <td>0.056964</td>\n",
       "      <td>0.005942</td>\n",
       "      <td>1.000000</td>\n",
       "      <td>-0.009147</td>\n",
       "      <td>-0.067270</td>\n",
       "      <td>0.033667</td>\n",
       "    </tr>\n",
       "    <tr>\n",
       "      <th>Monthly_Quarter</th>\n",
       "      <td>0.030520</td>\n",
       "      <td>-0.001011</td>\n",
       "      <td>0.002030</td>\n",
       "      <td>0.000535</td>\n",
       "      <td>0.000017</td>\n",
       "      <td>0.009089</td>\n",
       "      <td>-0.111136</td>\n",
       "      <td>-0.009147</td>\n",
       "      <td>1.000000</td>\n",
       "      <td>-0.003894</td>\n",
       "      <td>0.014386</td>\n",
       "    </tr>\n",
       "    <tr>\n",
       "      <th>Hourly_Segments</th>\n",
       "      <td>-0.008056</td>\n",
       "      <td>0.005104</td>\n",
       "      <td>0.017797</td>\n",
       "      <td>-0.034735</td>\n",
       "      <td>0.003999</td>\n",
       "      <td>0.033361</td>\n",
       "      <td>0.001067</td>\n",
       "      <td>-0.067270</td>\n",
       "      <td>-0.003894</td>\n",
       "      <td>1.000000</td>\n",
       "      <td>-0.011411</td>\n",
       "    </tr>\n",
       "    <tr>\n",
       "      <th>distance_travelled</th>\n",
       "      <td>0.865969</td>\n",
       "      <td>0.056478</td>\n",
       "      <td>-0.060333</td>\n",
       "      <td>0.141598</td>\n",
       "      <td>-0.053321</td>\n",
       "      <td>0.013107</td>\n",
       "      <td>0.014336</td>\n",
       "      <td>0.033667</td>\n",
       "      <td>0.014386</td>\n",
       "      <td>-0.011411</td>\n",
       "      <td>1.000000</td>\n",
       "    </tr>\n",
       "  </tbody>\n",
       "</table>\n",
       "</div>"
      ],
      "text/plain": [
       "                    fare_amount  pickup_longitude  pickup_latitude  \\\n",
       "fare_amount            1.000000          0.045034        -0.075815   \n",
       "pickup_longitude       0.045034          1.000000         0.609805   \n",
       "pickup_latitude       -0.075815          0.609805         1.000000   \n",
       "dropoff_longitude      0.110574          0.356762         0.264285   \n",
       "dropoff_latitude      -0.090162          0.284369         0.461130   \n",
       "passenger_count        0.023047         -0.016445        -0.017847   \n",
       "year                   0.150042          0.007177        -0.009155   \n",
       "weekday                0.014103         -0.033616        -0.052257   \n",
       "Monthly_Quarter        0.030520         -0.001011         0.002030   \n",
       "Hourly_Segments       -0.008056          0.005104         0.017797   \n",
       "distance_travelled     0.865969          0.056478        -0.060333   \n",
       "\n",
       "                    dropoff_longitude  dropoff_latitude  passenger_count  \\\n",
       "fare_amount                  0.110574         -0.090162         0.023047   \n",
       "pickup_longitude             0.356762          0.284369        -0.016445   \n",
       "pickup_latitude              0.264285          0.461130        -0.017847   \n",
       "dropoff_longitude            1.000000          0.557915        -0.012891   \n",
       "dropoff_latitude             0.557915          1.000000        -0.010512   \n",
       "passenger_count             -0.012891         -0.010512         1.000000   \n",
       "year                         0.009674         -0.006379        -0.013357   \n",
       "weekday                     -0.017006         -0.039589         0.056964   \n",
       "Monthly_Quarter              0.000535          0.000017         0.009089   \n",
       "Hourly_Segments             -0.034735          0.003999         0.033361   \n",
       "distance_travelled           0.141598         -0.053321         0.013107   \n",
       "\n",
       "                        year   weekday  Monthly_Quarter  Hourly_Segments  \\\n",
       "fare_amount         0.150042  0.014103         0.030520        -0.008056   \n",
       "pickup_longitude    0.007177 -0.033616        -0.001011         0.005104   \n",
       "pickup_latitude    -0.009155 -0.052257         0.002030         0.017797   \n",
       "dropoff_longitude   0.009674 -0.017006         0.000535        -0.034735   \n",
       "dropoff_latitude   -0.006379 -0.039589         0.000017         0.003999   \n",
       "passenger_count    -0.013357  0.056964         0.009089         0.033361   \n",
       "year                1.000000  0.005942        -0.111136         0.001067   \n",
       "weekday             0.005942  1.000000        -0.009147        -0.067270   \n",
       "Monthly_Quarter    -0.111136 -0.009147         1.000000        -0.003894   \n",
       "Hourly_Segments     0.001067 -0.067270        -0.003894         1.000000   \n",
       "distance_travelled  0.014336  0.033667         0.014386        -0.011411   \n",
       "\n",
       "                    distance_travelled  \n",
       "fare_amount                   0.865969  \n",
       "pickup_longitude              0.056478  \n",
       "pickup_latitude              -0.060333  \n",
       "dropoff_longitude             0.141598  \n",
       "dropoff_latitude             -0.053321  \n",
       "passenger_count               0.013107  \n",
       "year                          0.014336  \n",
       "weekday                       0.033667  \n",
       "Monthly_Quarter               0.014386  \n",
       "Hourly_Segments              -0.011411  \n",
       "distance_travelled            1.000000  "
      ]
     },
     "execution_count": 71,
     "metadata": {},
     "output_type": "execute_result"
    }
   ],
   "source": [
    "spearman_matrix = df.corr(method='spearman')\n",
    "spearman_matrix"
   ]
  },
  {
   "cell_type": "code",
   "execution_count": 72,
   "metadata": {},
   "outputs": [
    {
     "data": {
      "text/plain": [
       "Monthly_Quarter       0.107433\n",
       "Hourly_Segments       0.107881\n",
       "passenger_count       0.109693\n",
       "year                  0.120752\n",
       "weekday               0.120869\n",
       "distance_travelled    0.205873\n",
       "dtype: float64"
      ]
     },
     "execution_count": 72,
     "metadata": {},
     "output_type": "execute_result"
    }
   ],
   "source": [
    "abs_corr_values = spearman_matrix.abs()\n",
    "top_features = abs_corr_values.mean().sort_values().head(6)\n",
    "top_features"
   ]
  },
  {
   "cell_type": "code",
   "execution_count": 73,
   "metadata": {},
   "outputs": [
    {
     "data": {
      "text/plain": [
       "<Axes: >"
      ]
     },
     "execution_count": 73,
     "metadata": {},
     "output_type": "execute_result"
    },
    {
     "data": {
      "image/png": "[encoded data removed]",
      "text/plain": [
       "<Figure size 640x480 with 2 Axes>"
      ]
     },
     "metadata": {},
     "output_type": "display_data"
    }
   ],
   "source": [
    "# heatmap\n",
    "corr_matrix = df.corr()\n",
    "sns.heatmap(corr_matrix, annot=True)"
   ]
  },
  {
   "cell_type": "markdown",
   "metadata": {},
   "source": []
  },
  {
   "cell_type": "code",
   "execution_count": 74,
   "metadata": {},
   "outputs": [
    {
     "data": {
      "image/png": "[encoded data removed]",
      "text/plain": [
       "<Figure size 800x700 with 1 Axes>"
      ]
     },
     "metadata": {},
     "output_type": "display_data"
    }
   ],
   "source": [
    "year_counts = df['year'].value_counts()\n",
    "year_counts = year_counts.sort_index()\n",
    "\n",
    "plt.figure(figsize=(8, 7))\n",
    "\n",
    "plt.bar(year_counts.index, year_counts.values, color='orange')\n",
    "plt.xlabel('Year')\n",
    "plt.ylabel('Number of Rides')\n",
    "plt.title('Year-wise Rides Distribution')\n",
    "\n",
    "for x, y in zip(year_counts.index, year_counts.values):\n",
    "    plt.text(x, y, str(y), ha='center', va='bottom')\n",
    "    \n",
    "plt.xticks(rotation=45)\n",
    "plt.show()"
   ]
  }
 ],
 "metadata": {
  "kernelspec": {
   "display_name": "MLprojectEnv",
   "language": "python",
   "name": "python3"
  },
  "language_info": {
   "codemirror_mode": {
    "name": "ipython",
    "version": 3
   },
   "file_extension": ".py",
   "mimetype": "text/x-python",
   "name": "python",
   "nbconvert_exporter": "python",
   "pygments_lexer": "ipython3",
   "version": "3.8.17"
  },
  "orig_nbformat": 4
 },
 "nbformat": 4,
 "nbformat_minor": 2
}
